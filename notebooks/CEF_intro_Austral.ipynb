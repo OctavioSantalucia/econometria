{
  "cells": [
    {
      "cell_type": "markdown",
      "metadata": {
        "colab_type": "text",
        "id": "view-in-github"
      },
      "source": [
        "<a href=\"https://colab.research.google.com/github/rpasquini/econometria/blob/main/CEF_intro_Austral.ipynb\" target=\"_parent\"><img src=\"https://colab.research.google.com/assets/colab-badge.svg\" alt=\"Open In Colab\"/></a>"
      ]
    },
    {
      "cell_type": "markdown",
      "metadata": {
        "id": "ME0820dDfgLT"
      },
      "source": [
        "\n",
        "# Introducción\n",
        "En este notebook introduciremos algunas de las principales librerías con las que vamos a estar trabajando. Nuestro objetivo inicial es estimar un modelo de regresión simple utilizando datos de alquileres de 2019.\n",
        "\n"
      ]
    },
    {
      "cell_type": "markdown",
      "metadata": {
        "id": "gvhiY0nmfj_E"
      },
      "source": [
        "## Donde estamos\n",
        "\n",
        "Nuestro ambiente de trabajo ahora es un *notebook* que permite correr codigo, procesar datos, imprimir gráficos, etc. Estos notebooks en general se conocen como \"Jupyter notebooks\" y tienen como particularidad que el  entorno visual en el que trabajan vive en el navegador. En este momento además, el notebook con el que trabajan \"vive en la nube\" de Google Colaboratory. Utiliza recursos de la nube de Google para procesar los datos, etc. Para trabajar con nuestros propios datos tendremos que hacerlos accesibles a Google Colab (subiendo los datos al Colab o subiendo los datos a otro servidor al cual las librerias que usemos puedan acceder)\n",
        "\n",
        "Comentarios relacionados:\n",
        "\n",
        "- Como dijimos el notebook es solo un entorno visual para trabajar con Python. Proponen celdas de texto, y celdas de codigo. Las de codigo son ejecutables, y muestran los resultados a continuacion. \n",
        "\n",
        "- Trabajar en la nube \"Colab\" es conveniente para una clase. También es posible (y a veces necesario) trabajar con un Jupyter Notebook instalado \"localmente\" en sus computadoras.\n",
        "\n",
        "- El ambiente virtual provisto por Google Colab va a borrar todo el contenido que se aloje en la memoria virtual después de un rato de inactividad. Lo unico que se mantiene es lo que está escrito en el notebook (el codigo y el texto explicativo) y los resultados de la ejecucion de celdas. Esto implica que el notebook debe contener todo el codigo desde la carga de los datos hasta su resultado final para que pueda ser reproducido en cualquier momento.  "
      ]
    },
    {
      "cell_type": "markdown",
      "metadata": {
        "id": "vcsCswnYfqaX"
      },
      "source": [
        "# Librerías con las que vamos a trabajar\n",
        "\n",
        "Vamos a arrancar con estas:\n",
        "\n",
        "- Pandas: Una de las principales librerías para trabajar y manipular datos en Python en forma tabular (llamados **dataframes** y usualmente abreviados **df**) \n",
        "- Geopandas: Una libreria que busca ser similar a Pandas pero adaptada adicionalmente a  datos con una dimensión geográfica. A los objetos de geopandas los llamamos **geodataframes**.\n",
        "- StatsModels: Una librería para procesamientos estadísticos.\n",
        "\n",
        "\n",
        "Al respecto del uso de librerías, además debemos tener en cuenta:\n",
        "\n",
        "- En general para usar las librerías tendremos que  instalarlas (si no están previamente instaladas) e importarlas al ambiente de trabajo en el que estemos (siempre).\n",
        "- Los Notebooks de Colab vienen con algunas librerías preinstaladas. Solo será necesario importarlas. Para las que no, será necesario instalarlas ( usando un comando de instalacion llamado *pip*).\n",
        "- Importamos una libreria con el comando *import* seguido del nombre de la libreria. Desde ahi en mas el nombre de la libreria contendrá el contenido de la misma. Además, como parte del import podemos usar \"as\" para definir otro nombre con el que la llamaremos de ahi en mas, por ejemplo:\n",
        "```\n",
        "  import pandas as pd\n",
        "```\n",
        "importará pandas como *pd*.\n",
        "\n"
      ]
    },
    {
      "cell_type": "markdown",
      "metadata": {
        "id": "6JjXbmoZhtDQ"
      },
      "source": [
        "# Python\n",
        "Mostramos a continuacion algunas funcionalidades básicas de Python."
      ]
    },
    {
      "cell_type": "code",
      "execution_count": null,
      "metadata": {
        "colab": {
          "base_uri": "https://localhost:8080/"
        },
        "id": "3pGEXZWYh5s6",
        "outputId": "a0c827d8-e190-4ca1-eb1a-ba761718240c"
      },
      "outputs": [
        {
          "data": {
            "text/plain": [
              "40"
            ]
          },
          "execution_count": 2,
          "metadata": {},
          "output_type": "execute_result"
        }
      ],
      "source": [
        "a=10\n",
        "b=30\n",
        "a+b"
      ]
    },
    {
      "cell_type": "code",
      "execution_count": null,
      "metadata": {
        "colab": {
          "base_uri": "https://localhost:8080/"
        },
        "id": "2Oz3K2V_iGCt",
        "outputId": "a92a6b60-900b-4283-81fa-ecf6bc380d97"
      },
      "outputs": [
        {
          "data": {
            "text/plain": [
              "40"
            ]
          },
          "execution_count": 3,
          "metadata": {},
          "output_type": "execute_result"
        }
      ],
      "source": [
        "c=a+b\n",
        "c"
      ]
    },
    {
      "cell_type": "code",
      "execution_count": null,
      "metadata": {
        "id": "QKbRffkNpDKO"
      },
      "outputs": [],
      "source": [
        "# Una lista\n",
        "listanumeros=[1,2,5]\n",
        "listapalabras=[\"clase\", \"econometria\",\"python\"]"
      ]
    },
    {
      "cell_type": "code",
      "execution_count": null,
      "metadata": {
        "colab": {
          "base_uri": "https://localhost:8080/"
        },
        "id": "BMmHc-vu9QHx",
        "outputId": "a9e55561-06b5-4d1d-d926-dc39689b4678"
      },
      "outputs": [
        {
          "data": {
            "text/plain": [
              "1"
            ]
          },
          "execution_count": 5,
          "metadata": {},
          "output_type": "execute_result"
        }
      ],
      "source": [
        "listanumeros[0]"
      ]
    },
    {
      "cell_type": "code",
      "execution_count": null,
      "metadata": {
        "colab": {
          "base_uri": "https://localhost:8080/"
        },
        "id": "brfXk7d6iYdP",
        "outputId": "2e1d44c1-c051-4dec-f847-6948fd025e51"
      },
      "outputs": [
        {
          "data": {
            "text/plain": [
              "8"
            ]
          },
          "execution_count": 6,
          "metadata": {},
          "output_type": "execute_result"
        }
      ],
      "source": [
        "sum(listanumeros)"
      ]
    },
    {
      "cell_type": "code",
      "execution_count": null,
      "metadata": {
        "colab": {
          "base_uri": "https://localhost:8080/"
        },
        "id": "8hRVI0tCibzc",
        "outputId": "7a41a4bb-c0fe-40ac-a0f7-5664b39dacbf"
      },
      "outputs": [
        {
          "data": {
            "text/plain": [
              "3"
            ]
          },
          "execution_count": 7,
          "metadata": {},
          "output_type": "execute_result"
        }
      ],
      "source": [
        "len(listanumeros)"
      ]
    },
    {
      "cell_type": "code",
      "execution_count": null,
      "metadata": {
        "colab": {
          "base_uri": "https://localhost:8080/",
          "height": 35
        },
        "id": "itpxAR9xieKG",
        "outputId": "2eeba412-8296-415e-f0d5-b15edaa7038f"
      },
      "outputs": [
        {
          "data": {
            "application/vnd.google.colaboratory.intrinsic+json": {
              "type": "string"
            },
            "text/plain": [
              "'python'"
            ]
          },
          "execution_count": 8,
          "metadata": {},
          "output_type": "execute_result"
        }
      ],
      "source": [
        "listapalabras[2]"
      ]
    },
    {
      "cell_type": "code",
      "execution_count": null,
      "metadata": {
        "colab": {
          "base_uri": "https://localhost:8080/"
        },
        "id": "a44OAoqtiiDZ",
        "outputId": "a7a22928-62a0-4f2a-9ace-dd2b396586af"
      },
      "outputs": [
        {
          "data": {
            "text/plain": [
              "100"
            ]
          },
          "execution_count": 9,
          "metadata": {},
          "output_type": "execute_result"
        }
      ],
      "source": [
        "# Un diccionario\n",
        "midir={'alpha':100, 'gamma':340}\n",
        "midir['alpha']"
      ]
    },
    {
      "cell_type": "markdown",
      "metadata": {
        "id": "63ABn7OPizdM"
      },
      "source": [
        "# Importamos libreria pandas y los datos"
      ]
    },
    {
      "cell_type": "code",
      "execution_count": 1,
      "metadata": {
        "id": "689AU07X58xi"
      },
      "outputs": [],
      "source": [
        "import pandas as pd"
      ]
    },
    {
      "cell_type": "code",
      "execution_count": null,
      "metadata": {
        "colab": {
          "base_uri": "https://localhost:8080/"
        },
        "id": "mVDJr3CT6RIf",
        "outputId": "7b93aaaa-b6bd-4ac9-bffc-051b93840b59"
      },
      "outputs": [
        {
          "data": {
            "text/plain": [
              "<module 'pandas' from '/usr/local/lib/python3.7/dist-packages/pandas/__init__.py'>"
            ]
          },
          "execution_count": 11,
          "metadata": {},
          "output_type": "execute_result"
        }
      ],
      "source": [
        "pd"
      ]
    },
    {
      "cell_type": "code",
      "execution_count": 2,
      "metadata": {
        "id": "MycKDbkz6Zwr"
      },
      "outputs": [],
      "source": [
        "df=pd.read_csv('https://github.com/rpasquini/herramientas-econometricas/blob/main/datos/eah2016_individual.csv?raw=true')"
      ]
    },
    {
      "cell_type": "code",
      "execution_count": 24,
      "metadata": {},
      "outputs": [
        {
          "data": {
            "text/plain": [
              "(14512, 96)"
            ]
          },
          "execution_count": 24,
          "metadata": {},
          "output_type": "execute_result"
        }
      ],
      "source": [
        "df.shape"
      ]
    },
    {
      "cell_type": "code",
      "execution_count": 3,
      "metadata": {
        "colab": {
          "base_uri": "https://localhost:8080/"
        },
        "id": "lF2RjBkX7yzz",
        "outputId": "7be8591f-af6a-4733-93bf-49875c5dedc8"
      },
      "outputs": [
        {
          "data": {
            "text/plain": [
              "Index(['id', 'nhogar', 'miembro', 'comuna', 'dominio', 'edad', 'sexo',\n",
              "       'parentes_2', 'p5_2', 'p6_a', 'p6_b', 'estado', 'categori', 't13',\n",
              "       't14', 't18', 't28', 't29', 't29a', 't30', 'sem_hs', 't33', 't34',\n",
              "       't35', 't37_cod_2', 't37_coda_2', 't38', 't39', 't40', 't41_cod_2',\n",
              "       't47', 't48', 't51_bis', 'i1', 'i4', 'i6_3', 'i10', 'i11', 'codioph',\n",
              "       'ioph_2', 'codioph_neto', 'ioph_neto_2', 'codios', 'ios_2', 'codioa',\n",
              "       'ioa_2', 'codlab', 'inglab_2', 'codi3_1x', 'i3_1x_2', 'codi3_2x',\n",
              "       'i3_2x_2', 'codi3_8x', 'i3_8x_2', 'codi3_est', 'i3_est_2', 'codi3_otr',\n",
              "       'i3_otr_2', 'codnolab', 'ingnolab_2', 'coding', 'ingtot_2', 'codi_tot',\n",
              "       'itfb_2', 'ipcfb_2', 'e2', 'e4', 'e6', 'e8', 'e12', 'e13', 'e14',\n",
              "       'edad_30', 'nivel', 'aesc', 'm1', 'm1_2', 'm2_anio', 'm3_anio',\n",
              "       'tipcob2_2', 'sn1_1', 'sn1_7', 'sn1_2', 'sn1_3', 'sn1_4', 'sn1_5', 's8',\n",
              "       'sn14', 'sn16', 's28', 's29', 'fexp', 'sexotexto', 'inmigrante',\n",
              "       'logingreso', 'dsex'],\n",
              "      dtype='object')"
            ]
          },
          "execution_count": 3,
          "metadata": {},
          "output_type": "execute_result"
        }
      ],
      "source": [
        "df.columns"
      ]
    },
    {
      "cell_type": "code",
      "execution_count": null,
      "metadata": {
        "colab": {
          "base_uri": "https://localhost:8080/"
        },
        "id": "shwD8IUm8tEg",
        "outputId": "2a0f9387-d66b-4d2c-d005-603d950e927c"
      },
      "outputs": [
        {
          "data": {
            "text/plain": [
              "96"
            ]
          },
          "execution_count": 14,
          "metadata": {},
          "output_type": "execute_result"
        }
      ],
      "source": [
        "df.shape[1]"
      ]
    },
    {
      "cell_type": "code",
      "execution_count": null,
      "metadata": {
        "colab": {
          "base_uri": "https://localhost:8080/",
          "height": 696
        },
        "id": "jfGX0I3J9EQD",
        "outputId": "af8cadec-9d6a-43a7-c8b5-4f7ca2c41d0a"
      },
      "outputs": [
        {
          "data": {
            "text/html": [
              "\n",
              "  <div id=\"df-21bbea15-d878-40ce-aefe-4e10ca1636b6\">\n",
              "    <div class=\"colab-df-container\">\n",
              "      <div>\n",
              "<style scoped>\n",
              "    .dataframe tbody tr th:only-of-type {\n",
              "        vertical-align: middle;\n",
              "    }\n",
              "\n",
              "    .dataframe tbody tr th {\n",
              "        vertical-align: top;\n",
              "    }\n",
              "\n",
              "    .dataframe thead th {\n",
              "        text-align: right;\n",
              "    }\n",
              "</style>\n",
              "<table border=\"1\" class=\"dataframe\">\n",
              "  <thead>\n",
              "    <tr style=\"text-align: right;\">\n",
              "      <th></th>\n",
              "      <th>id</th>\n",
              "      <th>nhogar</th>\n",
              "      <th>miembro</th>\n",
              "      <th>comuna</th>\n",
              "      <th>dominio</th>\n",
              "      <th>edad</th>\n",
              "      <th>sexo</th>\n",
              "      <th>parentes_2</th>\n",
              "      <th>p5_2</th>\n",
              "      <th>p6_a</th>\n",
              "      <th>...</th>\n",
              "      <th>s8</th>\n",
              "      <th>sn14</th>\n",
              "      <th>sn16</th>\n",
              "      <th>s28</th>\n",
              "      <th>s29</th>\n",
              "      <th>fexp</th>\n",
              "      <th>sexotexto</th>\n",
              "      <th>inmigrante</th>\n",
              "      <th>logingreso</th>\n",
              "      <th>dsex</th>\n",
              "    </tr>\n",
              "  </thead>\n",
              "  <tbody>\n",
              "    <tr>\n",
              "      <th>0</th>\n",
              "      <td>1</td>\n",
              "      <td>1</td>\n",
              "      <td>1</td>\n",
              "      <td>13</td>\n",
              "      <td>resto ciudad</td>\n",
              "      <td>18</td>\n",
              "      <td>mujer</td>\n",
              "      <td>1</td>\n",
              "      <td>6</td>\n",
              "      <td>95</td>\n",
              "      <td>...</td>\n",
              "      <td>2</td>\n",
              "      <td>0</td>\n",
              "      <td>Excelente</td>\n",
              "      <td>2</td>\n",
              "      <td>0</td>\n",
              "      <td>973</td>\n",
              "      <td>mujer</td>\n",
              "      <td>nativo arg</td>\n",
              "      <td>8.384804</td>\n",
              "      <td>1</td>\n",
              "    </tr>\n",
              "    <tr>\n",
              "      <th>1</th>\n",
              "      <td>2</td>\n",
              "      <td>1</td>\n",
              "      <td>1</td>\n",
              "      <td>1</td>\n",
              "      <td>resto ciudad</td>\n",
              "      <td>18</td>\n",
              "      <td>varon</td>\n",
              "      <td>1</td>\n",
              "      <td>6</td>\n",
              "      <td>95</td>\n",
              "      <td>...</td>\n",
              "      <td>2</td>\n",
              "      <td>0</td>\n",
              "      <td>Excelente</td>\n",
              "      <td>0</td>\n",
              "      <td>0</td>\n",
              "      <td>115</td>\n",
              "      <td>varon</td>\n",
              "      <td>inmigrante</td>\n",
              "      <td>9.104980</td>\n",
              "      <td>0</td>\n",
              "    </tr>\n",
              "    <tr>\n",
              "      <th>2</th>\n",
              "      <td>3</td>\n",
              "      <td>1</td>\n",
              "      <td>1</td>\n",
              "      <td>6</td>\n",
              "      <td>inquilinatos hoteles inmuebles tomados</td>\n",
              "      <td>18</td>\n",
              "      <td>mujer</td>\n",
              "      <td>1</td>\n",
              "      <td>6</td>\n",
              "      <td>95</td>\n",
              "      <td>...</td>\n",
              "      <td>2</td>\n",
              "      <td>0</td>\n",
              "      <td>Excelente</td>\n",
              "      <td>2</td>\n",
              "      <td>0</td>\n",
              "      <td>223</td>\n",
              "      <td>mujer</td>\n",
              "      <td>inmigrante</td>\n",
              "      <td>8.482602</td>\n",
              "      <td>1</td>\n",
              "    </tr>\n",
              "    <tr>\n",
              "      <th>3</th>\n",
              "      <td>4</td>\n",
              "      <td>1</td>\n",
              "      <td>1</td>\n",
              "      <td>14</td>\n",
              "      <td>resto ciudad</td>\n",
              "      <td>18</td>\n",
              "      <td>varon</td>\n",
              "      <td>1</td>\n",
              "      <td>6</td>\n",
              "      <td>95</td>\n",
              "      <td>...</td>\n",
              "      <td>2</td>\n",
              "      <td>0</td>\n",
              "      <td>Excelente</td>\n",
              "      <td>0</td>\n",
              "      <td>0</td>\n",
              "      <td>421</td>\n",
              "      <td>varon</td>\n",
              "      <td>nativo arg</td>\n",
              "      <td>9.615806</td>\n",
              "      <td>0</td>\n",
              "    </tr>\n",
              "    <tr>\n",
              "      <th>4</th>\n",
              "      <td>5</td>\n",
              "      <td>1</td>\n",
              "      <td>1</td>\n",
              "      <td>2</td>\n",
              "      <td>resto ciudad</td>\n",
              "      <td>18</td>\n",
              "      <td>varon</td>\n",
              "      <td>1</td>\n",
              "      <td>6</td>\n",
              "      <td>95</td>\n",
              "      <td>...</td>\n",
              "      <td>2</td>\n",
              "      <td>0</td>\n",
              "      <td>Bueno</td>\n",
              "      <td>0</td>\n",
              "      <td>0</td>\n",
              "      <td>199</td>\n",
              "      <td>varon</td>\n",
              "      <td>nativo arg</td>\n",
              "      <td>9.615806</td>\n",
              "      <td>0</td>\n",
              "    </tr>\n",
              "    <tr>\n",
              "      <th>...</th>\n",
              "      <td>...</td>\n",
              "      <td>...</td>\n",
              "      <td>...</td>\n",
              "      <td>...</td>\n",
              "      <td>...</td>\n",
              "      <td>...</td>\n",
              "      <td>...</td>\n",
              "      <td>...</td>\n",
              "      <td>...</td>\n",
              "      <td>...</td>\n",
              "      <td>...</td>\n",
              "      <td>...</td>\n",
              "      <td>...</td>\n",
              "      <td>...</td>\n",
              "      <td>...</td>\n",
              "      <td>...</td>\n",
              "      <td>...</td>\n",
              "      <td>...</td>\n",
              "      <td>...</td>\n",
              "      <td>...</td>\n",
              "      <td>...</td>\n",
              "    </tr>\n",
              "    <tr>\n",
              "      <th>14507</th>\n",
              "      <td>5943</td>\n",
              "      <td>1</td>\n",
              "      <td>2</td>\n",
              "      <td>10</td>\n",
              "      <td>resto ciudad</td>\n",
              "      <td>45</td>\n",
              "      <td>mujer</td>\n",
              "      <td>9</td>\n",
              "      <td>3</td>\n",
              "      <td>0</td>\n",
              "      <td>...</td>\n",
              "      <td>2</td>\n",
              "      <td>0</td>\n",
              "      <td>Muy bueno</td>\n",
              "      <td>1</td>\n",
              "      <td>5</td>\n",
              "      <td>242</td>\n",
              "      <td>mujer</td>\n",
              "      <td>inmigrante</td>\n",
              "      <td>8.748305</td>\n",
              "      <td>1</td>\n",
              "    </tr>\n",
              "    <tr>\n",
              "      <th>14508</th>\n",
              "      <td>5944</td>\n",
              "      <td>1</td>\n",
              "      <td>1</td>\n",
              "      <td>1</td>\n",
              "      <td>resto ciudad</td>\n",
              "      <td>99</td>\n",
              "      <td>mujer</td>\n",
              "      <td>1</td>\n",
              "      <td>4</td>\n",
              "      <td>0</td>\n",
              "      <td>...</td>\n",
              "      <td>2</td>\n",
              "      <td>0</td>\n",
              "      <td>Excelente</td>\n",
              "      <td>1</td>\n",
              "      <td>6</td>\n",
              "      <td>112</td>\n",
              "      <td>mujer</td>\n",
              "      <td>nativo arg</td>\n",
              "      <td>9.952278</td>\n",
              "      <td>1</td>\n",
              "    </tr>\n",
              "    <tr>\n",
              "      <th>14509</th>\n",
              "      <td>5944</td>\n",
              "      <td>1</td>\n",
              "      <td>2</td>\n",
              "      <td>1</td>\n",
              "      <td>resto ciudad</td>\n",
              "      <td>55</td>\n",
              "      <td>mujer</td>\n",
              "      <td>9</td>\n",
              "      <td>2</td>\n",
              "      <td>0</td>\n",
              "      <td>...</td>\n",
              "      <td>2</td>\n",
              "      <td>0</td>\n",
              "      <td>Regular</td>\n",
              "      <td>1</td>\n",
              "      <td>4</td>\n",
              "      <td>112</td>\n",
              "      <td>mujer</td>\n",
              "      <td>inmigrante</td>\n",
              "      <td>9.210340</td>\n",
              "      <td>1</td>\n",
              "    </tr>\n",
              "    <tr>\n",
              "      <th>14510</th>\n",
              "      <td>5945</td>\n",
              "      <td>1</td>\n",
              "      <td>1</td>\n",
              "      <td>13</td>\n",
              "      <td>resto ciudad</td>\n",
              "      <td>102</td>\n",
              "      <td>varon</td>\n",
              "      <td>1</td>\n",
              "      <td>4</td>\n",
              "      <td>0</td>\n",
              "      <td>...</td>\n",
              "      <td>2</td>\n",
              "      <td>0</td>\n",
              "      <td>Bueno</td>\n",
              "      <td>0</td>\n",
              "      <td>0</td>\n",
              "      <td>185</td>\n",
              "      <td>varon</td>\n",
              "      <td>nativo arg</td>\n",
              "      <td>8.922658</td>\n",
              "      <td>0</td>\n",
              "    </tr>\n",
              "    <tr>\n",
              "      <th>14511</th>\n",
              "      <td>5945</td>\n",
              "      <td>1</td>\n",
              "      <td>2</td>\n",
              "      <td>13</td>\n",
              "      <td>resto ciudad</td>\n",
              "      <td>72</td>\n",
              "      <td>mujer</td>\n",
              "      <td>9</td>\n",
              "      <td>5</td>\n",
              "      <td>0</td>\n",
              "      <td>...</td>\n",
              "      <td>2</td>\n",
              "      <td>0</td>\n",
              "      <td>Regular</td>\n",
              "      <td>1</td>\n",
              "      <td>4</td>\n",
              "      <td>185</td>\n",
              "      <td>mujer</td>\n",
              "      <td>inmigrante</td>\n",
              "      <td>9.190138</td>\n",
              "      <td>1</td>\n",
              "    </tr>\n",
              "  </tbody>\n",
              "</table>\n",
              "<p>14512 rows × 96 columns</p>\n",
              "</div>\n",
              "      <button class=\"colab-df-convert\" onclick=\"convertToInteractive('df-21bbea15-d878-40ce-aefe-4e10ca1636b6')\"\n",
              "              title=\"Convert this dataframe to an interactive table.\"\n",
              "              style=\"display:none;\">\n",
              "        \n",
              "  <svg xmlns=\"http://www.w3.org/2000/svg\" height=\"24px\"viewBox=\"0 0 24 24\"\n",
              "       width=\"24px\">\n",
              "    <path d=\"M0 0h24v24H0V0z\" fill=\"none\"/>\n",
              "    <path d=\"M18.56 5.44l.94 2.06.94-2.06 2.06-.94-2.06-.94-.94-2.06-.94 2.06-2.06.94zm-11 1L8.5 8.5l.94-2.06 2.06-.94-2.06-.94L8.5 2.5l-.94 2.06-2.06.94zm10 10l.94 2.06.94-2.06 2.06-.94-2.06-.94-.94-2.06-.94 2.06-2.06.94z\"/><path d=\"M17.41 7.96l-1.37-1.37c-.4-.4-.92-.59-1.43-.59-.52 0-1.04.2-1.43.59L10.3 9.45l-7.72 7.72c-.78.78-.78 2.05 0 2.83L4 21.41c.39.39.9.59 1.41.59.51 0 1.02-.2 1.41-.59l7.78-7.78 2.81-2.81c.8-.78.8-2.07 0-2.86zM5.41 20L4 18.59l7.72-7.72 1.47 1.35L5.41 20z\"/>\n",
              "  </svg>\n",
              "      </button>\n",
              "      \n",
              "  <style>\n",
              "    .colab-df-container {\n",
              "      display:flex;\n",
              "      flex-wrap:wrap;\n",
              "      gap: 12px;\n",
              "    }\n",
              "\n",
              "    .colab-df-convert {\n",
              "      background-color: #E8F0FE;\n",
              "      border: none;\n",
              "      border-radius: 50%;\n",
              "      cursor: pointer;\n",
              "      display: none;\n",
              "      fill: #1967D2;\n",
              "      height: 32px;\n",
              "      padding: 0 0 0 0;\n",
              "      width: 32px;\n",
              "    }\n",
              "\n",
              "    .colab-df-convert:hover {\n",
              "      background-color: #E2EBFA;\n",
              "      box-shadow: 0px 1px 2px rgba(60, 64, 67, 0.3), 0px 1px 3px 1px rgba(60, 64, 67, 0.15);\n",
              "      fill: #174EA6;\n",
              "    }\n",
              "\n",
              "    [theme=dark] .colab-df-convert {\n",
              "      background-color: #3B4455;\n",
              "      fill: #D2E3FC;\n",
              "    }\n",
              "\n",
              "    [theme=dark] .colab-df-convert:hover {\n",
              "      background-color: #434B5C;\n",
              "      box-shadow: 0px 1px 3px 1px rgba(0, 0, 0, 0.15);\n",
              "      filter: drop-shadow(0px 1px 2px rgba(0, 0, 0, 0.3));\n",
              "      fill: #FFFFFF;\n",
              "    }\n",
              "  </style>\n",
              "\n",
              "      <script>\n",
              "        const buttonEl =\n",
              "          document.querySelector('#df-21bbea15-d878-40ce-aefe-4e10ca1636b6 button.colab-df-convert');\n",
              "        buttonEl.style.display =\n",
              "          google.colab.kernel.accessAllowed ? 'block' : 'none';\n",
              "\n",
              "        async function convertToInteractive(key) {\n",
              "          const element = document.querySelector('#df-21bbea15-d878-40ce-aefe-4e10ca1636b6');\n",
              "          const dataTable =\n",
              "            await google.colab.kernel.invokeFunction('convertToInteractive',\n",
              "                                                     [key], {});\n",
              "          if (!dataTable) return;\n",
              "\n",
              "          const docLinkHtml = 'Like what you see? Visit the ' +\n",
              "            '<a target=\"_blank\" href=https://colab.research.google.com/notebooks/data_table.ipynb>data table notebook</a>'\n",
              "            + ' to learn more about interactive tables.';\n",
              "          element.innerHTML = '';\n",
              "          dataTable['output_type'] = 'display_data';\n",
              "          await google.colab.output.renderOutput(dataTable, element);\n",
              "          const docLink = document.createElement('div');\n",
              "          docLink.innerHTML = docLinkHtml;\n",
              "          element.appendChild(docLink);\n",
              "        }\n",
              "      </script>\n",
              "    </div>\n",
              "  </div>\n",
              "  "
            ],
            "text/plain": [
              "         id  nhogar  miembro  comuna                                 dominio  \\\n",
              "0         1       1        1      13                            resto ciudad   \n",
              "1         2       1        1       1                            resto ciudad   \n",
              "2         3       1        1       6  inquilinatos hoteles inmuebles tomados   \n",
              "3         4       1        1      14                            resto ciudad   \n",
              "4         5       1        1       2                            resto ciudad   \n",
              "...     ...     ...      ...     ...                                     ...   \n",
              "14507  5943       1        2      10                            resto ciudad   \n",
              "14508  5944       1        1       1                            resto ciudad   \n",
              "14509  5944       1        2       1                            resto ciudad   \n",
              "14510  5945       1        1      13                            resto ciudad   \n",
              "14511  5945       1        2      13                            resto ciudad   \n",
              "\n",
              "       edad   sexo  parentes_2  p5_2  p6_a  ...  s8 sn14       sn16  s28  s29  \\\n",
              "0        18  mujer           1     6    95  ...   2    0  Excelente    2    0   \n",
              "1        18  varon           1     6    95  ...   2    0  Excelente    0    0   \n",
              "2        18  mujer           1     6    95  ...   2    0  Excelente    2    0   \n",
              "3        18  varon           1     6    95  ...   2    0  Excelente    0    0   \n",
              "4        18  varon           1     6    95  ...   2    0      Bueno    0    0   \n",
              "...     ...    ...         ...   ...   ...  ...  ..  ...        ...  ...  ...   \n",
              "14507    45  mujer           9     3     0  ...   2    0  Muy bueno    1    5   \n",
              "14508    99  mujer           1     4     0  ...   2    0  Excelente    1    6   \n",
              "14509    55  mujer           9     2     0  ...   2    0    Regular    1    4   \n",
              "14510   102  varon           1     4     0  ...   2    0      Bueno    0    0   \n",
              "14511    72  mujer           9     5     0  ...   2    0    Regular    1    4   \n",
              "\n",
              "       fexp  sexotexto  inmigrante  logingreso  dsex  \n",
              "0       973      mujer  nativo arg    8.384804     1  \n",
              "1       115      varon  inmigrante    9.104980     0  \n",
              "2       223      mujer  inmigrante    8.482602     1  \n",
              "3       421      varon  nativo arg    9.615806     0  \n",
              "4       199      varon  nativo arg    9.615806     0  \n",
              "...     ...        ...         ...         ...   ...  \n",
              "14507   242      mujer  inmigrante    8.748305     1  \n",
              "14508   112      mujer  nativo arg    9.952278     1  \n",
              "14509   112      mujer  inmigrante    9.210340     1  \n",
              "14510   185      varon  nativo arg    8.922658     0  \n",
              "14511   185      mujer  inmigrante    9.190138     1  \n",
              "\n",
              "[14512 rows x 96 columns]"
            ]
          },
          "execution_count": 15,
          "metadata": {},
          "output_type": "execute_result"
        }
      ],
      "source": [
        "df"
      ]
    },
    {
      "cell_type": "code",
      "execution_count": null,
      "metadata": {
        "colab": {
          "base_uri": "https://localhost:8080/",
          "height": 421
        },
        "id": "jVg9ciQtyMVj",
        "outputId": "5e30417d-44bf-49d6-c399-66ed0a0b8191"
      },
      "outputs": [
        {
          "data": {
            "text/html": [
              "\n",
              "  <div id=\"df-20c66036-cee4-403b-9ba8-0f4f8666bca7\">\n",
              "    <div class=\"colab-df-container\">\n",
              "      <div>\n",
              "<style scoped>\n",
              "    .dataframe tbody tr th:only-of-type {\n",
              "        vertical-align: middle;\n",
              "    }\n",
              "\n",
              "    .dataframe tbody tr th {\n",
              "        vertical-align: top;\n",
              "    }\n",
              "\n",
              "    .dataframe thead th {\n",
              "        text-align: right;\n",
              "    }\n",
              "</style>\n",
              "<table border=\"1\" class=\"dataframe\">\n",
              "  <thead>\n",
              "    <tr style=\"text-align: right;\">\n",
              "      <th></th>\n",
              "      <th>id</th>\n",
              "      <th>nhogar</th>\n",
              "      <th>miembro</th>\n",
              "      <th>comuna</th>\n",
              "      <th>dominio</th>\n",
              "      <th>edad</th>\n",
              "      <th>sexo</th>\n",
              "      <th>parentes_2</th>\n",
              "      <th>p5_2</th>\n",
              "      <th>p6_a</th>\n",
              "      <th>...</th>\n",
              "      <th>s8</th>\n",
              "      <th>sn14</th>\n",
              "      <th>sn16</th>\n",
              "      <th>s28</th>\n",
              "      <th>s29</th>\n",
              "      <th>fexp</th>\n",
              "      <th>sexotexto</th>\n",
              "      <th>inmigrante</th>\n",
              "      <th>logingreso</th>\n",
              "      <th>dsex</th>\n",
              "    </tr>\n",
              "  </thead>\n",
              "  <tbody>\n",
              "    <tr>\n",
              "      <th>0</th>\n",
              "      <td>1</td>\n",
              "      <td>1</td>\n",
              "      <td>1</td>\n",
              "      <td>13</td>\n",
              "      <td>resto ciudad</td>\n",
              "      <td>18</td>\n",
              "      <td>mujer</td>\n",
              "      <td>1</td>\n",
              "      <td>6</td>\n",
              "      <td>95</td>\n",
              "      <td>...</td>\n",
              "      <td>2</td>\n",
              "      <td>0</td>\n",
              "      <td>Excelente</td>\n",
              "      <td>2</td>\n",
              "      <td>0</td>\n",
              "      <td>973</td>\n",
              "      <td>mujer</td>\n",
              "      <td>nativo arg</td>\n",
              "      <td>8.384804</td>\n",
              "      <td>1</td>\n",
              "    </tr>\n",
              "    <tr>\n",
              "      <th>1</th>\n",
              "      <td>2</td>\n",
              "      <td>1</td>\n",
              "      <td>1</td>\n",
              "      <td>1</td>\n",
              "      <td>resto ciudad</td>\n",
              "      <td>18</td>\n",
              "      <td>varon</td>\n",
              "      <td>1</td>\n",
              "      <td>6</td>\n",
              "      <td>95</td>\n",
              "      <td>...</td>\n",
              "      <td>2</td>\n",
              "      <td>0</td>\n",
              "      <td>Excelente</td>\n",
              "      <td>0</td>\n",
              "      <td>0</td>\n",
              "      <td>115</td>\n",
              "      <td>varon</td>\n",
              "      <td>inmigrante</td>\n",
              "      <td>9.104980</td>\n",
              "      <td>0</td>\n",
              "    </tr>\n",
              "    <tr>\n",
              "      <th>2</th>\n",
              "      <td>3</td>\n",
              "      <td>1</td>\n",
              "      <td>1</td>\n",
              "      <td>6</td>\n",
              "      <td>inquilinatos hoteles inmuebles tomados</td>\n",
              "      <td>18</td>\n",
              "      <td>mujer</td>\n",
              "      <td>1</td>\n",
              "      <td>6</td>\n",
              "      <td>95</td>\n",
              "      <td>...</td>\n",
              "      <td>2</td>\n",
              "      <td>0</td>\n",
              "      <td>Excelente</td>\n",
              "      <td>2</td>\n",
              "      <td>0</td>\n",
              "      <td>223</td>\n",
              "      <td>mujer</td>\n",
              "      <td>inmigrante</td>\n",
              "      <td>8.482602</td>\n",
              "      <td>1</td>\n",
              "    </tr>\n",
              "    <tr>\n",
              "      <th>3</th>\n",
              "      <td>4</td>\n",
              "      <td>1</td>\n",
              "      <td>1</td>\n",
              "      <td>14</td>\n",
              "      <td>resto ciudad</td>\n",
              "      <td>18</td>\n",
              "      <td>varon</td>\n",
              "      <td>1</td>\n",
              "      <td>6</td>\n",
              "      <td>95</td>\n",
              "      <td>...</td>\n",
              "      <td>2</td>\n",
              "      <td>0</td>\n",
              "      <td>Excelente</td>\n",
              "      <td>0</td>\n",
              "      <td>0</td>\n",
              "      <td>421</td>\n",
              "      <td>varon</td>\n",
              "      <td>nativo arg</td>\n",
              "      <td>9.615806</td>\n",
              "      <td>0</td>\n",
              "    </tr>\n",
              "    <tr>\n",
              "      <th>4</th>\n",
              "      <td>5</td>\n",
              "      <td>1</td>\n",
              "      <td>1</td>\n",
              "      <td>2</td>\n",
              "      <td>resto ciudad</td>\n",
              "      <td>18</td>\n",
              "      <td>varon</td>\n",
              "      <td>1</td>\n",
              "      <td>6</td>\n",
              "      <td>95</td>\n",
              "      <td>...</td>\n",
              "      <td>2</td>\n",
              "      <td>0</td>\n",
              "      <td>Bueno</td>\n",
              "      <td>0</td>\n",
              "      <td>0</td>\n",
              "      <td>199</td>\n",
              "      <td>varon</td>\n",
              "      <td>nativo arg</td>\n",
              "      <td>9.615806</td>\n",
              "      <td>0</td>\n",
              "    </tr>\n",
              "  </tbody>\n",
              "</table>\n",
              "<p>5 rows × 96 columns</p>\n",
              "</div>\n",
              "      <button class=\"colab-df-convert\" onclick=\"convertToInteractive('df-20c66036-cee4-403b-9ba8-0f4f8666bca7')\"\n",
              "              title=\"Convert this dataframe to an interactive table.\"\n",
              "              style=\"display:none;\">\n",
              "        \n",
              "  <svg xmlns=\"http://www.w3.org/2000/svg\" height=\"24px\"viewBox=\"0 0 24 24\"\n",
              "       width=\"24px\">\n",
              "    <path d=\"M0 0h24v24H0V0z\" fill=\"none\"/>\n",
              "    <path d=\"M18.56 5.44l.94 2.06.94-2.06 2.06-.94-2.06-.94-.94-2.06-.94 2.06-2.06.94zm-11 1L8.5 8.5l.94-2.06 2.06-.94-2.06-.94L8.5 2.5l-.94 2.06-2.06.94zm10 10l.94 2.06.94-2.06 2.06-.94-2.06-.94-.94-2.06-.94 2.06-2.06.94z\"/><path d=\"M17.41 7.96l-1.37-1.37c-.4-.4-.92-.59-1.43-.59-.52 0-1.04.2-1.43.59L10.3 9.45l-7.72 7.72c-.78.78-.78 2.05 0 2.83L4 21.41c.39.39.9.59 1.41.59.51 0 1.02-.2 1.41-.59l7.78-7.78 2.81-2.81c.8-.78.8-2.07 0-2.86zM5.41 20L4 18.59l7.72-7.72 1.47 1.35L5.41 20z\"/>\n",
              "  </svg>\n",
              "      </button>\n",
              "      \n",
              "  <style>\n",
              "    .colab-df-container {\n",
              "      display:flex;\n",
              "      flex-wrap:wrap;\n",
              "      gap: 12px;\n",
              "    }\n",
              "\n",
              "    .colab-df-convert {\n",
              "      background-color: #E8F0FE;\n",
              "      border: none;\n",
              "      border-radius: 50%;\n",
              "      cursor: pointer;\n",
              "      display: none;\n",
              "      fill: #1967D2;\n",
              "      height: 32px;\n",
              "      padding: 0 0 0 0;\n",
              "      width: 32px;\n",
              "    }\n",
              "\n",
              "    .colab-df-convert:hover {\n",
              "      background-color: #E2EBFA;\n",
              "      box-shadow: 0px 1px 2px rgba(60, 64, 67, 0.3), 0px 1px 3px 1px rgba(60, 64, 67, 0.15);\n",
              "      fill: #174EA6;\n",
              "    }\n",
              "\n",
              "    [theme=dark] .colab-df-convert {\n",
              "      background-color: #3B4455;\n",
              "      fill: #D2E3FC;\n",
              "    }\n",
              "\n",
              "    [theme=dark] .colab-df-convert:hover {\n",
              "      background-color: #434B5C;\n",
              "      box-shadow: 0px 1px 3px 1px rgba(0, 0, 0, 0.15);\n",
              "      filter: drop-shadow(0px 1px 2px rgba(0, 0, 0, 0.3));\n",
              "      fill: #FFFFFF;\n",
              "    }\n",
              "  </style>\n",
              "\n",
              "      <script>\n",
              "        const buttonEl =\n",
              "          document.querySelector('#df-20c66036-cee4-403b-9ba8-0f4f8666bca7 button.colab-df-convert');\n",
              "        buttonEl.style.display =\n",
              "          google.colab.kernel.accessAllowed ? 'block' : 'none';\n",
              "\n",
              "        async function convertToInteractive(key) {\n",
              "          const element = document.querySelector('#df-20c66036-cee4-403b-9ba8-0f4f8666bca7');\n",
              "          const dataTable =\n",
              "            await google.colab.kernel.invokeFunction('convertToInteractive',\n",
              "                                                     [key], {});\n",
              "          if (!dataTable) return;\n",
              "\n",
              "          const docLinkHtml = 'Like what you see? Visit the ' +\n",
              "            '<a target=\"_blank\" href=https://colab.research.google.com/notebooks/data_table.ipynb>data table notebook</a>'\n",
              "            + ' to learn more about interactive tables.';\n",
              "          element.innerHTML = '';\n",
              "          dataTable['output_type'] = 'display_data';\n",
              "          await google.colab.output.renderOutput(dataTable, element);\n",
              "          const docLink = document.createElement('div');\n",
              "          docLink.innerHTML = docLinkHtml;\n",
              "          element.appendChild(docLink);\n",
              "        }\n",
              "      </script>\n",
              "    </div>\n",
              "  </div>\n",
              "  "
            ],
            "text/plain": [
              "   id  nhogar  miembro  comuna                                 dominio  edad  \\\n",
              "0   1       1        1      13                            resto ciudad    18   \n",
              "1   2       1        1       1                            resto ciudad    18   \n",
              "2   3       1        1       6  inquilinatos hoteles inmuebles tomados    18   \n",
              "3   4       1        1      14                            resto ciudad    18   \n",
              "4   5       1        1       2                            resto ciudad    18   \n",
              "\n",
              "    sexo  parentes_2  p5_2  p6_a  ...  s8 sn14       sn16  s28  s29  fexp  \\\n",
              "0  mujer           1     6    95  ...   2    0  Excelente    2    0   973   \n",
              "1  varon           1     6    95  ...   2    0  Excelente    0    0   115   \n",
              "2  mujer           1     6    95  ...   2    0  Excelente    2    0   223   \n",
              "3  varon           1     6    95  ...   2    0  Excelente    0    0   421   \n",
              "4  varon           1     6    95  ...   2    0      Bueno    0    0   199   \n",
              "\n",
              "   sexotexto  inmigrante  logingreso  dsex  \n",
              "0      mujer  nativo arg    8.384804     1  \n",
              "1      varon  inmigrante    9.104980     0  \n",
              "2      mujer  inmigrante    8.482602     1  \n",
              "3      varon  nativo arg    9.615806     0  \n",
              "4      varon  nativo arg    9.615806     0  \n",
              "\n",
              "[5 rows x 96 columns]"
            ]
          },
          "execution_count": 18,
          "metadata": {},
          "output_type": "execute_result"
        }
      ],
      "source": [
        "# dataframe\n",
        "df.head()"
      ]
    },
    {
      "cell_type": "code",
      "execution_count": null,
      "metadata": {
        "colab": {
          "base_uri": "https://localhost:8080/"
        },
        "id": "_Dg-fDZvspaa",
        "outputId": "690e3eca-470e-43dd-d882-23230cfa6208"
      },
      "outputs": [
        {
          "data": {
            "text/plain": [
              "(14512, 96)"
            ]
          },
          "execution_count": 19,
          "metadata": {},
          "output_type": "execute_result"
        }
      ],
      "source": [
        "df.shape"
      ]
    },
    {
      "cell_type": "code",
      "execution_count": null,
      "metadata": {
        "colab": {
          "base_uri": "https://localhost:8080/"
        },
        "id": "5hu9ltfH-fih",
        "outputId": "78b117c8-7dc7-488e-88c7-a154c8f5cc00"
      },
      "outputs": [
        {
          "data": {
            "text/plain": [
              "0         4380\n",
              "1         9000\n",
              "2         4830\n",
              "3        15000\n",
              "4        15000\n",
              "         ...  \n",
              "14507     6300\n",
              "14508    21000\n",
              "14509    10000\n",
              "14510     7500\n",
              "14511     9800\n",
              "Name: ingtot_2, Length: 14512, dtype: int64"
            ]
          },
          "execution_count": 21,
          "metadata": {},
          "output_type": "execute_result"
        }
      ],
      "source": [
        "df[\"ingtot_2\"]"
      ]
    },
    {
      "cell_type": "code",
      "execution_count": null,
      "metadata": {
        "colab": {
          "base_uri": "https://localhost:8080/"
        },
        "id": "Y9-SqtyT-n7d",
        "outputId": "0be3ae8e-6778-46bb-9723-12464634d94f"
      },
      "outputs": [
        {
          "data": {
            "text/plain": [
              "0         4380\n",
              "1         9000\n",
              "2         4830\n",
              "3        15000\n",
              "4        15000\n",
              "         ...  \n",
              "14507     6300\n",
              "14508    21000\n",
              "14509    10000\n",
              "14510     7500\n",
              "14511     9800\n",
              "Name: ingtot_2, Length: 14512, dtype: int64"
            ]
          },
          "execution_count": 22,
          "metadata": {},
          "output_type": "execute_result"
        }
      ],
      "source": [
        "df.ingtot_2"
      ]
    },
    {
      "cell_type": "code",
      "execution_count": null,
      "metadata": {
        "colab": {
          "base_uri": "https://localhost:8080/",
          "height": 283
        },
        "id": "A1uZHVZ-_Bw4",
        "outputId": "22063d57-a29f-4af3-974e-ac8475cc257b"
      },
      "outputs": [
        {
          "data": {
            "text/plain": [
              "<matplotlib.axes._subplots.AxesSubplot at 0x7fe41ca64b50>"
            ]
          },
          "execution_count": 23,
          "metadata": {},
          "output_type": "execute_result"
        },
        {
          "data": {
            "image/png": "[encoded data removed]",
            "text/plain": [
              "<Figure size 432x288 with 1 Axes>"
            ]
          },
          "metadata": {
            "needs_background": "light"
          },
          "output_type": "display_data"
        }
      ],
      "source": [
        "df[\"ingtot_2\"].hist()"
      ]
    },
    {
      "cell_type": "code",
      "execution_count": null,
      "metadata": {
        "colab": {
          "base_uri": "https://localhost:8080/"
        },
        "id": "Sxiltytn_gQM",
        "outputId": "c724a9c1-687f-4339-8bf9-9389f528a64c"
      },
      "outputs": [
        {
          "data": {
            "text/plain": [
              "count     14512.000000\n",
              "mean      10386.681850\n",
              "std       13396.598595\n",
              "min           0.000000\n",
              "25%           0.000000\n",
              "50%        7000.000000\n",
              "75%       15000.000000\n",
              "max      276000.000000\n",
              "Name: ingtot_2, dtype: float64"
            ]
          },
          "execution_count": 24,
          "metadata": {},
          "output_type": "execute_result"
        }
      ],
      "source": [
        "df[\"ingtot_2\"].describe()"
      ]
    },
    {
      "cell_type": "code",
      "execution_count": null,
      "metadata": {
        "colab": {
          "base_uri": "https://localhost:8080/"
        },
        "id": "x5oXzqVLi9mZ",
        "outputId": "76faa9c5-0128-4c1d-8587-946c4e8abf3a"
      },
      "outputs": [
        {
          "data": {
            "text/plain": [
              "0        False\n",
              "1        False\n",
              "2        False\n",
              "3        False\n",
              "4        False\n",
              "         ...  \n",
              "14507    False\n",
              "14508    False\n",
              "14509    False\n",
              "14510    False\n",
              "14511    False\n",
              "Name: ingtot_2, Length: 14512, dtype: bool"
            ]
          },
          "execution_count": 25,
          "metadata": {},
          "output_type": "execute_result"
        }
      ],
      "source": [
        "df[\"ingtot_2\"]==0"
      ]
    },
    {
      "cell_type": "code",
      "execution_count": null,
      "metadata": {
        "id": "2FBrRkm4_3jr"
      },
      "outputs": [],
      "source": [
        "import numpy as np"
      ]
    },
    {
      "cell_type": "code",
      "execution_count": null,
      "metadata": {
        "id": "5RFLZnumAkF3"
      },
      "outputs": [],
      "source": [
        "df['logingreso']=np.log(df[\"ingtot_2\"])"
      ]
    },
    {
      "cell_type": "code",
      "execution_count": null,
      "metadata": {
        "colab": {
          "base_uri": "https://localhost:8080/"
        },
        "id": "SBkpUm1hAwnV",
        "outputId": "cb71afa8-9e08-4398-e980-9af2318fa400"
      },
      "outputs": [
        {
          "data": {
            "text/plain": [
              "0        8.384804\n",
              "1        9.104980\n",
              "2        8.482602\n",
              "3        9.615805\n",
              "4        9.615805\n",
              "           ...   \n",
              "14507    8.748305\n",
              "14508    9.952278\n",
              "14509    9.210340\n",
              "14510    8.922658\n",
              "14511    9.190138\n",
              "Name: logingreso, Length: 14512, dtype: float64"
            ]
          },
          "execution_count": 30,
          "metadata": {},
          "output_type": "execute_result"
        }
      ],
      "source": [
        "df['logingreso']"
      ]
    },
    {
      "cell_type": "code",
      "execution_count": 28,
      "metadata": {
        "colab": {
          "base_uri": "https://localhost:8080/",
          "height": 696
        },
        "id": "-V_RdphgjLAy",
        "outputId": "41f3db7f-d71f-4df6-c349-c49e7a7a2df6"
      },
      "outputs": [],
      "source": [
        "df=df.loc[df['ingtot_2']!=0]"
      ]
    },
    {
      "cell_type": "code",
      "execution_count": 32,
      "metadata": {},
      "outputs": [
        {
          "data": {
            "image/png": "[encoded data removed]",
            "text/plain": [
              "<Figure size 800x600 with 1 Axes>"
            ]
          },
          "metadata": {},
          "output_type": "display_data"
        }
      ],
      "source": [
        "plt.figure(figsize=(8, 6))\n",
        "df['ingtot_2'].hist(bins=20, edgecolor='black', density=True )\n",
        "\n",
        "plt.title('Densidad Ingresos Individuales - EAH 2016 CABA')\n",
        "plt.savefig('../slides/cef/densidadingresos.png')"
      ]
    },
    {
      "cell_type": "code",
      "execution_count": 60,
      "metadata": {
        "colab": {
          "base_uri": "https://localhost:8080/",
          "height": 392
        },
        "id": "KT2pn24yAymQ",
        "outputId": "6195246f-1e57-431c-a63b-fec4d1a0dd8a"
      },
      "outputs": [
        {
          "data": {
            "image/png": "[encoded data removed]",
            "text/plain": [
              "<Figure size 800x600 with 1 Axes>"
            ]
          },
          "metadata": {},
          "output_type": "display_data"
        }
      ],
      "source": [
        "plt.figure(figsize=(8, 6))\n",
        "\n",
        "df['logingreso'].hist(bins=20, edgecolor='black', density=True )\n",
        "\n",
        "plt.title('Densidad Ingresos Individuales (logs)- EAH 2016 CABA')\n",
        "plt.savefig('../slides/cef/densidadlogingresos.png')"
      ]
    },
    {
      "cell_type": "code",
      "execution_count": 59,
      "metadata": {},
      "outputs": [
        {
          "data": {
            "image/png": "[encoded data removed]",
            "text/plain": [
              "<Figure size 800x600 with 1 Axes>"
            ]
          },
          "metadata": {},
          "output_type": "display_data"
        }
      ],
      "source": [
        "plt.figure(figsize=(8, 6))\n",
        "\n",
        "df['logingreso'].hist(bins=20, edgecolor='black', density=True, cumulative=True)\n",
        "\n",
        "plt.title('Densidad Ingresos Individuales (logs)- EAH 2016 CABA')\n",
        "plt.savefig('../slides/cef/cdflogingresos.png')"
      ]
    },
    {
      "cell_type": "code",
      "execution_count": null,
      "metadata": {
        "colab": {
          "base_uri": "https://localhost:8080/",
          "height": 283
        },
        "id": "J3KSrbYBrs-v",
        "outputId": "eab711ea-41ee-4950-f6ca-00f58b6352c8"
      },
      "outputs": [
        {
          "data": {
            "text/plain": [
              "<matplotlib.axes._subplots.AxesSubplot at 0x7fe41c4dd4d0>"
            ]
          },
          "execution_count": 33,
          "metadata": {},
          "output_type": "execute_result"
        },
        {
          "data": {
            "image/png": "[encoded data removed]",
            "text/plain": [
              "<Figure size 432x288 with 1 Axes>"
            ]
          },
          "metadata": {
            "needs_background": "light"
          },
          "output_type": "display_data"
        }
      ],
      "source": [
        "df['logingreso'].hist()"
      ]
    },
    {
      "cell_type": "code",
      "execution_count": null,
      "metadata": {
        "colab": {
          "base_uri": "https://localhost:8080/"
        },
        "id": "dyVIFtkVA54r",
        "outputId": "2d15f55e-a26f-48f0-d246-2d6a2dc6048c"
      },
      "outputs": [
        {
          "data": {
            "text/plain": [
              "14904.729259369129"
            ]
          },
          "execution_count": 69,
          "metadata": {},
          "output_type": "execute_result"
        }
      ],
      "source": [
        "df[\"ingtot_2\"].mean()"
      ]
    },
    {
      "cell_type": "code",
      "execution_count": null,
      "metadata": {
        "colab": {
          "base_uri": "https://localhost:8080/"
        },
        "id": "e_ckXjiBMNll",
        "outputId": "c1aa702c-d472-48fc-9c1a-8dcabec2880f"
      },
      "outputs": [
        {
          "data": {
            "text/plain": [
              "13037.54996243426"
            ]
          },
          "execution_count": 74,
          "metadata": {},
          "output_type": "execute_result"
        }
      ],
      "source": [
        "df.loc[df[\"sexo\"]==\"mujer\"][\"ingtot_2\"].mean()"
      ]
    },
    {
      "cell_type": "code",
      "execution_count": null,
      "metadata": {
        "colab": {
          "base_uri": "https://localhost:8080/"
        },
        "id": "BuoLNH3RNGGv",
        "outputId": "b33f0ae2-d602-4dc3-bbb7-0742d3e9d806"
      },
      "outputs": [
        {
          "data": {
            "text/plain": [
              "16980.49926915849"
            ]
          },
          "execution_count": 75,
          "metadata": {},
          "output_type": "execute_result"
        }
      ],
      "source": [
        "df.loc[df[\"sexo\"]==\"varon\"][\"ingtot_2\"].mean()"
      ]
    },
    {
      "cell_type": "code",
      "execution_count": null,
      "metadata": {
        "colab": {
          "base_uri": "https://localhost:8080/",
          "height": 392
        },
        "id": "WNp2on6RO_Mv",
        "outputId": "706639e8-4cd4-45dd-b9ff-8e36ef618230"
      },
      "outputs": [
        {
          "data": {
            "text/plain": [
              "<matplotlib.axes._subplots.AxesSubplot at 0x7fe401075f10>"
            ]
          },
          "execution_count": 82,
          "metadata": {},
          "output_type": "execute_result"
        },
        {
          "data": {
            "image/png": "[encoded data removed]",
            "text/plain": [
              "<Figure size 432x432 with 1 Axes>"
            ]
          },
          "metadata": {
            "needs_background": "light"
          },
          "output_type": "display_data"
        }
      ],
      "source": [
        "# histograma de logingreso pero solo ingresos>0\n",
        "\n",
        "df.loc[df[\"ingtot_2\"]>0][\"logingreso\"].hist()"
      ]
    },
    {
      "cell_type": "code",
      "execution_count": null,
      "metadata": {
        "colab": {
          "base_uri": "https://localhost:8080/"
        },
        "id": "G3nERYECN0Z5",
        "outputId": "24386748-5b01-4293-be99-4aab2cb5fcec"
      },
      "outputs": [
        {
          "data": {
            "text/plain": [
              "9.136385530108724"
            ]
          },
          "execution_count": 80,
          "metadata": {},
          "output_type": "execute_result"
        }
      ],
      "source": [
        "df.loc[df[\"sexo\"]==\"mujer\"][\"logingreso\"].mean()"
      ]
    },
    {
      "cell_type": "code",
      "execution_count": null,
      "metadata": {
        "colab": {
          "base_uri": "https://localhost:8080/"
        },
        "id": "QuEZXuHBN5Df",
        "outputId": "3be1055a-952b-40b4-a62b-f9927cb537bb"
      },
      "outputs": [
        {
          "data": {
            "text/plain": [
              "9.444136001549921"
            ]
          },
          "execution_count": 79,
          "metadata": {},
          "output_type": "execute_result"
        }
      ],
      "source": [
        "df.loc[df[\"sexo\"]==\"varon\"]['logingreso'].mean()"
      ]
    },
    {
      "cell_type": "code",
      "execution_count": null,
      "metadata": {
        "colab": {
          "base_uri": "https://localhost:8080/",
          "height": 283
        },
        "id": "4qrHGDQbt-nQ",
        "outputId": "2db0716d-762a-4a3e-b97f-cc06ee3af690"
      },
      "outputs": [
        {
          "data": {
            "text/plain": [
              "<matplotlib.axes._subplots.AxesSubplot at 0x7fe41cb07610>"
            ]
          },
          "execution_count": 41,
          "metadata": {},
          "output_type": "execute_result"
        },
        {
          "data": {
            "image/png": "[encoded data removed]",
            "text/plain": [
              "<Figure size 432x288 with 1 Axes>"
            ]
          },
          "metadata": {
            "needs_background": "light"
          },
          "output_type": "display_data"
        }
      ],
      "source": [
        "df.logingreso.hist()"
      ]
    },
    {
      "cell_type": "code",
      "execution_count": 12,
      "metadata": {
        "colab": {
          "base_uri": "https://localhost:8080/",
          "height": 392
        },
        "id": "gzXSGe89waHl",
        "outputId": "0db5c34a-c973-40bc-d52e-726bf573f65f"
      },
      "outputs": [
        {
          "data": {
            "text/plain": [
              "<Axes: >"
            ]
          },
          "execution_count": 12,
          "metadata": {},
          "output_type": "execute_result"
        },
        {
          "data": {
            "image/png": "[encoded data removed]",
            "text/plain": [
              "<Figure size 600x600 with 1 Axes>"
            ]
          },
          "metadata": {},
          "output_type": "display_data"
        }
      ],
      "source": [
        "# pueden agrandar el grafico usando lo siguiente:\n",
        "import matplotlib.pyplot as plt\n",
        "plt.rcParams[\"figure.figsize\"] = (6,6)\n",
        "df.logingreso.hist(bins=20)"
      ]
    },
    {
      "cell_type": "code",
      "execution_count": null,
      "metadata": {
        "colab": {
          "base_uri": "https://localhost:8080/",
          "height": 392
        },
        "id": "1xhj015Wy5To",
        "outputId": "aa7cb320-6f3e-41ee-bfcb-2bf6ec3df69d"
      },
      "outputs": [
        {
          "data": {
            "text/plain": [
              "<matplotlib.axes._subplots.AxesSubplot at 0x7fe401020c10>"
            ]
          },
          "execution_count": 87,
          "metadata": {},
          "output_type": "execute_result"
        },
        {
          "data": {
            "image/png": "[encoded data removed]",
            "text/plain": [
              "<Figure size 432x432 with 1 Axes>"
            ]
          },
          "metadata": {
            "needs_background": "light"
          },
          "output_type": "display_data"
        }
      ],
      "source": [
        "df.logingreso.hist(cumulative=True, density=1, bins=100)"
      ]
    },
    {
      "cell_type": "code",
      "execution_count": 44,
      "metadata": {},
      "outputs": [
        {
          "data": {
            "image/png": "[encoded data removed]",
            "text/plain": [
              "<Figure size 600x600 with 2 Axes>"
            ]
          },
          "metadata": {},
          "output_type": "display_data"
        }
      ],
      "source": [
        "\n",
        "df.hist(column='logingreso',by='sexo')\n",
        "\n",
        "plt.suptitle('Densidad Ingresos Individuales (logs) por sexo')\n",
        "plt.savefig('../slides/cef/densidadingresosxsexo.png')"
      ]
    },
    {
      "cell_type": "code",
      "execution_count": 58,
      "metadata": {
        "colab": {
          "base_uri": "https://localhost:8080/",
          "height": 444
        },
        "id": "nFXMUKiES6-D",
        "outputId": "9a662040-b5e7-4d46-a51e-035f8324a3ca"
      },
      "outputs": [
        {
          "data": {
            "image/png": "[encoded data removed]",
            "text/plain": [
              "<Figure size 600x600 with 2 Axes>"
            ]
          },
          "metadata": {},
          "output_type": "display_data"
        }
      ],
      "source": [
        "df.hist(column='logingreso',by='sexo', layout=(2,1), sharex=True\n",
        ", bins=25, density=True, edgecolor='black')\n",
        "\n",
        "plt.suptitle('Densidad Ingresos Individuales (logs) por sexo')\n",
        "plt.savefig('../slides/cef/densidadingresosxsexovertical.png')"
      ]
    },
    {
      "cell_type": "code",
      "execution_count": 57,
      "metadata": {},
      "outputs": [],
      "source": [
        "description=df.groupby('sexo')['logingreso'].describe()\n",
        "\n",
        "# Convert the description table to LaTeX format\n",
        "latex_table = description.to_latex()\n",
        "\n",
        "# Save the LaTeX table to a file\n",
        "with open('../slides/cef/description.tex', 'w') as f:\n",
        "    f.write(latex_table)\n"
      ]
    },
    {
      "cell_type": "markdown",
      "metadata": {
        "id": "X1JUfBK01C_X"
      },
      "source": [
        "# \"Filtrando\" el Dataframe \n",
        "Seleccionamos las filas del dataframe en base a una condicion logica usando el método .loc \\\\\n",
        "Dentro del .loc tenemos que especificar una condición lógica\n"
      ]
    },
    {
      "cell_type": "markdown",
      "metadata": {
        "id": "eU8hNrV40014"
      },
      "source": [
        "Aqui van algunos ejemplos mas sobre como filtrar el dataframe"
      ]
    },
    {
      "cell_type": "code",
      "execution_count": null,
      "metadata": {
        "colab": {
          "base_uri": "https://localhost:8080/"
        },
        "id": "9e-8kinTxgNS",
        "outputId": "5c1accca-509c-4ece-8a22-dd70738f1bfc"
      },
      "outputs": [
        {
          "data": {
            "text/plain": [
              "9.35795335849025"
            ]
          },
          "execution_count": 46,
          "metadata": {},
          "output_type": "execute_result"
        }
      ],
      "source": [
        "# Ejemplo: promedio de logingreso de personas mayores a 40 años\n",
        "\n",
        "df.loc[df.edad>=40].logingreso.mean()"
      ]
    },
    {
      "cell_type": "code",
      "execution_count": null,
      "metadata": {
        "colab": {
          "base_uri": "https://localhost:8080/"
        },
        "id": "33waEOd6yC2p",
        "outputId": "bb323043-8854-4110-898b-c10b0fc43d59"
      },
      "outputs": [
        {
          "data": {
            "text/plain": [
              "9.550831881911979"
            ]
          },
          "execution_count": 47,
          "metadata": {},
          "output_type": "execute_result"
        }
      ],
      "source": [
        "# Ejemplo: promedio de logingreso de varones y mayores a 40 años\n",
        "\n",
        "df.loc[(df.sexo=='varon') & (df.edad>=40)].logingreso.mean()"
      ]
    },
    {
      "cell_type": "code",
      "execution_count": null,
      "metadata": {
        "colab": {
          "base_uri": "https://localhost:8080/"
        },
        "id": "H3j6zSw4zW1O",
        "outputId": "2a9466d4-21b3-4503-e115-5e5be61bdfe1"
      },
      "outputs": [
        {
          "data": {
            "text/plain": [
              "9.343912623487702"
            ]
          },
          "execution_count": 48,
          "metadata": {},
          "output_type": "execute_result"
        }
      ],
      "source": [
        "# Ejemplo: promedio de logingreso de varones o mayores a 40 años\n",
        "df.loc[(df.sexo=='varon') | (df.edad>=40) ].logingreso.mean()"
      ]
    },
    {
      "cell_type": "markdown",
      "metadata": {
        "id": "YnSuc-vkcgmU"
      },
      "source": [
        "## Filtrando el dataframe\n",
        "\n",
        "\n",
        "Para escribir una condicion recuerden que pueden utilizar los siguientes lógicos:\n",
        "\n",
        "==    para chequear la  condicion \"equivale a\" o \"igual a\" va doble igual\n",
        "\n",
        "!= distinto a\n",
        " \n",
        "\\> mayor a \\\\\n",
        "\n",
        "\\> = mayor o igual a\n",
        "\n",
        "< menor a\n",
        "\n",
        "<= menor o igual a\n",
        "\n",
        "En el caso de querer usar dos condiciones o más:\n",
        "\n",
        "(esta condicion) & (esta condicion) Se cumple esta condicion Y esta otra\n",
        "\n",
        "(esta condicion) | (esta condicion) Se cumple esta condicion O esta otra\n",
        "\n",
        "Recuerden que las condiciones tiene que ir en parentesis!\n",
        "\n",
        "\n",
        "\n"
      ]
    },
    {
      "cell_type": "markdown",
      "metadata": {
        "id": "pImuoa1auWgA"
      },
      "source": [
        "# Estimando el CEF\n",
        "\n",
        "Vamos a explorar ahore el ingreso esperado de varones y mujeres. De acuerdo al modelo, nos interesa conocer:\n",
        "\n",
        "$$E[y|sexo=\\text{varon}]$$\n",
        "\n",
        "y\n",
        "\n",
        "$$E[y|sexo=\\text{mujer}]$$\n",
        "\n",
        "Estimamos cada una de estas esperanzas condicionales con el promedio del subgrupo de observaciones respectivo.\n"
      ]
    },
    {
      "cell_type": "code",
      "execution_count": null,
      "metadata": {
        "colab": {
          "base_uri": "https://localhost:8080/"
        },
        "id": "34G8nX_ow5ve",
        "outputId": "5e7020c6-3e4f-47e3-cb9d-d3dee3892eb2"
      },
      "outputs": [
        {
          "data": {
            "text/plain": [
              "9.444136001549921"
            ]
          },
          "execution_count": 49,
          "metadata": {},
          "output_type": "execute_result"
        }
      ],
      "source": [
        "df.loc[df.sexo=='varon'].logingreso.mean()"
      ]
    },
    {
      "cell_type": "code",
      "execution_count": null,
      "metadata": {
        "colab": {
          "base_uri": "https://localhost:8080/"
        },
        "id": "iKqmxGt0uces",
        "outputId": "882fe1d4-d98b-4dc0-974d-e660e9b0ed9d"
      },
      "outputs": [
        {
          "data": {
            "text/plain": [
              "9.136385530108724"
            ]
          },
          "execution_count": 50,
          "metadata": {},
          "output_type": "execute_result"
        }
      ],
      "source": [
        "df.loc[df.sexo=='mujer'].logingreso.mean()"
      ]
    },
    {
      "cell_type": "markdown",
      "metadata": {
        "id": "EveVpZBc3Aq1"
      },
      "source": [
        "# Un metodo alternativo para contruir medias por grupos usando groupby"
      ]
    },
    {
      "cell_type": "code",
      "execution_count": null,
      "metadata": {
        "colab": {
          "base_uri": "https://localhost:8080/",
          "height": 237
        },
        "id": "YKqzX__JrjxC",
        "outputId": "24ca03e2-7e50-40c0-f5c8-ede1870ca0df"
      },
      "outputs": [
        {
          "data": {
            "text/html": [
              "\n",
              "  <div id=\"df-82f6c9bf-4e91-435b-8e3f-57456e3c4bb9\">\n",
              "    <div class=\"colab-df-container\">\n",
              "      <div>\n",
              "<style scoped>\n",
              "    .dataframe tbody tr th:only-of-type {\n",
              "        vertical-align: middle;\n",
              "    }\n",
              "\n",
              "    .dataframe tbody tr th {\n",
              "        vertical-align: top;\n",
              "    }\n",
              "\n",
              "    .dataframe thead th {\n",
              "        text-align: right;\n",
              "    }\n",
              "</style>\n",
              "<table border=\"1\" class=\"dataframe\">\n",
              "  <thead>\n",
              "    <tr style=\"text-align: right;\">\n",
              "      <th></th>\n",
              "      <th>id</th>\n",
              "      <th>nhogar</th>\n",
              "      <th>miembro</th>\n",
              "      <th>comuna</th>\n",
              "      <th>edad</th>\n",
              "      <th>parentes_2</th>\n",
              "      <th>p5_2</th>\n",
              "      <th>p6_a</th>\n",
              "      <th>p6_b</th>\n",
              "      <th>categori</th>\n",
              "      <th>...</th>\n",
              "      <th>s8</th>\n",
              "      <th>sn14</th>\n",
              "      <th>s28</th>\n",
              "      <th>s29</th>\n",
              "      <th>fexp</th>\n",
              "      <th>logingreso</th>\n",
              "      <th>dsex</th>\n",
              "      <th>dmujer</th>\n",
              "      <th>dinmigrante</th>\n",
              "      <th>dmujerinmigrante</th>\n",
              "    </tr>\n",
              "    <tr>\n",
              "      <th>sexo</th>\n",
              "      <th></th>\n",
              "      <th></th>\n",
              "      <th></th>\n",
              "      <th></th>\n",
              "      <th></th>\n",
              "      <th></th>\n",
              "      <th></th>\n",
              "      <th></th>\n",
              "      <th></th>\n",
              "      <th></th>\n",
              "      <th></th>\n",
              "      <th></th>\n",
              "      <th></th>\n",
              "      <th></th>\n",
              "      <th></th>\n",
              "      <th></th>\n",
              "      <th></th>\n",
              "      <th></th>\n",
              "      <th></th>\n",
              "      <th></th>\n",
              "      <th></th>\n",
              "    </tr>\n",
              "  </thead>\n",
              "  <tbody>\n",
              "    <tr>\n",
              "      <th>mujer</th>\n",
              "      <td>3108.302404</td>\n",
              "      <td>1.007137</td>\n",
              "      <td>1.685763</td>\n",
              "      <td>7.196657</td>\n",
              "      <td>49.900826</td>\n",
              "      <td>1.994553</td>\n",
              "      <td>3.250563</td>\n",
              "      <td>6.740609</td>\n",
              "      <td>4.709992</td>\n",
              "      <td>1.769910</td>\n",
              "      <td>...</td>\n",
              "      <td>1.904207</td>\n",
              "      <td>0.182757</td>\n",
              "      <td>1.325507</td>\n",
              "      <td>1.647446</td>\n",
              "      <td>212.109692</td>\n",
              "      <td>9.136386</td>\n",
              "      <td>1.0</td>\n",
              "      <td>1.0</td>\n",
              "      <td>0.270098</td>\n",
              "      <td>0.270098</td>\n",
              "    </tr>\n",
              "    <tr>\n",
              "      <th>varon</th>\n",
              "      <td>2854.199833</td>\n",
              "      <td>1.010232</td>\n",
              "      <td>1.515765</td>\n",
              "      <td>7.331593</td>\n",
              "      <td>46.261015</td>\n",
              "      <td>1.721445</td>\n",
              "      <td>3.002506</td>\n",
              "      <td>6.662560</td>\n",
              "      <td>4.410942</td>\n",
              "      <td>2.170182</td>\n",
              "      <td>...</td>\n",
              "      <td>1.928169</td>\n",
              "      <td>0.125496</td>\n",
              "      <td>0.000000</td>\n",
              "      <td>0.000000</td>\n",
              "      <td>204.478806</td>\n",
              "      <td>9.444136</td>\n",
              "      <td>0.0</td>\n",
              "      <td>0.0</td>\n",
              "      <td>0.250365</td>\n",
              "      <td>0.000000</td>\n",
              "    </tr>\n",
              "  </tbody>\n",
              "</table>\n",
              "<p>2 rows × 90 columns</p>\n",
              "</div>\n",
              "      <button class=\"colab-df-convert\" onclick=\"convertToInteractive('df-82f6c9bf-4e91-435b-8e3f-57456e3c4bb9')\"\n",
              "              title=\"Convert this dataframe to an interactive table.\"\n",
              "              style=\"display:none;\">\n",
              "        \n",
              "  <svg xmlns=\"http://www.w3.org/2000/svg\" height=\"24px\"viewBox=\"0 0 24 24\"\n",
              "       width=\"24px\">\n",
              "    <path d=\"M0 0h24v24H0V0z\" fill=\"none\"/>\n",
              "    <path d=\"M18.56 5.44l.94 2.06.94-2.06 2.06-.94-2.06-.94-.94-2.06-.94 2.06-2.06.94zm-11 1L8.5 8.5l.94-2.06 2.06-.94-2.06-.94L8.5 2.5l-.94 2.06-2.06.94zm10 10l.94 2.06.94-2.06 2.06-.94-2.06-.94-.94-2.06-.94 2.06-2.06.94z\"/><path d=\"M17.41 7.96l-1.37-1.37c-.4-.4-.92-.59-1.43-.59-.52 0-1.04.2-1.43.59L10.3 9.45l-7.72 7.72c-.78.78-.78 2.05 0 2.83L4 21.41c.39.39.9.59 1.41.59.51 0 1.02-.2 1.41-.59l7.78-7.78 2.81-2.81c.8-.78.8-2.07 0-2.86zM5.41 20L4 18.59l7.72-7.72 1.47 1.35L5.41 20z\"/>\n",
              "  </svg>\n",
              "      </button>\n",
              "      \n",
              "  <style>\n",
              "    .colab-df-container {\n",
              "      display:flex;\n",
              "      flex-wrap:wrap;\n",
              "      gap: 12px;\n",
              "    }\n",
              "\n",
              "    .colab-df-convert {\n",
              "      background-color: #E8F0FE;\n",
              "      border: none;\n",
              "      border-radius: 50%;\n",
              "      cursor: pointer;\n",
              "      display: none;\n",
              "      fill: #1967D2;\n",
              "      height: 32px;\n",
              "      padding: 0 0 0 0;\n",
              "      width: 32px;\n",
              "    }\n",
              "\n",
              "    .colab-df-convert:hover {\n",
              "      background-color: #E2EBFA;\n",
              "      box-shadow: 0px 1px 2px rgba(60, 64, 67, 0.3), 0px 1px 3px 1px rgba(60, 64, 67, 0.15);\n",
              "      fill: #174EA6;\n",
              "    }\n",
              "\n",
              "    [theme=dark] .colab-df-convert {\n",
              "      background-color: #3B4455;\n",
              "      fill: #D2E3FC;\n",
              "    }\n",
              "\n",
              "    [theme=dark] .colab-df-convert:hover {\n",
              "      background-color: #434B5C;\n",
              "      box-shadow: 0px 1px 3px 1px rgba(0, 0, 0, 0.15);\n",
              "      filter: drop-shadow(0px 1px 2px rgba(0, 0, 0, 0.3));\n",
              "      fill: #FFFFFF;\n",
              "    }\n",
              "  </style>\n",
              "\n",
              "      <script>\n",
              "        const buttonEl =\n",
              "          document.querySelector('#df-82f6c9bf-4e91-435b-8e3f-57456e3c4bb9 button.colab-df-convert');\n",
              "        buttonEl.style.display =\n",
              "          google.colab.kernel.accessAllowed ? 'block' : 'none';\n",
              "\n",
              "        async function convertToInteractive(key) {\n",
              "          const element = document.querySelector('#df-82f6c9bf-4e91-435b-8e3f-57456e3c4bb9');\n",
              "          const dataTable =\n",
              "            await google.colab.kernel.invokeFunction('convertToInteractive',\n",
              "                                                     [key], {});\n",
              "          if (!dataTable) return;\n",
              "\n",
              "          const docLinkHtml = 'Like what you see? Visit the ' +\n",
              "            '<a target=\"_blank\" href=https://colab.research.google.com/notebooks/data_table.ipynb>data table notebook</a>'\n",
              "            + ' to learn more about interactive tables.';\n",
              "          element.innerHTML = '';\n",
              "          dataTable['output_type'] = 'display_data';\n",
              "          await google.colab.output.renderOutput(dataTable, element);\n",
              "          const docLink = document.createElement('div');\n",
              "          docLink.innerHTML = docLinkHtml;\n",
              "          element.appendChild(docLink);\n",
              "        }\n",
              "      </script>\n",
              "    </div>\n",
              "  </div>\n",
              "  "
            ],
            "text/plain": [
              "                id    nhogar   miembro    comuna       edad  parentes_2  \\\n",
              "sexo                                                                      \n",
              "mujer  3108.302404  1.007137  1.685763  7.196657  49.900826    1.994553   \n",
              "varon  2854.199833  1.010232  1.515765  7.331593  46.261015    1.721445   \n",
              "\n",
              "           p5_2      p6_a      p6_b  categori  ...        s8      sn14  \\\n",
              "sexo                                           ...                       \n",
              "mujer  3.250563  6.740609  4.709992  1.769910  ...  1.904207  0.182757   \n",
              "varon  3.002506  6.662560  4.410942  2.170182  ...  1.928169  0.125496   \n",
              "\n",
              "            s28       s29        fexp  logingreso  dsex  dmujer  dinmigrante  \\\n",
              "sexo                                                                           \n",
              "mujer  1.325507  1.647446  212.109692    9.136386   1.0     1.0     0.270098   \n",
              "varon  0.000000  0.000000  204.478806    9.444136   0.0     0.0     0.250365   \n",
              "\n",
              "       dmujerinmigrante  \n",
              "sexo                     \n",
              "mujer          0.270098  \n",
              "varon          0.000000  \n",
              "\n",
              "[2 rows x 90 columns]"
            ]
          },
          "execution_count": 92,
          "metadata": {},
          "output_type": "execute_result"
        }
      ],
      "source": [
        "df.groupby(by='sexo').mean()"
      ]
    },
    {
      "cell_type": "code",
      "execution_count": 10,
      "metadata": {
        "id": "G5lmz1J6UD_5"
      },
      "outputs": [],
      "source": [
        "dfporgrupo=df.groupby(by=['sexo','aesc'],as_index=False)['logingreso'].mean()"
      ]
    },
    {
      "cell_type": "code",
      "execution_count": 62,
      "metadata": {
        "colab": {
          "base_uri": "https://localhost:8080/",
          "height": 406
        },
        "id": "iZz19OpTV6xy",
        "outputId": "669d15b8-5b9b-43ce-fdd2-a34849ad894d"
      },
      "outputs": [
        {
          "data": {
            "image/png": "[encoded data removed]",
            "text/plain": [
              "<Figure size 600x600 with 1 Axes>"
            ]
          },
          "metadata": {},
          "output_type": "display_data"
        }
      ],
      "source": [
        "#Como hacer un grafico crossplot\n",
        "\n",
        "primergrafico=dfporgrupo.loc[(dfporgrupo['aesc']!=99)& (dfporgrupo['sexo']=='varon')].plot(x='aesc',y='logingreso', style='o')\n",
        "dfporgrupo.loc[(dfporgrupo['aesc']!=99) & (dfporgrupo['sexo']=='mujer')].plot(x='aesc',y='logingreso', style='o', ax=primergrafico)\n",
        "\n",
        "# Cambiar las etiquetas\n",
        "plt.legend(['Hombre', 'Mujer'])\n",
        "plt.ylabel('Log de ingreso')\n",
        "plt.xlabel('Años de Escolaridad')\n",
        "plt.title('Ingresos y Años de Escolaridad')\n",
        "plt.savefig('../slides/cef/cefingresos.png')\n",
        "plt.show()"
      ]
    },
    {
      "cell_type": "code",
      "execution_count": null,
      "metadata": {
        "colab": {
          "base_uri": "https://localhost:8080/"
        },
        "id": "RCC1p-dMq9Jl",
        "outputId": "636ef825-78b2-4916-88a0-c6682a683629"
      },
      "outputs": [
        {
          "data": {
            "text/plain": [
              "sexo\n",
              "mujer    9.136386\n",
              "varon    9.444136\n",
              "Name: logingreso, dtype: float64"
            ]
          },
          "execution_count": 52,
          "metadata": {},
          "output_type": "execute_result"
        }
      ],
      "source": [
        "df.groupby(by='sexo')['logingreso'].mean()"
      ]
    },
    {
      "cell_type": "markdown",
      "metadata": {
        "id": "doYyzTOr3Omu"
      },
      "source": [
        "# Ejemplo más avanzado: creando una tabla de promedios y luego grafico las funciones CEF segun sexo y escolaridad"
      ]
    },
    {
      "cell_type": "code",
      "execution_count": null,
      "metadata": {
        "id": "Ebv_DeCasS-W"
      },
      "outputs": [],
      "source": [
        "df_means=df.groupby(['sexo','aesc'],as_index=False)['logingreso'].mean()\n",
        "df_means=df_means.loc[df_means.aesc<20]\n",
        "#.plot(x='aesc',y='logingreso')"
      ]
    },
    {
      "cell_type": "code",
      "execution_count": null,
      "metadata": {
        "colab": {
          "base_uri": "https://localhost:8080/",
          "height": 406
        },
        "id": "5iC3AfX7r1Ks",
        "outputId": "8d0fc856-ec72-4ab2-b946-35fcf90350e6"
      },
      "outputs": [
        {
          "data": {
            "text/plain": [
              "<matplotlib.axes._subplots.AxesSubplot at 0x7fe41c156250>"
            ]
          },
          "execution_count": 54,
          "metadata": {},
          "output_type": "execute_result"
        },
        {
          "data": {
            "image/png": "[encoded data removed]",
            "text/plain": [
              "<Figure size 432x432 with 1 Axes>"
            ]
          },
          "metadata": {
            "needs_background": "light"
          },
          "output_type": "display_data"
        }
      ],
      "source": [
        "import matplotlib.pyplot as plt\n",
        "base=df_means.loc[df_means.sexo=='varon'].plot(x='aesc',y='logingreso', style='o', label='varon')\n",
        "df_means.loc[df_means.sexo=='mujer'].plot(x='aesc',y='logingreso', style='o', ax=base, label='mujer')"
      ]
    },
    {
      "cell_type": "markdown",
      "metadata": {
        "id": "jpLKXlWw3xCg"
      },
      "source": [
        "Creando una variable dummy"
      ]
    },
    {
      "cell_type": "code",
      "execution_count": null,
      "metadata": {
        "colab": {
          "base_uri": "https://localhost:8080/"
        },
        "id": "5wPIwFnCfa4W",
        "outputId": "cf0dd5bd-4f05-418d-9d4a-b53a52006d4a"
      },
      "outputs": [
        {
          "name": "stderr",
          "output_type": "stream",
          "text": [
            "/usr/local/lib/python3.7/dist-packages/pandas/core/indexing.py:1684: SettingWithCopyWarning: \n",
            "A value is trying to be set on a copy of a slice from a DataFrame.\n",
            "Try using .loc[row_indexer,col_indexer] = value instead\n",
            "\n",
            "See the caveats in the documentation: https://pandas.pydata.org/pandas-docs/stable/user_guide/indexing.html#returning-a-view-versus-a-copy\n",
            "  self.obj[key] = infer_fill_value(value)\n",
            "/usr/local/lib/python3.7/dist-packages/pandas/core/indexing.py:1817: SettingWithCopyWarning: \n",
            "A value is trying to be set on a copy of a slice from a DataFrame.\n",
            "Try using .loc[row_indexer,col_indexer] = value instead\n",
            "\n",
            "See the caveats in the documentation: https://pandas.pydata.org/pandas-docs/stable/user_guide/indexing.html#returning-a-view-versus-a-copy\n",
            "  self._setitem_single_column(loc, value, pi)\n"
          ]
        }
      ],
      "source": [
        "df.loc[df['sexo'] == 'varon', 'dmujer'] = 0\n",
        "df.loc[df['sexo'] == 'mujer', 'dmujer'] = 1"
      ]
    },
    {
      "cell_type": "code",
      "execution_count": null,
      "metadata": {
        "colab": {
          "base_uri": "https://localhost:8080/"
        },
        "id": "9FjGWMny0FHN",
        "outputId": "4a5bd968-247a-434a-8ed0-01224ca88afc"
      },
      "outputs": [
        {
          "name": "stderr",
          "output_type": "stream",
          "text": [
            "/usr/local/lib/python3.7/dist-packages/ipykernel_launcher.py:1: SettingWithCopyWarning: \n",
            "A value is trying to be set on a copy of a slice from a DataFrame.\n",
            "Try using .loc[row_indexer,col_indexer] = value instead\n",
            "\n",
            "See the caveats in the documentation: https://pandas.pydata.org/pandas-docs/stable/user_guide/indexing.html#returning-a-view-versus-a-copy\n",
            "  \"\"\"Entry point for launching an IPython kernel.\n",
            "/usr/local/lib/python3.7/dist-packages/pandas/core/indexing.py:1817: SettingWithCopyWarning: \n",
            "A value is trying to be set on a copy of a slice from a DataFrame.\n",
            "Try using .loc[row_indexer,col_indexer] = value instead\n",
            "\n",
            "See the caveats in the documentation: https://pandas.pydata.org/pandas-docs/stable/user_guide/indexing.html#returning-a-view-versus-a-copy\n",
            "  self._setitem_single_column(loc, value, pi)\n"
          ]
        }
      ],
      "source": [
        "df['dinmigrante'] = 0\n",
        "df.loc[df['inmigrante'] == 'inmigrante', 'dinmigrante'] = 1"
      ]
    },
    {
      "cell_type": "code",
      "execution_count": null,
      "metadata": {
        "colab": {
          "base_uri": "https://localhost:8080/"
        },
        "id": "hwNzJjVP_tGL",
        "outputId": "cf678810-aa21-4107-fe12-009cf69eea8d"
      },
      "outputs": [
        {
          "data": {
            "text/plain": [
              "9.50509170628835"
            ]
          },
          "execution_count": 60,
          "metadata": {},
          "output_type": "execute_result"
        }
      ],
      "source": [
        "df.loc[(df['sexo'] == 'varon')&(df['inmigrante'] != 'inmigrante')].logingreso.mean()"
      ]
    },
    {
      "cell_type": "code",
      "execution_count": null,
      "metadata": {
        "colab": {
          "base_uri": "https://localhost:8080/"
        },
        "id": "EadC4C6r7Lnx",
        "outputId": "1686c22b-6d28-4fe1-bf78-2eb67f8f2be4"
      },
      "outputs": [
        {
          "data": {
            "text/plain": [
              "9.209591040354109"
            ]
          },
          "execution_count": 61,
          "metadata": {},
          "output_type": "execute_result"
        }
      ],
      "source": [
        "df.loc[(df['sexo'] == 'mujer')&(df['inmigrante'] != 'inmigrante')].logingreso.mean()"
      ]
    },
    {
      "cell_type": "code",
      "execution_count": null,
      "metadata": {
        "colab": {
          "base_uri": "https://localhost:8080/"
        },
        "id": "xIMQoTDtAI64",
        "outputId": "e3ecfb64-b858-4cf3-87fa-703bc97697f7"
      },
      "outputs": [
        {
          "data": {
            "text/plain": [
              "9.261624758838526"
            ]
          },
          "execution_count": 62,
          "metadata": {},
          "output_type": "execute_result"
        }
      ],
      "source": [
        "df.loc[(df['sexo'] == 'varon')&(df['inmigrante'] == 'inmigrante')].logingreso.mean()"
      ]
    },
    {
      "cell_type": "code",
      "execution_count": null,
      "metadata": {
        "colab": {
          "base_uri": "https://localhost:8080/"
        },
        "id": "uVJ6T42vAdKF",
        "outputId": "909b577b-25cf-42ef-ebad-bc6c97226736"
      },
      "outputs": [
        {
          "data": {
            "text/plain": [
              "8.9385575657043"
            ]
          },
          "execution_count": 63,
          "metadata": {},
          "output_type": "execute_result"
        }
      ],
      "source": [
        "df.loc[(df['sexo'] == 'mujer')&(df['inmigrante'] == 'inmigrante')].logingreso.mean()"
      ]
    }
  ],
  "metadata": {
    "colab": {
      "authorship_tag": "ABX9TyP4/rAxlso+rbBFwMrCQN3Z",
      "include_colab_link": true,
      "name": "CEF.ipynb",
      "provenance": []
    },
    "kernelspec": {
      "display_name": "Python 3",
      "name": "python3"
    },
    "language_info": {
      "codemirror_mode": {
        "name": "ipython",
        "version": 3
      },
      "file_extension": ".py",
      "mimetype": "text/x-python",
      "name": "python",
      "nbconvert_exporter": "python",
      "pygments_lexer": "ipython3",
      "version": "3.9.18"
    }
  },
  "nbformat": 4,
  "nbformat_minor": 0
}
