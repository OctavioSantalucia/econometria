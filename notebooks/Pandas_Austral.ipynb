{
  "nbformat": 4,
  "nbformat_minor": 0,
  "metadata": {
    "colab": {
      "provenance": [],
      "toc_visible": true,
      "include_colab_link": true
    },
    "kernelspec": {
      "name": "python3",
      "display_name": "Python 3"
    },
    "language_info": {
      "name": "python"
    }
  },
  "cells": [
    {
      "cell_type": "markdown",
      "metadata": {
        "id": "view-in-github",
        "colab_type": "text"
      },
      "source": [
        "<a href=\"https://colab.research.google.com/github/franciscosesto/econometria/blob/main/notebooks/Pandas_Austral.ipynb\" target=\"_parent\"><img src=\"https://colab.research.google.com/assets/colab-badge.svg\" alt=\"Open In Colab\"/></a>"
      ]
    },
    {
      "cell_type": "markdown",
      "source": [
        "\n",
        "\n",
        "<h1>\n",
        "<b> Pandas Econometría\n",
        "</h1>\n",
        "\n",
        " \n",
        "<div>\n",
        "<img src=\"https://pandas.pydata.org/static/img/pandas_white.svg \" width=\"200\"/>\n",
        "</div>"
      ],
      "metadata": {
        "id": "gAhwbMw3BNu2"
      }
    },
    {
      "cell_type": "markdown",
      "source": [
        "##**🤔 ¿Qué es?**\n",
        "\n"
      ],
      "metadata": {
        "id": "w3CRWUbNF-JT"
      }
    },
    {
      "cell_type": "markdown",
      "source": [
        "Pandas es una librería que proporciona estructuras de datos flexibles y permite trabajar con la información de forma eficiente (gran parte de Pandas está implementado usando C/Cython para obtener un buen rendimiento).\n",
        "\n",
        "Funciona muy bien cuando nos toca trabajar con:\n",
        "*\tDatos heterogéneos que pueden distribuirse de forma tabular.\n",
        "*\tSeries temporales\n",
        "*\tMatrices\n"
      ],
      "metadata": {
        "id": "tGG0c6EuBcwe"
      }
    },
    {
      "cell_type": "markdown",
      "source": [
        "## 🌊 **Estructura de datos**"
      ],
      "metadata": {
        "id": "3JqHbdqLU4ek"
      }
    },
    {
      "cell_type": "markdown",
      "source": [
        "<div>\n",
        "<img src=\"https://i.stack.imgur.com/Tbe9W.png\" width=\"350\"/>\n",
        "</div>\n",
        "\n",
        "Pandas ofrece varias estructuras de datos que nos resultarán de mucha utilidad y que vamos a ir viendo poco a poco. Todas las posibles estructuras de datos que ofrece a día de hoy son:\n",
        "* Series (y TimeSeries) (1D):  Estructura de una dimensión\n",
        "*\tDataFrame (2D): Estructura de dos dimensiones (tablas).\n",
        "*\tPanel(3D): Estructura de tres dimensiones (cubos).\n",
        "*\tPanel4D (4D) Estructura de cuatro dimensiones .\n",
        "*\tPanelND (ND) Estructura de n dimensiones.\n",
        "\n"
      ],
      "metadata": {
        "id": "D2X3vlu-Lc6z"
      }
    },
    {
      "cell_type": "markdown",
      "source": [
        "## 🛸 **Importación**"
      ],
      "metadata": {
        "id": "66fsb6PNWYP_"
      }
    },
    {
      "cell_type": "markdown",
      "source": [
        "Para comenzar a utilizar esta librería hay que importar Pandas\n",
        "```python\n",
        "import pandas as pd\n",
        "```"
      ],
      "metadata": {
        "id": "EF05P_1XWVdm"
      }
    },
    {
      "cell_type": "code",
      "source": [
        "#Importación de la libreria Pandas\n",
        "import pandas as pd"
      ],
      "metadata": {
        "id": "tZFOMB762OW1"
      },
      "execution_count": 2,
      "outputs": []
    },
    {
      "cell_type": "markdown",
      "source": [
        "## 📚 **DataFrame**"
      ],
      "metadata": {
        "id": "KFFuV4DEbdKP"
      }
    },
    {
      "cell_type": "markdown",
      "source": [
        "#### ➖ DataFrame como matriz "
      ],
      "metadata": {
        "id": "hVyqx9wGblP8"
      }
    },
    {
      "cell_type": "markdown",
      "source": [
        "Un objeto del tipo DataFrame define un **conjunto de datos estructurado en forma de tabla** donde cada columna es un objeto de tipo Series, es decir, todos los datos de una misma columna son del mismo tipo, y las filas son registros que pueden contender datos de distintos tipos. **Como toda tabla, consta de filas y columnas (2D array).**\n",
        "\n",
        "Un DataFrame contiene dos índices, uno para las filas y otro para las columnas, y se puede acceder a sus elementos mediante los nombres de las filas y las columnas.\n",
        "\n"
      ],
      "metadata": {
        "id": "lsL_BGILbxLl"
      }
    },
    {
      "cell_type": "markdown",
      "source": [
        "## 🔧 **Creación de DataFrame**"
      ],
      "metadata": {
        "id": "eZZFyvRc7sF3"
      }
    },
    {
      "cell_type": "markdown",
      "source": [
        "#### ➖ Crear DataFrames a partir de un diccionario de listas"
      ],
      "metadata": {
        "id": "P-IlGsRBdEl_"
      }
    },
    {
      "cell_type": "markdown",
      "source": [
        "Para crear un DataFrame a partir de un diccionario cuyas claves son los nombres de las columnas y los valores son listas con los datos de las columnas se utiliza el método:\n",
        "```python\n",
        "pd.DataFrame(data=diccionario)\n",
        "```\n",
        "Devuelve un objeto del tipo DataFrame cuyas columnas son las listas contenidas en los valores del diccionario \n"
      ],
      "metadata": {
        "id": "3GERsSSKMTLL"
      }
    },
    {
      "cell_type": "code",
      "source": [
        "#Ejemplo Creación DataFrame a partir de un diccionario de listas\n",
        "import pandas as pd\n",
        "datosaustral = {'nombre':['María', 'Luis', 'Ramón', 'Richard'],\n",
        "         'edad':[18, 22, 20, 15],\n",
        "         'grado':['Economía', 'Psicología', 'Ingeniería', 'Medicina'],\n",
        "         'correo':['maria@gmail.com', 'luis@gmail.com', 'ramon@gmail.com', 'richard@gmail.com']\n",
        "         }\n",
        "\n",
        "df = pd.DataFrame(data=datosaustral)\n",
        "print(df)"
      ],
      "metadata": {
        "id": "Mw8zVnOYbk_T",
        "colab": {
          "base_uri": "https://localhost:8080/"
        },
        "outputId": "950e79ec-b7e6-46e2-ad6e-7a1131bf7fe9"
      },
      "execution_count": 2,
      "outputs": [
        {
          "output_type": "stream",
          "name": "stdout",
          "text": [
            "    nombre  edad       grado             correo\n",
            "0    María    18    Economía    maria@gmail.com\n",
            "1     Luis    22  Psicología     luis@gmail.com\n",
            "2    Ramón    20  Ingeniería    ramon@gmail.com\n",
            "3  Richard    15    Medicina  richard@gmail.com\n"
          ]
        }
      ]
    },
    {
      "cell_type": "markdown",
      "source": [
        "### ➖ Creación de un DataFrame a partir de un fichero CSV"
      ],
      "metadata": {
        "id": "La-A4amUdNKS"
      }
    },
    {
      "cell_type": "markdown",
      "source": [
        "Para crear un DataFrame a partir de un fichero csv se utiliza el método:\n",
        "```python\n",
        "pd.read_csv(fichero.csv, sep=separador)\n",
        "```\n",
        "Tener en cuenta que por default sep que es el separador entre palabras usa ',' la coma simple, entonces si no se le indica nada para sep lo utiliza.\n",
        "\n",
        "Se puede usar tanto csv en archivo y cargarlo al ambiente de colab o usar un link al archivo csv."
      ],
      "metadata": {
        "id": "w1PL7bUldq4F"
      }
    },
    {
      "cell_type": "code",
      "source": [
        "#Ejemplo Creación DataFrame a partir de un fichero csv\n",
        "#En este caso usaremos un link \n",
        "import pandas as pd\n",
        "df = pd.read_csv('https://raw.githubusercontent.com/asalber/manual-python/master/datos/colesteroles.csv', sep=\";\")\n",
        "print(df.head())"
      ],
      "metadata": {
        "colab": {
          "base_uri": "https://localhost:8080/"
        },
        "id": "ihO_Aa7zP3Z2",
        "outputId": "9a31dbd1-8870-47f7-fd51-380a2f92b868"
      },
      "execution_count": 42,
      "outputs": [
        {
          "output_type": "stream",
          "name": "stdout",
          "text": [
            "                         nombre  edad sexo  peso altura  colesterol\n",
            "0  José Luis Martínez Izquierdo    18    H  85.0   1,79       182.0\n",
            "1                Rosa Díaz Díaz    32    M  65.0   1,73       232.0\n",
            "2         Javier García Sánchez    24    H   NaN   1,81       191.0\n",
            "3           Carmen López Pinzón    35    M  65.0   1,70       200.0\n",
            "4          Marisa López Collado    46    M  51.0   1,58       148.0\n"
          ]
        }
      ]
    },
    {
      "cell_type": "markdown",
      "source": [
        "## 📌 **Acceso a los elementos del DataFrame**"
      ],
      "metadata": {
        "id": "pg-JPGpj8FGR"
      }
    },
    {
      "cell_type": "markdown",
      "source": [
        "### ➖ Acceso a los elementos mediante posiciones de un DataFrame"
      ],
      "metadata": {
        "id": "_rpwJACbfSVM"
      }
    },
    {
      "cell_type": "markdown",
      "source": [
        "El acceso a los elementos de un DataFrame mediante posiciones se hace utilizando exclusivamente el método iloc. Pero ahora veremos que hay varias variantes en el mismo.\n"
      ],
      "metadata": {
        "id": "CzxC9at22AHz"
      }
    },
    {
      "cell_type": "code",
      "source": [
        "#DataFrame para ejemplificar\n",
        "import pandas as pd\n",
        "df = pd.read_csv('https://raw.githubusercontent.com/asalber/manual-python/master/datos/colesteroles.csv', sep=\";\")\n",
        "df.head()"
      ],
      "metadata": {
        "colab": {
          "base_uri": "https://localhost:8080/",
          "height": 206
        },
        "id": "SjxA5wE-U8K8",
        "outputId": "9eb2a597-9fa3-4d9a-fe03-147a8c47f7d0"
      },
      "execution_count": 1,
      "outputs": [
        {
          "output_type": "execute_result",
          "data": {
            "text/plain": [
              "                         nombre  edad sexo  peso altura  colesterol\n",
              "0  José Luis Martínez Izquierdo    18    H  85.0   1,79       182.0\n",
              "1                Rosa Díaz Díaz    32    M  65.0   1,73       232.0\n",
              "2         Javier García Sánchez    24    H   NaN   1,81       191.0\n",
              "3           Carmen López Pinzón    35    M  65.0   1,70       200.0\n",
              "4          Marisa López Collado    46    M  51.0   1,58       148.0"
            ],
            "text/html": [
              "\n",
              "  <div id=\"df-b9e5d54e-949f-4c6e-8e80-7d88e055f84a\">\n",
              "    <div class=\"colab-df-container\">\n",
              "      <div>\n",
              "<style scoped>\n",
              "    .dataframe tbody tr th:only-of-type {\n",
              "        vertical-align: middle;\n",
              "    }\n",
              "\n",
              "    .dataframe tbody tr th {\n",
              "        vertical-align: top;\n",
              "    }\n",
              "\n",
              "    .dataframe thead th {\n",
              "        text-align: right;\n",
              "    }\n",
              "</style>\n",
              "<table border=\"1\" class=\"dataframe\">\n",
              "  <thead>\n",
              "    <tr style=\"text-align: right;\">\n",
              "      <th></th>\n",
              "      <th>nombre</th>\n",
              "      <th>edad</th>\n",
              "      <th>sexo</th>\n",
              "      <th>peso</th>\n",
              "      <th>altura</th>\n",
              "      <th>colesterol</th>\n",
              "    </tr>\n",
              "  </thead>\n",
              "  <tbody>\n",
              "    <tr>\n",
              "      <th>0</th>\n",
              "      <td>José Luis Martínez Izquierdo</td>\n",
              "      <td>18</td>\n",
              "      <td>H</td>\n",
              "      <td>85.0</td>\n",
              "      <td>1,79</td>\n",
              "      <td>182.0</td>\n",
              "    </tr>\n",
              "    <tr>\n",
              "      <th>1</th>\n",
              "      <td>Rosa Díaz Díaz</td>\n",
              "      <td>32</td>\n",
              "      <td>M</td>\n",
              "      <td>65.0</td>\n",
              "      <td>1,73</td>\n",
              "      <td>232.0</td>\n",
              "    </tr>\n",
              "    <tr>\n",
              "      <th>2</th>\n",
              "      <td>Javier García Sánchez</td>\n",
              "      <td>24</td>\n",
              "      <td>H</td>\n",
              "      <td>NaN</td>\n",
              "      <td>1,81</td>\n",
              "      <td>191.0</td>\n",
              "    </tr>\n",
              "    <tr>\n",
              "      <th>3</th>\n",
              "      <td>Carmen López Pinzón</td>\n",
              "      <td>35</td>\n",
              "      <td>M</td>\n",
              "      <td>65.0</td>\n",
              "      <td>1,70</td>\n",
              "      <td>200.0</td>\n",
              "    </tr>\n",
              "    <tr>\n",
              "      <th>4</th>\n",
              "      <td>Marisa López Collado</td>\n",
              "      <td>46</td>\n",
              "      <td>M</td>\n",
              "      <td>51.0</td>\n",
              "      <td>1,58</td>\n",
              "      <td>148.0</td>\n",
              "    </tr>\n",
              "  </tbody>\n",
              "</table>\n",
              "</div>\n",
              "      <button class=\"colab-df-convert\" onclick=\"convertToInteractive('df-b9e5d54e-949f-4c6e-8e80-7d88e055f84a')\"\n",
              "              title=\"Convert this dataframe to an interactive table.\"\n",
              "              style=\"display:none;\">\n",
              "        \n",
              "  <svg xmlns=\"http://www.w3.org/2000/svg\" height=\"24px\"viewBox=\"0 0 24 24\"\n",
              "       width=\"24px\">\n",
              "    <path d=\"M0 0h24v24H0V0z\" fill=\"none\"/>\n",
              "    <path d=\"M18.56 5.44l.94 2.06.94-2.06 2.06-.94-2.06-.94-.94-2.06-.94 2.06-2.06.94zm-11 1L8.5 8.5l.94-2.06 2.06-.94-2.06-.94L8.5 2.5l-.94 2.06-2.06.94zm10 10l.94 2.06.94-2.06 2.06-.94-2.06-.94-.94-2.06-.94 2.06-2.06.94z\"/><path d=\"M17.41 7.96l-1.37-1.37c-.4-.4-.92-.59-1.43-.59-.52 0-1.04.2-1.43.59L10.3 9.45l-7.72 7.72c-.78.78-.78 2.05 0 2.83L4 21.41c.39.39.9.59 1.41.59.51 0 1.02-.2 1.41-.59l7.78-7.78 2.81-2.81c.8-.78.8-2.07 0-2.86zM5.41 20L4 18.59l7.72-7.72 1.47 1.35L5.41 20z\"/>\n",
              "  </svg>\n",
              "      </button>\n",
              "      \n",
              "  <style>\n",
              "    .colab-df-container {\n",
              "      display:flex;\n",
              "      flex-wrap:wrap;\n",
              "      gap: 12px;\n",
              "    }\n",
              "\n",
              "    .colab-df-convert {\n",
              "      background-color: #E8F0FE;\n",
              "      border: none;\n",
              "      border-radius: 50%;\n",
              "      cursor: pointer;\n",
              "      display: none;\n",
              "      fill: #1967D2;\n",
              "      height: 32px;\n",
              "      padding: 0 0 0 0;\n",
              "      width: 32px;\n",
              "    }\n",
              "\n",
              "    .colab-df-convert:hover {\n",
              "      background-color: #E2EBFA;\n",
              "      box-shadow: 0px 1px 2px rgba(60, 64, 67, 0.3), 0px 1px 3px 1px rgba(60, 64, 67, 0.15);\n",
              "      fill: #174EA6;\n",
              "    }\n",
              "\n",
              "    [theme=dark] .colab-df-convert {\n",
              "      background-color: #3B4455;\n",
              "      fill: #D2E3FC;\n",
              "    }\n",
              "\n",
              "    [theme=dark] .colab-df-convert:hover {\n",
              "      background-color: #434B5C;\n",
              "      box-shadow: 0px 1px 3px 1px rgba(0, 0, 0, 0.15);\n",
              "      filter: drop-shadow(0px 1px 2px rgba(0, 0, 0, 0.3));\n",
              "      fill: #FFFFFF;\n",
              "    }\n",
              "  </style>\n",
              "\n",
              "      <script>\n",
              "        const buttonEl =\n",
              "          document.querySelector('#df-b9e5d54e-949f-4c6e-8e80-7d88e055f84a button.colab-df-convert');\n",
              "        buttonEl.style.display =\n",
              "          google.colab.kernel.accessAllowed ? 'block' : 'none';\n",
              "\n",
              "        async function convertToInteractive(key) {\n",
              "          const element = document.querySelector('#df-b9e5d54e-949f-4c6e-8e80-7d88e055f84a');\n",
              "          const dataTable =\n",
              "            await google.colab.kernel.invokeFunction('convertToInteractive',\n",
              "                                                     [key], {});\n",
              "          if (!dataTable) return;\n",
              "\n",
              "          const docLinkHtml = 'Like what you see? Visit the ' +\n",
              "            '<a target=\"_blank\" href=https://colab.research.google.com/notebooks/data_table.ipynb>data table notebook</a>'\n",
              "            + ' to learn more about interactive tables.';\n",
              "          element.innerHTML = '';\n",
              "          dataTable['output_type'] = 'display_data';\n",
              "          await google.colab.output.renderOutput(dataTable, element);\n",
              "          const docLink = document.createElement('div');\n",
              "          docLink.innerHTML = docLinkHtml;\n",
              "          element.appendChild(docLink);\n",
              "        }\n",
              "      </script>\n",
              "    </div>\n",
              "  </div>\n",
              "  "
            ]
          },
          "metadata": {},
          "execution_count": 1
        }
      ]
    },
    {
      "cell_type": "markdown",
      "source": [
        "🔥 Recordar que en python para contar las posiciones se empieza desde el 0 🔥"
      ],
      "metadata": {
        "id": "V-7CQy2qVuEu"
      }
    },
    {
      "cell_type": "markdown",
      "source": [
        "**df.iloc[i, j]**  \n",
        "\n",
        "Devuelve el elemento que se encuentra en la fila i y la columna j del DataFrame df. Pueden indicarse secuencias de índices para obtener partes del DataFrame.\n"
      ],
      "metadata": {
        "id": "Wspsff7XUoFC"
      }
    },
    {
      "cell_type": "code",
      "source": [
        "#Usando iloc para una única fila y única columna\n",
        "df.iloc[1,3]"
      ],
      "metadata": {
        "colab": {
          "base_uri": "https://localhost:8080/"
        },
        "id": "82XBn0v_Ux-d",
        "outputId": "2d6f88ad-3d4c-439a-f2a0-9df7162a7ce7"
      },
      "execution_count": 14,
      "outputs": [
        {
          "output_type": "execute_result",
          "data": {
            "text/plain": [
              "65.0"
            ]
          },
          "metadata": {},
          "execution_count": 14
        }
      ]
    },
    {
      "cell_type": "markdown",
      "source": [
        "**df.iloc[filas, columnas]**  \n",
        "Devuelve un DataFrame con los elementos de las filas de la lista filas y de las columnas de la lista columnas."
      ],
      "metadata": {
        "id": "fU3mZBSrVOOp"
      }
    },
    {
      "cell_type": "code",
      "source": [
        "#Usando iloc para varias filas y columnas\n",
        "df.iloc[[0,1],[0,1,2]]"
      ],
      "metadata": {
        "colab": {
          "base_uri": "https://localhost:8080/",
          "height": 112
        },
        "id": "WzDHhQZSVnVC",
        "outputId": "83339f74-e514-4844-b107-e4fc16663b47"
      },
      "execution_count": 16,
      "outputs": [
        {
          "output_type": "execute_result",
          "data": {
            "text/plain": [
              "                         nombre  edad sexo\n",
              "0  José Luis Martínez Izquierdo    18    H\n",
              "1                Rosa Díaz Díaz    32    M"
            ],
            "text/html": [
              "\n",
              "  <div id=\"df-27d3aa07-f1ce-4b11-a087-e05cadec1db1\">\n",
              "    <div class=\"colab-df-container\">\n",
              "      <div>\n",
              "<style scoped>\n",
              "    .dataframe tbody tr th:only-of-type {\n",
              "        vertical-align: middle;\n",
              "    }\n",
              "\n",
              "    .dataframe tbody tr th {\n",
              "        vertical-align: top;\n",
              "    }\n",
              "\n",
              "    .dataframe thead th {\n",
              "        text-align: right;\n",
              "    }\n",
              "</style>\n",
              "<table border=\"1\" class=\"dataframe\">\n",
              "  <thead>\n",
              "    <tr style=\"text-align: right;\">\n",
              "      <th></th>\n",
              "      <th>nombre</th>\n",
              "      <th>edad</th>\n",
              "      <th>sexo</th>\n",
              "    </tr>\n",
              "  </thead>\n",
              "  <tbody>\n",
              "    <tr>\n",
              "      <th>0</th>\n",
              "      <td>José Luis Martínez Izquierdo</td>\n",
              "      <td>18</td>\n",
              "      <td>H</td>\n",
              "    </tr>\n",
              "    <tr>\n",
              "      <th>1</th>\n",
              "      <td>Rosa Díaz Díaz</td>\n",
              "      <td>32</td>\n",
              "      <td>M</td>\n",
              "    </tr>\n",
              "  </tbody>\n",
              "</table>\n",
              "</div>\n",
              "      <button class=\"colab-df-convert\" onclick=\"convertToInteractive('df-27d3aa07-f1ce-4b11-a087-e05cadec1db1')\"\n",
              "              title=\"Convert this dataframe to an interactive table.\"\n",
              "              style=\"display:none;\">\n",
              "        \n",
              "  <svg xmlns=\"http://www.w3.org/2000/svg\" height=\"24px\"viewBox=\"0 0 24 24\"\n",
              "       width=\"24px\">\n",
              "    <path d=\"M0 0h24v24H0V0z\" fill=\"none\"/>\n",
              "    <path d=\"M18.56 5.44l.94 2.06.94-2.06 2.06-.94-2.06-.94-.94-2.06-.94 2.06-2.06.94zm-11 1L8.5 8.5l.94-2.06 2.06-.94-2.06-.94L8.5 2.5l-.94 2.06-2.06.94zm10 10l.94 2.06.94-2.06 2.06-.94-2.06-.94-.94-2.06-.94 2.06-2.06.94z\"/><path d=\"M17.41 7.96l-1.37-1.37c-.4-.4-.92-.59-1.43-.59-.52 0-1.04.2-1.43.59L10.3 9.45l-7.72 7.72c-.78.78-.78 2.05 0 2.83L4 21.41c.39.39.9.59 1.41.59.51 0 1.02-.2 1.41-.59l7.78-7.78 2.81-2.81c.8-.78.8-2.07 0-2.86zM5.41 20L4 18.59l7.72-7.72 1.47 1.35L5.41 20z\"/>\n",
              "  </svg>\n",
              "      </button>\n",
              "      \n",
              "  <style>\n",
              "    .colab-df-container {\n",
              "      display:flex;\n",
              "      flex-wrap:wrap;\n",
              "      gap: 12px;\n",
              "    }\n",
              "\n",
              "    .colab-df-convert {\n",
              "      background-color: #E8F0FE;\n",
              "      border: none;\n",
              "      border-radius: 50%;\n",
              "      cursor: pointer;\n",
              "      display: none;\n",
              "      fill: #1967D2;\n",
              "      height: 32px;\n",
              "      padding: 0 0 0 0;\n",
              "      width: 32px;\n",
              "    }\n",
              "\n",
              "    .colab-df-convert:hover {\n",
              "      background-color: #E2EBFA;\n",
              "      box-shadow: 0px 1px 2px rgba(60, 64, 67, 0.3), 0px 1px 3px 1px rgba(60, 64, 67, 0.15);\n",
              "      fill: #174EA6;\n",
              "    }\n",
              "\n",
              "    [theme=dark] .colab-df-convert {\n",
              "      background-color: #3B4455;\n",
              "      fill: #D2E3FC;\n",
              "    }\n",
              "\n",
              "    [theme=dark] .colab-df-convert:hover {\n",
              "      background-color: #434B5C;\n",
              "      box-shadow: 0px 1px 3px 1px rgba(0, 0, 0, 0.15);\n",
              "      filter: drop-shadow(0px 1px 2px rgba(0, 0, 0, 0.3));\n",
              "      fill: #FFFFFF;\n",
              "    }\n",
              "  </style>\n",
              "\n",
              "      <script>\n",
              "        const buttonEl =\n",
              "          document.querySelector('#df-27d3aa07-f1ce-4b11-a087-e05cadec1db1 button.colab-df-convert');\n",
              "        buttonEl.style.display =\n",
              "          google.colab.kernel.accessAllowed ? 'block' : 'none';\n",
              "\n",
              "        async function convertToInteractive(key) {\n",
              "          const element = document.querySelector('#df-27d3aa07-f1ce-4b11-a087-e05cadec1db1');\n",
              "          const dataTable =\n",
              "            await google.colab.kernel.invokeFunction('convertToInteractive',\n",
              "                                                     [key], {});\n",
              "          if (!dataTable) return;\n",
              "\n",
              "          const docLinkHtml = 'Like what you see? Visit the ' +\n",
              "            '<a target=\"_blank\" href=https://colab.research.google.com/notebooks/data_table.ipynb>data table notebook</a>'\n",
              "            + ' to learn more about interactive tables.';\n",
              "          element.innerHTML = '';\n",
              "          dataTable['output_type'] = 'display_data';\n",
              "          await google.colab.output.renderOutput(dataTable, element);\n",
              "          const docLink = document.createElement('div');\n",
              "          docLink.innerHTML = docLinkHtml;\n",
              "          element.appendChild(docLink);\n",
              "        }\n",
              "      </script>\n",
              "    </div>\n",
              "  </div>\n",
              "  "
            ]
          },
          "metadata": {},
          "execution_count": 16
        }
      ]
    },
    {
      "cell_type": "markdown",
      "source": [
        "**df.iloc[slicing filas, slicing columnas ]**\n",
        "\n",
        "O sea df.iloc[inicio:fin:paso , inicio:fin:paso] \n",
        "\n",
        "Devuelve un DataFrame con los elementos de las filas de la que van desde el inicio hasta el fin con el paso y de las columnas que van desde el inicio hasta el fin con el paso. \n",
        "\n",
        "Recordar que con slicing siempre toma uno menos que la posición de fin"
      ],
      "metadata": {
        "id": "ndhg5-FEWOog"
      }
    },
    {
      "cell_type": "code",
      "source": [
        "#Usando iloc con slicing\n",
        "df.iloc[0:2,0:3]"
      ],
      "metadata": {
        "colab": {
          "base_uri": "https://localhost:8080/",
          "height": 112
        },
        "id": "v3YkUVPrWWD8",
        "outputId": "4fa9d791-539b-4859-bc95-2cbb6dc08ee4"
      },
      "execution_count": 18,
      "outputs": [
        {
          "output_type": "execute_result",
          "data": {
            "text/plain": [
              "                         nombre  edad sexo\n",
              "0  José Luis Martínez Izquierdo    18    H\n",
              "1                Rosa Díaz Díaz    32    M"
            ],
            "text/html": [
              "\n",
              "  <div id=\"df-97f0b060-e036-41f6-a62e-42516ace3735\">\n",
              "    <div class=\"colab-df-container\">\n",
              "      <div>\n",
              "<style scoped>\n",
              "    .dataframe tbody tr th:only-of-type {\n",
              "        vertical-align: middle;\n",
              "    }\n",
              "\n",
              "    .dataframe tbody tr th {\n",
              "        vertical-align: top;\n",
              "    }\n",
              "\n",
              "    .dataframe thead th {\n",
              "        text-align: right;\n",
              "    }\n",
              "</style>\n",
              "<table border=\"1\" class=\"dataframe\">\n",
              "  <thead>\n",
              "    <tr style=\"text-align: right;\">\n",
              "      <th></th>\n",
              "      <th>nombre</th>\n",
              "      <th>edad</th>\n",
              "      <th>sexo</th>\n",
              "    </tr>\n",
              "  </thead>\n",
              "  <tbody>\n",
              "    <tr>\n",
              "      <th>0</th>\n",
              "      <td>José Luis Martínez Izquierdo</td>\n",
              "      <td>18</td>\n",
              "      <td>H</td>\n",
              "    </tr>\n",
              "    <tr>\n",
              "      <th>1</th>\n",
              "      <td>Rosa Díaz Díaz</td>\n",
              "      <td>32</td>\n",
              "      <td>M</td>\n",
              "    </tr>\n",
              "  </tbody>\n",
              "</table>\n",
              "</div>\n",
              "      <button class=\"colab-df-convert\" onclick=\"convertToInteractive('df-97f0b060-e036-41f6-a62e-42516ace3735')\"\n",
              "              title=\"Convert this dataframe to an interactive table.\"\n",
              "              style=\"display:none;\">\n",
              "        \n",
              "  <svg xmlns=\"http://www.w3.org/2000/svg\" height=\"24px\"viewBox=\"0 0 24 24\"\n",
              "       width=\"24px\">\n",
              "    <path d=\"M0 0h24v24H0V0z\" fill=\"none\"/>\n",
              "    <path d=\"M18.56 5.44l.94 2.06.94-2.06 2.06-.94-2.06-.94-.94-2.06-.94 2.06-2.06.94zm-11 1L8.5 8.5l.94-2.06 2.06-.94-2.06-.94L8.5 2.5l-.94 2.06-2.06.94zm10 10l.94 2.06.94-2.06 2.06-.94-2.06-.94-.94-2.06-.94 2.06-2.06.94z\"/><path d=\"M17.41 7.96l-1.37-1.37c-.4-.4-.92-.59-1.43-.59-.52 0-1.04.2-1.43.59L10.3 9.45l-7.72 7.72c-.78.78-.78 2.05 0 2.83L4 21.41c.39.39.9.59 1.41.59.51 0 1.02-.2 1.41-.59l7.78-7.78 2.81-2.81c.8-.78.8-2.07 0-2.86zM5.41 20L4 18.59l7.72-7.72 1.47 1.35L5.41 20z\"/>\n",
              "  </svg>\n",
              "      </button>\n",
              "      \n",
              "  <style>\n",
              "    .colab-df-container {\n",
              "      display:flex;\n",
              "      flex-wrap:wrap;\n",
              "      gap: 12px;\n",
              "    }\n",
              "\n",
              "    .colab-df-convert {\n",
              "      background-color: #E8F0FE;\n",
              "      border: none;\n",
              "      border-radius: 50%;\n",
              "      cursor: pointer;\n",
              "      display: none;\n",
              "      fill: #1967D2;\n",
              "      height: 32px;\n",
              "      padding: 0 0 0 0;\n",
              "      width: 32px;\n",
              "    }\n",
              "\n",
              "    .colab-df-convert:hover {\n",
              "      background-color: #E2EBFA;\n",
              "      box-shadow: 0px 1px 2px rgba(60, 64, 67, 0.3), 0px 1px 3px 1px rgba(60, 64, 67, 0.15);\n",
              "      fill: #174EA6;\n",
              "    }\n",
              "\n",
              "    [theme=dark] .colab-df-convert {\n",
              "      background-color: #3B4455;\n",
              "      fill: #D2E3FC;\n",
              "    }\n",
              "\n",
              "    [theme=dark] .colab-df-convert:hover {\n",
              "      background-color: #434B5C;\n",
              "      box-shadow: 0px 1px 3px 1px rgba(0, 0, 0, 0.15);\n",
              "      filter: drop-shadow(0px 1px 2px rgba(0, 0, 0, 0.3));\n",
              "      fill: #FFFFFF;\n",
              "    }\n",
              "  </style>\n",
              "\n",
              "      <script>\n",
              "        const buttonEl =\n",
              "          document.querySelector('#df-97f0b060-e036-41f6-a62e-42516ace3735 button.colab-df-convert');\n",
              "        buttonEl.style.display =\n",
              "          google.colab.kernel.accessAllowed ? 'block' : 'none';\n",
              "\n",
              "        async function convertToInteractive(key) {\n",
              "          const element = document.querySelector('#df-97f0b060-e036-41f6-a62e-42516ace3735');\n",
              "          const dataTable =\n",
              "            await google.colab.kernel.invokeFunction('convertToInteractive',\n",
              "                                                     [key], {});\n",
              "          if (!dataTable) return;\n",
              "\n",
              "          const docLinkHtml = 'Like what you see? Visit the ' +\n",
              "            '<a target=\"_blank\" href=https://colab.research.google.com/notebooks/data_table.ipynb>data table notebook</a>'\n",
              "            + ' to learn more about interactive tables.';\n",
              "          element.innerHTML = '';\n",
              "          dataTable['output_type'] = 'display_data';\n",
              "          await google.colab.output.renderOutput(dataTable, element);\n",
              "          const docLink = document.createElement('div');\n",
              "          docLink.innerHTML = docLinkHtml;\n",
              "          element.appendChild(docLink);\n",
              "        }\n",
              "      </script>\n",
              "    </div>\n",
              "  </div>\n",
              "  "
            ]
          },
          "metadata": {},
          "execution_count": 18
        }
      ]
    },
    {
      "cell_type": "markdown",
      "source": [
        "**df.iloc[i]** \n",
        "\n",
        "Devuelve una serie con los elementos de la fila i del DataFrame df. "
      ],
      "metadata": {
        "id": "RzFjUxbgzUT4"
      }
    },
    {
      "cell_type": "code",
      "source": [
        "#Usando iloc para una fila\n",
        "df.iloc[3]"
      ],
      "metadata": {
        "id": "G7x3samhbfSv",
        "colab": {
          "base_uri": "https://localhost:8080/"
        },
        "outputId": "d04c19dc-a91c-42c3-d9ea-455efb74f547"
      },
      "execution_count": 2,
      "outputs": [
        {
          "output_type": "execute_result",
          "data": {
            "text/plain": [
              "nombre        Carmen López Pinzón\n",
              "edad                           35\n",
              "sexo                            M\n",
              "peso                         65.0\n",
              "altura                       1,70\n",
              "colesterol                  200.0\n",
              "Name: 3, dtype: object"
            ]
          },
          "metadata": {},
          "execution_count": 2
        }
      ]
    },
    {
      "cell_type": "markdown",
      "source": [
        "**df.iloc[[i]]**\n",
        "\n",
        "Es una variante de df.iloc[i] en la cual se puede visualizar los mismos datos pero con otro formato."
      ],
      "metadata": {
        "id": "ph5MjPegz9No"
      }
    },
    {
      "cell_type": "code",
      "source": [
        "#Usando iloc para una fila (variante)\n",
        "df.iloc[[3]]"
      ],
      "metadata": {
        "colab": {
          "base_uri": "https://localhost:8080/",
          "height": 81
        },
        "id": "xst6seut1o90",
        "outputId": "08fceea7-97c9-4159-bf75-9a3bc1e9e817"
      },
      "execution_count": 3,
      "outputs": [
        {
          "output_type": "execute_result",
          "data": {
            "text/plain": [
              "                nombre  edad sexo  peso altura  colesterol\n",
              "3  Carmen López Pinzón    35    M  65.0   1,70       200.0"
            ],
            "text/html": [
              "\n",
              "  <div id=\"df-122bb87c-3e1e-4c79-b09e-1ba6d2d6fab4\">\n",
              "    <div class=\"colab-df-container\">\n",
              "      <div>\n",
              "<style scoped>\n",
              "    .dataframe tbody tr th:only-of-type {\n",
              "        vertical-align: middle;\n",
              "    }\n",
              "\n",
              "    .dataframe tbody tr th {\n",
              "        vertical-align: top;\n",
              "    }\n",
              "\n",
              "    .dataframe thead th {\n",
              "        text-align: right;\n",
              "    }\n",
              "</style>\n",
              "<table border=\"1\" class=\"dataframe\">\n",
              "  <thead>\n",
              "    <tr style=\"text-align: right;\">\n",
              "      <th></th>\n",
              "      <th>nombre</th>\n",
              "      <th>edad</th>\n",
              "      <th>sexo</th>\n",
              "      <th>peso</th>\n",
              "      <th>altura</th>\n",
              "      <th>colesterol</th>\n",
              "    </tr>\n",
              "  </thead>\n",
              "  <tbody>\n",
              "    <tr>\n",
              "      <th>3</th>\n",
              "      <td>Carmen López Pinzón</td>\n",
              "      <td>35</td>\n",
              "      <td>M</td>\n",
              "      <td>65.0</td>\n",
              "      <td>1,70</td>\n",
              "      <td>200.0</td>\n",
              "    </tr>\n",
              "  </tbody>\n",
              "</table>\n",
              "</div>\n",
              "      <button class=\"colab-df-convert\" onclick=\"convertToInteractive('df-122bb87c-3e1e-4c79-b09e-1ba6d2d6fab4')\"\n",
              "              title=\"Convert this dataframe to an interactive table.\"\n",
              "              style=\"display:none;\">\n",
              "        \n",
              "  <svg xmlns=\"http://www.w3.org/2000/svg\" height=\"24px\"viewBox=\"0 0 24 24\"\n",
              "       width=\"24px\">\n",
              "    <path d=\"M0 0h24v24H0V0z\" fill=\"none\"/>\n",
              "    <path d=\"M18.56 5.44l.94 2.06.94-2.06 2.06-.94-2.06-.94-.94-2.06-.94 2.06-2.06.94zm-11 1L8.5 8.5l.94-2.06 2.06-.94-2.06-.94L8.5 2.5l-.94 2.06-2.06.94zm10 10l.94 2.06.94-2.06 2.06-.94-2.06-.94-.94-2.06-.94 2.06-2.06.94z\"/><path d=\"M17.41 7.96l-1.37-1.37c-.4-.4-.92-.59-1.43-.59-.52 0-1.04.2-1.43.59L10.3 9.45l-7.72 7.72c-.78.78-.78 2.05 0 2.83L4 21.41c.39.39.9.59 1.41.59.51 0 1.02-.2 1.41-.59l7.78-7.78 2.81-2.81c.8-.78.8-2.07 0-2.86zM5.41 20L4 18.59l7.72-7.72 1.47 1.35L5.41 20z\"/>\n",
              "  </svg>\n",
              "      </button>\n",
              "      \n",
              "  <style>\n",
              "    .colab-df-container {\n",
              "      display:flex;\n",
              "      flex-wrap:wrap;\n",
              "      gap: 12px;\n",
              "    }\n",
              "\n",
              "    .colab-df-convert {\n",
              "      background-color: #E8F0FE;\n",
              "      border: none;\n",
              "      border-radius: 50%;\n",
              "      cursor: pointer;\n",
              "      display: none;\n",
              "      fill: #1967D2;\n",
              "      height: 32px;\n",
              "      padding: 0 0 0 0;\n",
              "      width: 32px;\n",
              "    }\n",
              "\n",
              "    .colab-df-convert:hover {\n",
              "      background-color: #E2EBFA;\n",
              "      box-shadow: 0px 1px 2px rgba(60, 64, 67, 0.3), 0px 1px 3px 1px rgba(60, 64, 67, 0.15);\n",
              "      fill: #174EA6;\n",
              "    }\n",
              "\n",
              "    [theme=dark] .colab-df-convert {\n",
              "      background-color: #3B4455;\n",
              "      fill: #D2E3FC;\n",
              "    }\n",
              "\n",
              "    [theme=dark] .colab-df-convert:hover {\n",
              "      background-color: #434B5C;\n",
              "      box-shadow: 0px 1px 3px 1px rgba(0, 0, 0, 0.15);\n",
              "      filter: drop-shadow(0px 1px 2px rgba(0, 0, 0, 0.3));\n",
              "      fill: #FFFFFF;\n",
              "    }\n",
              "  </style>\n",
              "\n",
              "      <script>\n",
              "        const buttonEl =\n",
              "          document.querySelector('#df-122bb87c-3e1e-4c79-b09e-1ba6d2d6fab4 button.colab-df-convert');\n",
              "        buttonEl.style.display =\n",
              "          google.colab.kernel.accessAllowed ? 'block' : 'none';\n",
              "\n",
              "        async function convertToInteractive(key) {\n",
              "          const element = document.querySelector('#df-122bb87c-3e1e-4c79-b09e-1ba6d2d6fab4');\n",
              "          const dataTable =\n",
              "            await google.colab.kernel.invokeFunction('convertToInteractive',\n",
              "                                                     [key], {});\n",
              "          if (!dataTable) return;\n",
              "\n",
              "          const docLinkHtml = 'Like what you see? Visit the ' +\n",
              "            '<a target=\"_blank\" href=https://colab.research.google.com/notebooks/data_table.ipynb>data table notebook</a>'\n",
              "            + ' to learn more about interactive tables.';\n",
              "          element.innerHTML = '';\n",
              "          dataTable['output_type'] = 'display_data';\n",
              "          await google.colab.output.renderOutput(dataTable, element);\n",
              "          const docLink = document.createElement('div');\n",
              "          docLink.innerHTML = docLinkHtml;\n",
              "          element.appendChild(docLink);\n",
              "        }\n",
              "      </script>\n",
              "    </div>\n",
              "  </div>\n",
              "  "
            ]
          },
          "metadata": {},
          "execution_count": 3
        }
      ]
    },
    {
      "cell_type": "markdown",
      "source": [
        "### ➖ Acceso a los elementos mediante nombres de un DataFrame"
      ],
      "metadata": {
        "id": "xCa4aYGdzSGp"
      }
    },
    {
      "cell_type": "markdown",
      "source": [
        "El acceso a los elementos de un DataFrame mediante posiciones se hace utilizando exclusivamente el método loc y con los corchetes. "
      ],
      "metadata": {
        "id": "r3KW2G4Vb0XF"
      }
    },
    {
      "cell_type": "code",
      "source": [
        "#DataFrame para ejemplificar\n",
        "import pandas as pd\n",
        "df = pd.read_csv('https://raw.githubusercontent.com/asalber/manual-python/master/datos/colesteroles.csv', sep=\";\")\n",
        "df.head()"
      ],
      "metadata": {
        "colab": {
          "base_uri": "https://localhost:8080/",
          "height": 206
        },
        "id": "_en0R8IGcBP0",
        "outputId": "c12fee0a-dae3-40ed-c100-0b28369fd81f"
      },
      "execution_count": 4,
      "outputs": [
        {
          "output_type": "execute_result",
          "data": {
            "text/plain": [
              "                         nombre  edad sexo  peso altura  colesterol\n",
              "0  José Luis Martínez Izquierdo    18    H  85.0   1,79       182.0\n",
              "1                Rosa Díaz Díaz    32    M  65.0   1,73       232.0\n",
              "2         Javier García Sánchez    24    H   NaN   1,81       191.0\n",
              "3           Carmen López Pinzón    35    M  65.0   1,70       200.0\n",
              "4          Marisa López Collado    46    M  51.0   1,58       148.0"
            ],
            "text/html": [
              "\n",
              "  <div id=\"df-19fb0f86-94bb-4a6f-a1c8-e68457ddc250\">\n",
              "    <div class=\"colab-df-container\">\n",
              "      <div>\n",
              "<style scoped>\n",
              "    .dataframe tbody tr th:only-of-type {\n",
              "        vertical-align: middle;\n",
              "    }\n",
              "\n",
              "    .dataframe tbody tr th {\n",
              "        vertical-align: top;\n",
              "    }\n",
              "\n",
              "    .dataframe thead th {\n",
              "        text-align: right;\n",
              "    }\n",
              "</style>\n",
              "<table border=\"1\" class=\"dataframe\">\n",
              "  <thead>\n",
              "    <tr style=\"text-align: right;\">\n",
              "      <th></th>\n",
              "      <th>nombre</th>\n",
              "      <th>edad</th>\n",
              "      <th>sexo</th>\n",
              "      <th>peso</th>\n",
              "      <th>altura</th>\n",
              "      <th>colesterol</th>\n",
              "    </tr>\n",
              "  </thead>\n",
              "  <tbody>\n",
              "    <tr>\n",
              "      <th>0</th>\n",
              "      <td>José Luis Martínez Izquierdo</td>\n",
              "      <td>18</td>\n",
              "      <td>H</td>\n",
              "      <td>85.0</td>\n",
              "      <td>1,79</td>\n",
              "      <td>182.0</td>\n",
              "    </tr>\n",
              "    <tr>\n",
              "      <th>1</th>\n",
              "      <td>Rosa Díaz Díaz</td>\n",
              "      <td>32</td>\n",
              "      <td>M</td>\n",
              "      <td>65.0</td>\n",
              "      <td>1,73</td>\n",
              "      <td>232.0</td>\n",
              "    </tr>\n",
              "    <tr>\n",
              "      <th>2</th>\n",
              "      <td>Javier García Sánchez</td>\n",
              "      <td>24</td>\n",
              "      <td>H</td>\n",
              "      <td>NaN</td>\n",
              "      <td>1,81</td>\n",
              "      <td>191.0</td>\n",
              "    </tr>\n",
              "    <tr>\n",
              "      <th>3</th>\n",
              "      <td>Carmen López Pinzón</td>\n",
              "      <td>35</td>\n",
              "      <td>M</td>\n",
              "      <td>65.0</td>\n",
              "      <td>1,70</td>\n",
              "      <td>200.0</td>\n",
              "    </tr>\n",
              "    <tr>\n",
              "      <th>4</th>\n",
              "      <td>Marisa López Collado</td>\n",
              "      <td>46</td>\n",
              "      <td>M</td>\n",
              "      <td>51.0</td>\n",
              "      <td>1,58</td>\n",
              "      <td>148.0</td>\n",
              "    </tr>\n",
              "  </tbody>\n",
              "</table>\n",
              "</div>\n",
              "      <button class=\"colab-df-convert\" onclick=\"convertToInteractive('df-19fb0f86-94bb-4a6f-a1c8-e68457ddc250')\"\n",
              "              title=\"Convert this dataframe to an interactive table.\"\n",
              "              style=\"display:none;\">\n",
              "        \n",
              "  <svg xmlns=\"http://www.w3.org/2000/svg\" height=\"24px\"viewBox=\"0 0 24 24\"\n",
              "       width=\"24px\">\n",
              "    <path d=\"M0 0h24v24H0V0z\" fill=\"none\"/>\n",
              "    <path d=\"M18.56 5.44l.94 2.06.94-2.06 2.06-.94-2.06-.94-.94-2.06-.94 2.06-2.06.94zm-11 1L8.5 8.5l.94-2.06 2.06-.94-2.06-.94L8.5 2.5l-.94 2.06-2.06.94zm10 10l.94 2.06.94-2.06 2.06-.94-2.06-.94-.94-2.06-.94 2.06-2.06.94z\"/><path d=\"M17.41 7.96l-1.37-1.37c-.4-.4-.92-.59-1.43-.59-.52 0-1.04.2-1.43.59L10.3 9.45l-7.72 7.72c-.78.78-.78 2.05 0 2.83L4 21.41c.39.39.9.59 1.41.59.51 0 1.02-.2 1.41-.59l7.78-7.78 2.81-2.81c.8-.78.8-2.07 0-2.86zM5.41 20L4 18.59l7.72-7.72 1.47 1.35L5.41 20z\"/>\n",
              "  </svg>\n",
              "      </button>\n",
              "      \n",
              "  <style>\n",
              "    .colab-df-container {\n",
              "      display:flex;\n",
              "      flex-wrap:wrap;\n",
              "      gap: 12px;\n",
              "    }\n",
              "\n",
              "    .colab-df-convert {\n",
              "      background-color: #E8F0FE;\n",
              "      border: none;\n",
              "      border-radius: 50%;\n",
              "      cursor: pointer;\n",
              "      display: none;\n",
              "      fill: #1967D2;\n",
              "      height: 32px;\n",
              "      padding: 0 0 0 0;\n",
              "      width: 32px;\n",
              "    }\n",
              "\n",
              "    .colab-df-convert:hover {\n",
              "      background-color: #E2EBFA;\n",
              "      box-shadow: 0px 1px 2px rgba(60, 64, 67, 0.3), 0px 1px 3px 1px rgba(60, 64, 67, 0.15);\n",
              "      fill: #174EA6;\n",
              "    }\n",
              "\n",
              "    [theme=dark] .colab-df-convert {\n",
              "      background-color: #3B4455;\n",
              "      fill: #D2E3FC;\n",
              "    }\n",
              "\n",
              "    [theme=dark] .colab-df-convert:hover {\n",
              "      background-color: #434B5C;\n",
              "      box-shadow: 0px 1px 3px 1px rgba(0, 0, 0, 0.15);\n",
              "      filter: drop-shadow(0px 1px 2px rgba(0, 0, 0, 0.3));\n",
              "      fill: #FFFFFF;\n",
              "    }\n",
              "  </style>\n",
              "\n",
              "      <script>\n",
              "        const buttonEl =\n",
              "          document.querySelector('#df-19fb0f86-94bb-4a6f-a1c8-e68457ddc250 button.colab-df-convert');\n",
              "        buttonEl.style.display =\n",
              "          google.colab.kernel.accessAllowed ? 'block' : 'none';\n",
              "\n",
              "        async function convertToInteractive(key) {\n",
              "          const element = document.querySelector('#df-19fb0f86-94bb-4a6f-a1c8-e68457ddc250');\n",
              "          const dataTable =\n",
              "            await google.colab.kernel.invokeFunction('convertToInteractive',\n",
              "                                                     [key], {});\n",
              "          if (!dataTable) return;\n",
              "\n",
              "          const docLinkHtml = 'Like what you see? Visit the ' +\n",
              "            '<a target=\"_blank\" href=https://colab.research.google.com/notebooks/data_table.ipynb>data table notebook</a>'\n",
              "            + ' to learn more about interactive tables.';\n",
              "          element.innerHTML = '';\n",
              "          dataTable['output_type'] = 'display_data';\n",
              "          await google.colab.output.renderOutput(dataTable, element);\n",
              "          const docLink = document.createElement('div');\n",
              "          docLink.innerHTML = docLinkHtml;\n",
              "          element.appendChild(docLink);\n",
              "        }\n",
              "      </script>\n",
              "    </div>\n",
              "  </div>\n",
              "  "
            ]
          },
          "metadata": {},
          "execution_count": 4
        }
      ]
    },
    {
      "cell_type": "markdown",
      "source": [
        "**df.loc[fila, columna]** \n",
        "\n",
        "Devuelve el elemento que se encuentra en la fila con nombre fila y la columna de con nombre columna del DataFrame df."
      ],
      "metadata": {
        "id": "QnIhlV1N2YQ_"
      }
    },
    {
      "cell_type": "code",
      "source": [
        "#Usando loc para una única fila y única columna\n",
        "df.loc[1, 'nombre']"
      ],
      "metadata": {
        "colab": {
          "base_uri": "https://localhost:8080/",
          "height": 36
        },
        "id": "rjReqICDcLst",
        "outputId": "542e1765-5483-4a10-8ff6-2ce47441058f"
      },
      "execution_count": 5,
      "outputs": [
        {
          "output_type": "execute_result",
          "data": {
            "text/plain": [
              "'Rosa Díaz Díaz'"
            ],
            "application/vnd.google.colaboratory.intrinsic+json": {
              "type": "string"
            }
          },
          "metadata": {},
          "execution_count": 5
        }
      ]
    },
    {
      "cell_type": "markdown",
      "source": [
        "**df.loc[filas, columnas]** \n",
        "\n",
        "Devuelve un DataFrame con los elemento que se encuentra en las filas con los nombres de la lista filas y las columnas con los nombres de la lista columnas del DataFrame df."
      ],
      "metadata": {
        "id": "Ep9LDrze23B2"
      }
    },
    {
      "cell_type": "code",
      "source": [
        "#Usando loc para varias filas y columnas\n",
        "df.loc[[0, 1, 4], ['nombre', 'sexo', 'altura']]"
      ],
      "metadata": {
        "colab": {
          "base_uri": "https://localhost:8080/",
          "height": 143
        },
        "id": "HHPDsqN921Sa",
        "outputId": "a12efaab-d7dc-4bed-e892-0affca24e5c4"
      },
      "execution_count": 6,
      "outputs": [
        {
          "output_type": "execute_result",
          "data": {
            "text/plain": [
              "                         nombre sexo altura\n",
              "0  José Luis Martínez Izquierdo    H   1,79\n",
              "1                Rosa Díaz Díaz    M   1,73\n",
              "4          Marisa López Collado    M   1,58"
            ],
            "text/html": [
              "\n",
              "  <div id=\"df-d8f214d3-4519-4a33-b3b5-6666a0b13202\">\n",
              "    <div class=\"colab-df-container\">\n",
              "      <div>\n",
              "<style scoped>\n",
              "    .dataframe tbody tr th:only-of-type {\n",
              "        vertical-align: middle;\n",
              "    }\n",
              "\n",
              "    .dataframe tbody tr th {\n",
              "        vertical-align: top;\n",
              "    }\n",
              "\n",
              "    .dataframe thead th {\n",
              "        text-align: right;\n",
              "    }\n",
              "</style>\n",
              "<table border=\"1\" class=\"dataframe\">\n",
              "  <thead>\n",
              "    <tr style=\"text-align: right;\">\n",
              "      <th></th>\n",
              "      <th>nombre</th>\n",
              "      <th>sexo</th>\n",
              "      <th>altura</th>\n",
              "    </tr>\n",
              "  </thead>\n",
              "  <tbody>\n",
              "    <tr>\n",
              "      <th>0</th>\n",
              "      <td>José Luis Martínez Izquierdo</td>\n",
              "      <td>H</td>\n",
              "      <td>1,79</td>\n",
              "    </tr>\n",
              "    <tr>\n",
              "      <th>1</th>\n",
              "      <td>Rosa Díaz Díaz</td>\n",
              "      <td>M</td>\n",
              "      <td>1,73</td>\n",
              "    </tr>\n",
              "    <tr>\n",
              "      <th>4</th>\n",
              "      <td>Marisa López Collado</td>\n",
              "      <td>M</td>\n",
              "      <td>1,58</td>\n",
              "    </tr>\n",
              "  </tbody>\n",
              "</table>\n",
              "</div>\n",
              "      <button class=\"colab-df-convert\" onclick=\"convertToInteractive('df-d8f214d3-4519-4a33-b3b5-6666a0b13202')\"\n",
              "              title=\"Convert this dataframe to an interactive table.\"\n",
              "              style=\"display:none;\">\n",
              "        \n",
              "  <svg xmlns=\"http://www.w3.org/2000/svg\" height=\"24px\"viewBox=\"0 0 24 24\"\n",
              "       width=\"24px\">\n",
              "    <path d=\"M0 0h24v24H0V0z\" fill=\"none\"/>\n",
              "    <path d=\"M18.56 5.44l.94 2.06.94-2.06 2.06-.94-2.06-.94-.94-2.06-.94 2.06-2.06.94zm-11 1L8.5 8.5l.94-2.06 2.06-.94-2.06-.94L8.5 2.5l-.94 2.06-2.06.94zm10 10l.94 2.06.94-2.06 2.06-.94-2.06-.94-.94-2.06-.94 2.06-2.06.94z\"/><path d=\"M17.41 7.96l-1.37-1.37c-.4-.4-.92-.59-1.43-.59-.52 0-1.04.2-1.43.59L10.3 9.45l-7.72 7.72c-.78.78-.78 2.05 0 2.83L4 21.41c.39.39.9.59 1.41.59.51 0 1.02-.2 1.41-.59l7.78-7.78 2.81-2.81c.8-.78.8-2.07 0-2.86zM5.41 20L4 18.59l7.72-7.72 1.47 1.35L5.41 20z\"/>\n",
              "  </svg>\n",
              "      </button>\n",
              "      \n",
              "  <style>\n",
              "    .colab-df-container {\n",
              "      display:flex;\n",
              "      flex-wrap:wrap;\n",
              "      gap: 12px;\n",
              "    }\n",
              "\n",
              "    .colab-df-convert {\n",
              "      background-color: #E8F0FE;\n",
              "      border: none;\n",
              "      border-radius: 50%;\n",
              "      cursor: pointer;\n",
              "      display: none;\n",
              "      fill: #1967D2;\n",
              "      height: 32px;\n",
              "      padding: 0 0 0 0;\n",
              "      width: 32px;\n",
              "    }\n",
              "\n",
              "    .colab-df-convert:hover {\n",
              "      background-color: #E2EBFA;\n",
              "      box-shadow: 0px 1px 2px rgba(60, 64, 67, 0.3), 0px 1px 3px 1px rgba(60, 64, 67, 0.15);\n",
              "      fill: #174EA6;\n",
              "    }\n",
              "\n",
              "    [theme=dark] .colab-df-convert {\n",
              "      background-color: #3B4455;\n",
              "      fill: #D2E3FC;\n",
              "    }\n",
              "\n",
              "    [theme=dark] .colab-df-convert:hover {\n",
              "      background-color: #434B5C;\n",
              "      box-shadow: 0px 1px 3px 1px rgba(0, 0, 0, 0.15);\n",
              "      filter: drop-shadow(0px 1px 2px rgba(0, 0, 0, 0.3));\n",
              "      fill: #FFFFFF;\n",
              "    }\n",
              "  </style>\n",
              "\n",
              "      <script>\n",
              "        const buttonEl =\n",
              "          document.querySelector('#df-d8f214d3-4519-4a33-b3b5-6666a0b13202 button.colab-df-convert');\n",
              "        buttonEl.style.display =\n",
              "          google.colab.kernel.accessAllowed ? 'block' : 'none';\n",
              "\n",
              "        async function convertToInteractive(key) {\n",
              "          const element = document.querySelector('#df-d8f214d3-4519-4a33-b3b5-6666a0b13202');\n",
              "          const dataTable =\n",
              "            await google.colab.kernel.invokeFunction('convertToInteractive',\n",
              "                                                     [key], {});\n",
              "          if (!dataTable) return;\n",
              "\n",
              "          const docLinkHtml = 'Like what you see? Visit the ' +\n",
              "            '<a target=\"_blank\" href=https://colab.research.google.com/notebooks/data_table.ipynb>data table notebook</a>'\n",
              "            + ' to learn more about interactive tables.';\n",
              "          element.innerHTML = '';\n",
              "          dataTable['output_type'] = 'display_data';\n",
              "          await google.colab.output.renderOutput(dataTable, element);\n",
              "          const docLink = document.createElement('div');\n",
              "          docLink.innerHTML = docLinkHtml;\n",
              "          element.appendChild(docLink);\n",
              "        }\n",
              "      </script>\n",
              "    </div>\n",
              "  </div>\n",
              "  "
            ]
          },
          "metadata": {},
          "execution_count": 6
        }
      ]
    },
    {
      "cell_type": "markdown",
      "source": [
        "**df.loc[slicing filas, slicing columnas]** \n",
        "\n",
        "O sea df.loc[inicio:fin:paso , inicio:fin:paso] Devuelve un DataFrame con los elementos de las filas de la que van desde el inicio hasta el fin con el paso y de las columnas que van desde el inicio hasta el fin con el paso.  **Aunque con nombres no es muy recomendable de hacer slicing.**"
      ],
      "metadata": {
        "id": "Y_amtFKX3s-o"
      }
    },
    {
      "cell_type": "code",
      "source": [
        "#Usando loc con slicing\n",
        "df.loc[0:4, 'sexo':]"
      ],
      "metadata": {
        "colab": {
          "base_uri": "https://localhost:8080/",
          "height": 206
        },
        "id": "g3QerGId4Dyd",
        "outputId": "1b30995f-2ab5-4131-96d4-29281e076d71"
      },
      "execution_count": 7,
      "outputs": [
        {
          "output_type": "execute_result",
          "data": {
            "text/plain": [
              "  sexo  peso altura  colesterol\n",
              "0    H  85.0   1,79       182.0\n",
              "1    M  65.0   1,73       232.0\n",
              "2    H   NaN   1,81       191.0\n",
              "3    M  65.0   1,70       200.0\n",
              "4    M  51.0   1,58       148.0"
            ],
            "text/html": [
              "\n",
              "  <div id=\"df-34253a07-c4eb-4e70-96db-038697c15d27\">\n",
              "    <div class=\"colab-df-container\">\n",
              "      <div>\n",
              "<style scoped>\n",
              "    .dataframe tbody tr th:only-of-type {\n",
              "        vertical-align: middle;\n",
              "    }\n",
              "\n",
              "    .dataframe tbody tr th {\n",
              "        vertical-align: top;\n",
              "    }\n",
              "\n",
              "    .dataframe thead th {\n",
              "        text-align: right;\n",
              "    }\n",
              "</style>\n",
              "<table border=\"1\" class=\"dataframe\">\n",
              "  <thead>\n",
              "    <tr style=\"text-align: right;\">\n",
              "      <th></th>\n",
              "      <th>sexo</th>\n",
              "      <th>peso</th>\n",
              "      <th>altura</th>\n",
              "      <th>colesterol</th>\n",
              "    </tr>\n",
              "  </thead>\n",
              "  <tbody>\n",
              "    <tr>\n",
              "      <th>0</th>\n",
              "      <td>H</td>\n",
              "      <td>85.0</td>\n",
              "      <td>1,79</td>\n",
              "      <td>182.0</td>\n",
              "    </tr>\n",
              "    <tr>\n",
              "      <th>1</th>\n",
              "      <td>M</td>\n",
              "      <td>65.0</td>\n",
              "      <td>1,73</td>\n",
              "      <td>232.0</td>\n",
              "    </tr>\n",
              "    <tr>\n",
              "      <th>2</th>\n",
              "      <td>H</td>\n",
              "      <td>NaN</td>\n",
              "      <td>1,81</td>\n",
              "      <td>191.0</td>\n",
              "    </tr>\n",
              "    <tr>\n",
              "      <th>3</th>\n",
              "      <td>M</td>\n",
              "      <td>65.0</td>\n",
              "      <td>1,70</td>\n",
              "      <td>200.0</td>\n",
              "    </tr>\n",
              "    <tr>\n",
              "      <th>4</th>\n",
              "      <td>M</td>\n",
              "      <td>51.0</td>\n",
              "      <td>1,58</td>\n",
              "      <td>148.0</td>\n",
              "    </tr>\n",
              "  </tbody>\n",
              "</table>\n",
              "</div>\n",
              "      <button class=\"colab-df-convert\" onclick=\"convertToInteractive('df-34253a07-c4eb-4e70-96db-038697c15d27')\"\n",
              "              title=\"Convert this dataframe to an interactive table.\"\n",
              "              style=\"display:none;\">\n",
              "        \n",
              "  <svg xmlns=\"http://www.w3.org/2000/svg\" height=\"24px\"viewBox=\"0 0 24 24\"\n",
              "       width=\"24px\">\n",
              "    <path d=\"M0 0h24v24H0V0z\" fill=\"none\"/>\n",
              "    <path d=\"M18.56 5.44l.94 2.06.94-2.06 2.06-.94-2.06-.94-.94-2.06-.94 2.06-2.06.94zm-11 1L8.5 8.5l.94-2.06 2.06-.94-2.06-.94L8.5 2.5l-.94 2.06-2.06.94zm10 10l.94 2.06.94-2.06 2.06-.94-2.06-.94-.94-2.06-.94 2.06-2.06.94z\"/><path d=\"M17.41 7.96l-1.37-1.37c-.4-.4-.92-.59-1.43-.59-.52 0-1.04.2-1.43.59L10.3 9.45l-7.72 7.72c-.78.78-.78 2.05 0 2.83L4 21.41c.39.39.9.59 1.41.59.51 0 1.02-.2 1.41-.59l7.78-7.78 2.81-2.81c.8-.78.8-2.07 0-2.86zM5.41 20L4 18.59l7.72-7.72 1.47 1.35L5.41 20z\"/>\n",
              "  </svg>\n",
              "      </button>\n",
              "      \n",
              "  <style>\n",
              "    .colab-df-container {\n",
              "      display:flex;\n",
              "      flex-wrap:wrap;\n",
              "      gap: 12px;\n",
              "    }\n",
              "\n",
              "    .colab-df-convert {\n",
              "      background-color: #E8F0FE;\n",
              "      border: none;\n",
              "      border-radius: 50%;\n",
              "      cursor: pointer;\n",
              "      display: none;\n",
              "      fill: #1967D2;\n",
              "      height: 32px;\n",
              "      padding: 0 0 0 0;\n",
              "      width: 32px;\n",
              "    }\n",
              "\n",
              "    .colab-df-convert:hover {\n",
              "      background-color: #E2EBFA;\n",
              "      box-shadow: 0px 1px 2px rgba(60, 64, 67, 0.3), 0px 1px 3px 1px rgba(60, 64, 67, 0.15);\n",
              "      fill: #174EA6;\n",
              "    }\n",
              "\n",
              "    [theme=dark] .colab-df-convert {\n",
              "      background-color: #3B4455;\n",
              "      fill: #D2E3FC;\n",
              "    }\n",
              "\n",
              "    [theme=dark] .colab-df-convert:hover {\n",
              "      background-color: #434B5C;\n",
              "      box-shadow: 0px 1px 3px 1px rgba(0, 0, 0, 0.15);\n",
              "      filter: drop-shadow(0px 1px 2px rgba(0, 0, 0, 0.3));\n",
              "      fill: #FFFFFF;\n",
              "    }\n",
              "  </style>\n",
              "\n",
              "      <script>\n",
              "        const buttonEl =\n",
              "          document.querySelector('#df-34253a07-c4eb-4e70-96db-038697c15d27 button.colab-df-convert');\n",
              "        buttonEl.style.display =\n",
              "          google.colab.kernel.accessAllowed ? 'block' : 'none';\n",
              "\n",
              "        async function convertToInteractive(key) {\n",
              "          const element = document.querySelector('#df-34253a07-c4eb-4e70-96db-038697c15d27');\n",
              "          const dataTable =\n",
              "            await google.colab.kernel.invokeFunction('convertToInteractive',\n",
              "                                                     [key], {});\n",
              "          if (!dataTable) return;\n",
              "\n",
              "          const docLinkHtml = 'Like what you see? Visit the ' +\n",
              "            '<a target=\"_blank\" href=https://colab.research.google.com/notebooks/data_table.ipynb>data table notebook</a>'\n",
              "            + ' to learn more about interactive tables.';\n",
              "          element.innerHTML = '';\n",
              "          dataTable['output_type'] = 'display_data';\n",
              "          await google.colab.output.renderOutput(dataTable, element);\n",
              "          const docLink = document.createElement('div');\n",
              "          docLink.innerHTML = docLinkHtml;\n",
              "          element.appendChild(docLink);\n",
              "        }\n",
              "      </script>\n",
              "    </div>\n",
              "  </div>\n",
              "  "
            ]
          },
          "metadata": {},
          "execution_count": 7
        }
      ]
    },
    {
      "cell_type": "markdown",
      "source": [
        "**df[columna]**\n",
        "\n",
        "Devuelve una serie con los elementos de la columna de nombre columna del DataFrame df."
      ],
      "metadata": {
        "id": "FC6cb1-U4R-n"
      }
    },
    {
      "cell_type": "code",
      "source": [
        "#Usando el método de los corchetes\n",
        "df['edad']"
      ],
      "metadata": {
        "colab": {
          "base_uri": "https://localhost:8080/"
        },
        "id": "rt4bbdHo4V7-",
        "outputId": "5fa2326f-0210-4178-81fd-cdd21812142b"
      },
      "execution_count": 10,
      "outputs": [
        {
          "output_type": "execute_result",
          "data": {
            "text/plain": [
              "0     18\n",
              "1     32\n",
              "2     24\n",
              "3     35\n",
              "4     46\n",
              "5     68\n",
              "6     51\n",
              "7     22\n",
              "8     35\n",
              "9     46\n",
              "10    53\n",
              "11    58\n",
              "12    27\n",
              "13    20\n",
              "Name: edad, dtype: int64"
            ]
          },
          "metadata": {},
          "execution_count": 10
        }
      ]
    },
    {
      "cell_type": "markdown",
      "source": [
        "**df.columna**\n",
        "\n",
        "Devuelve una serie con los elementos de la columna de nombre columna del DataFrame df. Es similar al método anterior pero **solo funciona cuando el nombre de la columna no tiene espacios en blanco.**"
      ],
      "metadata": {
        "id": "5t9w6jMM4hcn"
      }
    },
    {
      "cell_type": "code",
      "source": [
        "#Usando el método del punto\n",
        "df.edad"
      ],
      "metadata": {
        "colab": {
          "base_uri": "https://localhost:8080/"
        },
        "id": "PYu8jDlS4tdq",
        "outputId": "2d7e8b97-8259-4cf1-d3f5-94aeba8da90b"
      },
      "execution_count": 9,
      "outputs": [
        {
          "output_type": "execute_result",
          "data": {
            "text/plain": [
              "0     18\n",
              "1     32\n",
              "2     24\n",
              "3     35\n",
              "4     46\n",
              "5     68\n",
              "6     51\n",
              "7     22\n",
              "8     35\n",
              "9     46\n",
              "10    53\n",
              "11    58\n",
              "12    27\n",
              "13    20\n",
              "Name: edad, dtype: int64"
            ]
          },
          "metadata": {},
          "execution_count": 9
        }
      ]
    },
    {
      "cell_type": "markdown",
      "source": [
        "## 🔨 **Métodos básicos de DataFram**e"
      ],
      "metadata": {
        "id": "cuKRMYFB730n"
      }
    },
    {
      "cell_type": "markdown",
      "source": [
        "### ➖ Atributos  básicos de un dataframe"
      ],
      "metadata": {
        "id": "4XXFYAHldBzU"
      }
    },
    {
      "cell_type": "markdown",
      "source": [
        "***df.info()***   \n",
        "Devuelve información (número de filas, número de columnas, índices, tipo de las columnas y memoria usado) sobre el DataFrame df."
      ],
      "metadata": {
        "id": "UwGRXYFaRlD0"
      }
    },
    {
      "cell_type": "code",
      "source": [
        "#Ejemplo df.info()\n",
        "import pandas as pd\n",
        "df = pd.read_csv('https://raw.githubusercontent.com/asalber/manual-python/master/datos/colesteroles.csv', sep=\";\")\n",
        "df.info()"
      ],
      "metadata": {
        "colab": {
          "base_uri": "https://localhost:8080/"
        },
        "id": "OHzFzA2VR5px",
        "outputId": "cb88dc02-c422-453f-d827-da22cc21bf03"
      },
      "execution_count": 5,
      "outputs": [
        {
          "output_type": "stream",
          "name": "stdout",
          "text": [
            "<class 'pandas.core.frame.DataFrame'>\n",
            "RangeIndex: 14 entries, 0 to 13\n",
            "Data columns (total 6 columns):\n",
            " #   Column      Non-Null Count  Dtype  \n",
            "---  ------      --------------  -----  \n",
            " 0   nombre      14 non-null     object \n",
            " 1   edad        14 non-null     int64  \n",
            " 2   sexo        14 non-null     object \n",
            " 3   peso        13 non-null     float64\n",
            " 4   altura      14 non-null     object \n",
            " 5   colesterol  13 non-null     float64\n",
            "dtypes: float64(2), int64(1), object(3)\n",
            "memory usage: 800.0+ bytes\n"
          ]
        }
      ]
    },
    {
      "cell_type": "markdown",
      "source": [
        "***df.shape***   \n",
        "Devuelve una tupla con el número de filas y columnas del DataFrame df."
      ],
      "metadata": {
        "id": "ZRGJtHDsSHQl"
      }
    },
    {
      "cell_type": "code",
      "source": [
        "#Ejemplo df.shape\n",
        "import pandas as pd\n",
        "df = pd.read_csv('https://raw.githubusercontent.com/asalber/manual-python/master/datos/colesteroles.csv', sep=\";\")\n",
        "df.shape"
      ],
      "metadata": {
        "colab": {
          "base_uri": "https://localhost:8080/"
        },
        "id": "WODwI2k-c7A0",
        "outputId": "c5576530-b880-49c5-f3ad-3cdfcd123d69"
      },
      "execution_count": 6,
      "outputs": [
        {
          "output_type": "execute_result",
          "data": {
            "text/plain": [
              "(14, 6)"
            ]
          },
          "metadata": {},
          "execution_count": 6
        }
      ]
    },
    {
      "cell_type": "markdown",
      "source": [
        "***df.size***   \n",
        "Devuelve el número de elementos del DataFrame."
      ],
      "metadata": {
        "id": "gx0EsCyYSU23"
      }
    },
    {
      "cell_type": "code",
      "source": [
        "#Ejemplo df.size\n",
        "import pandas as pd\n",
        "df = pd.read_csv('https://raw.githubusercontent.com/asalber/manual-python/master/datos/colesteroles.csv', sep=\";\")\n",
        "df.size"
      ],
      "metadata": {
        "colab": {
          "base_uri": "https://localhost:8080/"
        },
        "id": "HqLDIpKdSr5l",
        "outputId": "678cc8f9-1b00-4735-bfeb-e034a8a76923"
      },
      "execution_count": 7,
      "outputs": [
        {
          "output_type": "execute_result",
          "data": {
            "text/plain": [
              "84"
            ]
          },
          "metadata": {},
          "execution_count": 7
        }
      ]
    },
    {
      "cell_type": "markdown",
      "source": [
        "***df.columns***   \n",
        "Devuelve una lista con los nombres de las columnas del DataFrame df."
      ],
      "metadata": {
        "id": "l3ZGnNZ8SxYL"
      }
    },
    {
      "cell_type": "code",
      "source": [
        "#Ejemplo df.columns\n",
        "import pandas as pd\n",
        "df = pd.read_csv('https://raw.githubusercontent.com/asalber/manual-python/master/datos/colesteroles.csv', sep=\";\")\n",
        "df.columns"
      ],
      "metadata": {
        "colab": {
          "base_uri": "https://localhost:8080/"
        },
        "id": "gnTUrRktS83g",
        "outputId": "afcf33f7-cb71-4b71-d79f-0530f8c2f37d"
      },
      "execution_count": 8,
      "outputs": [
        {
          "output_type": "execute_result",
          "data": {
            "text/plain": [
              "Index(['nombre', 'edad', 'sexo', 'peso', 'altura', 'colesterol'], dtype='object')"
            ]
          },
          "metadata": {},
          "execution_count": 8
        }
      ]
    },
    {
      "cell_type": "markdown",
      "source": [
        "***df.index***   \n",
        "Devuelve una lista con los nombres de las filas del DataFrame df."
      ],
      "metadata": {
        "id": "wf6Y1V1bTHAv"
      }
    },
    {
      "cell_type": "code",
      "source": [
        "#Ejemplo df.index\n",
        "import pandas as pd\n",
        "df = pd.read_csv('https://raw.githubusercontent.com/asalber/manual-python/master/datos/colesteroles.csv', sep=\";\")\n",
        "df.index"
      ],
      "metadata": {
        "colab": {
          "base_uri": "https://localhost:8080/"
        },
        "id": "s6NrH5nPTTcq",
        "outputId": "1c175992-a328-49c1-cf02-c1d86f7ed08a"
      },
      "execution_count": 9,
      "outputs": [
        {
          "output_type": "execute_result",
          "data": {
            "text/plain": [
              "RangeIndex(start=0, stop=14, step=1)"
            ]
          },
          "metadata": {},
          "execution_count": 9
        }
      ]
    },
    {
      "cell_type": "markdown",
      "source": [
        "***df.dtypes***   \n",
        "Devuelve una serie con los tipos de datos de las columnas del DataFrame df."
      ],
      "metadata": {
        "id": "IapFU61fTbVY"
      }
    },
    {
      "cell_type": "code",
      "source": [
        "#Ejemplo df.dtypes\n",
        "import pandas as pd\n",
        "df = pd.read_csv('https://raw.githubusercontent.com/asalber/manual-python/master/datos/colesteroles.csv', sep=\";\")\n",
        "df.dtypes"
      ],
      "metadata": {
        "colab": {
          "base_uri": "https://localhost:8080/"
        },
        "id": "RK8AhkzmThfC",
        "outputId": "d45a5654-9f0b-4cf4-d8ef-c97bf005e3a1"
      },
      "execution_count": 10,
      "outputs": [
        {
          "output_type": "execute_result",
          "data": {
            "text/plain": [
              "nombre         object\n",
              "edad            int64\n",
              "sexo           object\n",
              "peso          float64\n",
              "altura         object\n",
              "colesterol    float64\n",
              "dtype: object"
            ]
          },
          "metadata": {},
          "execution_count": 10
        }
      ]
    },
    {
      "cell_type": "markdown",
      "source": [
        "***df.head(n)***   \n",
        "Devuelve las n primeras filas del DataFrame df. Si no se le pasa ningún n entonces devuelve las 5 primeras"
      ],
      "metadata": {
        "id": "L3pgRBlLUDao"
      }
    },
    {
      "cell_type": "code",
      "source": [
        "#Ejemplo df.dtypes\n",
        "import pandas as pd\n",
        "df = pd.read_csv('https://raw.githubusercontent.com/asalber/manual-python/master/datos/colesteroles.csv', sep=\";\")\n",
        "df.head(n=4)"
      ],
      "metadata": {
        "colab": {
          "base_uri": "https://localhost:8080/",
          "height": 175
        },
        "id": "4PJJFbnEUM01",
        "outputId": "3e34ba3b-9910-462a-fde2-fd36296febc4"
      },
      "execution_count": 11,
      "outputs": [
        {
          "output_type": "execute_result",
          "data": {
            "text/plain": [
              "                         nombre  edad sexo  peso altura  colesterol\n",
              "0  José Luis Martínez Izquierdo    18    H  85.0   1,79       182.0\n",
              "1                Rosa Díaz Díaz    32    M  65.0   1,73       232.0\n",
              "2         Javier García Sánchez    24    H   NaN   1,81       191.0\n",
              "3           Carmen López Pinzón    35    M  65.0   1,70       200.0"
            ],
            "text/html": [
              "\n",
              "  <div id=\"df-d8f27c62-0bbb-4502-8b85-e3b2fec2c2bd\">\n",
              "    <div class=\"colab-df-container\">\n",
              "      <div>\n",
              "<style scoped>\n",
              "    .dataframe tbody tr th:only-of-type {\n",
              "        vertical-align: middle;\n",
              "    }\n",
              "\n",
              "    .dataframe tbody tr th {\n",
              "        vertical-align: top;\n",
              "    }\n",
              "\n",
              "    .dataframe thead th {\n",
              "        text-align: right;\n",
              "    }\n",
              "</style>\n",
              "<table border=\"1\" class=\"dataframe\">\n",
              "  <thead>\n",
              "    <tr style=\"text-align: right;\">\n",
              "      <th></th>\n",
              "      <th>nombre</th>\n",
              "      <th>edad</th>\n",
              "      <th>sexo</th>\n",
              "      <th>peso</th>\n",
              "      <th>altura</th>\n",
              "      <th>colesterol</th>\n",
              "    </tr>\n",
              "  </thead>\n",
              "  <tbody>\n",
              "    <tr>\n",
              "      <th>0</th>\n",
              "      <td>José Luis Martínez Izquierdo</td>\n",
              "      <td>18</td>\n",
              "      <td>H</td>\n",
              "      <td>85.0</td>\n",
              "      <td>1,79</td>\n",
              "      <td>182.0</td>\n",
              "    </tr>\n",
              "    <tr>\n",
              "      <th>1</th>\n",
              "      <td>Rosa Díaz Díaz</td>\n",
              "      <td>32</td>\n",
              "      <td>M</td>\n",
              "      <td>65.0</td>\n",
              "      <td>1,73</td>\n",
              "      <td>232.0</td>\n",
              "    </tr>\n",
              "    <tr>\n",
              "      <th>2</th>\n",
              "      <td>Javier García Sánchez</td>\n",
              "      <td>24</td>\n",
              "      <td>H</td>\n",
              "      <td>NaN</td>\n",
              "      <td>1,81</td>\n",
              "      <td>191.0</td>\n",
              "    </tr>\n",
              "    <tr>\n",
              "      <th>3</th>\n",
              "      <td>Carmen López Pinzón</td>\n",
              "      <td>35</td>\n",
              "      <td>M</td>\n",
              "      <td>65.0</td>\n",
              "      <td>1,70</td>\n",
              "      <td>200.0</td>\n",
              "    </tr>\n",
              "  </tbody>\n",
              "</table>\n",
              "</div>\n",
              "      <button class=\"colab-df-convert\" onclick=\"convertToInteractive('df-d8f27c62-0bbb-4502-8b85-e3b2fec2c2bd')\"\n",
              "              title=\"Convert this dataframe to an interactive table.\"\n",
              "              style=\"display:none;\">\n",
              "        \n",
              "  <svg xmlns=\"http://www.w3.org/2000/svg\" height=\"24px\"viewBox=\"0 0 24 24\"\n",
              "       width=\"24px\">\n",
              "    <path d=\"M0 0h24v24H0V0z\" fill=\"none\"/>\n",
              "    <path d=\"M18.56 5.44l.94 2.06.94-2.06 2.06-.94-2.06-.94-.94-2.06-.94 2.06-2.06.94zm-11 1L8.5 8.5l.94-2.06 2.06-.94-2.06-.94L8.5 2.5l-.94 2.06-2.06.94zm10 10l.94 2.06.94-2.06 2.06-.94-2.06-.94-.94-2.06-.94 2.06-2.06.94z\"/><path d=\"M17.41 7.96l-1.37-1.37c-.4-.4-.92-.59-1.43-.59-.52 0-1.04.2-1.43.59L10.3 9.45l-7.72 7.72c-.78.78-.78 2.05 0 2.83L4 21.41c.39.39.9.59 1.41.59.51 0 1.02-.2 1.41-.59l7.78-7.78 2.81-2.81c.8-.78.8-2.07 0-2.86zM5.41 20L4 18.59l7.72-7.72 1.47 1.35L5.41 20z\"/>\n",
              "  </svg>\n",
              "      </button>\n",
              "      \n",
              "  <style>\n",
              "    .colab-df-container {\n",
              "      display:flex;\n",
              "      flex-wrap:wrap;\n",
              "      gap: 12px;\n",
              "    }\n",
              "\n",
              "    .colab-df-convert {\n",
              "      background-color: #E8F0FE;\n",
              "      border: none;\n",
              "      border-radius: 50%;\n",
              "      cursor: pointer;\n",
              "      display: none;\n",
              "      fill: #1967D2;\n",
              "      height: 32px;\n",
              "      padding: 0 0 0 0;\n",
              "      width: 32px;\n",
              "    }\n",
              "\n",
              "    .colab-df-convert:hover {\n",
              "      background-color: #E2EBFA;\n",
              "      box-shadow: 0px 1px 2px rgba(60, 64, 67, 0.3), 0px 1px 3px 1px rgba(60, 64, 67, 0.15);\n",
              "      fill: #174EA6;\n",
              "    }\n",
              "\n",
              "    [theme=dark] .colab-df-convert {\n",
              "      background-color: #3B4455;\n",
              "      fill: #D2E3FC;\n",
              "    }\n",
              "\n",
              "    [theme=dark] .colab-df-convert:hover {\n",
              "      background-color: #434B5C;\n",
              "      box-shadow: 0px 1px 3px 1px rgba(0, 0, 0, 0.15);\n",
              "      filter: drop-shadow(0px 1px 2px rgba(0, 0, 0, 0.3));\n",
              "      fill: #FFFFFF;\n",
              "    }\n",
              "  </style>\n",
              "\n",
              "      <script>\n",
              "        const buttonEl =\n",
              "          document.querySelector('#df-d8f27c62-0bbb-4502-8b85-e3b2fec2c2bd button.colab-df-convert');\n",
              "        buttonEl.style.display =\n",
              "          google.colab.kernel.accessAllowed ? 'block' : 'none';\n",
              "\n",
              "        async function convertToInteractive(key) {\n",
              "          const element = document.querySelector('#df-d8f27c62-0bbb-4502-8b85-e3b2fec2c2bd');\n",
              "          const dataTable =\n",
              "            await google.colab.kernel.invokeFunction('convertToInteractive',\n",
              "                                                     [key], {});\n",
              "          if (!dataTable) return;\n",
              "\n",
              "          const docLinkHtml = 'Like what you see? Visit the ' +\n",
              "            '<a target=\"_blank\" href=https://colab.research.google.com/notebooks/data_table.ipynb>data table notebook</a>'\n",
              "            + ' to learn more about interactive tables.';\n",
              "          element.innerHTML = '';\n",
              "          dataTable['output_type'] = 'display_data';\n",
              "          await google.colab.output.renderOutput(dataTable, element);\n",
              "          const docLink = document.createElement('div');\n",
              "          docLink.innerHTML = docLinkHtml;\n",
              "          element.appendChild(docLink);\n",
              "        }\n",
              "      </script>\n",
              "    </div>\n",
              "  </div>\n",
              "  "
            ]
          },
          "metadata": {},
          "execution_count": 11
        }
      ]
    },
    {
      "cell_type": "markdown",
      "source": [
        "### ➖ Resumen descriptivo de un DataFrame"
      ],
      "metadata": {
        "id": "51DC2PaK-x9C"
      }
    },
    {
      "cell_type": "markdown",
      "source": [
        "Al igual que para las series, los siguientes métodos permiten resumir la información de un DataFrame por columnas:"
      ],
      "metadata": {
        "id": "ADvhqlz4-0y2"
      }
    },
    {
      "cell_type": "markdown",
      "source": [
        "**df.count()** \n",
        "\n",
        "Devuelve una serie con el número de elementos que no son nulos ni NaN en cada columna del DataFrame df."
      ],
      "metadata": {
        "id": "U6yRkzCZ-5Q7"
      }
    },
    {
      "cell_type": "code",
      "source": [
        "#df.count()\n",
        "import pandas as pd\n",
        "df = pd.read_csv('https://raw.githubusercontent.com/asalber/manual-python/master/datos/colesterol.csv')\n",
        "df.count()"
      ],
      "metadata": {
        "colab": {
          "base_uri": "https://localhost:8080/"
        },
        "id": "FBhx_VGY-8qx",
        "outputId": "9cb80ce8-a145-47fd-f39d-33930451b5da"
      },
      "execution_count": 48,
      "outputs": [
        {
          "output_type": "execute_result",
          "data": {
            "text/plain": [
              "nombre        14\n",
              "edad          14\n",
              "sexo          14\n",
              "peso          13\n",
              "altura        14\n",
              "colesterol    13\n",
              "dtype: int64"
            ]
          },
          "metadata": {},
          "execution_count": 48
        }
      ]
    },
    {
      "cell_type": "markdown",
      "source": [
        "**df.sum()** \n",
        "\n",
        "Devuelve una serie con la suma de los datos de las columnas del DataFrame df cuando los datos son de un tipo numérico, o la concatenación de ellos cuando son del tipo cadena str."
      ],
      "metadata": {
        "id": "g-MZ3ZvV_EuL"
      }
    },
    {
      "cell_type": "code",
      "source": [
        "#df.sum()\n",
        "import pandas as pd\n",
        "df = pd.read_csv('https://raw.githubusercontent.com/asalber/manual-python/master/datos/colesterol.csv')\n",
        "df.sum()"
      ],
      "metadata": {
        "colab": {
          "base_uri": "https://localhost:8080/"
        },
        "id": "r03eQJ_4_Kp8",
        "outputId": "db1556ea-6836-4208-8930-a58067a09597"
      },
      "execution_count": 47,
      "outputs": [
        {
          "output_type": "execute_result",
          "data": {
            "text/plain": [
              "nombre        José Luis Martínez IzquierdoRosa Díaz DíazJavi...\n",
              "edad                                                        535\n",
              "sexo                                             HMHMMHHMHHMHHM\n",
              "peso                                                      922.0\n",
              "altura                                                    24.76\n",
              "colesterol                                               2863.0\n",
              "dtype: object"
            ]
          },
          "metadata": {},
          "execution_count": 47
        }
      ]
    },
    {
      "cell_type": "markdown",
      "source": [
        "**df.cumsum()** \n",
        "\n",
        "Devuelve un DataFrame con la suma acumulada de los datos de las columnas del DataFrame df cuando los datos son de un tipo numérico."
      ],
      "metadata": {
        "id": "vlqk_pSp_ZSD"
      }
    },
    {
      "cell_type": "code",
      "source": [
        "#df.cumsum()\n",
        "import pandas as pd\n",
        "df = pd.read_csv('https://raw.githubusercontent.com/asalber/manual-python/master/datos/colesterol.csv')\n",
        "df.cumsum()"
      ],
      "metadata": {
        "colab": {
          "base_uri": "https://localhost:8080/",
          "height": 488
        },
        "id": "BTZRuTFx_ehM",
        "outputId": "10f04ee0-d7b2-4cce-ddbf-d98d8f57a405"
      },
      "execution_count": 46,
      "outputs": [
        {
          "output_type": "execute_result",
          "data": {
            "text/plain": [
              "                                               nombre  edad            sexo  \\\n",
              "0                        José Luis Martínez Izquierdo    18               H   \n",
              "1          José Luis Martínez IzquierdoRosa Díaz Díaz    50              HM   \n",
              "2   José Luis Martínez IzquierdoRosa Díaz DíazJavi...    74             HMH   \n",
              "3   José Luis Martínez IzquierdoRosa Díaz DíazJavi...   109            HMHM   \n",
              "4   José Luis Martínez IzquierdoRosa Díaz DíazJavi...   155           HMHMM   \n",
              "5   José Luis Martínez IzquierdoRosa Díaz DíazJavi...   223          HMHMMH   \n",
              "6   José Luis Martínez IzquierdoRosa Díaz DíazJavi...   274         HMHMMHH   \n",
              "7   José Luis Martínez IzquierdoRosa Díaz DíazJavi...   296        HMHMMHHM   \n",
              "8   José Luis Martínez IzquierdoRosa Díaz DíazJavi...   331       HMHMMHHMH   \n",
              "9   José Luis Martínez IzquierdoRosa Díaz DíazJavi...   377      HMHMMHHMHH   \n",
              "10  José Luis Martínez IzquierdoRosa Díaz DíazJavi...   430     HMHMMHHMHHM   \n",
              "11  José Luis Martínez IzquierdoRosa Díaz DíazJavi...   488    HMHMMHHMHHMH   \n",
              "12  José Luis Martínez IzquierdoRosa Díaz DíazJavi...   515   HMHMMHHMHHMHH   \n",
              "13  José Luis Martínez IzquierdoRosa Díaz DíazJavi...   535  HMHMMHHMHHMHHM   \n",
              "\n",
              "     peso  altura  colesterol  \n",
              "0    85.0    1.79       182.0  \n",
              "1   150.0    3.52       414.0  \n",
              "2     NaN    5.33       605.0  \n",
              "3   215.0    7.03       805.0  \n",
              "4   266.0    8.61       953.0  \n",
              "5   332.0   10.35      1202.0  \n",
              "6   394.0   12.07      1478.0  \n",
              "7   454.0   13.73         NaN  \n",
              "8   544.0   15.67      1719.0  \n",
              "9   619.0   17.52      1999.0  \n",
              "10  674.0   19.14      2261.0  \n",
              "11  752.0   21.01      2459.0  \n",
              "12  861.0   22.99      2669.0  \n",
              "13  922.0   24.76      2863.0  "
            ],
            "text/html": [
              "\n",
              "  <div id=\"df-7f32d913-16f3-412e-9a66-a15dac4ef6ca\">\n",
              "    <div class=\"colab-df-container\">\n",
              "      <div>\n",
              "<style scoped>\n",
              "    .dataframe tbody tr th:only-of-type {\n",
              "        vertical-align: middle;\n",
              "    }\n",
              "\n",
              "    .dataframe tbody tr th {\n",
              "        vertical-align: top;\n",
              "    }\n",
              "\n",
              "    .dataframe thead th {\n",
              "        text-align: right;\n",
              "    }\n",
              "</style>\n",
              "<table border=\"1\" class=\"dataframe\">\n",
              "  <thead>\n",
              "    <tr style=\"text-align: right;\">\n",
              "      <th></th>\n",
              "      <th>nombre</th>\n",
              "      <th>edad</th>\n",
              "      <th>sexo</th>\n",
              "      <th>peso</th>\n",
              "      <th>altura</th>\n",
              "      <th>colesterol</th>\n",
              "    </tr>\n",
              "  </thead>\n",
              "  <tbody>\n",
              "    <tr>\n",
              "      <th>0</th>\n",
              "      <td>José Luis Martínez Izquierdo</td>\n",
              "      <td>18</td>\n",
              "      <td>H</td>\n",
              "      <td>85.0</td>\n",
              "      <td>1.79</td>\n",
              "      <td>182.0</td>\n",
              "    </tr>\n",
              "    <tr>\n",
              "      <th>1</th>\n",
              "      <td>José Luis Martínez IzquierdoRosa Díaz Díaz</td>\n",
              "      <td>50</td>\n",
              "      <td>HM</td>\n",
              "      <td>150.0</td>\n",
              "      <td>3.52</td>\n",
              "      <td>414.0</td>\n",
              "    </tr>\n",
              "    <tr>\n",
              "      <th>2</th>\n",
              "      <td>José Luis Martínez IzquierdoRosa Díaz DíazJavi...</td>\n",
              "      <td>74</td>\n",
              "      <td>HMH</td>\n",
              "      <td>NaN</td>\n",
              "      <td>5.33</td>\n",
              "      <td>605.0</td>\n",
              "    </tr>\n",
              "    <tr>\n",
              "      <th>3</th>\n",
              "      <td>José Luis Martínez IzquierdoRosa Díaz DíazJavi...</td>\n",
              "      <td>109</td>\n",
              "      <td>HMHM</td>\n",
              "      <td>215.0</td>\n",
              "      <td>7.03</td>\n",
              "      <td>805.0</td>\n",
              "    </tr>\n",
              "    <tr>\n",
              "      <th>4</th>\n",
              "      <td>José Luis Martínez IzquierdoRosa Díaz DíazJavi...</td>\n",
              "      <td>155</td>\n",
              "      <td>HMHMM</td>\n",
              "      <td>266.0</td>\n",
              "      <td>8.61</td>\n",
              "      <td>953.0</td>\n",
              "    </tr>\n",
              "    <tr>\n",
              "      <th>5</th>\n",
              "      <td>José Luis Martínez IzquierdoRosa Díaz DíazJavi...</td>\n",
              "      <td>223</td>\n",
              "      <td>HMHMMH</td>\n",
              "      <td>332.0</td>\n",
              "      <td>10.35</td>\n",
              "      <td>1202.0</td>\n",
              "    </tr>\n",
              "    <tr>\n",
              "      <th>6</th>\n",
              "      <td>José Luis Martínez IzquierdoRosa Díaz DíazJavi...</td>\n",
              "      <td>274</td>\n",
              "      <td>HMHMMHH</td>\n",
              "      <td>394.0</td>\n",
              "      <td>12.07</td>\n",
              "      <td>1478.0</td>\n",
              "    </tr>\n",
              "    <tr>\n",
              "      <th>7</th>\n",
              "      <td>José Luis Martínez IzquierdoRosa Díaz DíazJavi...</td>\n",
              "      <td>296</td>\n",
              "      <td>HMHMMHHM</td>\n",
              "      <td>454.0</td>\n",
              "      <td>13.73</td>\n",
              "      <td>NaN</td>\n",
              "    </tr>\n",
              "    <tr>\n",
              "      <th>8</th>\n",
              "      <td>José Luis Martínez IzquierdoRosa Díaz DíazJavi...</td>\n",
              "      <td>331</td>\n",
              "      <td>HMHMMHHMH</td>\n",
              "      <td>544.0</td>\n",
              "      <td>15.67</td>\n",
              "      <td>1719.0</td>\n",
              "    </tr>\n",
              "    <tr>\n",
              "      <th>9</th>\n",
              "      <td>José Luis Martínez IzquierdoRosa Díaz DíazJavi...</td>\n",
              "      <td>377</td>\n",
              "      <td>HMHMMHHMHH</td>\n",
              "      <td>619.0</td>\n",
              "      <td>17.52</td>\n",
              "      <td>1999.0</td>\n",
              "    </tr>\n",
              "    <tr>\n",
              "      <th>10</th>\n",
              "      <td>José Luis Martínez IzquierdoRosa Díaz DíazJavi...</td>\n",
              "      <td>430</td>\n",
              "      <td>HMHMMHHMHHM</td>\n",
              "      <td>674.0</td>\n",
              "      <td>19.14</td>\n",
              "      <td>2261.0</td>\n",
              "    </tr>\n",
              "    <tr>\n",
              "      <th>11</th>\n",
              "      <td>José Luis Martínez IzquierdoRosa Díaz DíazJavi...</td>\n",
              "      <td>488</td>\n",
              "      <td>HMHMMHHMHHMH</td>\n",
              "      <td>752.0</td>\n",
              "      <td>21.01</td>\n",
              "      <td>2459.0</td>\n",
              "    </tr>\n",
              "    <tr>\n",
              "      <th>12</th>\n",
              "      <td>José Luis Martínez IzquierdoRosa Díaz DíazJavi...</td>\n",
              "      <td>515</td>\n",
              "      <td>HMHMMHHMHHMHH</td>\n",
              "      <td>861.0</td>\n",
              "      <td>22.99</td>\n",
              "      <td>2669.0</td>\n",
              "    </tr>\n",
              "    <tr>\n",
              "      <th>13</th>\n",
              "      <td>José Luis Martínez IzquierdoRosa Díaz DíazJavi...</td>\n",
              "      <td>535</td>\n",
              "      <td>HMHMMHHMHHMHHM</td>\n",
              "      <td>922.0</td>\n",
              "      <td>24.76</td>\n",
              "      <td>2863.0</td>\n",
              "    </tr>\n",
              "  </tbody>\n",
              "</table>\n",
              "</div>\n",
              "      <button class=\"colab-df-convert\" onclick=\"convertToInteractive('df-7f32d913-16f3-412e-9a66-a15dac4ef6ca')\"\n",
              "              title=\"Convert this dataframe to an interactive table.\"\n",
              "              style=\"display:none;\">\n",
              "        \n",
              "  <svg xmlns=\"http://www.w3.org/2000/svg\" height=\"24px\"viewBox=\"0 0 24 24\"\n",
              "       width=\"24px\">\n",
              "    <path d=\"M0 0h24v24H0V0z\" fill=\"none\"/>\n",
              "    <path d=\"M18.56 5.44l.94 2.06.94-2.06 2.06-.94-2.06-.94-.94-2.06-.94 2.06-2.06.94zm-11 1L8.5 8.5l.94-2.06 2.06-.94-2.06-.94L8.5 2.5l-.94 2.06-2.06.94zm10 10l.94 2.06.94-2.06 2.06-.94-2.06-.94-.94-2.06-.94 2.06-2.06.94z\"/><path d=\"M17.41 7.96l-1.37-1.37c-.4-.4-.92-.59-1.43-.59-.52 0-1.04.2-1.43.59L10.3 9.45l-7.72 7.72c-.78.78-.78 2.05 0 2.83L4 21.41c.39.39.9.59 1.41.59.51 0 1.02-.2 1.41-.59l7.78-7.78 2.81-2.81c.8-.78.8-2.07 0-2.86zM5.41 20L4 18.59l7.72-7.72 1.47 1.35L5.41 20z\"/>\n",
              "  </svg>\n",
              "      </button>\n",
              "      \n",
              "  <style>\n",
              "    .colab-df-container {\n",
              "      display:flex;\n",
              "      flex-wrap:wrap;\n",
              "      gap: 12px;\n",
              "    }\n",
              "\n",
              "    .colab-df-convert {\n",
              "      background-color: #E8F0FE;\n",
              "      border: none;\n",
              "      border-radius: 50%;\n",
              "      cursor: pointer;\n",
              "      display: none;\n",
              "      fill: #1967D2;\n",
              "      height: 32px;\n",
              "      padding: 0 0 0 0;\n",
              "      width: 32px;\n",
              "    }\n",
              "\n",
              "    .colab-df-convert:hover {\n",
              "      background-color: #E2EBFA;\n",
              "      box-shadow: 0px 1px 2px rgba(60, 64, 67, 0.3), 0px 1px 3px 1px rgba(60, 64, 67, 0.15);\n",
              "      fill: #174EA6;\n",
              "    }\n",
              "\n",
              "    [theme=dark] .colab-df-convert {\n",
              "      background-color: #3B4455;\n",
              "      fill: #D2E3FC;\n",
              "    }\n",
              "\n",
              "    [theme=dark] .colab-df-convert:hover {\n",
              "      background-color: #434B5C;\n",
              "      box-shadow: 0px 1px 3px 1px rgba(0, 0, 0, 0.15);\n",
              "      filter: drop-shadow(0px 1px 2px rgba(0, 0, 0, 0.3));\n",
              "      fill: #FFFFFF;\n",
              "    }\n",
              "  </style>\n",
              "\n",
              "      <script>\n",
              "        const buttonEl =\n",
              "          document.querySelector('#df-7f32d913-16f3-412e-9a66-a15dac4ef6ca button.colab-df-convert');\n",
              "        buttonEl.style.display =\n",
              "          google.colab.kernel.accessAllowed ? 'block' : 'none';\n",
              "\n",
              "        async function convertToInteractive(key) {\n",
              "          const element = document.querySelector('#df-7f32d913-16f3-412e-9a66-a15dac4ef6ca');\n",
              "          const dataTable =\n",
              "            await google.colab.kernel.invokeFunction('convertToInteractive',\n",
              "                                                     [key], {});\n",
              "          if (!dataTable) return;\n",
              "\n",
              "          const docLinkHtml = 'Like what you see? Visit the ' +\n",
              "            '<a target=\"_blank\" href=https://colab.research.google.com/notebooks/data_table.ipynb>data table notebook</a>'\n",
              "            + ' to learn more about interactive tables.';\n",
              "          element.innerHTML = '';\n",
              "          dataTable['output_type'] = 'display_data';\n",
              "          await google.colab.output.renderOutput(dataTable, element);\n",
              "          const docLink = document.createElement('div');\n",
              "          docLink.innerHTML = docLinkHtml;\n",
              "          element.appendChild(docLink);\n",
              "        }\n",
              "      </script>\n",
              "    </div>\n",
              "  </div>\n",
              "  "
            ]
          },
          "metadata": {},
          "execution_count": 46
        }
      ]
    },
    {
      "cell_type": "markdown",
      "source": [
        "**df.min()** \n",
        "\n",
        "Devuelve una serie con los menores de los datos de las columnas del DataFrame df."
      ],
      "metadata": {
        "id": "4K4sWEIDA7Sr"
      }
    },
    {
      "cell_type": "code",
      "source": [
        "#df.min()\n",
        "import pandas as pd\n",
        "df = pd.read_csv('https://raw.githubusercontent.com/asalber/manual-python/master/datos/colesterol.csv')\n",
        "df.min()"
      ],
      "metadata": {
        "colab": {
          "base_uri": "https://localhost:8080/"
        },
        "id": "cZXtK4xUBBKM",
        "outputId": "b3077cc5-fe78-4745-f2bb-3b4b3c56cd12"
      },
      "execution_count": 52,
      "outputs": [
        {
          "output_type": "execute_result",
          "data": {
            "text/plain": [
              "nombre        Antonio Fernández Ocaña\n",
              "edad                               18\n",
              "sexo                                H\n",
              "peso                             51.0\n",
              "altura                           1.58\n",
              "colesterol                      148.0\n",
              "dtype: object"
            ]
          },
          "metadata": {},
          "execution_count": 52
        }
      ]
    },
    {
      "cell_type": "markdown",
      "source": [
        "**df.max()**\n",
        "\n",
        "Devuelve una serie con los mayores de los datos de las columnas del DataFrame df."
      ],
      "metadata": {
        "id": "u0y1MzabBGb7"
      }
    },
    {
      "cell_type": "code",
      "source": [
        "#df.max()\n",
        "import pandas as pd\n",
        "df = pd.read_csv('https://raw.githubusercontent.com/asalber/manual-python/master/datos/colesterol.csv')\n",
        "df.max()"
      ],
      "metadata": {
        "colab": {
          "base_uri": "https://localhost:8080/"
        },
        "id": "mFc0Au_oBKRD",
        "outputId": "d80054cd-ea53-4481-d8f8-0ea4429b6130"
      },
      "execution_count": 53,
      "outputs": [
        {
          "output_type": "execute_result",
          "data": {
            "text/plain": [
              "nombre        Santiago Reillo Manzano\n",
              "edad                               68\n",
              "sexo                                M\n",
              "peso                            109.0\n",
              "altura                           1.98\n",
              "colesterol                      280.0\n",
              "dtype: object"
            ]
          },
          "metadata": {},
          "execution_count": 53
        }
      ]
    },
    {
      "cell_type": "markdown",
      "source": [
        "**df.mean(numeric_only=None)** \n",
        "\n",
        "Devuelve una serie con las medias de los datos de las columnas numéricas del DataFrame df. En el caso de que se ponga el argumento numeric_only=True solo toma las columnas del dataframe que son númericas"
      ],
      "metadata": {
        "id": "YRMgVc73BPNr"
      }
    },
    {
      "cell_type": "code",
      "source": [
        "#df.mean()\n",
        "import pandas as pd\n",
        "df = pd.read_csv('https://raw.githubusercontent.com/asalber/manual-python/master/datos/colesterol.csv')\n",
        "df.mean(numeric_only=True)"
      ],
      "metadata": {
        "colab": {
          "base_uri": "https://localhost:8080/"
        },
        "id": "QjWGSP5ABarz",
        "outputId": "0fa387a0-d5f1-45c1-c4fc-81b5e7d8ac02"
      },
      "execution_count": 54,
      "outputs": [
        {
          "output_type": "execute_result",
          "data": {
            "text/plain": [
              "edad           38.214286\n",
              "peso           70.923077\n",
              "altura          1.768571\n",
              "colesterol    220.230769\n",
              "dtype: float64"
            ]
          },
          "metadata": {},
          "execution_count": 54
        }
      ]
    },
    {
      "cell_type": "markdown",
      "source": [
        "**df.var(numeric_only=None)** \n",
        "\n",
        "Devuelve una serie con las varianzas de los datos de las columnas numéricas del DataFrame df. En el caso de que se ponga el argumento numeric_only=True solo toma las columnas del dataframe que son númericas"
      ],
      "metadata": {
        "id": "mqyMosHYBPWB"
      }
    },
    {
      "cell_type": "code",
      "source": [
        "#df.var()\n",
        "import pandas as pd\n",
        "df = pd.read_csv('https://raw.githubusercontent.com/asalber/manual-python/master/datos/colesterol.csv')\n",
        "df.var(numeric_only=True)"
      ],
      "metadata": {
        "colab": {
          "base_uri": "https://localhost:8080/"
        },
        "id": "vqW1jaqVBn_m",
        "outputId": "f14d6cac-0ffa-4ce3-b378-16d7eda5dda2"
      },
      "execution_count": 55,
      "outputs": [
        {
          "output_type": "execute_result",
          "data": {
            "text/plain": [
              "edad           244.027473\n",
              "peso           260.076923\n",
              "altura           0.013229\n",
              "colesterol    1587.858974\n",
              "dtype: float64"
            ]
          },
          "metadata": {},
          "execution_count": 55
        }
      ]
    },
    {
      "cell_type": "markdown",
      "source": [
        "**df.std(numeric_only=None)** \n",
        "\n",
        "Devuelve una serie con las desviaciones típicas de los datos de las columnas numéricas del DataFrame df. En el caso de que se ponga el argumento numeric_only=True solo toma las columnas del dataframe que son númericas"
      ],
      "metadata": {
        "id": "CPsVAHXfBtGW"
      }
    },
    {
      "cell_type": "code",
      "source": [
        "#df.std()\n",
        "import pandas as pd\n",
        "df = pd.read_csv('https://raw.githubusercontent.com/asalber/manual-python/master/datos/colesterol.csv')\n",
        "df.std(numeric_only=True)"
      ],
      "metadata": {
        "colab": {
          "base_uri": "https://localhost:8080/"
        },
        "id": "UQM1IN84B0Hd",
        "outputId": "7245cd67-8a2a-44ac-858b-4997ac69f62b"
      },
      "execution_count": 56,
      "outputs": [
        {
          "output_type": "execute_result",
          "data": {
            "text/plain": [
              "edad          15.621379\n",
              "peso          16.126901\n",
              "altura         0.115016\n",
              "colesterol    39.847948\n",
              "dtype: float64"
            ]
          },
          "metadata": {},
          "execution_count": 56
        }
      ]
    },
    {
      "cell_type": "markdown",
      "source": [
        "**df.cov()** \n",
        "\n",
        "Devuelve un DataFrame con las covarianzas de los datos de las columnas numéricas del DataFrame df."
      ],
      "metadata": {
        "id": "7AWG0qi8Fs95"
      }
    },
    {
      "cell_type": "code",
      "source": [
        "#df.cov()\n",
        "import pandas as pd\n",
        "df = pd.read_csv('https://raw.githubusercontent.com/asalber/manual-python/master/datos/colesterol.csv')\n",
        "df.cov()"
      ],
      "metadata": {
        "colab": {
          "base_uri": "https://localhost:8080/",
          "height": 175
        },
        "id": "OyhJnTcXF0Bk",
        "outputId": "ce6faa89-56ae-4039-8faa-99342b734217"
      },
      "execution_count": 1,
      "outputs": [
        {
          "output_type": "execute_result",
          "data": {
            "text/plain": [
              "                  edad        peso    altura   colesterol\n",
              "edad        244.027473  -69.891026 -0.326593   279.717949\n",
              "peso        -69.891026  260.076923  1.764615    -2.424242\n",
              "altura       -0.326593    1.764615  0.013229     0.563269\n",
              "colesterol  279.717949   -2.424242  0.563269  1587.858974"
            ],
            "text/html": [
              "\n",
              "  <div id=\"df-275aaa6e-5449-45d2-b798-19c601d3fe70\">\n",
              "    <div class=\"colab-df-container\">\n",
              "      <div>\n",
              "<style scoped>\n",
              "    .dataframe tbody tr th:only-of-type {\n",
              "        vertical-align: middle;\n",
              "    }\n",
              "\n",
              "    .dataframe tbody tr th {\n",
              "        vertical-align: top;\n",
              "    }\n",
              "\n",
              "    .dataframe thead th {\n",
              "        text-align: right;\n",
              "    }\n",
              "</style>\n",
              "<table border=\"1\" class=\"dataframe\">\n",
              "  <thead>\n",
              "    <tr style=\"text-align: right;\">\n",
              "      <th></th>\n",
              "      <th>edad</th>\n",
              "      <th>peso</th>\n",
              "      <th>altura</th>\n",
              "      <th>colesterol</th>\n",
              "    </tr>\n",
              "  </thead>\n",
              "  <tbody>\n",
              "    <tr>\n",
              "      <th>edad</th>\n",
              "      <td>244.027473</td>\n",
              "      <td>-69.891026</td>\n",
              "      <td>-0.326593</td>\n",
              "      <td>279.717949</td>\n",
              "    </tr>\n",
              "    <tr>\n",
              "      <th>peso</th>\n",
              "      <td>-69.891026</td>\n",
              "      <td>260.076923</td>\n",
              "      <td>1.764615</td>\n",
              "      <td>-2.424242</td>\n",
              "    </tr>\n",
              "    <tr>\n",
              "      <th>altura</th>\n",
              "      <td>-0.326593</td>\n",
              "      <td>1.764615</td>\n",
              "      <td>0.013229</td>\n",
              "      <td>0.563269</td>\n",
              "    </tr>\n",
              "    <tr>\n",
              "      <th>colesterol</th>\n",
              "      <td>279.717949</td>\n",
              "      <td>-2.424242</td>\n",
              "      <td>0.563269</td>\n",
              "      <td>1587.858974</td>\n",
              "    </tr>\n",
              "  </tbody>\n",
              "</table>\n",
              "</div>\n",
              "      <button class=\"colab-df-convert\" onclick=\"convertToInteractive('df-275aaa6e-5449-45d2-b798-19c601d3fe70')\"\n",
              "              title=\"Convert this dataframe to an interactive table.\"\n",
              "              style=\"display:none;\">\n",
              "        \n",
              "  <svg xmlns=\"http://www.w3.org/2000/svg\" height=\"24px\"viewBox=\"0 0 24 24\"\n",
              "       width=\"24px\">\n",
              "    <path d=\"M0 0h24v24H0V0z\" fill=\"none\"/>\n",
              "    <path d=\"M18.56 5.44l.94 2.06.94-2.06 2.06-.94-2.06-.94-.94-2.06-.94 2.06-2.06.94zm-11 1L8.5 8.5l.94-2.06 2.06-.94-2.06-.94L8.5 2.5l-.94 2.06-2.06.94zm10 10l.94 2.06.94-2.06 2.06-.94-2.06-.94-.94-2.06-.94 2.06-2.06.94z\"/><path d=\"M17.41 7.96l-1.37-1.37c-.4-.4-.92-.59-1.43-.59-.52 0-1.04.2-1.43.59L10.3 9.45l-7.72 7.72c-.78.78-.78 2.05 0 2.83L4 21.41c.39.39.9.59 1.41.59.51 0 1.02-.2 1.41-.59l7.78-7.78 2.81-2.81c.8-.78.8-2.07 0-2.86zM5.41 20L4 18.59l7.72-7.72 1.47 1.35L5.41 20z\"/>\n",
              "  </svg>\n",
              "      </button>\n",
              "      \n",
              "  <style>\n",
              "    .colab-df-container {\n",
              "      display:flex;\n",
              "      flex-wrap:wrap;\n",
              "      gap: 12px;\n",
              "    }\n",
              "\n",
              "    .colab-df-convert {\n",
              "      background-color: #E8F0FE;\n",
              "      border: none;\n",
              "      border-radius: 50%;\n",
              "      cursor: pointer;\n",
              "      display: none;\n",
              "      fill: #1967D2;\n",
              "      height: 32px;\n",
              "      padding: 0 0 0 0;\n",
              "      width: 32px;\n",
              "    }\n",
              "\n",
              "    .colab-df-convert:hover {\n",
              "      background-color: #E2EBFA;\n",
              "      box-shadow: 0px 1px 2px rgba(60, 64, 67, 0.3), 0px 1px 3px 1px rgba(60, 64, 67, 0.15);\n",
              "      fill: #174EA6;\n",
              "    }\n",
              "\n",
              "    [theme=dark] .colab-df-convert {\n",
              "      background-color: #3B4455;\n",
              "      fill: #D2E3FC;\n",
              "    }\n",
              "\n",
              "    [theme=dark] .colab-df-convert:hover {\n",
              "      background-color: #434B5C;\n",
              "      box-shadow: 0px 1px 3px 1px rgba(0, 0, 0, 0.15);\n",
              "      filter: drop-shadow(0px 1px 2px rgba(0, 0, 0, 0.3));\n",
              "      fill: #FFFFFF;\n",
              "    }\n",
              "  </style>\n",
              "\n",
              "      <script>\n",
              "        const buttonEl =\n",
              "          document.querySelector('#df-275aaa6e-5449-45d2-b798-19c601d3fe70 button.colab-df-convert');\n",
              "        buttonEl.style.display =\n",
              "          google.colab.kernel.accessAllowed ? 'block' : 'none';\n",
              "\n",
              "        async function convertToInteractive(key) {\n",
              "          const element = document.querySelector('#df-275aaa6e-5449-45d2-b798-19c601d3fe70');\n",
              "          const dataTable =\n",
              "            await google.colab.kernel.invokeFunction('convertToInteractive',\n",
              "                                                     [key], {});\n",
              "          if (!dataTable) return;\n",
              "\n",
              "          const docLinkHtml = 'Like what you see? Visit the ' +\n",
              "            '<a target=\"_blank\" href=https://colab.research.google.com/notebooks/data_table.ipynb>data table notebook</a>'\n",
              "            + ' to learn more about interactive tables.';\n",
              "          element.innerHTML = '';\n",
              "          dataTable['output_type'] = 'display_data';\n",
              "          await google.colab.output.renderOutput(dataTable, element);\n",
              "          const docLink = document.createElement('div');\n",
              "          docLink.innerHTML = docLinkHtml;\n",
              "          element.appendChild(docLink);\n",
              "        }\n",
              "      </script>\n",
              "    </div>\n",
              "  </div>\n",
              "  "
            ]
          },
          "metadata": {},
          "execution_count": 1
        }
      ]
    },
    {
      "cell_type": "markdown",
      "source": [
        "**df.corr()**\n",
        "\n",
        "Devuelve un DataFrame con los coeficientes de correlación de Pearson de los datos de las columnas numéricas del DataFrame df."
      ],
      "metadata": {
        "id": "38E0R308GHII"
      }
    },
    {
      "cell_type": "code",
      "source": [
        "#df.corr()\n",
        "import pandas as pd\n",
        "df = pd.read_csv('https://raw.githubusercontent.com/asalber/manual-python/master/datos/colesterol.csv')\n",
        "df.corr()"
      ],
      "metadata": {
        "colab": {
          "base_uri": "https://localhost:8080/",
          "height": 175
        },
        "id": "v23-Tr8DGLHX",
        "outputId": "096b09c6-576d-4294-ac5a-d09fa21204b6"
      },
      "execution_count": 2,
      "outputs": [
        {
          "output_type": "execute_result",
          "data": {
            "text/plain": [
              "                edad      peso    altura  colesterol\n",
              "edad        1.000000 -0.276185 -0.181774    0.452391\n",
              "peso       -0.276185  1.000000  0.918984   -0.003621\n",
              "altura     -0.181774  0.918984  1.000000    0.122694\n",
              "colesterol  0.452391 -0.003621  0.122694    1.000000"
            ],
            "text/html": [
              "\n",
              "  <div id=\"df-bdc625ac-7f95-4076-bb4d-cf0ae8e1fd76\">\n",
              "    <div class=\"colab-df-container\">\n",
              "      <div>\n",
              "<style scoped>\n",
              "    .dataframe tbody tr th:only-of-type {\n",
              "        vertical-align: middle;\n",
              "    }\n",
              "\n",
              "    .dataframe tbody tr th {\n",
              "        vertical-align: top;\n",
              "    }\n",
              "\n",
              "    .dataframe thead th {\n",
              "        text-align: right;\n",
              "    }\n",
              "</style>\n",
              "<table border=\"1\" class=\"dataframe\">\n",
              "  <thead>\n",
              "    <tr style=\"text-align: right;\">\n",
              "      <th></th>\n",
              "      <th>edad</th>\n",
              "      <th>peso</th>\n",
              "      <th>altura</th>\n",
              "      <th>colesterol</th>\n",
              "    </tr>\n",
              "  </thead>\n",
              "  <tbody>\n",
              "    <tr>\n",
              "      <th>edad</th>\n",
              "      <td>1.000000</td>\n",
              "      <td>-0.276185</td>\n",
              "      <td>-0.181774</td>\n",
              "      <td>0.452391</td>\n",
              "    </tr>\n",
              "    <tr>\n",
              "      <th>peso</th>\n",
              "      <td>-0.276185</td>\n",
              "      <td>1.000000</td>\n",
              "      <td>0.918984</td>\n",
              "      <td>-0.003621</td>\n",
              "    </tr>\n",
              "    <tr>\n",
              "      <th>altura</th>\n",
              "      <td>-0.181774</td>\n",
              "      <td>0.918984</td>\n",
              "      <td>1.000000</td>\n",
              "      <td>0.122694</td>\n",
              "    </tr>\n",
              "    <tr>\n",
              "      <th>colesterol</th>\n",
              "      <td>0.452391</td>\n",
              "      <td>-0.003621</td>\n",
              "      <td>0.122694</td>\n",
              "      <td>1.000000</td>\n",
              "    </tr>\n",
              "  </tbody>\n",
              "</table>\n",
              "</div>\n",
              "      <button class=\"colab-df-convert\" onclick=\"convertToInteractive('df-bdc625ac-7f95-4076-bb4d-cf0ae8e1fd76')\"\n",
              "              title=\"Convert this dataframe to an interactive table.\"\n",
              "              style=\"display:none;\">\n",
              "        \n",
              "  <svg xmlns=\"http://www.w3.org/2000/svg\" height=\"24px\"viewBox=\"0 0 24 24\"\n",
              "       width=\"24px\">\n",
              "    <path d=\"M0 0h24v24H0V0z\" fill=\"none\"/>\n",
              "    <path d=\"M18.56 5.44l.94 2.06.94-2.06 2.06-.94-2.06-.94-.94-2.06-.94 2.06-2.06.94zm-11 1L8.5 8.5l.94-2.06 2.06-.94-2.06-.94L8.5 2.5l-.94 2.06-2.06.94zm10 10l.94 2.06.94-2.06 2.06-.94-2.06-.94-.94-2.06-.94 2.06-2.06.94z\"/><path d=\"M17.41 7.96l-1.37-1.37c-.4-.4-.92-.59-1.43-.59-.52 0-1.04.2-1.43.59L10.3 9.45l-7.72 7.72c-.78.78-.78 2.05 0 2.83L4 21.41c.39.39.9.59 1.41.59.51 0 1.02-.2 1.41-.59l7.78-7.78 2.81-2.81c.8-.78.8-2.07 0-2.86zM5.41 20L4 18.59l7.72-7.72 1.47 1.35L5.41 20z\"/>\n",
              "  </svg>\n",
              "      </button>\n",
              "      \n",
              "  <style>\n",
              "    .colab-df-container {\n",
              "      display:flex;\n",
              "      flex-wrap:wrap;\n",
              "      gap: 12px;\n",
              "    }\n",
              "\n",
              "    .colab-df-convert {\n",
              "      background-color: #E8F0FE;\n",
              "      border: none;\n",
              "      border-radius: 50%;\n",
              "      cursor: pointer;\n",
              "      display: none;\n",
              "      fill: #1967D2;\n",
              "      height: 32px;\n",
              "      padding: 0 0 0 0;\n",
              "      width: 32px;\n",
              "    }\n",
              "\n",
              "    .colab-df-convert:hover {\n",
              "      background-color: #E2EBFA;\n",
              "      box-shadow: 0px 1px 2px rgba(60, 64, 67, 0.3), 0px 1px 3px 1px rgba(60, 64, 67, 0.15);\n",
              "      fill: #174EA6;\n",
              "    }\n",
              "\n",
              "    [theme=dark] .colab-df-convert {\n",
              "      background-color: #3B4455;\n",
              "      fill: #D2E3FC;\n",
              "    }\n",
              "\n",
              "    [theme=dark] .colab-df-convert:hover {\n",
              "      background-color: #434B5C;\n",
              "      box-shadow: 0px 1px 3px 1px rgba(0, 0, 0, 0.15);\n",
              "      filter: drop-shadow(0px 1px 2px rgba(0, 0, 0, 0.3));\n",
              "      fill: #FFFFFF;\n",
              "    }\n",
              "  </style>\n",
              "\n",
              "      <script>\n",
              "        const buttonEl =\n",
              "          document.querySelector('#df-bdc625ac-7f95-4076-bb4d-cf0ae8e1fd76 button.colab-df-convert');\n",
              "        buttonEl.style.display =\n",
              "          google.colab.kernel.accessAllowed ? 'block' : 'none';\n",
              "\n",
              "        async function convertToInteractive(key) {\n",
              "          const element = document.querySelector('#df-bdc625ac-7f95-4076-bb4d-cf0ae8e1fd76');\n",
              "          const dataTable =\n",
              "            await google.colab.kernel.invokeFunction('convertToInteractive',\n",
              "                                                     [key], {});\n",
              "          if (!dataTable) return;\n",
              "\n",
              "          const docLinkHtml = 'Like what you see? Visit the ' +\n",
              "            '<a target=\"_blank\" href=https://colab.research.google.com/notebooks/data_table.ipynb>data table notebook</a>'\n",
              "            + ' to learn more about interactive tables.';\n",
              "          element.innerHTML = '';\n",
              "          dataTable['output_type'] = 'display_data';\n",
              "          await google.colab.output.renderOutput(dataTable, element);\n",
              "          const docLink = document.createElement('div');\n",
              "          docLink.innerHTML = docLinkHtml;\n",
              "          element.appendChild(docLink);\n",
              "        }\n",
              "      </script>\n",
              "    </div>\n",
              "  </div>\n",
              "  "
            ]
          },
          "metadata": {},
          "execution_count": 2
        }
      ]
    },
    {
      "cell_type": "markdown",
      "source": [
        "**df.describe(include = tipo)** \n",
        "\n",
        "Devuelve un DataFrame con un resumen estadístico de las columnas del DataFrame df del tipo tipo. Para los datos numéricos (number) se calcula la media, la desviación típica, el mínimo, el máximo y los cuartiles. Para los datos no numéricos (object) se calcula el número de valores, el número de valores distintos, la moda y su frecuencia. Si no se indica el tipo solo se consideran las columnas numéricas."
      ],
      "metadata": {
        "id": "n13dhpV4GUAR"
      }
    },
    {
      "cell_type": "code",
      "source": [
        "#df.describe()\n",
        "import pandas as pd\n",
        "df = pd.read_csv('https://raw.githubusercontent.com/asalber/manual-python/master/datos/colesterol.csv')\n",
        "df.describe()"
      ],
      "metadata": {
        "colab": {
          "base_uri": "https://localhost:8080/",
          "height": 300
        },
        "id": "3ZYs4hp4Gcy7",
        "outputId": "4bdc0b87-9b11-4a0d-d730-b53307c53139"
      },
      "execution_count": 3,
      "outputs": [
        {
          "output_type": "execute_result",
          "data": {
            "text/plain": [
              "            edad        peso     altura  colesterol\n",
              "count  14.000000   13.000000  14.000000   13.000000\n",
              "mean   38.214286   70.923077   1.768571  220.230769\n",
              "std    15.621379   16.126901   0.115016   39.847948\n",
              "min    18.000000   51.000000   1.580000  148.000000\n",
              "25%    24.750000   61.000000   1.705000  194.000000\n",
              "50%    35.000000   65.000000   1.755000  210.000000\n",
              "75%    49.750000   78.000000   1.840000  249.000000\n",
              "max    68.000000  109.000000   1.980000  280.000000"
            ],
            "text/html": [
              "\n",
              "  <div id=\"df-b8854892-7165-4cad-893f-7dba9f2c08f5\">\n",
              "    <div class=\"colab-df-container\">\n",
              "      <div>\n",
              "<style scoped>\n",
              "    .dataframe tbody tr th:only-of-type {\n",
              "        vertical-align: middle;\n",
              "    }\n",
              "\n",
              "    .dataframe tbody tr th {\n",
              "        vertical-align: top;\n",
              "    }\n",
              "\n",
              "    .dataframe thead th {\n",
              "        text-align: right;\n",
              "    }\n",
              "</style>\n",
              "<table border=\"1\" class=\"dataframe\">\n",
              "  <thead>\n",
              "    <tr style=\"text-align: right;\">\n",
              "      <th></th>\n",
              "      <th>edad</th>\n",
              "      <th>peso</th>\n",
              "      <th>altura</th>\n",
              "      <th>colesterol</th>\n",
              "    </tr>\n",
              "  </thead>\n",
              "  <tbody>\n",
              "    <tr>\n",
              "      <th>count</th>\n",
              "      <td>14.000000</td>\n",
              "      <td>13.000000</td>\n",
              "      <td>14.000000</td>\n",
              "      <td>13.000000</td>\n",
              "    </tr>\n",
              "    <tr>\n",
              "      <th>mean</th>\n",
              "      <td>38.214286</td>\n",
              "      <td>70.923077</td>\n",
              "      <td>1.768571</td>\n",
              "      <td>220.230769</td>\n",
              "    </tr>\n",
              "    <tr>\n",
              "      <th>std</th>\n",
              "      <td>15.621379</td>\n",
              "      <td>16.126901</td>\n",
              "      <td>0.115016</td>\n",
              "      <td>39.847948</td>\n",
              "    </tr>\n",
              "    <tr>\n",
              "      <th>min</th>\n",
              "      <td>18.000000</td>\n",
              "      <td>51.000000</td>\n",
              "      <td>1.580000</td>\n",
              "      <td>148.000000</td>\n",
              "    </tr>\n",
              "    <tr>\n",
              "      <th>25%</th>\n",
              "      <td>24.750000</td>\n",
              "      <td>61.000000</td>\n",
              "      <td>1.705000</td>\n",
              "      <td>194.000000</td>\n",
              "    </tr>\n",
              "    <tr>\n",
              "      <th>50%</th>\n",
              "      <td>35.000000</td>\n",
              "      <td>65.000000</td>\n",
              "      <td>1.755000</td>\n",
              "      <td>210.000000</td>\n",
              "    </tr>\n",
              "    <tr>\n",
              "      <th>75%</th>\n",
              "      <td>49.750000</td>\n",
              "      <td>78.000000</td>\n",
              "      <td>1.840000</td>\n",
              "      <td>249.000000</td>\n",
              "    </tr>\n",
              "    <tr>\n",
              "      <th>max</th>\n",
              "      <td>68.000000</td>\n",
              "      <td>109.000000</td>\n",
              "      <td>1.980000</td>\n",
              "      <td>280.000000</td>\n",
              "    </tr>\n",
              "  </tbody>\n",
              "</table>\n",
              "</div>\n",
              "      <button class=\"colab-df-convert\" onclick=\"convertToInteractive('df-b8854892-7165-4cad-893f-7dba9f2c08f5')\"\n",
              "              title=\"Convert this dataframe to an interactive table.\"\n",
              "              style=\"display:none;\">\n",
              "        \n",
              "  <svg xmlns=\"http://www.w3.org/2000/svg\" height=\"24px\"viewBox=\"0 0 24 24\"\n",
              "       width=\"24px\">\n",
              "    <path d=\"M0 0h24v24H0V0z\" fill=\"none\"/>\n",
              "    <path d=\"M18.56 5.44l.94 2.06.94-2.06 2.06-.94-2.06-.94-.94-2.06-.94 2.06-2.06.94zm-11 1L8.5 8.5l.94-2.06 2.06-.94-2.06-.94L8.5 2.5l-.94 2.06-2.06.94zm10 10l.94 2.06.94-2.06 2.06-.94-2.06-.94-.94-2.06-.94 2.06-2.06.94z\"/><path d=\"M17.41 7.96l-1.37-1.37c-.4-.4-.92-.59-1.43-.59-.52 0-1.04.2-1.43.59L10.3 9.45l-7.72 7.72c-.78.78-.78 2.05 0 2.83L4 21.41c.39.39.9.59 1.41.59.51 0 1.02-.2 1.41-.59l7.78-7.78 2.81-2.81c.8-.78.8-2.07 0-2.86zM5.41 20L4 18.59l7.72-7.72 1.47 1.35L5.41 20z\"/>\n",
              "  </svg>\n",
              "      </button>\n",
              "      \n",
              "  <style>\n",
              "    .colab-df-container {\n",
              "      display:flex;\n",
              "      flex-wrap:wrap;\n",
              "      gap: 12px;\n",
              "    }\n",
              "\n",
              "    .colab-df-convert {\n",
              "      background-color: #E8F0FE;\n",
              "      border: none;\n",
              "      border-radius: 50%;\n",
              "      cursor: pointer;\n",
              "      display: none;\n",
              "      fill: #1967D2;\n",
              "      height: 32px;\n",
              "      padding: 0 0 0 0;\n",
              "      width: 32px;\n",
              "    }\n",
              "\n",
              "    .colab-df-convert:hover {\n",
              "      background-color: #E2EBFA;\n",
              "      box-shadow: 0px 1px 2px rgba(60, 64, 67, 0.3), 0px 1px 3px 1px rgba(60, 64, 67, 0.15);\n",
              "      fill: #174EA6;\n",
              "    }\n",
              "\n",
              "    [theme=dark] .colab-df-convert {\n",
              "      background-color: #3B4455;\n",
              "      fill: #D2E3FC;\n",
              "    }\n",
              "\n",
              "    [theme=dark] .colab-df-convert:hover {\n",
              "      background-color: #434B5C;\n",
              "      box-shadow: 0px 1px 3px 1px rgba(0, 0, 0, 0.15);\n",
              "      filter: drop-shadow(0px 1px 2px rgba(0, 0, 0, 0.3));\n",
              "      fill: #FFFFFF;\n",
              "    }\n",
              "  </style>\n",
              "\n",
              "      <script>\n",
              "        const buttonEl =\n",
              "          document.querySelector('#df-b8854892-7165-4cad-893f-7dba9f2c08f5 button.colab-df-convert');\n",
              "        buttonEl.style.display =\n",
              "          google.colab.kernel.accessAllowed ? 'block' : 'none';\n",
              "\n",
              "        async function convertToInteractive(key) {\n",
              "          const element = document.querySelector('#df-b8854892-7165-4cad-893f-7dba9f2c08f5');\n",
              "          const dataTable =\n",
              "            await google.colab.kernel.invokeFunction('convertToInteractive',\n",
              "                                                     [key], {});\n",
              "          if (!dataTable) return;\n",
              "\n",
              "          const docLinkHtml = 'Like what you see? Visit the ' +\n",
              "            '<a target=\"_blank\" href=https://colab.research.google.com/notebooks/data_table.ipynb>data table notebook</a>'\n",
              "            + ' to learn more about interactive tables.';\n",
              "          element.innerHTML = '';\n",
              "          dataTable['output_type'] = 'display_data';\n",
              "          await google.colab.output.renderOutput(dataTable, element);\n",
              "          const docLink = document.createElement('div');\n",
              "          docLink.innerHTML = docLinkHtml;\n",
              "          element.appendChild(docLink);\n",
              "        }\n",
              "      </script>\n",
              "    </div>\n",
              "  </div>\n",
              "  "
            ]
          },
          "metadata": {},
          "execution_count": 3
        }
      ]
    },
    {
      "cell_type": "markdown",
      "source": [
        "### ➖ Añadir columnas a DataFrame"
      ],
      "metadata": {
        "id": "a9ThtZSD45hg"
      }
    },
    {
      "cell_type": "markdown",
      "source": [
        "El procedimiento para añadir una nueva columna a un DataFrame es similar al de añadir un nuevo par a un diccionario, pero pasando los valores de la columna en una lista o serie."
      ],
      "metadata": {
        "id": "B4WYrpeD5qyI"
      }
    },
    {
      "cell_type": "markdown",
      "source": [
        "***Añadiendo columnas desde una lista***\n",
        "\n",
        "```python\n",
        "df[nombre] = lista\n",
        "```\n",
        "\n",
        "Añade al DataFrame df una nueva columna con el nombre “nombre” y los valores de la lista “lista”. **La lista debe tener el mismo tamaño que el número de filas de df.**\n"
      ],
      "metadata": {
        "id": "DJB2IGkK5zwa"
      }
    },
    {
      "cell_type": "code",
      "source": [
        "#Añadir columnas desde una lista\n",
        "import pandas as pd\n",
        "df = pd.read_csv('https://raw.githubusercontent.com/asalber/manual-python/master/datos/colesteroles.csv', sep=\";\")\n",
        "df['diabetes'] = [False, True, False, False, True, True, True, False, False, True, True, False, True, False]\n",
        "df"
      ],
      "metadata": {
        "colab": {
          "base_uri": "https://localhost:8080/",
          "height": 488
        },
        "id": "5q-mBtMY5x8i",
        "outputId": "51f246e4-abe8-42dd-a97d-b225d760de96"
      },
      "execution_count": 16,
      "outputs": [
        {
          "output_type": "execute_result",
          "data": {
            "text/plain": [
              "                             nombre  edad sexo   peso altura  colesterol  \\\n",
              "0      José Luis Martínez Izquierdo    18    H   85.0   1,79       182.0   \n",
              "1                    Rosa Díaz Díaz    32    M   65.0   1,73       232.0   \n",
              "2             Javier García Sánchez    24    H    NaN   1,81       191.0   \n",
              "3               Carmen López Pinzón    35    M   65.0   1,70       200.0   \n",
              "4              Marisa López Collado    46    M   51.0   1,58       148.0   \n",
              "5                 Antonio Ruiz Cruz    68    H   66.0   1,74       249.0   \n",
              "6           Antonio Fernández Ocaña    51    H   62.0   1,72       276.0   \n",
              "7             Pilar Martín González    22    M   60.0   1,66         NaN   \n",
              "8              Pedro Gálvez Tenorio    35    H   90.0   1,94       241.0   \n",
              "9           Santiago Reillo Manzano    46    H   75.0   1,85       280.0   \n",
              "10            Macarena Álvarez Luna    53    M   55.0   1,62       262.0   \n",
              "11       José María de la Guía Sanz    58    H   78.0   1,87       198.0   \n",
              "12  Miguel Angel Cuadrado Gutiérrez    27    H  109.0   1,98       210.0   \n",
              "13            Carolina Rubio Moreno    20    M   61.0   1,77       194.0   \n",
              "\n",
              "    diabetes  \n",
              "0      False  \n",
              "1       True  \n",
              "2      False  \n",
              "3      False  \n",
              "4       True  \n",
              "5       True  \n",
              "6       True  \n",
              "7      False  \n",
              "8      False  \n",
              "9       True  \n",
              "10      True  \n",
              "11     False  \n",
              "12      True  \n",
              "13     False  "
            ],
            "text/html": [
              "\n",
              "  <div id=\"df-b0a75ec1-135d-4e8a-b16d-556c1b7ea962\">\n",
              "    <div class=\"colab-df-container\">\n",
              "      <div>\n",
              "<style scoped>\n",
              "    .dataframe tbody tr th:only-of-type {\n",
              "        vertical-align: middle;\n",
              "    }\n",
              "\n",
              "    .dataframe tbody tr th {\n",
              "        vertical-align: top;\n",
              "    }\n",
              "\n",
              "    .dataframe thead th {\n",
              "        text-align: right;\n",
              "    }\n",
              "</style>\n",
              "<table border=\"1\" class=\"dataframe\">\n",
              "  <thead>\n",
              "    <tr style=\"text-align: right;\">\n",
              "      <th></th>\n",
              "      <th>nombre</th>\n",
              "      <th>edad</th>\n",
              "      <th>sexo</th>\n",
              "      <th>peso</th>\n",
              "      <th>altura</th>\n",
              "      <th>colesterol</th>\n",
              "      <th>diabetes</th>\n",
              "    </tr>\n",
              "  </thead>\n",
              "  <tbody>\n",
              "    <tr>\n",
              "      <th>0</th>\n",
              "      <td>José Luis Martínez Izquierdo</td>\n",
              "      <td>18</td>\n",
              "      <td>H</td>\n",
              "      <td>85.0</td>\n",
              "      <td>1,79</td>\n",
              "      <td>182.0</td>\n",
              "      <td>False</td>\n",
              "    </tr>\n",
              "    <tr>\n",
              "      <th>1</th>\n",
              "      <td>Rosa Díaz Díaz</td>\n",
              "      <td>32</td>\n",
              "      <td>M</td>\n",
              "      <td>65.0</td>\n",
              "      <td>1,73</td>\n",
              "      <td>232.0</td>\n",
              "      <td>True</td>\n",
              "    </tr>\n",
              "    <tr>\n",
              "      <th>2</th>\n",
              "      <td>Javier García Sánchez</td>\n",
              "      <td>24</td>\n",
              "      <td>H</td>\n",
              "      <td>NaN</td>\n",
              "      <td>1,81</td>\n",
              "      <td>191.0</td>\n",
              "      <td>False</td>\n",
              "    </tr>\n",
              "    <tr>\n",
              "      <th>3</th>\n",
              "      <td>Carmen López Pinzón</td>\n",
              "      <td>35</td>\n",
              "      <td>M</td>\n",
              "      <td>65.0</td>\n",
              "      <td>1,70</td>\n",
              "      <td>200.0</td>\n",
              "      <td>False</td>\n",
              "    </tr>\n",
              "    <tr>\n",
              "      <th>4</th>\n",
              "      <td>Marisa López Collado</td>\n",
              "      <td>46</td>\n",
              "      <td>M</td>\n",
              "      <td>51.0</td>\n",
              "      <td>1,58</td>\n",
              "      <td>148.0</td>\n",
              "      <td>True</td>\n",
              "    </tr>\n",
              "    <tr>\n",
              "      <th>5</th>\n",
              "      <td>Antonio Ruiz Cruz</td>\n",
              "      <td>68</td>\n",
              "      <td>H</td>\n",
              "      <td>66.0</td>\n",
              "      <td>1,74</td>\n",
              "      <td>249.0</td>\n",
              "      <td>True</td>\n",
              "    </tr>\n",
              "    <tr>\n",
              "      <th>6</th>\n",
              "      <td>Antonio Fernández Ocaña</td>\n",
              "      <td>51</td>\n",
              "      <td>H</td>\n",
              "      <td>62.0</td>\n",
              "      <td>1,72</td>\n",
              "      <td>276.0</td>\n",
              "      <td>True</td>\n",
              "    </tr>\n",
              "    <tr>\n",
              "      <th>7</th>\n",
              "      <td>Pilar Martín González</td>\n",
              "      <td>22</td>\n",
              "      <td>M</td>\n",
              "      <td>60.0</td>\n",
              "      <td>1,66</td>\n",
              "      <td>NaN</td>\n",
              "      <td>False</td>\n",
              "    </tr>\n",
              "    <tr>\n",
              "      <th>8</th>\n",
              "      <td>Pedro Gálvez Tenorio</td>\n",
              "      <td>35</td>\n",
              "      <td>H</td>\n",
              "      <td>90.0</td>\n",
              "      <td>1,94</td>\n",
              "      <td>241.0</td>\n",
              "      <td>False</td>\n",
              "    </tr>\n",
              "    <tr>\n",
              "      <th>9</th>\n",
              "      <td>Santiago Reillo Manzano</td>\n",
              "      <td>46</td>\n",
              "      <td>H</td>\n",
              "      <td>75.0</td>\n",
              "      <td>1,85</td>\n",
              "      <td>280.0</td>\n",
              "      <td>True</td>\n",
              "    </tr>\n",
              "    <tr>\n",
              "      <th>10</th>\n",
              "      <td>Macarena Álvarez Luna</td>\n",
              "      <td>53</td>\n",
              "      <td>M</td>\n",
              "      <td>55.0</td>\n",
              "      <td>1,62</td>\n",
              "      <td>262.0</td>\n",
              "      <td>True</td>\n",
              "    </tr>\n",
              "    <tr>\n",
              "      <th>11</th>\n",
              "      <td>José María de la Guía Sanz</td>\n",
              "      <td>58</td>\n",
              "      <td>H</td>\n",
              "      <td>78.0</td>\n",
              "      <td>1,87</td>\n",
              "      <td>198.0</td>\n",
              "      <td>False</td>\n",
              "    </tr>\n",
              "    <tr>\n",
              "      <th>12</th>\n",
              "      <td>Miguel Angel Cuadrado Gutiérrez</td>\n",
              "      <td>27</td>\n",
              "      <td>H</td>\n",
              "      <td>109.0</td>\n",
              "      <td>1,98</td>\n",
              "      <td>210.0</td>\n",
              "      <td>True</td>\n",
              "    </tr>\n",
              "    <tr>\n",
              "      <th>13</th>\n",
              "      <td>Carolina Rubio Moreno</td>\n",
              "      <td>20</td>\n",
              "      <td>M</td>\n",
              "      <td>61.0</td>\n",
              "      <td>1,77</td>\n",
              "      <td>194.0</td>\n",
              "      <td>False</td>\n",
              "    </tr>\n",
              "  </tbody>\n",
              "</table>\n",
              "</div>\n",
              "      <button class=\"colab-df-convert\" onclick=\"convertToInteractive('df-b0a75ec1-135d-4e8a-b16d-556c1b7ea962')\"\n",
              "              title=\"Convert this dataframe to an interactive table.\"\n",
              "              style=\"display:none;\">\n",
              "        \n",
              "  <svg xmlns=\"http://www.w3.org/2000/svg\" height=\"24px\"viewBox=\"0 0 24 24\"\n",
              "       width=\"24px\">\n",
              "    <path d=\"M0 0h24v24H0V0z\" fill=\"none\"/>\n",
              "    <path d=\"M18.56 5.44l.94 2.06.94-2.06 2.06-.94-2.06-.94-.94-2.06-.94 2.06-2.06.94zm-11 1L8.5 8.5l.94-2.06 2.06-.94-2.06-.94L8.5 2.5l-.94 2.06-2.06.94zm10 10l.94 2.06.94-2.06 2.06-.94-2.06-.94-.94-2.06-.94 2.06-2.06.94z\"/><path d=\"M17.41 7.96l-1.37-1.37c-.4-.4-.92-.59-1.43-.59-.52 0-1.04.2-1.43.59L10.3 9.45l-7.72 7.72c-.78.78-.78 2.05 0 2.83L4 21.41c.39.39.9.59 1.41.59.51 0 1.02-.2 1.41-.59l7.78-7.78 2.81-2.81c.8-.78.8-2.07 0-2.86zM5.41 20L4 18.59l7.72-7.72 1.47 1.35L5.41 20z\"/>\n",
              "  </svg>\n",
              "      </button>\n",
              "      \n",
              "  <style>\n",
              "    .colab-df-container {\n",
              "      display:flex;\n",
              "      flex-wrap:wrap;\n",
              "      gap: 12px;\n",
              "    }\n",
              "\n",
              "    .colab-df-convert {\n",
              "      background-color: #E8F0FE;\n",
              "      border: none;\n",
              "      border-radius: 50%;\n",
              "      cursor: pointer;\n",
              "      display: none;\n",
              "      fill: #1967D2;\n",
              "      height: 32px;\n",
              "      padding: 0 0 0 0;\n",
              "      width: 32px;\n",
              "    }\n",
              "\n",
              "    .colab-df-convert:hover {\n",
              "      background-color: #E2EBFA;\n",
              "      box-shadow: 0px 1px 2px rgba(60, 64, 67, 0.3), 0px 1px 3px 1px rgba(60, 64, 67, 0.15);\n",
              "      fill: #174EA6;\n",
              "    }\n",
              "\n",
              "    [theme=dark] .colab-df-convert {\n",
              "      background-color: #3B4455;\n",
              "      fill: #D2E3FC;\n",
              "    }\n",
              "\n",
              "    [theme=dark] .colab-df-convert:hover {\n",
              "      background-color: #434B5C;\n",
              "      box-shadow: 0px 1px 3px 1px rgba(0, 0, 0, 0.15);\n",
              "      filter: drop-shadow(0px 1px 2px rgba(0, 0, 0, 0.3));\n",
              "      fill: #FFFFFF;\n",
              "    }\n",
              "  </style>\n",
              "\n",
              "      <script>\n",
              "        const buttonEl =\n",
              "          document.querySelector('#df-b0a75ec1-135d-4e8a-b16d-556c1b7ea962 button.colab-df-convert');\n",
              "        buttonEl.style.display =\n",
              "          google.colab.kernel.accessAllowed ? 'block' : 'none';\n",
              "\n",
              "        async function convertToInteractive(key) {\n",
              "          const element = document.querySelector('#df-b0a75ec1-135d-4e8a-b16d-556c1b7ea962');\n",
              "          const dataTable =\n",
              "            await google.colab.kernel.invokeFunction('convertToInteractive',\n",
              "                                                     [key], {});\n",
              "          if (!dataTable) return;\n",
              "\n",
              "          const docLinkHtml = 'Like what you see? Visit the ' +\n",
              "            '<a target=\"_blank\" href=https://colab.research.google.com/notebooks/data_table.ipynb>data table notebook</a>'\n",
              "            + ' to learn more about interactive tables.';\n",
              "          element.innerHTML = '';\n",
              "          dataTable['output_type'] = 'display_data';\n",
              "          await google.colab.output.renderOutput(dataTable, element);\n",
              "          const docLink = document.createElement('div');\n",
              "          docLink.innerHTML = docLinkHtml;\n",
              "          element.appendChild(docLink);\n",
              "        }\n",
              "      </script>\n",
              "    </div>\n",
              "  </div>\n",
              "  "
            ]
          },
          "metadata": {},
          "execution_count": 16
        }
      ]
    },
    {
      "cell_type": "markdown",
      "source": [
        "***Añadiendo columnas desde una serie***\n",
        "\n",
        "```python\n",
        "df[nombre] = serie\n",
        "```\n",
        "\n",
        "Añade al DataFrame df una nueva columna con el nombre “nombre” y los valores de la serie “serie”. **Si el tamaño de la serie es menor que el número de filas de df se rellena con valores NaN mientras que si es mayor se recorta.**"
      ],
      "metadata": {
        "id": "X2ziL_sd7KMH"
      }
    },
    {
      "cell_type": "code",
      "source": [
        "#Añadir columna desde una serie\n",
        "import pandas as pd\n",
        "df = pd.read_csv('https://raw.githubusercontent.com/asalber/manual-python/master/datos/colesteroles.csv', sep=\";\")\n",
        "df['diabetes'] = pd.Series([False, True, False, False,])\n",
        "df"
      ],
      "metadata": {
        "colab": {
          "base_uri": "https://localhost:8080/",
          "height": 488
        },
        "id": "vsGLUnfS7PrK",
        "outputId": "70834981-35f7-4522-a683-20dc2e40929e"
      },
      "execution_count": 17,
      "outputs": [
        {
          "output_type": "execute_result",
          "data": {
            "text/plain": [
              "                             nombre  edad sexo   peso altura  colesterol  \\\n",
              "0      José Luis Martínez Izquierdo    18    H   85.0   1,79       182.0   \n",
              "1                    Rosa Díaz Díaz    32    M   65.0   1,73       232.0   \n",
              "2             Javier García Sánchez    24    H    NaN   1,81       191.0   \n",
              "3               Carmen López Pinzón    35    M   65.0   1,70       200.0   \n",
              "4              Marisa López Collado    46    M   51.0   1,58       148.0   \n",
              "5                 Antonio Ruiz Cruz    68    H   66.0   1,74       249.0   \n",
              "6           Antonio Fernández Ocaña    51    H   62.0   1,72       276.0   \n",
              "7             Pilar Martín González    22    M   60.0   1,66         NaN   \n",
              "8              Pedro Gálvez Tenorio    35    H   90.0   1,94       241.0   \n",
              "9           Santiago Reillo Manzano    46    H   75.0   1,85       280.0   \n",
              "10            Macarena Álvarez Luna    53    M   55.0   1,62       262.0   \n",
              "11       José María de la Guía Sanz    58    H   78.0   1,87       198.0   \n",
              "12  Miguel Angel Cuadrado Gutiérrez    27    H  109.0   1,98       210.0   \n",
              "13            Carolina Rubio Moreno    20    M   61.0   1,77       194.0   \n",
              "\n",
              "   diabetes  \n",
              "0     False  \n",
              "1      True  \n",
              "2     False  \n",
              "3     False  \n",
              "4       NaN  \n",
              "5       NaN  \n",
              "6       NaN  \n",
              "7       NaN  \n",
              "8       NaN  \n",
              "9       NaN  \n",
              "10      NaN  \n",
              "11      NaN  \n",
              "12      NaN  \n",
              "13      NaN  "
            ],
            "text/html": [
              "\n",
              "  <div id=\"df-c54680f4-2e27-4921-815c-1b1a105465fb\">\n",
              "    <div class=\"colab-df-container\">\n",
              "      <div>\n",
              "<style scoped>\n",
              "    .dataframe tbody tr th:only-of-type {\n",
              "        vertical-align: middle;\n",
              "    }\n",
              "\n",
              "    .dataframe tbody tr th {\n",
              "        vertical-align: top;\n",
              "    }\n",
              "\n",
              "    .dataframe thead th {\n",
              "        text-align: right;\n",
              "    }\n",
              "</style>\n",
              "<table border=\"1\" class=\"dataframe\">\n",
              "  <thead>\n",
              "    <tr style=\"text-align: right;\">\n",
              "      <th></th>\n",
              "      <th>nombre</th>\n",
              "      <th>edad</th>\n",
              "      <th>sexo</th>\n",
              "      <th>peso</th>\n",
              "      <th>altura</th>\n",
              "      <th>colesterol</th>\n",
              "      <th>diabetes</th>\n",
              "    </tr>\n",
              "  </thead>\n",
              "  <tbody>\n",
              "    <tr>\n",
              "      <th>0</th>\n",
              "      <td>José Luis Martínez Izquierdo</td>\n",
              "      <td>18</td>\n",
              "      <td>H</td>\n",
              "      <td>85.0</td>\n",
              "      <td>1,79</td>\n",
              "      <td>182.0</td>\n",
              "      <td>False</td>\n",
              "    </tr>\n",
              "    <tr>\n",
              "      <th>1</th>\n",
              "      <td>Rosa Díaz Díaz</td>\n",
              "      <td>32</td>\n",
              "      <td>M</td>\n",
              "      <td>65.0</td>\n",
              "      <td>1,73</td>\n",
              "      <td>232.0</td>\n",
              "      <td>True</td>\n",
              "    </tr>\n",
              "    <tr>\n",
              "      <th>2</th>\n",
              "      <td>Javier García Sánchez</td>\n",
              "      <td>24</td>\n",
              "      <td>H</td>\n",
              "      <td>NaN</td>\n",
              "      <td>1,81</td>\n",
              "      <td>191.0</td>\n",
              "      <td>False</td>\n",
              "    </tr>\n",
              "    <tr>\n",
              "      <th>3</th>\n",
              "      <td>Carmen López Pinzón</td>\n",
              "      <td>35</td>\n",
              "      <td>M</td>\n",
              "      <td>65.0</td>\n",
              "      <td>1,70</td>\n",
              "      <td>200.0</td>\n",
              "      <td>False</td>\n",
              "    </tr>\n",
              "    <tr>\n",
              "      <th>4</th>\n",
              "      <td>Marisa López Collado</td>\n",
              "      <td>46</td>\n",
              "      <td>M</td>\n",
              "      <td>51.0</td>\n",
              "      <td>1,58</td>\n",
              "      <td>148.0</td>\n",
              "      <td>NaN</td>\n",
              "    </tr>\n",
              "    <tr>\n",
              "      <th>5</th>\n",
              "      <td>Antonio Ruiz Cruz</td>\n",
              "      <td>68</td>\n",
              "      <td>H</td>\n",
              "      <td>66.0</td>\n",
              "      <td>1,74</td>\n",
              "      <td>249.0</td>\n",
              "      <td>NaN</td>\n",
              "    </tr>\n",
              "    <tr>\n",
              "      <th>6</th>\n",
              "      <td>Antonio Fernández Ocaña</td>\n",
              "      <td>51</td>\n",
              "      <td>H</td>\n",
              "      <td>62.0</td>\n",
              "      <td>1,72</td>\n",
              "      <td>276.0</td>\n",
              "      <td>NaN</td>\n",
              "    </tr>\n",
              "    <tr>\n",
              "      <th>7</th>\n",
              "      <td>Pilar Martín González</td>\n",
              "      <td>22</td>\n",
              "      <td>M</td>\n",
              "      <td>60.0</td>\n",
              "      <td>1,66</td>\n",
              "      <td>NaN</td>\n",
              "      <td>NaN</td>\n",
              "    </tr>\n",
              "    <tr>\n",
              "      <th>8</th>\n",
              "      <td>Pedro Gálvez Tenorio</td>\n",
              "      <td>35</td>\n",
              "      <td>H</td>\n",
              "      <td>90.0</td>\n",
              "      <td>1,94</td>\n",
              "      <td>241.0</td>\n",
              "      <td>NaN</td>\n",
              "    </tr>\n",
              "    <tr>\n",
              "      <th>9</th>\n",
              "      <td>Santiago Reillo Manzano</td>\n",
              "      <td>46</td>\n",
              "      <td>H</td>\n",
              "      <td>75.0</td>\n",
              "      <td>1,85</td>\n",
              "      <td>280.0</td>\n",
              "      <td>NaN</td>\n",
              "    </tr>\n",
              "    <tr>\n",
              "      <th>10</th>\n",
              "      <td>Macarena Álvarez Luna</td>\n",
              "      <td>53</td>\n",
              "      <td>M</td>\n",
              "      <td>55.0</td>\n",
              "      <td>1,62</td>\n",
              "      <td>262.0</td>\n",
              "      <td>NaN</td>\n",
              "    </tr>\n",
              "    <tr>\n",
              "      <th>11</th>\n",
              "      <td>José María de la Guía Sanz</td>\n",
              "      <td>58</td>\n",
              "      <td>H</td>\n",
              "      <td>78.0</td>\n",
              "      <td>1,87</td>\n",
              "      <td>198.0</td>\n",
              "      <td>NaN</td>\n",
              "    </tr>\n",
              "    <tr>\n",
              "      <th>12</th>\n",
              "      <td>Miguel Angel Cuadrado Gutiérrez</td>\n",
              "      <td>27</td>\n",
              "      <td>H</td>\n",
              "      <td>109.0</td>\n",
              "      <td>1,98</td>\n",
              "      <td>210.0</td>\n",
              "      <td>NaN</td>\n",
              "    </tr>\n",
              "    <tr>\n",
              "      <th>13</th>\n",
              "      <td>Carolina Rubio Moreno</td>\n",
              "      <td>20</td>\n",
              "      <td>M</td>\n",
              "      <td>61.0</td>\n",
              "      <td>1,77</td>\n",
              "      <td>194.0</td>\n",
              "      <td>NaN</td>\n",
              "    </tr>\n",
              "  </tbody>\n",
              "</table>\n",
              "</div>\n",
              "      <button class=\"colab-df-convert\" onclick=\"convertToInteractive('df-c54680f4-2e27-4921-815c-1b1a105465fb')\"\n",
              "              title=\"Convert this dataframe to an interactive table.\"\n",
              "              style=\"display:none;\">\n",
              "        \n",
              "  <svg xmlns=\"http://www.w3.org/2000/svg\" height=\"24px\"viewBox=\"0 0 24 24\"\n",
              "       width=\"24px\">\n",
              "    <path d=\"M0 0h24v24H0V0z\" fill=\"none\"/>\n",
              "    <path d=\"M18.56 5.44l.94 2.06.94-2.06 2.06-.94-2.06-.94-.94-2.06-.94 2.06-2.06.94zm-11 1L8.5 8.5l.94-2.06 2.06-.94-2.06-.94L8.5 2.5l-.94 2.06-2.06.94zm10 10l.94 2.06.94-2.06 2.06-.94-2.06-.94-.94-2.06-.94 2.06-2.06.94z\"/><path d=\"M17.41 7.96l-1.37-1.37c-.4-.4-.92-.59-1.43-.59-.52 0-1.04.2-1.43.59L10.3 9.45l-7.72 7.72c-.78.78-.78 2.05 0 2.83L4 21.41c.39.39.9.59 1.41.59.51 0 1.02-.2 1.41-.59l7.78-7.78 2.81-2.81c.8-.78.8-2.07 0-2.86zM5.41 20L4 18.59l7.72-7.72 1.47 1.35L5.41 20z\"/>\n",
              "  </svg>\n",
              "      </button>\n",
              "      \n",
              "  <style>\n",
              "    .colab-df-container {\n",
              "      display:flex;\n",
              "      flex-wrap:wrap;\n",
              "      gap: 12px;\n",
              "    }\n",
              "\n",
              "    .colab-df-convert {\n",
              "      background-color: #E8F0FE;\n",
              "      border: none;\n",
              "      border-radius: 50%;\n",
              "      cursor: pointer;\n",
              "      display: none;\n",
              "      fill: #1967D2;\n",
              "      height: 32px;\n",
              "      padding: 0 0 0 0;\n",
              "      width: 32px;\n",
              "    }\n",
              "\n",
              "    .colab-df-convert:hover {\n",
              "      background-color: #E2EBFA;\n",
              "      box-shadow: 0px 1px 2px rgba(60, 64, 67, 0.3), 0px 1px 3px 1px rgba(60, 64, 67, 0.15);\n",
              "      fill: #174EA6;\n",
              "    }\n",
              "\n",
              "    [theme=dark] .colab-df-convert {\n",
              "      background-color: #3B4455;\n",
              "      fill: #D2E3FC;\n",
              "    }\n",
              "\n",
              "    [theme=dark] .colab-df-convert:hover {\n",
              "      background-color: #434B5C;\n",
              "      box-shadow: 0px 1px 3px 1px rgba(0, 0, 0, 0.15);\n",
              "      filter: drop-shadow(0px 1px 2px rgba(0, 0, 0, 0.3));\n",
              "      fill: #FFFFFF;\n",
              "    }\n",
              "  </style>\n",
              "\n",
              "      <script>\n",
              "        const buttonEl =\n",
              "          document.querySelector('#df-c54680f4-2e27-4921-815c-1b1a105465fb button.colab-df-convert');\n",
              "        buttonEl.style.display =\n",
              "          google.colab.kernel.accessAllowed ? 'block' : 'none';\n",
              "\n",
              "        async function convertToInteractive(key) {\n",
              "          const element = document.querySelector('#df-c54680f4-2e27-4921-815c-1b1a105465fb');\n",
              "          const dataTable =\n",
              "            await google.colab.kernel.invokeFunction('convertToInteractive',\n",
              "                                                     [key], {});\n",
              "          if (!dataTable) return;\n",
              "\n",
              "          const docLinkHtml = 'Like what you see? Visit the ' +\n",
              "            '<a target=\"_blank\" href=https://colab.research.google.com/notebooks/data_table.ipynb>data table notebook</a>'\n",
              "            + ' to learn more about interactive tables.';\n",
              "          element.innerHTML = '';\n",
              "          dataTable['output_type'] = 'display_data';\n",
              "          await google.colab.output.renderOutput(dataTable, element);\n",
              "          const docLink = document.createElement('div');\n",
              "          docLink.innerHTML = docLinkHtml;\n",
              "          element.appendChild(docLink);\n",
              "        }\n",
              "      </script>\n",
              "    </div>\n",
              "  </div>\n",
              "  "
            ]
          },
          "metadata": {},
          "execution_count": 17
        }
      ]
    },
    {
      "cell_type": "markdown",
      "source": [
        "### ➖ Eliminar columnas a DataFrame"
      ],
      "metadata": {
        "id": "TJ6U9gkEGsur"
      }
    },
    {
      "cell_type": "markdown",
      "source": [
        "Para eliminar columnas de un DataFrame se utiliza el siguient método"
      ],
      "metadata": {
        "id": "lRPAR5gHGwVo"
      }
    },
    {
      "cell_type": "markdown",
      "source": [
        "**del d[nombre]** \n",
        "\n",
        "Elimina la columna con nombre nombre del DataFrame df."
      ],
      "metadata": {
        "id": "cjXtQ96THHsh"
      }
    },
    {
      "cell_type": "code",
      "source": [
        "#Eliminar columna de un Dataframe\n",
        "import pandas as pd\n",
        "df = pd.read_csv('https://raw.githubusercontent.com/asalber/manual-python/master/datos/colesterol.csv')\n",
        "del df['edad']\n",
        "print(df.head())"
      ],
      "metadata": {
        "colab": {
          "base_uri": "https://localhost:8080/"
        },
        "id": "RgJMVf3jG4tw",
        "outputId": "ffd5a881-e160-40e1-8eff-d0a9240ef7d9"
      },
      "execution_count": 5,
      "outputs": [
        {
          "output_type": "stream",
          "name": "stdout",
          "text": [
            "                         nombre sexo  peso  altura  colesterol\n",
            "0  José Luis Martínez Izquierdo    H  85.0    1.79       182.0\n",
            "1                Rosa Díaz Díaz    M  65.0    1.73       232.0\n",
            "2         Javier García Sánchez    H   NaN    1.81       191.0\n",
            "3           Carmen López Pinzón    M  65.0    1.70       200.0\n",
            "4          Marisa López Collado    M  51.0    1.58       148.0\n"
          ]
        }
      ]
    },
    {
      "cell_type": "markdown",
      "source": [
        "### ➖ Operaciones sobre columnas"
      ],
      "metadata": {
        "id": "X4BZDc-A9MEZ"
      }
    },
    {
      "cell_type": "markdown",
      "source": [
        "Puesto que los datos de una misma columna de un DataFrame son del mismo tipo, es fácil aplicar la misma operación a todos los elementos de la columna de forma vectorizada.\n",
        "```python\n",
        "df[columna] operador operando\n",
        "\n",
        "```\n",
        "el operador puede ser *, /, +, -, **, //, %, ==,!= y etc\n",
        "y el operando es con lo que queremos hacer la modificación a la columna.\n"
      ],
      "metadata": {
        "id": "-hrjIcOU9Usm"
      }
    },
    {
      "cell_type": "code",
      "source": [
        "#Ejemplo operaciones vectorizadas\n",
        "import pandas as pd\n",
        "df = pd.read_csv('https://raw.githubusercontent.com/asalber/manual-python/master/datos/colesterol.csv') #Notar que es un DataFrame similar pero no igual por que lleva otros separadores\n",
        "df['edad']*100"
      ],
      "metadata": {
        "colab": {
          "base_uri": "https://localhost:8080/"
        },
        "id": "mLlnUjmT9gUO",
        "outputId": "ae0250d7-d680-442e-e66e-4c31a760fdf5"
      },
      "execution_count": 51,
      "outputs": [
        {
          "output_type": "execute_result",
          "data": {
            "text/plain": [
              "0     1800\n",
              "1     3200\n",
              "2     2400\n",
              "3     3500\n",
              "4     4600\n",
              "5     6800\n",
              "6     5100\n",
              "7     2200\n",
              "8     3500\n",
              "9     4600\n",
              "10    5300\n",
              "11    5800\n",
              "12    2700\n",
              "13    2000\n",
              "Name: edad, dtype: int64"
            ]
          },
          "metadata": {},
          "execution_count": 51
        }
      ]
    },
    {
      "cell_type": "markdown",
      "source": [
        "## 📐 Métodos útiles de DataFrame"
      ],
      "metadata": {
        "id": "hilEMTGvRT8Q"
      }
    },
    {
      "cell_type": "markdown",
      "source": [
        "### ➖ Aplicar funciones a columnas"
      ],
      "metadata": {
        "id": "iAm6b5jq-Rh1"
      }
    },
    {
      "cell_type": "markdown",
      "source": [
        "Para aplicar funciones a todos los elementos de una columna se utiliza el siguiente método:\n",
        "\n",
        "```python\n",
        "df[columna].apply(f)\n",
        "```\n",
        "Devuelve una serie con los valores que resulta de aplicar la función f a los elementos de la columna con nombre columna del DataFrame df."
      ],
      "metadata": {
        "id": "bL8T1pIo-XY-"
      }
    },
    {
      "cell_type": "code",
      "source": [
        "#Ejemplo aplicar función a columna\n",
        "import pandas as pd\n",
        "from math import log\n",
        "df = pd.read_csv('https://raw.githubusercontent.com/asalber/manual-python/master/datos/colesterol.csv')\n",
        "df['edad'].apply(log)"
      ],
      "metadata": {
        "colab": {
          "base_uri": "https://localhost:8080/"
        },
        "id": "uhI2xsL4-VG3",
        "outputId": "21659c46-c872-4e33-c6dd-b229196ec09d"
      },
      "execution_count": 49,
      "outputs": [
        {
          "output_type": "execute_result",
          "data": {
            "text/plain": [
              "0     2.890372\n",
              "1     3.465736\n",
              "2     3.178054\n",
              "3     3.555348\n",
              "4     3.828641\n",
              "5     4.219508\n",
              "6     3.931826\n",
              "7     3.091042\n",
              "8     3.555348\n",
              "9     3.828641\n",
              "10    3.970292\n",
              "11    4.060443\n",
              "12    3.295837\n",
              "13    2.995732\n",
              "Name: edad, dtype: float64"
            ]
          },
          "metadata": {},
          "execution_count": 49
        }
      ]
    },
    {
      "cell_type": "markdown",
      "source": [
        "### ➖ Filtrar las filas de un DataFrame"
      ],
      "metadata": {
        "id": "5-gkIjVML9Oe"
      }
    },
    {
      "cell_type": "markdown",
      "source": [
        "Una operación bastante común con un DataFrame es obtener las filas que cumplen una determinada condición.\n",
        "```python\n",
        "df[condicion]\n",
        "```\n",
        "Devuelve un DataFrame con las filas del DataFrame df que se corresponden con el valor True de la lista booleana condicion. condicion debe ser una lista de valores booleanos de la misma longitud que el número de filas del DataFrame.\n"
      ],
      "metadata": {
        "id": "JxUSbxcjMBbJ"
      }
    },
    {
      "cell_type": "code",
      "source": [
        "#Ejemplo filtrar filas de un Dataframe\n",
        "import pandas as pd\n",
        "df = pd.read_csv('https://raw.githubusercontent.com/asalber/manual-python/master/datos/colesterol.csv')\n",
        "df[(df['sexo']=='H') & (df['colesterol']>260)]"
      ],
      "metadata": {
        "colab": {
          "base_uri": "https://localhost:8080/",
          "height": 112
        },
        "id": "kiQ4kab1MPSH",
        "outputId": "7dd1ece6-b17e-4b4f-d762-838302b690d4"
      },
      "execution_count": 7,
      "outputs": [
        {
          "output_type": "execute_result",
          "data": {
            "text/plain": [
              "                    nombre  edad sexo  peso  altura  colesterol\n",
              "6  Antonio Fernández Ocaña    51    H  62.0    1.72       276.0\n",
              "9  Santiago Reillo Manzano    46    H  75.0    1.85       280.0"
            ],
            "text/html": [
              "\n",
              "  <div id=\"df-3de6079c-117f-46f1-b58f-bec859b0039d\">\n",
              "    <div class=\"colab-df-container\">\n",
              "      <div>\n",
              "<style scoped>\n",
              "    .dataframe tbody tr th:only-of-type {\n",
              "        vertical-align: middle;\n",
              "    }\n",
              "\n",
              "    .dataframe tbody tr th {\n",
              "        vertical-align: top;\n",
              "    }\n",
              "\n",
              "    .dataframe thead th {\n",
              "        text-align: right;\n",
              "    }\n",
              "</style>\n",
              "<table border=\"1\" class=\"dataframe\">\n",
              "  <thead>\n",
              "    <tr style=\"text-align: right;\">\n",
              "      <th></th>\n",
              "      <th>nombre</th>\n",
              "      <th>edad</th>\n",
              "      <th>sexo</th>\n",
              "      <th>peso</th>\n",
              "      <th>altura</th>\n",
              "      <th>colesterol</th>\n",
              "    </tr>\n",
              "  </thead>\n",
              "  <tbody>\n",
              "    <tr>\n",
              "      <th>6</th>\n",
              "      <td>Antonio Fernández Ocaña</td>\n",
              "      <td>51</td>\n",
              "      <td>H</td>\n",
              "      <td>62.0</td>\n",
              "      <td>1.72</td>\n",
              "      <td>276.0</td>\n",
              "    </tr>\n",
              "    <tr>\n",
              "      <th>9</th>\n",
              "      <td>Santiago Reillo Manzano</td>\n",
              "      <td>46</td>\n",
              "      <td>H</td>\n",
              "      <td>75.0</td>\n",
              "      <td>1.85</td>\n",
              "      <td>280.0</td>\n",
              "    </tr>\n",
              "  </tbody>\n",
              "</table>\n",
              "</div>\n",
              "      <button class=\"colab-df-convert\" onclick=\"convertToInteractive('df-3de6079c-117f-46f1-b58f-bec859b0039d')\"\n",
              "              title=\"Convert this dataframe to an interactive table.\"\n",
              "              style=\"display:none;\">\n",
              "        \n",
              "  <svg xmlns=\"http://www.w3.org/2000/svg\" height=\"24px\"viewBox=\"0 0 24 24\"\n",
              "       width=\"24px\">\n",
              "    <path d=\"M0 0h24v24H0V0z\" fill=\"none\"/>\n",
              "    <path d=\"M18.56 5.44l.94 2.06.94-2.06 2.06-.94-2.06-.94-.94-2.06-.94 2.06-2.06.94zm-11 1L8.5 8.5l.94-2.06 2.06-.94-2.06-.94L8.5 2.5l-.94 2.06-2.06.94zm10 10l.94 2.06.94-2.06 2.06-.94-2.06-.94-.94-2.06-.94 2.06-2.06.94z\"/><path d=\"M17.41 7.96l-1.37-1.37c-.4-.4-.92-.59-1.43-.59-.52 0-1.04.2-1.43.59L10.3 9.45l-7.72 7.72c-.78.78-.78 2.05 0 2.83L4 21.41c.39.39.9.59 1.41.59.51 0 1.02-.2 1.41-.59l7.78-7.78 2.81-2.81c.8-.78.8-2.07 0-2.86zM5.41 20L4 18.59l7.72-7.72 1.47 1.35L5.41 20z\"/>\n",
              "  </svg>\n",
              "      </button>\n",
              "      \n",
              "  <style>\n",
              "    .colab-df-container {\n",
              "      display:flex;\n",
              "      flex-wrap:wrap;\n",
              "      gap: 12px;\n",
              "    }\n",
              "\n",
              "    .colab-df-convert {\n",
              "      background-color: #E8F0FE;\n",
              "      border: none;\n",
              "      border-radius: 50%;\n",
              "      cursor: pointer;\n",
              "      display: none;\n",
              "      fill: #1967D2;\n",
              "      height: 32px;\n",
              "      padding: 0 0 0 0;\n",
              "      width: 32px;\n",
              "    }\n",
              "\n",
              "    .colab-df-convert:hover {\n",
              "      background-color: #E2EBFA;\n",
              "      box-shadow: 0px 1px 2px rgba(60, 64, 67, 0.3), 0px 1px 3px 1px rgba(60, 64, 67, 0.15);\n",
              "      fill: #174EA6;\n",
              "    }\n",
              "\n",
              "    [theme=dark] .colab-df-convert {\n",
              "      background-color: #3B4455;\n",
              "      fill: #D2E3FC;\n",
              "    }\n",
              "\n",
              "    [theme=dark] .colab-df-convert:hover {\n",
              "      background-color: #434B5C;\n",
              "      box-shadow: 0px 1px 3px 1px rgba(0, 0, 0, 0.15);\n",
              "      filter: drop-shadow(0px 1px 2px rgba(0, 0, 0, 0.3));\n",
              "      fill: #FFFFFF;\n",
              "    }\n",
              "  </style>\n",
              "\n",
              "      <script>\n",
              "        const buttonEl =\n",
              "          document.querySelector('#df-3de6079c-117f-46f1-b58f-bec859b0039d button.colab-df-convert');\n",
              "        buttonEl.style.display =\n",
              "          google.colab.kernel.accessAllowed ? 'block' : 'none';\n",
              "\n",
              "        async function convertToInteractive(key) {\n",
              "          const element = document.querySelector('#df-3de6079c-117f-46f1-b58f-bec859b0039d');\n",
              "          const dataTable =\n",
              "            await google.colab.kernel.invokeFunction('convertToInteractive',\n",
              "                                                     [key], {});\n",
              "          if (!dataTable) return;\n",
              "\n",
              "          const docLinkHtml = 'Like what you see? Visit the ' +\n",
              "            '<a target=\"_blank\" href=https://colab.research.google.com/notebooks/data_table.ipynb>data table notebook</a>'\n",
              "            + ' to learn more about interactive tables.';\n",
              "          element.innerHTML = '';\n",
              "          dataTable['output_type'] = 'display_data';\n",
              "          await google.colab.output.renderOutput(dataTable, element);\n",
              "          const docLink = document.createElement('div');\n",
              "          docLink.innerHTML = docLinkHtml;\n",
              "          element.appendChild(docLink);\n",
              "        }\n",
              "      </script>\n",
              "    </div>\n",
              "  </div>\n",
              "  "
            ]
          },
          "metadata": {},
          "execution_count": 7
        }
      ]
    },
    {
      "cell_type": "markdown",
      "source": [
        "### ➖ Ordenar un DataFrame"
      ],
      "metadata": {
        "id": "AfvXxe5yNnpE"
      }
    },
    {
      "cell_type": "markdown",
      "source": [
        "Para ordenar un DataFrame de acuerdo a los valores se utiliza el siguiente método"
      ],
      "metadata": {
        "id": "lNM7SvpgNsEy"
      }
    },
    {
      "cell_type": "markdown",
      "source": [
        "**df.sort_values(columna, ascending=booleano)** \n",
        "\n",
        "Devuelve el DataFrame que resulta de ordenar las filas del DataFrame df según los valores del la columna con nombre columna. Si argumento del parámetro ascending es True el orden es creciente y si es False decreciente. Por default es en orden ascendente"
      ],
      "metadata": {
        "id": "TC3UuuZUN9NP"
      }
    },
    {
      "cell_type": "code",
      "source": [
        "#Ejemplo filtrar filas de un Dataframe\n",
        "import pandas as pd\n",
        "df = pd.read_csv('https://raw.githubusercontent.com/asalber/manual-python/master/datos/colesterol.csv')\n",
        "df.sort_values('colesterol')"
      ],
      "metadata": {
        "colab": {
          "base_uri": "https://localhost:8080/",
          "height": 488
        },
        "id": "LuueD-laN2-e",
        "outputId": "f0314e49-fc4f-4d05-fe33-a05520c666d3"
      },
      "execution_count": 8,
      "outputs": [
        {
          "output_type": "execute_result",
          "data": {
            "text/plain": [
              "                             nombre  edad sexo   peso  altura  colesterol\n",
              "4              Marisa López Collado    46    M   51.0    1.58       148.0\n",
              "0      José Luis Martínez Izquierdo    18    H   85.0    1.79       182.0\n",
              "2             Javier García Sánchez    24    H    NaN    1.81       191.0\n",
              "13            Carolina Rubio Moreno    20    M   61.0    1.77       194.0\n",
              "11       José María de la Guía Sanz    58    H   78.0    1.87       198.0\n",
              "3               Carmen López Pinzón    35    M   65.0    1.70       200.0\n",
              "12  Miguel Angel Cuadrado Gutiérrez    27    H  109.0    1.98       210.0\n",
              "1                    Rosa Díaz Díaz    32    M   65.0    1.73       232.0\n",
              "8              Pedro Gálvez Tenorio    35    H   90.0    1.94       241.0\n",
              "5                 Antonio Ruiz Cruz    68    H   66.0    1.74       249.0\n",
              "10            Macarena Álvarez Luna    53    M   55.0    1.62       262.0\n",
              "6           Antonio Fernández Ocaña    51    H   62.0    1.72       276.0\n",
              "9           Santiago Reillo Manzano    46    H   75.0    1.85       280.0\n",
              "7             Pilar Martín González    22    M   60.0    1.66         NaN"
            ],
            "text/html": [
              "\n",
              "  <div id=\"df-0d05ffd6-3534-4c8a-95a2-b186bb25dfcb\">\n",
              "    <div class=\"colab-df-container\">\n",
              "      <div>\n",
              "<style scoped>\n",
              "    .dataframe tbody tr th:only-of-type {\n",
              "        vertical-align: middle;\n",
              "    }\n",
              "\n",
              "    .dataframe tbody tr th {\n",
              "        vertical-align: top;\n",
              "    }\n",
              "\n",
              "    .dataframe thead th {\n",
              "        text-align: right;\n",
              "    }\n",
              "</style>\n",
              "<table border=\"1\" class=\"dataframe\">\n",
              "  <thead>\n",
              "    <tr style=\"text-align: right;\">\n",
              "      <th></th>\n",
              "      <th>nombre</th>\n",
              "      <th>edad</th>\n",
              "      <th>sexo</th>\n",
              "      <th>peso</th>\n",
              "      <th>altura</th>\n",
              "      <th>colesterol</th>\n",
              "    </tr>\n",
              "  </thead>\n",
              "  <tbody>\n",
              "    <tr>\n",
              "      <th>4</th>\n",
              "      <td>Marisa López Collado</td>\n",
              "      <td>46</td>\n",
              "      <td>M</td>\n",
              "      <td>51.0</td>\n",
              "      <td>1.58</td>\n",
              "      <td>148.0</td>\n",
              "    </tr>\n",
              "    <tr>\n",
              "      <th>0</th>\n",
              "      <td>José Luis Martínez Izquierdo</td>\n",
              "      <td>18</td>\n",
              "      <td>H</td>\n",
              "      <td>85.0</td>\n",
              "      <td>1.79</td>\n",
              "      <td>182.0</td>\n",
              "    </tr>\n",
              "    <tr>\n",
              "      <th>2</th>\n",
              "      <td>Javier García Sánchez</td>\n",
              "      <td>24</td>\n",
              "      <td>H</td>\n",
              "      <td>NaN</td>\n",
              "      <td>1.81</td>\n",
              "      <td>191.0</td>\n",
              "    </tr>\n",
              "    <tr>\n",
              "      <th>13</th>\n",
              "      <td>Carolina Rubio Moreno</td>\n",
              "      <td>20</td>\n",
              "      <td>M</td>\n",
              "      <td>61.0</td>\n",
              "      <td>1.77</td>\n",
              "      <td>194.0</td>\n",
              "    </tr>\n",
              "    <tr>\n",
              "      <th>11</th>\n",
              "      <td>José María de la Guía Sanz</td>\n",
              "      <td>58</td>\n",
              "      <td>H</td>\n",
              "      <td>78.0</td>\n",
              "      <td>1.87</td>\n",
              "      <td>198.0</td>\n",
              "    </tr>\n",
              "    <tr>\n",
              "      <th>3</th>\n",
              "      <td>Carmen López Pinzón</td>\n",
              "      <td>35</td>\n",
              "      <td>M</td>\n",
              "      <td>65.0</td>\n",
              "      <td>1.70</td>\n",
              "      <td>200.0</td>\n",
              "    </tr>\n",
              "    <tr>\n",
              "      <th>12</th>\n",
              "      <td>Miguel Angel Cuadrado Gutiérrez</td>\n",
              "      <td>27</td>\n",
              "      <td>H</td>\n",
              "      <td>109.0</td>\n",
              "      <td>1.98</td>\n",
              "      <td>210.0</td>\n",
              "    </tr>\n",
              "    <tr>\n",
              "      <th>1</th>\n",
              "      <td>Rosa Díaz Díaz</td>\n",
              "      <td>32</td>\n",
              "      <td>M</td>\n",
              "      <td>65.0</td>\n",
              "      <td>1.73</td>\n",
              "      <td>232.0</td>\n",
              "    </tr>\n",
              "    <tr>\n",
              "      <th>8</th>\n",
              "      <td>Pedro Gálvez Tenorio</td>\n",
              "      <td>35</td>\n",
              "      <td>H</td>\n",
              "      <td>90.0</td>\n",
              "      <td>1.94</td>\n",
              "      <td>241.0</td>\n",
              "    </tr>\n",
              "    <tr>\n",
              "      <th>5</th>\n",
              "      <td>Antonio Ruiz Cruz</td>\n",
              "      <td>68</td>\n",
              "      <td>H</td>\n",
              "      <td>66.0</td>\n",
              "      <td>1.74</td>\n",
              "      <td>249.0</td>\n",
              "    </tr>\n",
              "    <tr>\n",
              "      <th>10</th>\n",
              "      <td>Macarena Álvarez Luna</td>\n",
              "      <td>53</td>\n",
              "      <td>M</td>\n",
              "      <td>55.0</td>\n",
              "      <td>1.62</td>\n",
              "      <td>262.0</td>\n",
              "    </tr>\n",
              "    <tr>\n",
              "      <th>6</th>\n",
              "      <td>Antonio Fernández Ocaña</td>\n",
              "      <td>51</td>\n",
              "      <td>H</td>\n",
              "      <td>62.0</td>\n",
              "      <td>1.72</td>\n",
              "      <td>276.0</td>\n",
              "    </tr>\n",
              "    <tr>\n",
              "      <th>9</th>\n",
              "      <td>Santiago Reillo Manzano</td>\n",
              "      <td>46</td>\n",
              "      <td>H</td>\n",
              "      <td>75.0</td>\n",
              "      <td>1.85</td>\n",
              "      <td>280.0</td>\n",
              "    </tr>\n",
              "    <tr>\n",
              "      <th>7</th>\n",
              "      <td>Pilar Martín González</td>\n",
              "      <td>22</td>\n",
              "      <td>M</td>\n",
              "      <td>60.0</td>\n",
              "      <td>1.66</td>\n",
              "      <td>NaN</td>\n",
              "    </tr>\n",
              "  </tbody>\n",
              "</table>\n",
              "</div>\n",
              "      <button class=\"colab-df-convert\" onclick=\"convertToInteractive('df-0d05ffd6-3534-4c8a-95a2-b186bb25dfcb')\"\n",
              "              title=\"Convert this dataframe to an interactive table.\"\n",
              "              style=\"display:none;\">\n",
              "        \n",
              "  <svg xmlns=\"http://www.w3.org/2000/svg\" height=\"24px\"viewBox=\"0 0 24 24\"\n",
              "       width=\"24px\">\n",
              "    <path d=\"M0 0h24v24H0V0z\" fill=\"none\"/>\n",
              "    <path d=\"M18.56 5.44l.94 2.06.94-2.06 2.06-.94-2.06-.94-.94-2.06-.94 2.06-2.06.94zm-11 1L8.5 8.5l.94-2.06 2.06-.94-2.06-.94L8.5 2.5l-.94 2.06-2.06.94zm10 10l.94 2.06.94-2.06 2.06-.94-2.06-.94-.94-2.06-.94 2.06-2.06.94z\"/><path d=\"M17.41 7.96l-1.37-1.37c-.4-.4-.92-.59-1.43-.59-.52 0-1.04.2-1.43.59L10.3 9.45l-7.72 7.72c-.78.78-.78 2.05 0 2.83L4 21.41c.39.39.9.59 1.41.59.51 0 1.02-.2 1.41-.59l7.78-7.78 2.81-2.81c.8-.78.8-2.07 0-2.86zM5.41 20L4 18.59l7.72-7.72 1.47 1.35L5.41 20z\"/>\n",
              "  </svg>\n",
              "      </button>\n",
              "      \n",
              "  <style>\n",
              "    .colab-df-container {\n",
              "      display:flex;\n",
              "      flex-wrap:wrap;\n",
              "      gap: 12px;\n",
              "    }\n",
              "\n",
              "    .colab-df-convert {\n",
              "      background-color: #E8F0FE;\n",
              "      border: none;\n",
              "      border-radius: 50%;\n",
              "      cursor: pointer;\n",
              "      display: none;\n",
              "      fill: #1967D2;\n",
              "      height: 32px;\n",
              "      padding: 0 0 0 0;\n",
              "      width: 32px;\n",
              "    }\n",
              "\n",
              "    .colab-df-convert:hover {\n",
              "      background-color: #E2EBFA;\n",
              "      box-shadow: 0px 1px 2px rgba(60, 64, 67, 0.3), 0px 1px 3px 1px rgba(60, 64, 67, 0.15);\n",
              "      fill: #174EA6;\n",
              "    }\n",
              "\n",
              "    [theme=dark] .colab-df-convert {\n",
              "      background-color: #3B4455;\n",
              "      fill: #D2E3FC;\n",
              "    }\n",
              "\n",
              "    [theme=dark] .colab-df-convert:hover {\n",
              "      background-color: #434B5C;\n",
              "      box-shadow: 0px 1px 3px 1px rgba(0, 0, 0, 0.15);\n",
              "      filter: drop-shadow(0px 1px 2px rgba(0, 0, 0, 0.3));\n",
              "      fill: #FFFFFF;\n",
              "    }\n",
              "  </style>\n",
              "\n",
              "      <script>\n",
              "        const buttonEl =\n",
              "          document.querySelector('#df-0d05ffd6-3534-4c8a-95a2-b186bb25dfcb button.colab-df-convert');\n",
              "        buttonEl.style.display =\n",
              "          google.colab.kernel.accessAllowed ? 'block' : 'none';\n",
              "\n",
              "        async function convertToInteractive(key) {\n",
              "          const element = document.querySelector('#df-0d05ffd6-3534-4c8a-95a2-b186bb25dfcb');\n",
              "          const dataTable =\n",
              "            await google.colab.kernel.invokeFunction('convertToInteractive',\n",
              "                                                     [key], {});\n",
              "          if (!dataTable) return;\n",
              "\n",
              "          const docLinkHtml = 'Like what you see? Visit the ' +\n",
              "            '<a target=\"_blank\" href=https://colab.research.google.com/notebooks/data_table.ipynb>data table notebook</a>'\n",
              "            + ' to learn more about interactive tables.';\n",
              "          element.innerHTML = '';\n",
              "          dataTable['output_type'] = 'display_data';\n",
              "          await google.colab.output.renderOutput(dataTable, element);\n",
              "          const docLink = document.createElement('div');\n",
              "          docLink.innerHTML = docLinkHtml;\n",
              "          element.appendChild(docLink);\n",
              "        }\n",
              "      </script>\n",
              "    </div>\n",
              "  </div>\n",
              "  "
            ]
          },
          "metadata": {},
          "execution_count": 8
        }
      ]
    },
    {
      "cell_type": "markdown",
      "source": [
        "### ➖ Eliminar valores nulos y NAN"
      ],
      "metadata": {
        "id": "uDNFc1r0OfiU"
      }
    },
    {
      "cell_type": "markdown",
      "source": [
        "Para eliminar las filas de un DataFrame que contienen datos desconocidos NaN o nulos None se utiliza el siguiente método:\n",
        "```python\n",
        "s.dropna(subset=columnas)\n",
        "```\n",
        "Devuelve el DataFrame que resulta de eliminar las filas que contienen algún dato desconocido o nulo en las columnas de la lista columna del DataFrame df. Si no se pasa un argumento al parámetro subset se aplica a todas las columnas del DataFrame.\n"
      ],
      "metadata": {
        "id": "tuqDILoQOxtp"
      }
    },
    {
      "cell_type": "code",
      "source": [
        "#Ejemplo eliminar valores nulos y NAN\n",
        "import pandas as pd\n",
        "df = pd.read_csv('https://raw.githubusercontent.com/asalber/manual-python/master/datos/colesterol.csv')\n",
        "print(df.dropna())"
      ],
      "metadata": {
        "colab": {
          "base_uri": "https://localhost:8080/"
        },
        "id": "CNJhnBkxOw8m",
        "outputId": "efa1924a-7f8b-48ca-859e-aa7b6875faa7"
      },
      "execution_count": 9,
      "outputs": [
        {
          "output_type": "stream",
          "name": "stdout",
          "text": [
            "                             nombre  edad sexo   peso  altura  colesterol\n",
            "0      José Luis Martínez Izquierdo    18    H   85.0    1.79       182.0\n",
            "1                    Rosa Díaz Díaz    32    M   65.0    1.73       232.0\n",
            "3               Carmen López Pinzón    35    M   65.0    1.70       200.0\n",
            "4              Marisa López Collado    46    M   51.0    1.58       148.0\n",
            "5                 Antonio Ruiz Cruz    68    H   66.0    1.74       249.0\n",
            "6           Antonio Fernández Ocaña    51    H   62.0    1.72       276.0\n",
            "8              Pedro Gálvez Tenorio    35    H   90.0    1.94       241.0\n",
            "9           Santiago Reillo Manzano    46    H   75.0    1.85       280.0\n",
            "10            Macarena Álvarez Luna    53    M   55.0    1.62       262.0\n",
            "11       José María de la Guía Sanz    58    H   78.0    1.87       198.0\n",
            "12  Miguel Angel Cuadrado Gutiérrez    27    H  109.0    1.98       210.0\n",
            "13            Carolina Rubio Moreno    20    M   61.0    1.77       194.0\n"
          ]
        }
      ]
    },
    {
      "cell_type": "markdown",
      "source": [
        "### ➖ Dividir un DataFrame en grupos"
      ],
      "metadata": {
        "id": "2O9PjGfeTtpj"
      }
    },
    {
      "cell_type": "markdown",
      "source": [
        "**Para dividir un DataFrame en grupos se utiliza el siguiente método:**\n",
        "```python\n",
        "df.groupby(columnas).groups\n",
        "```\n",
        "Devuelve un diccionario con cuyas claves son las tuplas que resultan de todas las combinaciones de los valores de las columnas con nombres en la lista columnas, y valores las listas de los nombres de las filas que contienen esos valores en las correspondientes columnas del DataFrame df.\n"
      ],
      "metadata": {
        "id": "JfC1sr9VT_EM"
      }
    },
    {
      "cell_type": "code",
      "source": [
        "#Ejemplo dividir en grupos un Dataframe\n",
        "import pandas as pd\n",
        "df = pd.read_csv('https://raw.githubusercontent.com/asalber/manual-python/master/datos/colesterol.csv')\n",
        "df.groupby('sexo').groups"
      ],
      "metadata": {
        "colab": {
          "base_uri": "https://localhost:8080/"
        },
        "id": "lafeE8GLUMPA",
        "outputId": "eaa62476-4a2e-44d9-a648-6928ab9594f6"
      },
      "execution_count": 10,
      "outputs": [
        {
          "output_type": "execute_result",
          "data": {
            "text/plain": [
              "{'H': [0, 2, 5, 6, 8, 9, 11, 12], 'M': [1, 3, 4, 7, 10, 13]}"
            ]
          },
          "metadata": {},
          "execution_count": 10
        }
      ]
    },
    {
      "cell_type": "code",
      "source": [
        "#Ejemplo 2 dividir en grupos un Dataframe\n",
        "import pandas as pd\n",
        "df = pd.read_csv('https://raw.githubusercontent.com/asalber/manual-python/master/datos/colesterol.csv')\n",
        "df.groupby(['sexo','edad']).groups"
      ],
      "metadata": {
        "colab": {
          "base_uri": "https://localhost:8080/"
        },
        "id": "55HfyV-GWJhr",
        "outputId": "d8330a7e-afa7-4ea4-9546-405ac9c599be"
      },
      "execution_count": 22,
      "outputs": [
        {
          "output_type": "execute_result",
          "data": {
            "text/plain": [
              "{('H', 18): [0], ('H', 24): [2], ('H', 27): [12], ('H', 35): [8], ('H', 46): [9], ('H', 51): [6], ('H', 58): [11], ('H', 68): [5], ('M', 20): [13], ('M', 22): [7], ('M', 32): [1], ('M', 35): [3], ('M', 46): [4], ('M', 53): [10]}"
            ]
          },
          "metadata": {},
          "execution_count": 22
        }
      ]
    },
    {
      "cell_type": "markdown",
      "source": [
        "**Para obtener un grupo concreto se utiliza el siguiente método:**\n",
        "```ptyhon\n",
        "df.groupby(columnas).get_group(valores)\n",
        "```\n",
        "Devuelve un DataFrame con las filas del DataFrame df que cumplen que las columnas de la lista columnas presentan los valores de la tupla valores. La lista columnas y la tupla valores deben tener el mismo tamaño.\n"
      ],
      "metadata": {
        "id": "wyH9-IlaUkxo"
      }
    },
    {
      "cell_type": "code",
      "source": [
        "#Ejemplo obtener grupo de un dataframe\n",
        "import pandas as pd\n",
        "df = pd.read_csv('https://raw.githubusercontent.com/asalber/manual-python/master/datos/colesterol.csv')\n",
        "df.groupby('sexo').get_group('M')"
      ],
      "metadata": {
        "colab": {
          "base_uri": "https://localhost:8080/",
          "height": 237
        },
        "id": "yxggiQfIVdXC",
        "outputId": "b294de13-fd2e-4c62-af5a-533aceff98fb"
      },
      "execution_count": 15,
      "outputs": [
        {
          "output_type": "execute_result",
          "data": {
            "text/plain": [
              "                   nombre  edad sexo  peso  altura  colesterol\n",
              "1          Rosa Díaz Díaz    32    M  65.0    1.73       232.0\n",
              "3     Carmen López Pinzón    35    M  65.0    1.70       200.0\n",
              "4    Marisa López Collado    46    M  51.0    1.58       148.0\n",
              "7   Pilar Martín González    22    M  60.0    1.66         NaN\n",
              "10  Macarena Álvarez Luna    53    M  55.0    1.62       262.0\n",
              "13  Carolina Rubio Moreno    20    M  61.0    1.77       194.0"
            ],
            "text/html": [
              "\n",
              "  <div id=\"df-0e142217-7680-4e25-8210-96e5f2aba5ed\">\n",
              "    <div class=\"colab-df-container\">\n",
              "      <div>\n",
              "<style scoped>\n",
              "    .dataframe tbody tr th:only-of-type {\n",
              "        vertical-align: middle;\n",
              "    }\n",
              "\n",
              "    .dataframe tbody tr th {\n",
              "        vertical-align: top;\n",
              "    }\n",
              "\n",
              "    .dataframe thead th {\n",
              "        text-align: right;\n",
              "    }\n",
              "</style>\n",
              "<table border=\"1\" class=\"dataframe\">\n",
              "  <thead>\n",
              "    <tr style=\"text-align: right;\">\n",
              "      <th></th>\n",
              "      <th>nombre</th>\n",
              "      <th>edad</th>\n",
              "      <th>sexo</th>\n",
              "      <th>peso</th>\n",
              "      <th>altura</th>\n",
              "      <th>colesterol</th>\n",
              "    </tr>\n",
              "  </thead>\n",
              "  <tbody>\n",
              "    <tr>\n",
              "      <th>1</th>\n",
              "      <td>Rosa Díaz Díaz</td>\n",
              "      <td>32</td>\n",
              "      <td>M</td>\n",
              "      <td>65.0</td>\n",
              "      <td>1.73</td>\n",
              "      <td>232.0</td>\n",
              "    </tr>\n",
              "    <tr>\n",
              "      <th>3</th>\n",
              "      <td>Carmen López Pinzón</td>\n",
              "      <td>35</td>\n",
              "      <td>M</td>\n",
              "      <td>65.0</td>\n",
              "      <td>1.70</td>\n",
              "      <td>200.0</td>\n",
              "    </tr>\n",
              "    <tr>\n",
              "      <th>4</th>\n",
              "      <td>Marisa López Collado</td>\n",
              "      <td>46</td>\n",
              "      <td>M</td>\n",
              "      <td>51.0</td>\n",
              "      <td>1.58</td>\n",
              "      <td>148.0</td>\n",
              "    </tr>\n",
              "    <tr>\n",
              "      <th>7</th>\n",
              "      <td>Pilar Martín González</td>\n",
              "      <td>22</td>\n",
              "      <td>M</td>\n",
              "      <td>60.0</td>\n",
              "      <td>1.66</td>\n",
              "      <td>NaN</td>\n",
              "    </tr>\n",
              "    <tr>\n",
              "      <th>10</th>\n",
              "      <td>Macarena Álvarez Luna</td>\n",
              "      <td>53</td>\n",
              "      <td>M</td>\n",
              "      <td>55.0</td>\n",
              "      <td>1.62</td>\n",
              "      <td>262.0</td>\n",
              "    </tr>\n",
              "    <tr>\n",
              "      <th>13</th>\n",
              "      <td>Carolina Rubio Moreno</td>\n",
              "      <td>20</td>\n",
              "      <td>M</td>\n",
              "      <td>61.0</td>\n",
              "      <td>1.77</td>\n",
              "      <td>194.0</td>\n",
              "    </tr>\n",
              "  </tbody>\n",
              "</table>\n",
              "</div>\n",
              "      <button class=\"colab-df-convert\" onclick=\"convertToInteractive('df-0e142217-7680-4e25-8210-96e5f2aba5ed')\"\n",
              "              title=\"Convert this dataframe to an interactive table.\"\n",
              "              style=\"display:none;\">\n",
              "        \n",
              "  <svg xmlns=\"http://www.w3.org/2000/svg\" height=\"24px\"viewBox=\"0 0 24 24\"\n",
              "       width=\"24px\">\n",
              "    <path d=\"M0 0h24v24H0V0z\" fill=\"none\"/>\n",
              "    <path d=\"M18.56 5.44l.94 2.06.94-2.06 2.06-.94-2.06-.94-.94-2.06-.94 2.06-2.06.94zm-11 1L8.5 8.5l.94-2.06 2.06-.94-2.06-.94L8.5 2.5l-.94 2.06-2.06.94zm10 10l.94 2.06.94-2.06 2.06-.94-2.06-.94-.94-2.06-.94 2.06-2.06.94z\"/><path d=\"M17.41 7.96l-1.37-1.37c-.4-.4-.92-.59-1.43-.59-.52 0-1.04.2-1.43.59L10.3 9.45l-7.72 7.72c-.78.78-.78 2.05 0 2.83L4 21.41c.39.39.9.59 1.41.59.51 0 1.02-.2 1.41-.59l7.78-7.78 2.81-2.81c.8-.78.8-2.07 0-2.86zM5.41 20L4 18.59l7.72-7.72 1.47 1.35L5.41 20z\"/>\n",
              "  </svg>\n",
              "      </button>\n",
              "      \n",
              "  <style>\n",
              "    .colab-df-container {\n",
              "      display:flex;\n",
              "      flex-wrap:wrap;\n",
              "      gap: 12px;\n",
              "    }\n",
              "\n",
              "    .colab-df-convert {\n",
              "      background-color: #E8F0FE;\n",
              "      border: none;\n",
              "      border-radius: 50%;\n",
              "      cursor: pointer;\n",
              "      display: none;\n",
              "      fill: #1967D2;\n",
              "      height: 32px;\n",
              "      padding: 0 0 0 0;\n",
              "      width: 32px;\n",
              "    }\n",
              "\n",
              "    .colab-df-convert:hover {\n",
              "      background-color: #E2EBFA;\n",
              "      box-shadow: 0px 1px 2px rgba(60, 64, 67, 0.3), 0px 1px 3px 1px rgba(60, 64, 67, 0.15);\n",
              "      fill: #174EA6;\n",
              "    }\n",
              "\n",
              "    [theme=dark] .colab-df-convert {\n",
              "      background-color: #3B4455;\n",
              "      fill: #D2E3FC;\n",
              "    }\n",
              "\n",
              "    [theme=dark] .colab-df-convert:hover {\n",
              "      background-color: #434B5C;\n",
              "      box-shadow: 0px 1px 3px 1px rgba(0, 0, 0, 0.15);\n",
              "      filter: drop-shadow(0px 1px 2px rgba(0, 0, 0, 0.3));\n",
              "      fill: #FFFFFF;\n",
              "    }\n",
              "  </style>\n",
              "\n",
              "      <script>\n",
              "        const buttonEl =\n",
              "          document.querySelector('#df-0e142217-7680-4e25-8210-96e5f2aba5ed button.colab-df-convert');\n",
              "        buttonEl.style.display =\n",
              "          google.colab.kernel.accessAllowed ? 'block' : 'none';\n",
              "\n",
              "        async function convertToInteractive(key) {\n",
              "          const element = document.querySelector('#df-0e142217-7680-4e25-8210-96e5f2aba5ed');\n",
              "          const dataTable =\n",
              "            await google.colab.kernel.invokeFunction('convertToInteractive',\n",
              "                                                     [key], {});\n",
              "          if (!dataTable) return;\n",
              "\n",
              "          const docLinkHtml = 'Like what you see? Visit the ' +\n",
              "            '<a target=\"_blank\" href=https://colab.research.google.com/notebooks/data_table.ipynb>data table notebook</a>'\n",
              "            + ' to learn more about interactive tables.';\n",
              "          element.innerHTML = '';\n",
              "          dataTable['output_type'] = 'display_data';\n",
              "          await google.colab.output.renderOutput(dataTable, element);\n",
              "          const docLink = document.createElement('div');\n",
              "          docLink.innerHTML = docLinkHtml;\n",
              "          element.appendChild(docLink);\n",
              "        }\n",
              "      </script>\n",
              "    </div>\n",
              "  </div>\n",
              "  "
            ]
          },
          "metadata": {},
          "execution_count": 15
        }
      ]
    },
    {
      "cell_type": "code",
      "source": [
        "#Ejemplo 2 obtener grupo de un dataframe\n",
        "import pandas as pd\n",
        "df = pd.read_csv('https://raw.githubusercontent.com/asalber/manual-python/master/datos/colesterol.csv')\n",
        "df.groupby(['sexo','edad']).get_group(('H',18))"
      ],
      "metadata": {
        "colab": {
          "base_uri": "https://localhost:8080/",
          "height": 81
        },
        "id": "xIS69UdlWRT_",
        "outputId": "ee551666-ba9a-4c10-80fa-572f14926ffb"
      },
      "execution_count": 26,
      "outputs": [
        {
          "output_type": "execute_result",
          "data": {
            "text/plain": [
              "                         nombre  edad sexo  peso  altura  colesterol\n",
              "0  José Luis Martínez Izquierdo    18    H  85.0    1.79       182.0"
            ],
            "text/html": [
              "\n",
              "  <div id=\"df-d64f3e4a-4f9d-4504-806e-bafa4a33247d\">\n",
              "    <div class=\"colab-df-container\">\n",
              "      <div>\n",
              "<style scoped>\n",
              "    .dataframe tbody tr th:only-of-type {\n",
              "        vertical-align: middle;\n",
              "    }\n",
              "\n",
              "    .dataframe tbody tr th {\n",
              "        vertical-align: top;\n",
              "    }\n",
              "\n",
              "    .dataframe thead th {\n",
              "        text-align: right;\n",
              "    }\n",
              "</style>\n",
              "<table border=\"1\" class=\"dataframe\">\n",
              "  <thead>\n",
              "    <tr style=\"text-align: right;\">\n",
              "      <th></th>\n",
              "      <th>nombre</th>\n",
              "      <th>edad</th>\n",
              "      <th>sexo</th>\n",
              "      <th>peso</th>\n",
              "      <th>altura</th>\n",
              "      <th>colesterol</th>\n",
              "    </tr>\n",
              "  </thead>\n",
              "  <tbody>\n",
              "    <tr>\n",
              "      <th>0</th>\n",
              "      <td>José Luis Martínez Izquierdo</td>\n",
              "      <td>18</td>\n",
              "      <td>H</td>\n",
              "      <td>85.0</td>\n",
              "      <td>1.79</td>\n",
              "      <td>182.0</td>\n",
              "    </tr>\n",
              "  </tbody>\n",
              "</table>\n",
              "</div>\n",
              "      <button class=\"colab-df-convert\" onclick=\"convertToInteractive('df-d64f3e4a-4f9d-4504-806e-bafa4a33247d')\"\n",
              "              title=\"Convert this dataframe to an interactive table.\"\n",
              "              style=\"display:none;\">\n",
              "        \n",
              "  <svg xmlns=\"http://www.w3.org/2000/svg\" height=\"24px\"viewBox=\"0 0 24 24\"\n",
              "       width=\"24px\">\n",
              "    <path d=\"M0 0h24v24H0V0z\" fill=\"none\"/>\n",
              "    <path d=\"M18.56 5.44l.94 2.06.94-2.06 2.06-.94-2.06-.94-.94-2.06-.94 2.06-2.06.94zm-11 1L8.5 8.5l.94-2.06 2.06-.94-2.06-.94L8.5 2.5l-.94 2.06-2.06.94zm10 10l.94 2.06.94-2.06 2.06-.94-2.06-.94-.94-2.06-.94 2.06-2.06.94z\"/><path d=\"M17.41 7.96l-1.37-1.37c-.4-.4-.92-.59-1.43-.59-.52 0-1.04.2-1.43.59L10.3 9.45l-7.72 7.72c-.78.78-.78 2.05 0 2.83L4 21.41c.39.39.9.59 1.41.59.51 0 1.02-.2 1.41-.59l7.78-7.78 2.81-2.81c.8-.78.8-2.07 0-2.86zM5.41 20L4 18.59l7.72-7.72 1.47 1.35L5.41 20z\"/>\n",
              "  </svg>\n",
              "      </button>\n",
              "      \n",
              "  <style>\n",
              "    .colab-df-container {\n",
              "      display:flex;\n",
              "      flex-wrap:wrap;\n",
              "      gap: 12px;\n",
              "    }\n",
              "\n",
              "    .colab-df-convert {\n",
              "      background-color: #E8F0FE;\n",
              "      border: none;\n",
              "      border-radius: 50%;\n",
              "      cursor: pointer;\n",
              "      display: none;\n",
              "      fill: #1967D2;\n",
              "      height: 32px;\n",
              "      padding: 0 0 0 0;\n",
              "      width: 32px;\n",
              "    }\n",
              "\n",
              "    .colab-df-convert:hover {\n",
              "      background-color: #E2EBFA;\n",
              "      box-shadow: 0px 1px 2px rgba(60, 64, 67, 0.3), 0px 1px 3px 1px rgba(60, 64, 67, 0.15);\n",
              "      fill: #174EA6;\n",
              "    }\n",
              "\n",
              "    [theme=dark] .colab-df-convert {\n",
              "      background-color: #3B4455;\n",
              "      fill: #D2E3FC;\n",
              "    }\n",
              "\n",
              "    [theme=dark] .colab-df-convert:hover {\n",
              "      background-color: #434B5C;\n",
              "      box-shadow: 0px 1px 3px 1px rgba(0, 0, 0, 0.15);\n",
              "      filter: drop-shadow(0px 1px 2px rgba(0, 0, 0, 0.3));\n",
              "      fill: #FFFFFF;\n",
              "    }\n",
              "  </style>\n",
              "\n",
              "      <script>\n",
              "        const buttonEl =\n",
              "          document.querySelector('#df-d64f3e4a-4f9d-4504-806e-bafa4a33247d button.colab-df-convert');\n",
              "        buttonEl.style.display =\n",
              "          google.colab.kernel.accessAllowed ? 'block' : 'none';\n",
              "\n",
              "        async function convertToInteractive(key) {\n",
              "          const element = document.querySelector('#df-d64f3e4a-4f9d-4504-806e-bafa4a33247d');\n",
              "          const dataTable =\n",
              "            await google.colab.kernel.invokeFunction('convertToInteractive',\n",
              "                                                     [key], {});\n",
              "          if (!dataTable) return;\n",
              "\n",
              "          const docLinkHtml = 'Like what you see? Visit the ' +\n",
              "            '<a target=\"_blank\" href=https://colab.research.google.com/notebooks/data_table.ipynb>data table notebook</a>'\n",
              "            + ' to learn more about interactive tables.';\n",
              "          element.innerHTML = '';\n",
              "          dataTable['output_type'] = 'display_data';\n",
              "          await google.colab.output.renderOutput(dataTable, element);\n",
              "          const docLink = document.createElement('div');\n",
              "          docLink.innerHTML = docLinkHtml;\n",
              "          element.appendChild(docLink);\n",
              "        }\n",
              "      </script>\n",
              "    </div>\n",
              "  </div>\n",
              "  "
            ]
          },
          "metadata": {},
          "execution_count": 26
        }
      ]
    },
    {
      "cell_type": "markdown",
      "source": [
        "## 📎 Autores \n",
        "El presente tutorial fue elaborado por \n",
        "- Pasquini Ricardo\n",
        "- Sesto Francisco"
      ],
      "metadata": {
        "id": "3MRW92haaK1S"
      }
    }
  ]
}