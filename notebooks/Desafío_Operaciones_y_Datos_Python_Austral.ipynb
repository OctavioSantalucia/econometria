{
  "nbformat": 4,
  "nbformat_minor": 0,
  "metadata": {
    "colab": {
      "provenance": [],
      "authorship_tag": "ABX9TyOMmx9NfC54fVOKzQCyDSQi",
      "include_colab_link": true
    },
    "kernelspec": {
      "name": "python3",
      "display_name": "Python 3"
    },
    "language_info": {
      "name": "python"
    }
  },
  "cells": [
    {
      "cell_type": "markdown",
      "metadata": {
        "id": "view-in-github",
        "colab_type": "text"
      },
      "source": [
        "<a href=\"https://colab.research.google.com/github/franciscosesto/econometria/blob/main/notebooks/Desaf%C3%ADo_Operaciones_y_Datos_Python_Austral.ipynb\" target=\"_parent\"><img src=\"https://colab.research.google.com/assets/colab-badge.svg\" alt=\"Open In Colab\"/></a>"
      ]
    },
    {
      "cell_type": "markdown",
      "source": [
        "<h1>\n",
        "<b> Python Econometría Desafíos\n",
        "</h1>\n",
        "\n",
        " \n",
        "<div>\n",
        "<img src=\"https://upload.wikimedia.org/wikipedia/commons/thumb/c/c3/Python-logo-notext.svg/800px-Python-logo-notext.svg.png \" width=\"100\"/>\n",
        "</div>"
      ],
      "metadata": {
        "id": "MOtJt5QPssHJ"
      }
    },
    {
      "cell_type": "markdown",
      "source": [
        "## 🟢 **Desafío 1**"
      ],
      "metadata": {
        "id": "-PB00FzGtIXS"
      }
    },
    {
      "cell_type": "markdown",
      "source": [
        "Escribir un programa que muestre por pantalla la cadena ¡Hola Mundo!."
      ],
      "metadata": {
        "id": "L6_-wGQMtR_b"
      }
    },
    {
      "cell_type": "code",
      "execution_count": null,
      "metadata": {
        "id": "AdCpvgR8srXq"
      },
      "outputs": [],
      "source": []
    },
    {
      "cell_type": "markdown",
      "source": [
        "## 🟢 **Desafío 2**"
      ],
      "metadata": {
        "id": "RfSMA2I9tYZS"
      }
    },
    {
      "cell_type": "markdown",
      "source": [
        "Escribir un programa que almacene la cadena ¡Hola Mundo! en una variable y luego muestre por pantalla el contenido de la variable."
      ],
      "metadata": {
        "id": "YW8h3PaBtec_"
      }
    },
    {
      "cell_type": "code",
      "source": [],
      "metadata": {
        "id": "jtWM0FWttbyi"
      },
      "execution_count": null,
      "outputs": []
    },
    {
      "cell_type": "markdown",
      "source": [
        "## 🟢 **Desafío 3**"
      ],
      "metadata": {
        "id": "kFLuzYwL1Dfp"
      }
    },
    {
      "cell_type": "markdown",
      "source": [
        "Convierte los siguientes números escritos como cadenas de caractéres a enteros int() o con coma float() cuando corresponda"
      ],
      "metadata": {
        "id": "_5PWKA3W1IRT"
      }
    },
    {
      "cell_type": "code",
      "source": [
        "num1=\"5\"\n",
        "num2=\"325.5\""
      ],
      "metadata": {
        "id": "OJ08KgJt1IaE"
      },
      "execution_count": null,
      "outputs": []
    },
    {
      "cell_type": "markdown",
      "source": [
        "## 🟡 **Desafío 4**"
      ],
      "metadata": {
        "id": "Xd3kTSOKtZSw"
      }
    },
    {
      "cell_type": "markdown",
      "source": [
        "Escribir un programa que pregunte el nombre del usuario en la consola y después de que el usuario lo introduzca muestre por pantalla la cadena ¡Hola ***nombre*** !, donde ***nombre*** es el nombre que el usuario haya introducido.\n",
        "\n",
        "Nota: Esto no lo hemos viste pero puedes servirte de la función input() la cual permite recoger texto del teclado y lo podes guardar en una variable. Además acepta un argúmento opcional en el cual le podes hablar al usuario. "
      ],
      "metadata": {
        "id": "PfU7Vr1Mtjby"
      }
    },
    {
      "cell_type": "code",
      "source": [
        "#Ejemplo input()\n",
        "perro=input(\"Dime el nombre de tu perro: \")\n",
        "print(perro)"
      ],
      "metadata": {
        "colab": {
          "base_uri": "https://localhost:8080/"
        },
        "id": "O9b8xD4ytzyD",
        "outputId": "d6368eb1-d5be-4053-ef27-bf52dae7e593"
      },
      "execution_count": 2,
      "outputs": [
        {
          "output_type": "stream",
          "name": "stdout",
          "text": [
            "Dime el nombre de tu perro: Jose\n",
            "Jose\n"
          ]
        }
      ]
    },
    {
      "cell_type": "code",
      "source": [],
      "metadata": {
        "id": "UOxp692Nuk_b"
      },
      "execution_count": null,
      "outputs": []
    },
    {
      "cell_type": "markdown",
      "source": [
        "## 🟡 **Desafío 5**"
      ],
      "metadata": {
        "id": "ADpjQNkhtZgK"
      }
    },
    {
      "cell_type": "markdown",
      "source": [
        "Escribir un programa que muestre por pantalla el resultado de la siguiente operación aritmética $ (\\frac{3+2}{2\\cdot 5})^2 $\n",
        " \n"
      ],
      "metadata": {
        "id": "aEpGvJCluYVi"
      }
    },
    {
      "cell_type": "code",
      "source": [],
      "metadata": {
        "id": "7Xvb9GYbukR9"
      },
      "execution_count": null,
      "outputs": []
    },
    {
      "cell_type": "markdown",
      "source": [
        "## 🔴 **Desafío 6**"
      ],
      "metadata": {
        "id": "7DWSiGniuy5o"
      }
    },
    {
      "cell_type": "markdown",
      "source": [
        "Escribir un programa que lea un entero positivo, $n$, introducido por el usuario y después muestre en pantalla Ia suma de todos los enteros desde 1 hasta $n$. La suma de los\n",
        "$n$ primeros enteros positivos puede ser calculada de la siguiente forma:\n",
        "\n",
        "$suma = \\frac{n \\cdot (n+1)}{2}$ "
      ],
      "metadata": {
        "id": "_yDBOBqiuv9A"
      }
    },
    {
      "cell_type": "code",
      "source": [],
      "metadata": {
        "id": "mx73l9TWvEOa"
      },
      "execution_count": null,
      "outputs": []
    }
  ]
}