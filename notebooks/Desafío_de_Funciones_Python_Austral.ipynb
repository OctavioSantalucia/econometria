{
  "nbformat": 4,
  "nbformat_minor": 0,
  "metadata": {
    "colab": {
      "provenance": [],
      "authorship_tag": "ABX9TyNujlqgzayDuwhsmEwRMowx",
      "include_colab_link": true
    },
    "kernelspec": {
      "name": "python3",
      "display_name": "Python 3"
    },
    "language_info": {
      "name": "python"
    }
  },
  "cells": [
    {
      "cell_type": "markdown",
      "metadata": {
        "id": "view-in-github",
        "colab_type": "text"
      },
      "source": [
        "<a href=\"https://colab.research.google.com/github/franciscosesto/econometria/blob/main/notebooks/Desaf%C3%ADo_de_Funciones_Python_Austral.ipynb\" target=\"_parent\"><img src=\"https://colab.research.google.com/assets/colab-badge.svg\" alt=\"Open In Colab\"/></a>"
      ]
    },
    {
      "cell_type": "markdown",
      "source": [
        "<h1>\n",
        "<b> Python Econometría Desafíos\n",
        "</h1>\n",
        "\n",
        " \n",
        "<div>\n",
        "<img src=\"https://upload.wikimedia.org/wikipedia/commons/thumb/c/c3/Python-logo-notext.svg/800px-Python-logo-notext.svg.png \" width=\"100\"/>\n",
        "</div>"
      ],
      "metadata": {
        "id": "MOtJt5QPssHJ"
      }
    },
    {
      "cell_type": "markdown",
      "source": [
        "## 🟢 **Desafío 1**"
      ],
      "metadata": {
        "id": "-PB00FzGtIXS"
      }
    },
    {
      "cell_type": "markdown",
      "source": [
        "Escribir una función que muestre por pantalla el saludo ¡Hola amiga! cada vez que se la invoque."
      ],
      "metadata": {
        "id": "L6_-wGQMtR_b"
      }
    },
    {
      "cell_type": "code",
      "execution_count": null,
      "metadata": {
        "id": "AdCpvgR8srXq"
      },
      "outputs": [],
      "source": []
    },
    {
      "cell_type": "markdown",
      "source": [
        "## 🟢 **Desafío 2**"
      ],
      "metadata": {
        "id": "RfSMA2I9tYZS"
      }
    },
    {
      "cell_type": "markdown",
      "source": [
        "Escribir una función a la que se le pase una cadena **nombre** y muestre por pantalla el saludo ¡hola **nombre**!."
      ],
      "metadata": {
        "id": "YW8h3PaBtec_"
      }
    },
    {
      "cell_type": "code",
      "source": [],
      "metadata": {
        "id": "jtWM0FWttbyi"
      },
      "execution_count": null,
      "outputs": []
    },
    {
      "cell_type": "markdown",
      "source": [
        "## 🟡 **Desafío 3**"
      ],
      "metadata": {
        "id": "Xd3kTSOKtZSw"
      }
    },
    {
      "cell_type": "markdown",
      "source": [
        "Escribir una función que reciba un número entero positivo y devuelva su factorial."
      ],
      "metadata": {
        "id": "PfU7Vr1Mtjby"
      }
    },
    {
      "cell_type": "code",
      "source": [],
      "metadata": {
        "id": "fwDtdDysxie-"
      },
      "execution_count": null,
      "outputs": []
    },
    {
      "cell_type": "markdown",
      "source": [
        "## 🟡 **Desafío 4**"
      ],
      "metadata": {
        "id": "ADpjQNkhtZgK"
      }
    },
    {
      "cell_type": "markdown",
      "source": [
        "Escribir una función que reciba una muestra de números en una lista y devuelva su media.\n",
        " \n"
      ],
      "metadata": {
        "id": "aEpGvJCluYVi"
      }
    },
    {
      "cell_type": "code",
      "source": [],
      "metadata": {
        "id": "7Xvb9GYbukR9"
      },
      "execution_count": null,
      "outputs": []
    },
    {
      "cell_type": "markdown",
      "source": [
        "## 🔴 **Desafío 5**"
      ],
      "metadata": {
        "id": "7DWSiGniuy5o"
      }
    },
    {
      "cell_type": "markdown",
      "source": [
        "Escribir una función que reciba una muestra de números en una lista y devuelva otra lista con sus cuadrados."
      ],
      "metadata": {
        "id": "_yDBOBqiuv9A"
      }
    },
    {
      "cell_type": "code",
      "source": [],
      "metadata": {
        "id": "mx73l9TWvEOa"
      },
      "execution_count": null,
      "outputs": []
    }
  ]
}