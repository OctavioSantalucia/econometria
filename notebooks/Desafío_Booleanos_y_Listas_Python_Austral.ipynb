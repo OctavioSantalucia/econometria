{
  "nbformat": 4,
  "nbformat_minor": 0,
  "metadata": {
    "colab": {
      "provenance": [],
      "authorship_tag": "ABX9TyN7CsgXFfOY5Exlf5s9ZEDz",
      "include_colab_link": true
    },
    "kernelspec": {
      "name": "python3",
      "display_name": "Python 3"
    },
    "language_info": {
      "name": "python"
    }
  },
  "cells": [
    {
      "cell_type": "markdown",
      "metadata": {
        "id": "view-in-github",
        "colab_type": "text"
      },
      "source": [
        "<a href=\"https://colab.research.google.com/github/franciscosesto/econometria/blob/main/notebooks/Desaf%C3%ADo_Booleanos_y_Listas_Python_Austral.ipynb\" target=\"_parent\"><img src=\"https://colab.research.google.com/assets/colab-badge.svg\" alt=\"Open In Colab\"/></a>"
      ]
    },
    {
      "cell_type": "markdown",
      "source": [
        "<h1>\n",
        "<b> Python Econometría Desafíos\n",
        "</h1>\n",
        "\n",
        " \n",
        "<div>\n",
        "<img src=\"https://upload.wikimedia.org/wikipedia/commons/thumb/c/c3/Python-logo-notext.svg/800px-Python-logo-notext.svg.png \" width=\"100\"/>\n",
        "</div>"
      ],
      "metadata": {
        "id": "MOtJt5QPssHJ"
      }
    },
    {
      "cell_type": "markdown",
      "source": [
        "## 🟢 **Desafío 1**"
      ],
      "metadata": {
        "id": "-PB00FzGtIXS"
      }
    },
    {
      "cell_type": "markdown",
      "source": [
        "Escribir un programa que le pregunte al usuario que escriba dos números y luego que indique si el 1er número es más grande que el segundo. \n",
        "\n",
        "Nota: Recordá los operadores de comparación ==, !=, <, >, >=, <=\n",
        "\n",
        "Como aún no hemos visto condicionales podes usar una sintaxis similar a la siguiente\n",
        "print(\"la afirmación que el primer valor es mayor que el segundo es\", valor1>valor2) "
      ],
      "metadata": {
        "id": "L6_-wGQMtR_b"
      }
    },
    {
      "cell_type": "code",
      "execution_count": null,
      "metadata": {
        "id": "AdCpvgR8srXq"
      },
      "outputs": [],
      "source": []
    },
    {
      "cell_type": "markdown",
      "source": [
        "## 🟢 **Desafío 2**"
      ],
      "metadata": {
        "id": "RfSMA2I9tYZS"
      }
    },
    {
      "cell_type": "markdown",
      "source": [
        "Escribir un programa que almacene las asignaturas de un curso (por ejemplo Matemáticas, Física, Química, Historia y Lengua) en una lista y la muestre por pantalla."
      ],
      "metadata": {
        "id": "YW8h3PaBtec_"
      }
    },
    {
      "cell_type": "code",
      "source": [],
      "metadata": {
        "id": "jtWM0FWttbyi"
      },
      "execution_count": null,
      "outputs": []
    },
    {
      "cell_type": "markdown",
      "source": [
        "## 🟡 **Desafío 3**"
      ],
      "metadata": {
        "id": "Xd3kTSOKtZSw"
      }
    },
    {
      "cell_type": "markdown",
      "source": [
        "Dada una lista de números, imprimir la suma de todos ellos."
      ],
      "metadata": {
        "id": "PfU7Vr1Mtjby"
      }
    },
    {
      "cell_type": "code",
      "source": [
        "lista=[123, 5, 9, 2.3, 5, 1, 49, 63, 24, 56, 856, 22]"
      ],
      "metadata": {
        "id": "fwDtdDysxie-"
      },
      "execution_count": null,
      "outputs": []
    },
    {
      "cell_type": "markdown",
      "source": [
        "## 🟡 **Desafío 4**"
      ],
      "metadata": {
        "id": "ADpjQNkhtZgK"
      }
    },
    {
      "cell_type": "markdown",
      "source": [
        "Dada una lista de palabras, imprimir la palabra más larga.\n",
        " \n"
      ],
      "metadata": {
        "id": "aEpGvJCluYVi"
      }
    },
    {
      "cell_type": "code",
      "source": [
        "lista=[\"Perro\", \"Mono\", \"Gato\", \"desoxirribonucleico\", \"Parangaricutirimícuaro\",\"sol\",\"mar\", \"guitarra\"]"
      ],
      "metadata": {
        "id": "7Xvb9GYbukR9"
      },
      "execution_count": null,
      "outputs": []
    },
    {
      "cell_type": "markdown",
      "source": [
        "## 🔴 **Desafío 5**"
      ],
      "metadata": {
        "id": "7DWSiGniuy5o"
      }
    },
    {
      "cell_type": "markdown",
      "source": [
        "Dada una lista de números, imprimir solo los números pares. \n",
        "\n",
        "Nota: Recordá que con slicing podemo seleccionar rangos de listas e ir tomando elementos de a saltos lista[inicio:fin:salto] "
      ],
      "metadata": {
        "id": "_yDBOBqiuv9A"
      }
    },
    {
      "cell_type": "code",
      "source": [
        "listanum=[1, 2, 3, 4, 5, 6, 7, 8, 9, 10, 11, 12, 13, 14, 15]"
      ],
      "metadata": {
        "id": "mx73l9TWvEOa"
      },
      "execution_count": null,
      "outputs": []
    }
  ]
}