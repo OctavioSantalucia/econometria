{
  "nbformat": 4,
  "nbformat_minor": 0,
  "metadata": {
    "colab": {
      "provenance": [],
      "toc_visible": true,
      "authorship_tag": "ABX9TyPxku+Vn9c/DolMNxC5VV1a",
      "include_colab_link": true
    },
    "kernelspec": {
      "name": "python3",
      "display_name": "Python 3"
    },
    "language_info": {
      "name": "python"
    }
  },
  "cells": [
    {
      "cell_type": "markdown",
      "metadata": {
        "id": "view-in-github",
        "colab_type": "text"
      },
      "source": [
        "<a href=\"https://colab.research.google.com/github/franciscosesto/econometria/blob/main/notebooks/Desaf%C3%ADo_Estructuras_de_Control_de_Flujo_Python_Austral.ipynb\" target=\"_parent\"><img src=\"https://colab.research.google.com/assets/colab-badge.svg\" alt=\"Open In Colab\"/></a>"
      ]
    },
    {
      "cell_type": "markdown",
      "source": [
        "<h1>\n",
        "<b> Python Econometría Desafíos\n",
        "</h1>\n",
        "\n",
        " \n",
        "<div>\n",
        "<img src=\"https://upload.wikimedia.org/wikipedia/commons/thumb/c/c3/Python-logo-notext.svg/800px-Python-logo-notext.svg.png \" width=\"100\"/>\n",
        "</div>"
      ],
      "metadata": {
        "id": "MOtJt5QPssHJ"
      }
    },
    {
      "cell_type": "markdown",
      "source": [
        "## 🟢 **Desafío 1**"
      ],
      "metadata": {
        "id": "-PB00FzGtIXS"
      }
    },
    {
      "cell_type": "markdown",
      "source": [
        "Escribir un programa que pregunte al usuario su edad y muestre por pantalla si es mayor de edad o no."
      ],
      "metadata": {
        "id": "L6_-wGQMtR_b"
      }
    },
    {
      "cell_type": "code",
      "execution_count": null,
      "metadata": {
        "id": "AdCpvgR8srXq"
      },
      "outputs": [],
      "source": []
    },
    {
      "cell_type": "markdown",
      "source": [
        "## 🟢 **Desafío 2**"
      ],
      "metadata": {
        "id": "RfSMA2I9tYZS"
      }
    },
    {
      "cell_type": "markdown",
      "source": [
        "Escribir un programa que almacene la cadena de caracteres contraseña en una variable, pregunte al usuario por la contraseña e imprima por pantalla si la contraseña introducida por el usuario coincide con la guardada en la variable sin tener en cuenta mayúsculas y minúsculas. \n",
        "\n",
        "Nota: Para poder ignorar si es mayúscula o minúscula podrías utilizar un método de los caractéres que se llama lower() el cual pasa a minúsucula un texto. Si escribo \"Hola\".lower() me devuelve \"hola\""
      ],
      "metadata": {
        "id": "YW8h3PaBtec_"
      }
    },
    {
      "cell_type": "code",
      "source": [],
      "metadata": {
        "id": "jtWM0FWttbyi"
      },
      "execution_count": null,
      "outputs": []
    },
    {
      "cell_type": "markdown",
      "source": [
        "## 🟡 **Desafío 3**"
      ],
      "metadata": {
        "id": "Xd3kTSOKtZSw"
      }
    },
    {
      "cell_type": "markdown",
      "source": [
        "Escribir un programa que pida al usuario dos números y muestre por pantalla su división. Si el divisor es cero el programa debe mostrar un error."
      ],
      "metadata": {
        "id": "PfU7Vr1Mtjby"
      }
    },
    {
      "cell_type": "code",
      "source": [],
      "metadata": {
        "id": "fwDtdDysxie-"
      },
      "execution_count": 6,
      "outputs": []
    },
    {
      "cell_type": "markdown",
      "source": [
        "## 🟡 **Desafío 4**"
      ],
      "metadata": {
        "id": "ADpjQNkhtZgK"
      }
    },
    {
      "cell_type": "markdown",
      "source": [
        "Escribir un programa que pida al usuario una palabra y la muestre por pantalla 10 veces.\n",
        "\n",
        "Nota: Podés usar la función range()\n",
        "\n",
        " \n"
      ],
      "metadata": {
        "id": "aEpGvJCluYVi"
      }
    },
    {
      "cell_type": "code",
      "source": [],
      "metadata": {
        "id": "7Xvb9GYbukR9"
      },
      "execution_count": null,
      "outputs": []
    },
    {
      "cell_type": "markdown",
      "source": [
        "## 🟡 **Desafío 5**"
      ],
      "metadata": {
        "id": "xPePiZYlHccQ"
      }
    },
    {
      "cell_type": "markdown",
      "source": [
        "Escribir un programa que almacene la cadena de caracteres contraseña en una variable, pregunte al usuario por la contraseña hasta que introduzca la contraseña correcta."
      ],
      "metadata": {
        "id": "VP0i2HzBJVTg"
      }
    },
    {
      "cell_type": "code",
      "source": [],
      "metadata": {
        "id": "yQoStgEVJVx0"
      },
      "execution_count": null,
      "outputs": []
    },
    {
      "cell_type": "markdown",
      "source": [
        "## 🔴 **Desafío 6**"
      ],
      "metadata": {
        "id": "7DWSiGniuy5o"
      }
    },
    {
      "cell_type": "markdown",
      "source": [
        "Escribir un programa que muestre el eco de todo lo que el usuario introduzca hasta que el usuario escriba “salir” que terminará."
      ],
      "metadata": {
        "id": "_yDBOBqiuv9A"
      }
    },
    {
      "cell_type": "code",
      "source": [],
      "metadata": {
        "id": "mx73l9TWvEOa"
      },
      "execution_count": null,
      "outputs": []
    }
  ]
}