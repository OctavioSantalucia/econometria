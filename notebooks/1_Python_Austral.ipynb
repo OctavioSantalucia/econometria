{
  "nbformat": 4,
  "nbformat_minor": 0,
  "metadata": {
    "colab": {
      "provenance": [],
      "toc_visible": true,
      "include_colab_link": true
    },
    "kernelspec": {
      "name": "python3",
      "display_name": "Python 3"
    },
    "language_info": {
      "name": "python"
    }
  },
  "cells": [
    {
      "cell_type": "markdown",
      "metadata": {
        "id": "view-in-github",
        "colab_type": "text"
      },
      "source": [
        "<a href=\"https://colab.research.google.com/github/franciscosesto/econometria/blob/main/1_Python_Austral.ipynb\" target=\"_parent\"><img src=\"https://colab.research.google.com/assets/colab-badge.svg\" alt=\"Open In Colab\"/></a>"
      ]
    },
    {
      "cell_type": "markdown",
      "source": [
        "\n",
        "\n",
        "<h1>\n",
        "<b> Python Econometría\n",
        "</h1>\n",
        "\n",
        " \n",
        "<div>\n",
        "<img src=\"https://upload.wikimedia.org/wikipedia/commons/thumb/c/c3/Python-logo-notext.svg/800px-Python-logo-notext.svg.png \" width=\"100\"/>\n",
        "</div>"
      ],
      "metadata": {
        "id": "gAhwbMw3BNu2"
      }
    },
    {
      "cell_type": "markdown",
      "source": [
        "##**🤔 ¿Qué es?**\n",
        "\n"
      ],
      "metadata": {
        "id": "w3CRWUbNF-JT"
      }
    },
    {
      "cell_type": "markdown",
      "source": [
        "Python es un lenguaje de programación de alto nivel, código abierto,\n",
        "orientado a objetos, simple y fácil de entender.\n",
        "\n",
        "\n",
        "1.   **Alto nivel:** Un lenguaje de programación de alto nivel es aquel que ***está cerca del lenguaje humano y se aleja del lenguaje de la máquina***. \n",
        "2.   **Código abierto:** Su ***código fuente está disponible*** para ser utilizado, modificado y distribuido de manera gratuita por cualquier persona.\n",
        "3.    **Orientado a objetos:** Se basa en el ***concepto de objetos y clases***. Los objetos tienen características y comportamientos, y se relacionan entre sí para formar un programa. \n"
      ],
      "metadata": {
        "id": "tGG0c6EuBcwe"
      }
    },
    {
      "cell_type": "markdown",
      "source": [
        "🔥\n",
        "Para programar con comodidad se suele instalar un \"IDE\" o editor de texto.\n",
        "Por ahora trabajaremos con un entorno de Google para enfocarnos solo en la\n",
        "programación, este entorno se llama Colab. 🔥"
      ],
      "metadata": {
        "id": "TnDgpxCGISKn"
      }
    },
    {
      "cell_type": "markdown",
      "source": [
        "## 🖐 **Hola mundo**"
      ],
      "metadata": {
        "id": "3JqHbdqLU4ek"
      }
    },
    {
      "cell_type": "markdown",
      "source": [
        "Empecemos con nuestro primer código en python. Ejecuta la celda de abajo apretando el botón de play"
      ],
      "metadata": {
        "id": "D2X3vlu-Lc6z"
      }
    },
    {
      "cell_type": "code",
      "source": [
        "print(\"Hola mundo\")"
      ],
      "metadata": {
        "colab": {
          "base_uri": "https://localhost:8080/"
        },
        "id": "w9q99fZ-Fsdo",
        "outputId": "928b7a3a-28c8-4cd2-83f0-6cf269d9ef65"
      },
      "execution_count": null,
      "outputs": [
        {
          "output_type": "stream",
          "name": "stdout",
          "text": [
            "Hola mundo\n"
          ]
        }
      ]
    },
    {
      "cell_type": "markdown",
      "source": [
        "De ahora en más usaremos estas celdas de código para ejecutar nuestros ejercicios"
      ],
      "metadata": {
        "id": "pKUwyTBBLwlm"
      }
    },
    {
      "cell_type": "markdown",
      "source": [
        "## 💬 **Comentarios en Python**"
      ],
      "metadata": {
        "id": "66fsb6PNWYP_"
      }
    },
    {
      "cell_type": "markdown",
      "source": [
        "Los comentarios se pueden usar para explicar el código de Python y que sea más legible. "
      ],
      "metadata": {
        "id": "EF05P_1XWVdm"
      }
    },
    {
      "cell_type": "markdown",
      "source": [
        "### ➖ Crear un comentario"
      ],
      "metadata": {
        "id": "O7YtiyOeWmxR"
      }
    },
    {
      "cell_type": "markdown",
      "source": [
        "Los comentarios comienzan con un # y Python los ignorará:"
      ],
      "metadata": {
        "id": "BRAxraiuWlYY"
      }
    },
    {
      "cell_type": "code",
      "source": [
        "# Nuestro primer comentario"
      ],
      "metadata": {
        "id": "6lK6t1q5Xg3O"
      },
      "execution_count": null,
      "outputs": []
    },
    {
      "cell_type": "markdown",
      "source": [
        "También podemos escribir comentarios luego de una linea "
      ],
      "metadata": {
        "id": "aO5CXePAXtFH"
      }
    },
    {
      "cell_type": "code",
      "source": [
        "print(\"Hola Ramón\") #Esto es otro comentario"
      ],
      "metadata": {
        "colab": {
          "base_uri": "https://localhost:8080/"
        },
        "id": "PrRzGi0xXxG9",
        "outputId": "7a89b395-01d7-4d1d-c208-63ed5f698378"
      },
      "execution_count": null,
      "outputs": [
        {
          "output_type": "stream",
          "name": "stdout",
          "text": [
            "Hola Ramón\n"
          ]
        }
      ]
    },
    {
      "cell_type": "markdown",
      "source": [
        "## 💫 **Variables**"
      ],
      "metadata": {
        "id": "KFFuV4DEbdKP"
      }
    },
    {
      "cell_type": "markdown",
      "source": [
        "#### ➖ Variables en programación "
      ],
      "metadata": {
        "id": "hVyqx9wGblP8"
      }
    },
    {
      "cell_type": "markdown",
      "source": [
        "En algunos lenguajes de programación, las variables se pueden entender como \"cajas\" en las que se guardan los datos, pero en Python ***las variables son \"etiquetas\" que permiten hacer referencia a los datos (que se guardan en unas \"cajas\" llamadas objetos).***\n",
        "\n"
      ],
      "metadata": {
        "id": "lsL_BGILbxLl"
      }
    },
    {
      "cell_type": "markdown",
      "source": [
        "#### ➖ Definir una variable"
      ],
      "metadata": {
        "id": "P-IlGsRBdEl_"
      }
    },
    {
      "cell_type": "markdown",
      "source": [
        "Las variables en Python se crean cuando se definen por primera vez, es decir, cuando se les asigna un valor por primera vez. \n",
        "***Para asignar un valor a una variable se utiliza el operador de igualdad (=)***. A la izquierda de la igualdad se escribe el nombre de la variable y a la derecha el valor que se quiere dar a la variable\n"
      ],
      "metadata": {
        "id": "mY1In90odMaX"
      }
    },
    {
      "cell_type": "code",
      "source": [
        "mi_variable=2"
      ],
      "metadata": {
        "id": "Mw8zVnOYbk_T"
      },
      "execution_count": null,
      "outputs": []
    },
    {
      "cell_type": "markdown",
      "source": [
        "Para mostrar el valor de la variable hay que escribir su nombre, o “printearlo”."
      ],
      "metadata": {
        "id": "OwtH8qGjd1vx"
      }
    },
    {
      "cell_type": "code",
      "source": [
        "print(mi_variable)"
      ],
      "metadata": {
        "colab": {
          "base_uri": "https://localhost:8080/"
        },
        "id": "EyA_S6sHd25F",
        "outputId": "f308b3f2-ca3f-4e9d-be37-47cd7c0cbd71"
      },
      "execution_count": null,
      "outputs": [
        {
          "output_type": "stream",
          "name": "stdout",
          "text": [
            "2\n"
          ]
        }
      ]
    },
    {
      "cell_type": "markdown",
      "source": [
        "🔥 Una variable ***puede almacenar números, texto o estructuras más complicadas*** . Si se va a almacenar texto, el texto debe escribirse entre comillas simples (') o dobles (\"), que son equivalentes.🔥 "
      ],
      "metadata": {
        "id": "3mWz-xUEdqq0"
      }
    },
    {
      "cell_type": "markdown",
      "source": [
        "### ➖ Nombres de variables"
      ],
      "metadata": {
        "id": "La-A4amUdNKS"
      }
    },
    {
      "cell_type": "markdown",
      "source": [
        "Una variable puede tener un nombre corto (como x e y) o un nombre más descriptivo (edad, nombre del coche, volumen_total). Reglas para las variables de Python:\n",
        "- Un nombre de variable debe comenzar con una letra o el guión bajo\n",
        "- Un nombre de variable no puede comenzar con un número\n",
        "- Un nombre de variable solo puede contener caracteres alfanuméricos y guiones bajos"
      ],
      "metadata": {
        "id": "w1PL7bUldq4F"
      }
    },
    {
      "cell_type": "markdown",
      "source": [
        "🔥 Los nombres de las variables distinguen entre mayúsculas y minúsculas🔥 "
      ],
      "metadata": {
        "id": "4XXFYAHldBzU"
      }
    },
    {
      "cell_type": "code",
      "source": [
        "#Ejemplo\n",
        "variable=\"Pepe\"\n",
        "Variable=\"Ramón\"\n",
        "print(f\"variable con minúscula es {variable}\")\n",
        "print(f\"Variable con mayúscula es {Variable}\")"
      ],
      "metadata": {
        "colab": {
          "base_uri": "https://localhost:8080/"
        },
        "id": "WODwI2k-c7A0",
        "outputId": "a30325b6-3033-47c7-8c1c-67a73e6b5224"
      },
      "execution_count": null,
      "outputs": [
        {
          "output_type": "stream",
          "name": "stdout",
          "text": [
            "variable con minúscula es Pepe\n",
            "Variable con mayúscula es Ramón\n"
          ]
        }
      ]
    },
    {
      "cell_type": "markdown",
      "source": [
        "## 🔗 **Tipos de datos**"
      ],
      "metadata": {
        "id": "9bvEHXVze81J"
      }
    },
    {
      "cell_type": "markdown",
      "source": [
        "### ➖ Data types"
      ],
      "metadata": {
        "id": "_rpwJACbfSVM"
      }
    },
    {
      "cell_type": "markdown",
      "source": [
        "Las variables pueden almacenar datos de diferentes tipos, y diferentes tipos pueden hacer cosas diferentes\n",
        "Python tiene los siguientes tipos de datos integrados de forma predeterminada, en estas categorías:\n",
        "- **Booleano:** bool\n",
        "- **Numéricos:** int, float, complex\n",
        "- **Cadena:** str \n",
        "- **Tupla:** tuple\n",
        "- **Lista:** list\n",
        "- **Conjunto:** set\n",
        "- **Diccionario:** dict\n",
        "\n"
      ],
      "metadata": {
        "id": "CzxC9at22AHz"
      }
    },
    {
      "cell_type": "markdown",
      "source": [
        "### ➖ Obtener el tipo de dato"
      ],
      "metadata": {
        "id": "G7x3samhbfSv"
      }
    },
    {
      "cell_type": "markdown",
      "source": [
        "Puede obtener el tipo de datos de cualquier objeto utilizando la función type():\n",
        "```python \n",
        "type(dato) \n",
        "```"
      ],
      "metadata": {
        "id": "r3KW2G4Vb0XF"
      }
    },
    {
      "cell_type": "code",
      "source": [
        "#Ejemplo 1\n",
        "type(20)"
      ],
      "metadata": {
        "colab": {
          "base_uri": "https://localhost:8080/"
        },
        "id": "_en0R8IGcBP0",
        "outputId": "68b15a0e-d58b-42ee-804e-8f2851cc8ca0"
      },
      "execution_count": null,
      "outputs": [
        {
          "output_type": "execute_result",
          "data": {
            "text/plain": [
              "int"
            ]
          },
          "metadata": {},
          "execution_count": 6
        }
      ]
    },
    {
      "cell_type": "code",
      "source": [
        "#Ejemplo 2\n",
        "type(\"20\")"
      ],
      "metadata": {
        "colab": {
          "base_uri": "https://localhost:8080/"
        },
        "id": "rjReqICDcLst",
        "outputId": "68536975-bd70-495e-e341-3fe179e99100"
      },
      "execution_count": null,
      "outputs": [
        {
          "output_type": "execute_result",
          "data": {
            "text/plain": [
              "str"
            ]
          },
          "metadata": {},
          "execution_count": 5
        }
      ]
    },
    {
      "cell_type": "markdown",
      "source": [
        "## 👓 **Números**"
      ],
      "metadata": {
        "id": "kSl7tF5GMZGk"
      }
    },
    {
      "cell_type": "markdown",
      "source": [
        "### ➖ Tipos de números"
      ],
      "metadata": {
        "id": "8zIRwq05Vt5z"
      }
    },
    {
      "cell_type": "markdown",
      "source": [
        "Los números de Python están relacionados con los números matemáticos, pero están sujetos a las limitaciones de la representación numérica en las computadoras. Python distingue entre \n",
        "*\t**Enteros (int):** son aquellos que no tienen decimales, tanto positivos como negativos (además del cero). En Python se pueden representar mediante el tipo int (de integer, entero).\n",
        "*\t**Punto flotante (float):** Los números reales, son los que tienen decimales, en Python se expresan mediante el tipo float. \n",
        "\n"
      ],
      "metadata": {
        "id": "Bnmwrp_wS7ue"
      }
    },
    {
      "cell_type": "markdown",
      "source": [
        "🔥\n",
        "Python posee más tipos de números pero no son de nuestro interés en este curso 🔥"
      ],
      "metadata": {
        "id": "nlmpd_XFULJD"
      }
    },
    {
      "cell_type": "markdown",
      "source": [
        "### ➖ Operaciones numéricas"
      ],
      "metadata": {
        "id": "dRSIGnReV7-r"
      }
    },
    {
      "cell_type": "markdown",
      "source": [
        "En programación y en matemáticas, los operadores aritméticos son aquellos que manipulan los datos de tipo numérico, es decir, permiten la realización de operaciones matemáticas "
      ],
      "metadata": {
        "id": "QNZEzuIQWHlE"
      }
    },
    {
      "cell_type": "markdown",
      "source": [
        "<style type=\"text/css\">\n",
        ".tg  {border-collapse:collapse;border-spacing:0;}\n",
        ".tg td{border-color:black;border-style:solid;border-width:1px;font-family:Arial, sans-serif;font-size:14px;\n",
        "  overflow:hidden;padding:10px 5px;word-break:normal;}\n",
        ".tg th{border-color:black;border-style:solid;border-width:1px;font-family:Arial, sans-serif;font-size:14px;\n",
        "  font-weight:normal;overflow:hidden;padding:10px 5px;word-break:normal;}\n",
        ".tg .tg-cey4{border-color:inherit;font-size:16px;text-align:left;vertical-align:top}\n",
        ".tg .tg-dbtv{border-color:inherit;font-size:16px;font-weight:bold;text-align:left;vertical-align:top}\n",
        "</style>\n",
        "<table class=\"tg\">\n",
        "<thead>\n",
        "  <tr>\n",
        "    <th class=\"tg-dbtv\">Operación</th>\n",
        "    <th class=\"tg-dbtv\">Operador</th>\n",
        "    <th class=\"tg-dbtv\">Ejemplo</th>\n",
        "  </tr>\n",
        "</thead>\n",
        "<tbody>\n",
        "  <tr>\n",
        "    <td class=\"tg-cey4\">Suma</td>\n",
        "    <td class=\"tg-cey4\">+</td>\n",
        "    <td class=\"tg-cey4\">3+5=8</td>\n",
        "  </tr>\n",
        "  <tr>\n",
        "    <td class=\"tg-cey4\">Resta</td>\n",
        "    <td class=\"tg-cey4\">-</td>\n",
        "    <td class=\"tg-cey4\">8 – 5 =3</td>\n",
        "  </tr>\n",
        "  <tr>\n",
        "    <td class=\"tg-cey4\">Multiplicación</td>\n",
        "    <td class=\"tg-cey4\">*</td>\n",
        "    <td class=\"tg-cey4\">3*6=18</td>\n",
        "  </tr>\n",
        "  <tr>\n",
        "    <td class=\"tg-cey4\">Potencia</td>\n",
        "    <td class=\"tg-cey4\">**</td>\n",
        "    <td class=\"tg-cey4\">3**2=9</td>\n",
        "  </tr>\n",
        "  <tr>\n",
        "    <td class=\"tg-cey4\">División (Cociente)</td>\n",
        "    <td class=\"tg-cey4\">/</td>\n",
        "    <td class=\"tg-cey4\">15/2=7.5</td>\n",
        "  </tr>\n",
        "  <tr>\n",
        "    <td class=\"tg-cey4\">División (Parte entera)</td>\n",
        "    <td class=\"tg-cey4\">//</td>\n",
        "    <td class=\"tg-cey4\">15.0//2.0=7</td>\n",
        "  </tr>\n",
        "  <tr>\n",
        "    <td class=\"tg-cey4\">División (Resto)</td>\n",
        "    <td class=\"tg-cey4\">%</td>\n",
        "    <td class=\"tg-cey4\">7%5=2</td>\n",
        "  </tr>\n",
        "</tbody>\n",
        "</table>"
      ],
      "metadata": {
        "id": "6oXreGhDYjUG"
      }
    },
    {
      "cell_type": "markdown",
      "source": [
        "Veamos algunos de ellos en acción"
      ],
      "metadata": {
        "id": "yTs0x3WlY5OD"
      }
    },
    {
      "cell_type": "code",
      "source": [
        "#Suma\n",
        "15+65"
      ],
      "metadata": {
        "colab": {
          "base_uri": "https://localhost:8080/"
        },
        "id": "1u21tnXgTunP",
        "outputId": "45265de1-416a-492d-d9b8-88c30adae364"
      },
      "execution_count": null,
      "outputs": [
        {
          "output_type": "execute_result",
          "data": {
            "text/plain": [
              "80"
            ]
          },
          "metadata": {},
          "execution_count": 4
        }
      ]
    },
    {
      "cell_type": "code",
      "source": [
        "#Potencia \n",
        "5**3"
      ],
      "metadata": {
        "colab": {
          "base_uri": "https://localhost:8080/"
        },
        "id": "Ijv7SjL8Y1wj",
        "outputId": "f3e4c5fb-427d-4382-d601-b7c60b57c57f"
      },
      "execution_count": null,
      "outputs": [
        {
          "output_type": "execute_result",
          "data": {
            "text/plain": [
              "125"
            ]
          },
          "metadata": {},
          "execution_count": 5
        }
      ]
    },
    {
      "cell_type": "code",
      "source": [
        "#División Resto\n",
        "4%2"
      ],
      "metadata": {
        "colab": {
          "base_uri": "https://localhost:8080/"
        },
        "id": "m7BqrI4bZD9Q",
        "outputId": "f9c123c9-7ab6-4fdf-f0ca-903555ddcd24"
      },
      "execution_count": null,
      "outputs": [
        {
          "output_type": "execute_result",
          "data": {
            "text/plain": [
              "0"
            ]
          },
          "metadata": {},
          "execution_count": 6
        }
      ]
    },
    {
      "cell_type": "markdown",
      "source": [
        "🔥 Las raíces se pueden hacer usando potencia fraccionaria 🔥"
      ],
      "metadata": {
        "id": "GYPGtxP4ZbRh"
      }
    },
    {
      "cell_type": "markdown",
      "source": [
        "### ➖ Procedencia de los operadores"
      ],
      "metadata": {
        "id": "SjyW-HBMZouz"
      }
    },
    {
      "cell_type": "markdown",
      "source": [
        "Al igual que ocurre en matemáticas, en programación también tenemos una prioridad en los operadores. Esto significa que ***si una expresión matemática es precedida por un operador y seguido de otro, el operador más alto en la lista debe ser aplicado por primera vez***. "
      ],
      "metadata": {
        "id": "fPhpj6KwZxfO"
      }
    },
    {
      "cell_type": "markdown",
      "source": [
        "El orden normal de las operaciones es de izquierda a derecha, evaluando en orden los siguientes operadores.\n",
        "1.\tTérminos entre paréntesis\n",
        "2.\tPotenciación y raíces\n",
        "3.\tMultiplicación y división\n",
        "4.\tSuma y resta\n"
      ],
      "metadata": {
        "id": "FB3KUDpfaEuh"
      }
    },
    {
      "cell_type": "markdown",
      "source": [
        "### ➖ Conversión de tipo"
      ],
      "metadata": {
        "id": "eiQAsC9yeU-4"
      }
    },
    {
      "cell_type": "markdown",
      "source": [
        "Se puede convertir de un tipo a otro con los métodos int() y float():"
      ],
      "metadata": {
        "id": "p-19k3unegv4"
      }
    },
    {
      "cell_type": "code",
      "source": [
        "#Ejemplo\n",
        "mi_var=\"5\"\n",
        "nueva_var=int(mi_var)\n",
        "type(nueva_var)"
      ],
      "metadata": {
        "colab": {
          "base_uri": "https://localhost:8080/"
        },
        "id": "PpReoSjCeuC0",
        "outputId": "6fcc49d0-e157-40a3-ff5e-42ca08a4c514"
      },
      "execution_count": null,
      "outputs": [
        {
          "output_type": "execute_result",
          "data": {
            "text/plain": [
              "int"
            ]
          },
          "metadata": {},
          "execution_count": 8
        }
      ]
    },
    {
      "cell_type": "markdown",
      "source": [
        "## 🔤 Cadenas de texto"
      ],
      "metadata": {
        "id": "X_OJpKPEaV8X"
      }
    },
    {
      "cell_type": "markdown",
      "source": [
        "### ➖ String"
      ],
      "metadata": {
        "id": "61HeIFccaw5b"
      }
    },
    {
      "cell_type": "markdown",
      "source": [
        "Las cadenos (o strings) son un tipo de datos compuestos por secuencias de caracteres que representan texto. Estas cadenas de texto son de tipo str y se delimitan mediante el uso de comillas simples o dobles.\n"
      ],
      "metadata": {
        "id": "eMNo7n3wazTO"
      }
    },
    {
      "cell_type": "code",
      "source": [
        "#Ejemplo \n",
        "'Esto es una cadena de texto'\n",
        "\"Esto también es una cadena de texto\""
      ],
      "metadata": {
        "colab": {
          "base_uri": "https://localhost:8080/",
          "height": 35
        },
        "id": "TT_FZGava42g",
        "outputId": "b9e9e4b9-9e08-403e-cdec-7ca8b8d20aa0"
      },
      "execution_count": null,
      "outputs": [
        {
          "output_type": "execute_result",
          "data": {
            "text/plain": [
              "'Esto también es una cadena de texto'"
            ],
            "application/vnd.google.colaboratory.intrinsic+json": {
              "type": "string"
            }
          },
          "metadata": {},
          "execution_count": 7
        }
      ]
    },
    {
      "cell_type": "markdown",
      "source": [
        "🔥 En python, las cadenas de texto o strings, son INMUTABLES esto significa, que no se puede sustituir ninguno de sus caracteres individualmente. 🔥"
      ],
      "metadata": {
        "id": "qUigta9MiJld"
      }
    },
    {
      "cell_type": "markdown",
      "source": [
        "### ➖ Print()"
      ],
      "metadata": {
        "id": "OKS8juuZbIgh"
      }
    },
    {
      "cell_type": "markdown",
      "source": [
        "La forma correcta de mostrar cadenas de texto (u otros objetos) por pantalla en Python es utilizando una función llamada print (imprimir). Se indica lo que se desea mostrar por pantalla entre paréntesis.\n",
        "```python\n",
        "print(\"cadena de texto\")\n",
        "```"
      ],
      "metadata": {
        "id": "qDw6I64JbLHS"
      }
    },
    {
      "cell_type": "code",
      "source": [
        "#Ejemplo\n",
        "print(\"Esto es una cadena de texto\")\n",
        "print(4)"
      ],
      "metadata": {
        "colab": {
          "base_uri": "https://localhost:8080/"
        },
        "id": "5fui_V4IbRsB",
        "outputId": "565c06f0-87a7-47ef-faae-5d78d0ef7d0b"
      },
      "execution_count": null,
      "outputs": [
        {
          "output_type": "stream",
          "name": "stdout",
          "text": [
            "Esto es una cadena de texto\n",
            "4\n"
          ]
        }
      ]
    },
    {
      "cell_type": "markdown",
      "source": [
        "### ➖ Indexación de strings"
      ],
      "metadata": {
        "id": "sNlYlR40iiMi"
      }
    },
    {
      "cell_type": "markdown",
      "source": [
        "Cada uno de los caracteres de una cadena (incluidos los espacios) tiene asignado un índice. Este índice nos permite seleccionar su carácter asociado haciendo referencia a él entre corchetes [ ] en el nombre de la variable que almacena la cadena.\n",
        "*\t**Si consideremos el orden de izquierda a derecha**, el índice empieza en 0 para el primer carácter, etc. \n",
        "*\t**También se puede considerar el orden de derecha a izquierda**, en cuyo caso al último carácter le corresponde el índice -1, al penúltimo -2 y así sucesivamente. Este método es útil si por ejemplo queremos acceder a caracteres en las últimas posiciones de una cadena con muchos caracteres de la cual no conocemos su longitud.\n"
      ],
      "metadata": {
        "id": "XiTyIWYRkYbV"
      }
    },
    {
      "cell_type": "markdown",
      "source": [
        "<style type=\"text/css\">\n",
        ".tg  {border-collapse:collapse;border-spacing:0;}\n",
        ".tg td{border-color:black;border-style:solid;border-width:1px;font-family:Arial, sans-serif;font-size:14px;\n",
        "  overflow:hidden;padding:10px 5px;word-break:normal;}\n",
        ".tg th{border-color:black;border-style:solid;border-width:1px;font-family:Arial, sans-serif;font-size:14px;\n",
        "  font-weight:normal;overflow:hidden;padding:10px 5px;word-break:normal;}\n",
        ".tg .tg-mszm{background-color:#ffcb2f;font-size:18px;font-weight:bold;text-align:left;vertical-align:top}\n",
        ".tg .tg-9sjn{background-color:#ffcb2f;border-color:inherit;font-size:18px;font-weight:bold;text-align:left;vertical-align:top}\n",
        ".tg .tg-pe1m{font-size:18px;font-weight:bold;text-align:left;vertical-align:top}\n",
        ".tg .tg-nx8p{font-size:18px;text-align:left;vertical-align:top}\n",
        ".tg .tg-fuxe{border-color:inherit;font-size:18px;text-align:left;vertical-align:top}\n",
        "</style>\n",
        "<table class=\"tg\">\n",
        "<thead>\n",
        "  <tr>\n",
        "    <th class=\"tg-mszm\">Caracteres:</th>\n",
        "    <th class=\"tg-mszm\">P</th>\n",
        "    <th class=\"tg-mszm\">y</th>\n",
        "    <th class=\"tg-9sjn\">t</th>\n",
        "    <th class=\"tg-mszm\">h</th>\n",
        "    <th class=\"tg-mszm\">o</th>\n",
        "    <th class=\"tg-mszm\">n</th>\n",
        "  </tr>\n",
        "</thead>\n",
        "<tbody>\n",
        "  <tr>\n",
        "    <td class=\"tg-pe1m\">Índice:</td>\n",
        "    <td class=\"tg-nx8p\">0</td>\n",
        "    <td class=\"tg-nx8p\">1</td>\n",
        "    <td class=\"tg-fuxe\">2</td>\n",
        "    <td class=\"tg-nx8p\">3</td>\n",
        "    <td class=\"tg-nx8p\">4</td>\n",
        "    <td class=\"tg-nx8p\">5</td>\n",
        "  </tr>\n",
        "  <tr>\n",
        "    <td class=\"tg-pe1m\">Índice inverso:</td>\n",
        "    <td class=\"tg-nx8p\">-6</td>\n",
        "    <td class=\"tg-nx8p\">-5</td>\n",
        "    <td class=\"tg-fuxe\">-4</td>\n",
        "    <td class=\"tg-nx8p\">-3</td>\n",
        "    <td class=\"tg-nx8p\">-2</td>\n",
        "    <td class=\"tg-nx8p\">-1</td>\n",
        "  </tr>\n",
        "</tbody>\n",
        "</table>"
      ],
      "metadata": {
        "id": "-MtZaLGClzer"
      }
    },
    {
      "cell_type": "code",
      "source": [
        "#Ejemplo \n",
        "variable=\"Python\"\n",
        "variable[-6]"
      ],
      "metadata": {
        "colab": {
          "base_uri": "https://localhost:8080/",
          "height": 35
        },
        "id": "BYUdHlx9mAvo",
        "outputId": "d648be90-afc3-43eb-ac57-bca474423fea"
      },
      "execution_count": null,
      "outputs": [
        {
          "output_type": "execute_result",
          "data": {
            "text/plain": [
              "'P'"
            ],
            "application/vnd.google.colaboratory.intrinsic+json": {
              "type": "string"
            }
          },
          "metadata": {},
          "execution_count": 12
        }
      ]
    },
    {
      "cell_type": "markdown",
      "source": [
        "### ➖ Slicing"
      ],
      "metadata": {
        "id": "UwczK5NTg91C"
      }
    },
    {
      "cell_type": "markdown",
      "source": [
        "Otra función de las cadenas que podemos usar, es seleccionar solamente una parte de las cadenas. Para ello se usa la notación **[inicio:fin:paso]** también en el nombre de la variable que almacena la cadena. \n",
        "*\t**Inicio:** es el índice del primer carácter de la porción de la cadena que queremos seleccionar. \n",
        "*\t**Fin:** es el índice del último carácter no incluido de la porción de la cadena que queremos seleccionar. \n",
        "*\t**Paso:** indica cada cuantos caracteres seleccionamos entre las posiciones de inicio y fin. Especifica la zancada, que hace referencia a la cantidad de caracteres que se deben seguir después de recuperar el primer carácter de la cadena.\n"
      ],
      "metadata": {
        "id": "GUk-_LZIhCPN"
      }
    },
    {
      "cell_type": "code",
      "source": [
        "#Ejemplo \n",
        "mensaje=\"PYTHON\"\n",
        "print(mensaje[0:4:1])"
      ],
      "metadata": {
        "colab": {
          "base_uri": "https://localhost:8080/"
        },
        "id": "zTPalimGhWyP",
        "outputId": "eb0a3cb1-4b62-450f-b0df-632b7fd93c9c"
      },
      "execution_count": null,
      "outputs": [
        {
          "output_type": "stream",
          "name": "stdout",
          "text": [
            "PYTH\n"
          ]
        }
      ]
    },
    {
      "cell_type": "markdown",
      "source": [
        "Si queremos incluir cualquiera de los extremos de una cadena, podemos omitir uno de los números en la sintaxis **string[n:n]**. En el caso de que queramos imprimir desde el principio debemos omitir el número correspondiente al de inicio. "
      ],
      "metadata": {
        "id": "ogEKdpVWhjng"
      }
    },
    {
      "cell_type": "code",
      "source": [
        "#Ejemplo \n",
        "mensaje=\"Esto es una prueba\"\n",
        "print(mensaje[:15])"
      ],
      "metadata": {
        "colab": {
          "base_uri": "https://localhost:8080/"
        },
        "id": "lUsvUx1LhvFL",
        "outputId": "570af07c-6e28-4a41-bf00-60d304bfe96a"
      },
      "execution_count": null,
      "outputs": [
        {
          "output_type": "stream",
          "name": "stdout",
          "text": [
            "Esto es una pru\n"
          ]
        }
      ]
    },
    {
      "cell_type": "markdown",
      "source": [
        "En el caso de que queramos imprimir hasta el final debemos omitir el número correspondiente al de final. "
      ],
      "metadata": {
        "id": "htD_oNrEiB9x"
      }
    },
    {
      "cell_type": "code",
      "source": [
        "#Ejemplo \n",
        "mensaje=\"Esto es una prueba\"\n",
        "print(mensaje[10:])"
      ],
      "metadata": {
        "colab": {
          "base_uri": "https://localhost:8080/"
        },
        "id": "Zx8o7pjfiC5v",
        "outputId": "da67e9c1-b10b-47f1-8bd9-fa358dafae35"
      },
      "execution_count": null,
      "outputs": [
        {
          "output_type": "stream",
          "name": "stdout",
          "text": [
            "a prueba\n"
          ]
        }
      ]
    },
    {
      "cell_type": "markdown",
      "source": [
        "## 🌏 Recursos "
      ],
      "metadata": {
        "id": "gd-u_jECGJgy"
      }
    },
    {
      "cell_type": "markdown",
      "source": [
        "En el caso de que deseen ahondar más en los temás presentamos los siguientes recursos (algunos de los cuales fueron utilizados para armar este tutorial)\n",
        "- https://docs.python.org/es/3/tutorial/index.html (documentación oficial de python) \n",
        "- https://aprendeconalf.es/docencia/python/manual/ (manual de python de aprende con alf)\n",
        "- https://www.w3schools.com/python/default.asp (tutorial de w3schools)\n",
        "- https://docs.hektorprofe.net/python/ \n",
        "- https://www.geeksforgeeks.org/python-programming-language/?ref=ghm \n",
        "- https://www.freecodecamp.org/learn/data-analysis-with-python/ "
      ],
      "metadata": {
        "id": "VOPbHXeqHxRv"
      }
    },
    {
      "cell_type": "markdown",
      "source": [
        "## 📎 Autores \n",
        "El presente tutorial fue elaborado por \n",
        "- Pasquini Ricardo\n",
        "- Sesto Francisco"
      ],
      "metadata": {
        "id": "3MRW92haaK1S"
      }
    }
  ]
}
