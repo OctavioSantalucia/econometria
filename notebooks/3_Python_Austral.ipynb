{
  "nbformat": 4,
  "nbformat_minor": 0,
  "metadata": {
    "colab": {
      "provenance": [],
      "toc_visible": true,
      "include_colab_link": true
    },
    "kernelspec": {
      "name": "python3",
      "display_name": "Python 3"
    },
    "language_info": {
      "name": "python"
    }
  },
  "cells": [
    {
      "cell_type": "markdown",
      "metadata": {
        "id": "view-in-github",
        "colab_type": "text"
      },
      "source": [
        "<a href=\"https://colab.research.google.com/github/franciscosesto/econometria/blob/main/notebooks/3_Python_Austral.ipynb\" target=\"_parent\"><img src=\"https://colab.research.google.com/assets/colab-badge.svg\" alt=\"Open In Colab\"/></a>"
      ]
    },
    {
      "cell_type": "markdown",
      "source": [
        "\n",
        "\n",
        "<h1>\n",
        "<b> Python Econometría\n",
        "</h1>\n",
        "\n",
        " \n",
        "<div>\n",
        "<img src=\"https://upload.wikimedia.org/wikipedia/commons/thumb/c/c3/Python-logo-notext.svg/800px-Python-logo-notext.svg.png \" width=\"100\"/>\n",
        "</div>"
      ],
      "metadata": {
        "id": "gAhwbMw3BNu2"
      }
    },
    {
      "cell_type": "markdown",
      "source": [
        "##**🤔 ¿Qué es?**\n",
        "\n"
      ],
      "metadata": {
        "id": "w3CRWUbNF-JT"
      }
    },
    {
      "cell_type": "markdown",
      "source": [
        "Python es un lenguaje de programación de alto nivel, código abierto,\n",
        "orientado a objetos, simple y fácil de entender.\n",
        "\n",
        "\n",
        "1.   **Alto nivel:** Un lenguaje de programación de alto nivel es aquel que ***está cerca del lenguaje humano y se aleja del lenguaje de la máquina***. \n",
        "2.   **Código abierto:** Su ***código fuente está disponible*** para ser utilizado, modificado y distribuido de manera gratuita por cualquier persona.\n",
        "3.    **Orientado a objetos:** Se basa en el ***concepto de objetos y clases***. Los objetos tienen características y comportamientos, y se relacionan entre sí para formar un programa. \n"
      ],
      "metadata": {
        "id": "tGG0c6EuBcwe"
      }
    },
    {
      "cell_type": "markdown",
      "source": [
        "🔥\n",
        "Para programar con comodidad se suele instalar un \"IDE\" o editor de texto.\n",
        "Por ahora trabajaremos con un entorno de Google para enfocarnos solo en la\n",
        "programación, este entorno se llama Colab. 🔥"
      ],
      "metadata": {
        "id": "TnDgpxCGISKn"
      }
    },
    {
      "cell_type": "markdown",
      "source": [
        "## 📮 **Tuplas** "
      ],
      "metadata": {
        "id": "6UOmBbDNw82y"
      }
    },
    {
      "cell_type": "markdown",
      "source": [
        "### ➖ Características"
      ],
      "metadata": {
        "id": "Icx7Lf0bxTuH"
      }
    },
    {
      "cell_type": "markdown",
      "source": [
        "Una tupla es una ***secuencias ordenadas de objetos de distintos tipos.***\n",
        "\n",
        "Se construyen poniendo los elementos entre corchetes ( ) separados por comas.\n",
        "\n",
        "Se caracterizan por:\n",
        "\n",
        "- Tienen orden.\n",
        "- Pueden contener elementos de distintos tipos.\n",
        "- Pueden tener elementos repetidos.\n",
        "- Son inmutables, es decir, no pueden alterarse durante la ejecución de un programa.\n",
        "\n",
        "Se usan habitualmente para representar colecciones de datos una determinada estructura semántica, como por ejemplo un vector o una matriz."
      ],
      "metadata": {
        "id": "4GRXfn5exUpx"
      }
    },
    {
      "cell_type": "code",
      "source": [
        "#Tupla vacia\n",
        "tuplav=()\n",
        "print(tuplav, type(tuplav))"
      ],
      "metadata": {
        "colab": {
          "base_uri": "https://localhost:8080/"
        },
        "id": "8TdsnX9Rxz2B",
        "outputId": "16e2645b-c4bc-4e61-d3b1-73289b7b2b70"
      },
      "execution_count": null,
      "outputs": [
        {
          "output_type": "stream",
          "name": "stdout",
          "text": [
            "() <class 'tuple'>\n"
          ]
        }
      ]
    },
    {
      "cell_type": "code",
      "source": [
        "#Tupla con elementos de distintos tipos\n",
        "tupla1=(1,\"Esto es una tupla\", True)\n",
        "print(tupla1)"
      ],
      "metadata": {
        "colab": {
          "base_uri": "https://localhost:8080/"
        },
        "id": "DpbMv9n1yOTI",
        "outputId": "171e2627-9d21-4265-e22b-dafa2abb6401"
      },
      "execution_count": null,
      "outputs": [
        {
          "output_type": "stream",
          "name": "stdout",
          "text": [
            "(1, 'Esto es una tupla', True)\n"
          ]
        }
      ]
    },
    {
      "cell_type": "code",
      "source": [
        "#Tupla anidada\n",
        "tupla2=(\"Austral\", [1,2], (\"ocho\"))\n",
        "print(tupla2)"
      ],
      "metadata": {
        "colab": {
          "base_uri": "https://localhost:8080/"
        },
        "id": "Zp1wanDTzeDq",
        "outputId": "40121218-361e-43ec-9bb8-3652588f166d"
      },
      "execution_count": null,
      "outputs": [
        {
          "output_type": "stream",
          "name": "stdout",
          "text": [
            "('Austral', [1, 2], 'ocho')\n"
          ]
        }
      ]
    },
    {
      "cell_type": "markdown",
      "source": [
        "### ➖ Obtener elementos de una tupla"
      ],
      "metadata": {
        "id": "UbhwtmD4z7xO"
      }
    },
    {
      "cell_type": "markdown",
      "source": [
        "Los elementos de la tupla están indexados y se puede acceder a ellos consultando el número de índice.\n",
        "```python\n",
        "tupla[\"nº del indice\"]\n",
        "```\n",
        "* **Índice positivo:** el primer elemento de la tupla tiene índice 0, el segundo índice 1, ...\n",
        "* **Índice negativo:** el último elemento de la tupla tiene índice -1, el anteúltimo índice -2, ..."
      ],
      "metadata": {
        "id": "SiwCQykL0R38"
      }
    },
    {
      "cell_type": "code",
      "source": [
        "#Ejemplo índice positivo\n",
        "mi_tupla=(\"pera\", (10,2), \"limón\",7)\n",
        "print(mi_tupla[1])\n",
        "print(mi_tupla[1][0]) #Puedo acceder a la tupla anidada también"
      ],
      "metadata": {
        "colab": {
          "base_uri": "https://localhost:8080/"
        },
        "id": "fMd1ZiRjz7YQ",
        "outputId": "25f61dc6-cde3-4a0d-cf8a-3273cc6f41ae"
      },
      "execution_count": null,
      "outputs": [
        {
          "output_type": "stream",
          "name": "stdout",
          "text": [
            "(10, 2)\n",
            "10\n"
          ]
        }
      ]
    },
    {
      "cell_type": "code",
      "source": [
        "#Ejemplo índice negativo\n",
        "mi_tupla=(\"pera\", (10,2), \"limón\",7)\n",
        "print(mi_tupla[-1])"
      ],
      "metadata": {
        "colab": {
          "base_uri": "https://localhost:8080/"
        },
        "id": "5dqJAzoa1C-v",
        "outputId": "99aa8eb5-088d-4714-cbb2-784fe2ca7e57"
      },
      "execution_count": null,
      "outputs": [
        {
          "output_type": "stream",
          "name": "stdout",
          "text": [
            "7\n"
          ]
        }
      ]
    },
    {
      "cell_type": "markdown",
      "source": [
        "### ➖ Subtuplas"
      ],
      "metadata": {
        "id": "osN2aZrm1z08"
      }
    },
    {
      "cell_type": "markdown",
      "source": [
        "También podemos utilizar slicing como con los strings y seleccionar rangos de índices.\n",
        "```python \n",
        "tupla[i:j:k] \n",
        "``` \n",
        "Devuelve la subtupla desde la tupla con el índice ***i*** hasta el elemento anterior al índice ***j***, tomando elementos cada ***k***."
      ],
      "metadata": {
        "id": "iWScOmVZ15MO"
      }
    },
    {
      "cell_type": "code",
      "source": [
        "#Rango de índices y subtuplas\n",
        "mi_tupla=(\"manzana\", (10,2), \"banana\",5)\n",
        "print(mi_tupla[1:3])"
      ],
      "metadata": {
        "colab": {
          "base_uri": "https://localhost:8080/"
        },
        "id": "C3kVhWlR2LHr",
        "outputId": "14cd4453-0157-4d16-b580-76527a2de6bc"
      },
      "execution_count": null,
      "outputs": [
        {
          "output_type": "stream",
          "name": "stdout",
          "text": [
            "((10, 2), 'banana')\n"
          ]
        }
      ]
    },
    {
      "cell_type": "markdown",
      "source": [
        "## 📚 **Diccionarios** "
      ],
      "metadata": {
        "id": "PGWp1bqnaPQ1"
      }
    },
    {
      "cell_type": "markdown",
      "source": [
        "### ➖ Características"
      ],
      "metadata": {
        "id": "5NvNZGqqe83k"
      }
    },
    {
      "cell_type": "markdown",
      "source": [
        "Un diccionario es una colección de pares formados por una clave y un valor asociado a la clave.\n",
        "\n",
        "Se construyen poniendo los pares entre llaves { } separados por comas, y separando la clave del valor con dos puntos :.\n",
        "\n",
        "Se caracterizan por:\n",
        "\n",
        "- No tienen orden.\n",
        "- Pueden contener elementos de distintos tipos.\n",
        "- Son mutables, es decir, pueden alterarse durante la ejecución de un programa.\n",
        "- Las claves son únicas, es decir, no pueden repetirse en un mismo diccionario, y pueden ser de cualquier tipo de datos inmutable."
      ],
      "metadata": {
        "id": "y4KVu8Ise9ak"
      }
    },
    {
      "cell_type": "code",
      "source": [
        "#Diccionario vacío\n",
        "dictv= {}\n",
        "print(dictv, type(dictv))"
      ],
      "metadata": {
        "colab": {
          "base_uri": "https://localhost:8080/"
        },
        "id": "l3GrOQqcfq07",
        "outputId": "e290cfbd-0d7d-4c32-a611-1245150103f9"
      },
      "execution_count": null,
      "outputs": [
        {
          "output_type": "stream",
          "name": "stdout",
          "text": [
            "{} <class 'dict'>\n"
          ]
        }
      ]
    },
    {
      "cell_type": "code",
      "source": [
        "#Diccionario con elementos de distintos tipos\n",
        "dict1= {\"Universidad\":\"Austral\",\"Materia\":\"Econometría\",\"Año\":2023}\n",
        "print(dict1)"
      ],
      "metadata": {
        "colab": {
          "base_uri": "https://localhost:8080/"
        },
        "id": "5-b-IM4_gLEv",
        "outputId": "1313dd6c-0496-4986-8e26-feab63b9b0e7"
      },
      "execution_count": null,
      "outputs": [
        {
          "output_type": "stream",
          "name": "stdout",
          "text": [
            "{'Universidad': 'Austral', 'Materia': 'Econometría', 'Año': 2023}\n"
          ]
        }
      ]
    },
    {
      "cell_type": "markdown",
      "source": [
        "### ➖ Obtener elementos de un diccionario"
      ],
      "metadata": {
        "id": "RCJfqy-Zg9dK"
      }
    },
    {
      "cell_type": "markdown",
      "source": [
        "Para traer el valor de un diccionario se puede utilizar su clave con [] o con la función get().\n",
        "- **d[clave]** devuelve el valor del diccionario d asociado a la clave clave. Si en el diccionario no existe esa clave devuelve un error.\n",
        "- **d.get(clave)** devuelve el valor del diccionario d asociado a la clave clave. \n"
      ],
      "metadata": {
        "id": "1oqGaVFwhCjy"
      }
    },
    {
      "cell_type": "code",
      "source": [
        "#Ejemplo acceder elementos \n",
        "dict1= {\"Universidad\":\"Austral\",\"Materia\":\"Econometría\",\"Año\":2023}\n",
        "print(dict1[\"Universidad\"])\n",
        "print(dict1.get(\"Materia\"))"
      ],
      "metadata": {
        "colab": {
          "base_uri": "https://localhost:8080/"
        },
        "id": "v4_x2s9Ehuv0",
        "outputId": "3b70546e-c83f-4a69-fe42-d1feadb16349"
      },
      "execution_count": null,
      "outputs": [
        {
          "output_type": "stream",
          "name": "stdout",
          "text": [
            "Austral\n",
            "Econometría\n"
          ]
        }
      ]
    },
    {
      "cell_type": "markdown",
      "source": [
        "### ➖ Métodos y funciones de diccionarios"
      ],
      "metadata": {
        "id": "ETuFeMlMlZ42"
      }
    },
    {
      "cell_type": "markdown",
      "source": [
        "***Métodos y funciones que no modifican los diccionarios***\n",
        "* **len(d):** Devuelve el número de elementos del diccionario.\n",
        "* **min(d):** Devuelve la mínima clave del diccionario siempre que las claves sean comparables.\n",
        "* **max(d):** Devuelve la máxima clave del diccionario d siempre que las claves sean comparables.\n",
        "* **sum(d):** Devuelve la suma de las claves del diccionario d, siempre que las claves se puedan sumar.\n",
        "* **d.keys():** Devuelve un iterador sobre las claves de un diccionario.\n",
        "* **d.values():** Devuelve un iterador sobre los valores de un diccionario.\n",
        "* **d.items():** Devuelve un iterador sobre los pares clave-valor de un diccionario.\n"
      ],
      "metadata": {
        "id": "Lnfm_NLvlaJf"
      }
    },
    {
      "cell_type": "code",
      "source": [
        "#Métodos y funciones que NO modifican diccionarios\n",
        "dictage={\"Octavio\":29, \"Federico\":41, \"Lucio\":1, \"German\":15}\n",
        "print(\"La cantidad de elementos del diccionario es\", len(dictage))\n",
        "print(\"El mínimo del diccionario es\",min(dictage.values()))\n",
        "print(\"El máximo del diccionario es\", max(dictage.values()))\n",
        "print(\"La suma de los valores del diccionario es\",sum(dictage.values()))"
      ],
      "metadata": {
        "colab": {
          "base_uri": "https://localhost:8080/"
        },
        "id": "svAtWZ1zmQMy",
        "outputId": "641b02c9-93b2-4e6f-f622-bdaecdd9e6fa"
      },
      "execution_count": null,
      "outputs": [
        {
          "output_type": "stream",
          "name": "stdout",
          "text": [
            "La cantidad de elementos del diccionario es 4\n",
            "El mínimo del diccionario es 1\n",
            "El máximo del diccionario es 41\n",
            "La suma de los valores del diccionario es 86\n"
          ]
        }
      ]
    },
    {
      "cell_type": "markdown",
      "source": [
        "🔥 Notar que para usar métodos para analizar los valores tenemos que usar **diccionario.values()** ya que sino estaría corriendo los métodos sobre las claves 🔥"
      ],
      "metadata": {
        "id": "9Px4raVCojPT"
      }
    },
    {
      "cell_type": "markdown",
      "source": [
        "***Métodos y funciones que modifican los diccionarios***\n",
        "* **d[clave] = valor :** Añade al diccionario d el par formado por la clave clave y el valor valor.\n",
        "* **d.update(d2) :** Añade los pares del diccionario d2 al diccionario d.\n",
        "* **d.pop(clave) :** Devuelve del valor asociado a la clave clave del diccionario d y lo elimina del diccionario. \n",
        "* **del d[clave] :** Elimina del diccionario d el par con la clave clave.\n",
        "\n"
      ],
      "metadata": {
        "id": "iuS1bar-oyIk"
      }
    },
    {
      "cell_type": "markdown",
      "source": [
        "## 🌏 Recursos "
      ],
      "metadata": {
        "id": "gd-u_jECGJgy"
      }
    },
    {
      "cell_type": "markdown",
      "source": [
        "En el caso de que deseen ahondar más en los temás presentamos los siguientes recursos (algunos de los cuales fueron utilizados para armar este tutorial)\n",
        "- https://docs.python.org/es/3/tutorial/index.html (documentación oficial de python) \n",
        "- https://aprendeconalf.es/docencia/python/manual/ (manual de python de aprende con alf)\n",
        "- https://www.w3schools.com/python/default.asp (tutorial de w3schools)\n",
        "- https://docs.hektorprofe.net/python/ \n",
        "- https://www.geeksforgeeks.org/python-programming-language/?ref=ghm \n",
        "- https://www.freecodecamp.org/learn/data-analysis-with-python/ "
      ],
      "metadata": {
        "id": "VOPbHXeqHxRv"
      }
    },
    {
      "cell_type": "markdown",
      "source": [
        "## 📎 Autores \n",
        "El presente tutorial fue elaborado por \n",
        "- Pasquini Ricardo\n",
        "- Sesto Francisco"
      ],
      "metadata": {
        "id": "3MRW92haaK1S"
      }
    }
  ]
}