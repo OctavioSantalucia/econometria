{
  "nbformat": 4,
  "nbformat_minor": 0,
  "metadata": {
    "colab": {
      "provenance": [],
      "authorship_tag": "ABX9TyP0ADp2Isa4DleQR18S0Ak9",
      "include_colab_link": true
    },
    "kernelspec": {
      "name": "python3",
      "display_name": "Python 3"
    },
    "language_info": {
      "name": "python"
    }
  },
  "cells": [
    {
      "cell_type": "markdown",
      "metadata": {
        "id": "view-in-github",
        "colab_type": "text"
      },
      "source": [
        "<a href=\"https://colab.research.google.com/github/franciscosesto/econometria/blob/main/notebooks/Desaf%C3%ADo_Tuplas_y_Diccionarios_Python_Austral.ipynb\" target=\"_parent\"><img src=\"https://colab.research.google.com/assets/colab-badge.svg\" alt=\"Open In Colab\"/></a>"
      ]
    },
    {
      "cell_type": "markdown",
      "source": [
        "<h1>\n",
        "<b> Python Econometría Desafíos\n",
        "</h1>\n",
        "\n",
        " \n",
        "<div>\n",
        "<img src=\"https://upload.wikimedia.org/wikipedia/commons/thumb/c/c3/Python-logo-notext.svg/800px-Python-logo-notext.svg.png \" width=\"100\"/>\n",
        "</div>"
      ],
      "metadata": {
        "id": "MOtJt5QPssHJ"
      }
    },
    {
      "cell_type": "markdown",
      "source": [
        "## 🟢 **Desafío 1**"
      ],
      "metadata": {
        "id": "-PB00FzGtIXS"
      }
    },
    {
      "cell_type": "markdown",
      "source": [
        "Crea una tupla con los nombres de 5 personas que conozcas y pide al usuario que ingrese un número del 1 al 5. Devuelve el nombre de la persona correspondiente al número ingresado.\n",
        "\n",
        "Nota: Recordá que python empieza a contar desde 0 por lo cual vas a tener que hacer un ajuste a lo que el usuario te pase. Además cuando uses input lo que te devuelve es un string por lo cual deberás convertirlo a número usando la función int()"
      ],
      "metadata": {
        "id": "L6_-wGQMtR_b"
      }
    },
    {
      "cell_type": "code",
      "execution_count": null,
      "metadata": {
        "id": "AdCpvgR8srXq"
      },
      "outputs": [],
      "source": []
    },
    {
      "cell_type": "markdown",
      "source": [
        "## 🟢 **Desafío 2**"
      ],
      "metadata": {
        "id": "RfSMA2I9tYZS"
      }
    },
    {
      "cell_type": "markdown",
      "source": [
        "Crea un diccionario con los nombres y edades de 3 personas. Pide al usuario que ingrese el nombre de una persona y devuelve la edad correspondiente."
      ],
      "metadata": {
        "id": "YW8h3PaBtec_"
      }
    },
    {
      "cell_type": "code",
      "source": [],
      "metadata": {
        "id": "jtWM0FWttbyi"
      },
      "execution_count": null,
      "outputs": []
    },
    {
      "cell_type": "markdown",
      "source": [
        "## 🟡 **Desafío 3**"
      ],
      "metadata": {
        "id": "Xd3kTSOKtZSw"
      }
    },
    {
      "cell_type": "markdown",
      "source": [
        "Devuelve la mayor población de los siguientes países. \n",
        "\n",
        "Nota: Recordá que para comparar los valores tenes que usar el método diccionario.values()  "
      ],
      "metadata": {
        "id": "PfU7Vr1Mtjby"
      }
    },
    {
      "cell_type": "code",
      "source": [
        "poblacion = {\"Argentina\": 45, \"Brasil\": 211, \"Chile\": 19, \"Perú\": 33, \"México\": 126}\n"
      ],
      "metadata": {
        "id": "fwDtdDysxie-"
      },
      "execution_count": 6,
      "outputs": []
    },
    {
      "cell_type": "markdown",
      "source": [
        "## 🟡 **Desafío 4**"
      ],
      "metadata": {
        "id": "ADpjQNkhtZgK"
      }
    },
    {
      "cell_type": "markdown",
      "source": [
        "Crea un diccionario con los nombres de 4 frutas y su respectivo precio (en pesos). Pide al usuario que ingrese el nombre de una fruta y devuelve su precio correspondiente y también el nombre de la fruta.\n",
        "\n",
        " \n"
      ],
      "metadata": {
        "id": "aEpGvJCluYVi"
      }
    },
    {
      "cell_type": "code",
      "source": [],
      "metadata": {
        "id": "7Xvb9GYbukR9"
      },
      "execution_count": null,
      "outputs": []
    },
    {
      "cell_type": "markdown",
      "source": [
        "## 🔴 **Desafío 5**"
      ],
      "metadata": {
        "id": "7DWSiGniuy5o"
      }
    },
    {
      "cell_type": "markdown",
      "source": [
        "Añade al diccionario el tu nombre y nota."
      ],
      "metadata": {
        "id": "_yDBOBqiuv9A"
      }
    },
    {
      "cell_type": "code",
      "source": [
        "Alumnosaprobados={\"Pepe grillo\":8, \"Simba\":7, \"ElDiego\":10, \"Sergio\":9}"
      ],
      "metadata": {
        "id": "mx73l9TWvEOa"
      },
      "execution_count": null,
      "outputs": []
    }
  ]
}