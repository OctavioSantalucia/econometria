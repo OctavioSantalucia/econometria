{
  "nbformat": 4,
  "nbformat_minor": 0,
  "metadata": {
    "colab": {
      "provenance": [],
      "authorship_tag": "ABX9TyNTDSzttofxJ8YnCeqOZR2k",
      "include_colab_link": true
    },
    "kernelspec": {
      "name": "python3",
      "display_name": "Python 3"
    },
    "language_info": {
      "name": "python"
    }
  },
  "cells": [
    {
      "cell_type": "markdown",
      "metadata": {
        "id": "view-in-github",
        "colab_type": "text"
      },
      "source": [
        "<a href=\"https://colab.research.google.com/github/OctavioSantalucia/econometria/blob/main/ejercicios/Soluci%C3%B3n_Ej1_CEF.ipynb\" target=\"_parent\"><img src=\"https://colab.research.google.com/assets/colab-badge.svg\" alt=\"Open In Colab\"/></a>"
      ]
    },
    {
      "cell_type": "code",
      "execution_count": 21,
      "metadata": {
        "id": "dkB8cPq9vt0b"
      },
      "outputs": [],
      "source": [
        "import pandas as pd"
      ]
    },
    {
      "cell_type": "code",
      "source": [
        "df=pd.read_csv('https://raw.githubusercontent.com/rpasquini/econometria/main/datos/eah2016_individual.csv')"
      ],
      "metadata": {
        "id": "PHbQoerEzT2M"
      },
      "execution_count": 22,
      "outputs": []
    },
    {
      "cell_type": "code",
      "source": [
        "df.columns"
      ],
      "metadata": {
        "colab": {
          "base_uri": "https://localhost:8080/"
        },
        "id": "fk4DudmBzXzV",
        "outputId": "d84394a5-7f3b-4a5a-ee6e-2be4b5af7180"
      },
      "execution_count": 4,
      "outputs": [
        {
          "output_type": "execute_result",
          "data": {
            "text/plain": [
              "Index(['id', 'nhogar', 'miembro', 'comuna', 'dominio', 'edad', 'sexo',\n",
              "       'parentes_2', 'p5_2', 'p6_a', 'p6_b', 'estado', 'categori', 't13',\n",
              "       't14', 't18', 't28', 't29', 't29a', 't30', 'sem_hs', 't33', 't34',\n",
              "       't35', 't37_cod_2', 't37_coda_2', 't38', 't39', 't40', 't41_cod_2',\n",
              "       't47', 't48', 't51_bis', 'i1', 'i4', 'i6_3', 'i10', 'i11', 'codioph',\n",
              "       'ioph_2', 'codioph_neto', 'ioph_neto_2', 'codios', 'ios_2', 'codioa',\n",
              "       'ioa_2', 'codlab', 'inglab_2', 'codi3_1x', 'i3_1x_2', 'codi3_2x',\n",
              "       'i3_2x_2', 'codi3_8x', 'i3_8x_2', 'codi3_est', 'i3_est_2', 'codi3_otr',\n",
              "       'i3_otr_2', 'codnolab', 'ingnolab_2', 'coding', 'ingtot_2', 'codi_tot',\n",
              "       'itfb_2', 'ipcfb_2', 'e2', 'e4', 'e6', 'e8', 'e12', 'e13', 'e14',\n",
              "       'edad_30', 'nivel', 'aesc', 'm1', 'm1_2', 'm2_anio', 'm3_anio',\n",
              "       'tipcob2_2', 'sn1_1', 'sn1_7', 'sn1_2', 'sn1_3', 'sn1_4', 'sn1_5', 's8',\n",
              "       'sn14', 'sn16', 's28', 's29', 'fexp', 'sexotexto', 'inmigrante',\n",
              "       'logingreso', 'dsex'],\n",
              "      dtype='object')"
            ]
          },
          "metadata": {},
          "execution_count": 4
        }
      ]
    },
    {
      "cell_type": "markdown",
      "source": [
        "1. Creamos una nueva variable \"predicción\" que le asigna a cada individuo el ingreso promedio del grupo de sexo y años de educación al que pertenecen"
      ],
      "metadata": {
        "id": "QrRvBasx8PP9"
      }
    },
    {
      "cell_type": "code",
      "source": [
        "df['prediccion'] = df.groupby(['sexo', 'aesc'])['ingtot_2'].transform('mean')"
      ],
      "metadata": {
        "id": "8dOy6ZEE1fGP"
      },
      "execution_count": 31,
      "outputs": []
    },
    {
      "cell_type": "markdown",
      "source": [
        "2. Creamos una segunda variable \"error\" que sea la diferencia entre el ingreso y la predicción\n"
      ],
      "metadata": {
        "id": "Js7NAirn8h7A"
      }
    },
    {
      "cell_type": "code",
      "source": [
        "df['error'] = df['ingtot_2'] - df['prediccion']"
      ],
      "metadata": {
        "id": "uTOcfb2L1fOL"
      },
      "execution_count": 32,
      "outputs": []
    },
    {
      "cell_type": "markdown",
      "source": [
        "3. Calculamos el error promedio para cada grupo según sexo y años de educación"
      ],
      "metadata": {
        "id": "5B6ojXam8sKS"
      }
    },
    {
      "cell_type": "code",
      "source": [
        "error_promedio = df.groupby(['sexo', 'aesc'])['error'].mean()"
      ],
      "metadata": {
        "id": "Rjh29EtY1fTL"
      },
      "execution_count": 33,
      "outputs": []
    },
    {
      "cell_type": "code",
      "source": [
        "# Mostramos el resultado en una tabla\n",
        "print(error_promedio)"
      ],
      "metadata": {
        "colab": {
          "base_uri": "https://localhost:8080/"
        },
        "id": "wDE24niB1fVe",
        "outputId": "a1041a38-c8b7-4ff6-8d22-7edb60c12ace"
      },
      "execution_count": 34,
      "outputs": [
        {
          "output_type": "stream",
          "name": "stdout",
          "text": [
            "sexo   aesc\n",
            "mujer  0      -1.666250e-14\n",
            "       1      -2.634207e-14\n",
            "       2      -7.755381e-14\n",
            "       3       0.000000e+00\n",
            "       4       3.727437e-14\n",
            "       5      -1.466927e-14\n",
            "       6      -5.261540e-14\n",
            "       7      -1.836375e-13\n",
            "       8      -1.341877e-13\n",
            "       9       2.690813e-14\n",
            "       10      8.955025e-14\n",
            "       11     -4.983533e-14\n",
            "       12      7.972041e-13\n",
            "       13      3.464742e-13\n",
            "       14      7.601747e-13\n",
            "       15      7.475578e-13\n",
            "       16      5.265496e-13\n",
            "       17     -1.408501e-12\n",
            "       18     -1.679067e-12\n",
            "       19      6.357633e-13\n",
            "       99     -1.581730e-13\n",
            "varon  0      -7.145122e-16\n",
            "       1      -4.330927e-14\n",
            "       2       1.699990e-14\n",
            "       3      -3.954325e-15\n",
            "       4       6.248437e-14\n",
            "       5      -1.515825e-13\n",
            "       6      -8.068098e-14\n",
            "       7       9.816768e-14\n",
            "       8       2.880752e-13\n",
            "       9      -5.180666e-13\n",
            "       10      7.702561e-14\n",
            "       11      6.138154e-13\n",
            "       12     -6.570081e-13\n",
            "       13     -4.817415e-13\n",
            "       14     -7.886846e-13\n",
            "       15      1.706369e-12\n",
            "       16      1.564722e-12\n",
            "       17      1.141422e-12\n",
            "       18      1.789170e-13\n",
            "       19     -2.144123e-12\n",
            "       99      1.865630e-13\n",
            "Name: error, dtype: float64\n"
          ]
        }
      ]
    },
    {
      "cell_type": "markdown",
      "source": [
        "4. Calculamos el error promedio general (de todas las observaciones)"
      ],
      "metadata": {
        "id": "ETm4J9XZ9EFr"
      }
    },
    {
      "cell_type": "code",
      "source": [
        "error_promedio_general = df['error'].mean()\n",
        "print(\"error_promedio_general\", error_promedio_general)"
      ],
      "metadata": {
        "colab": {
          "base_uri": "https://localhost:8080/"
        },
        "id": "F0odpTLs1fa8",
        "outputId": "b86832be-af4e-4288-ed6e-99c59c245ae1"
      },
      "execution_count": 37,
      "outputs": [
        {
          "output_type": "stream",
          "name": "stdout",
          "text": [
            "error_promedio_general 9.626404781720079e-14\n"
          ]
        }
      ]
    }
  ]
}