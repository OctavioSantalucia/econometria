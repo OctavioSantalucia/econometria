{
  "nbformat": 4,
  "nbformat_minor": 0,
  "metadata": {
    "colab": {
      "provenance": [],
      "authorship_tag": "ABX9TyPp5K/GK7TnqULD1Sj7bkR1",
      "include_colab_link": true
    },
    "kernelspec": {
      "name": "python3",
      "display_name": "Python 3"
    },
    "language_info": {
      "name": "python"
    }
  },
  "cells": [
    {
      "cell_type": "markdown",
      "metadata": {
        "id": "view-in-github",
        "colab_type": "text"
      },
      "source": [
        "<a href=\"https://colab.research.google.com/github/rpasquini/econometria/blob/main/Ejemplos_Testeo_de_Hip%C3%B3tesis.ipynb\" target=\"_parent\"><img src=\"https://colab.research.google.com/assets/colab-badge.svg\" alt=\"Open In Colab\"/></a>"
      ]
    },
    {
      "cell_type": "code",
      "source": [
        "import pandas as pd\n",
        "import statsmodels.api as sm"
      ],
      "metadata": {
        "id": "1WWsznGyMxp_"
      },
      "execution_count": 7,
      "outputs": []
    },
    {
      "cell_type": "code",
      "source": [
        "def regress(lista, data):\n",
        "  \"\"\" \n",
        "  Funcion que realiza la regresion OLS\n",
        "  La primera variable de la lista es la dependiente, el resto son las explicativas\n",
        "  data es la base de datos\n",
        "  \"\"\"\n",
        "  datos=data[lista]\n",
        "  # el metodo dropna() me permite eliminar las filas que tienen algun valor missing\n",
        "  datos=datos.dropna()\n",
        "  Y=datos[lista[0]]\n",
        "  X=datos[lista[1:]]\n",
        "  X=sm.add_constant(X)\n",
        "  modelo=sm.OLS(Y,X)\n",
        "  resultados=modelo.fit()\n",
        "  print(resultados.summary())\n",
        "  return resultados"
      ],
      "metadata": {
        "id": "qHrYpowBjTcd"
      },
      "execution_count": 8,
      "outputs": []
    },
    {
      "cell_type": "markdown",
      "source": [
        "# Ejemplo Bitcoin versus Litecoin"
      ],
      "metadata": {
        "id": "ys228dgeNZ7D"
      }
    },
    {
      "cell_type": "markdown",
      "source": [
        "$BTC=\\beta_0+\\beta_1LTC+ϵ$ "
      ],
      "metadata": {
        "id": "UlU2rwftvUrU"
      }
    },
    {
      "cell_type": "markdown",
      "source": [
        "Mi interes estimar el modelo , con el objetivo en particular de identificar un tipo de cambio (capturado por el beta 1) y ademas saber si hay algun tipo de spread (capturado en beta 0)\n"
      ],
      "metadata": {
        "id": "r0Nn5fSwvoMR"
      }
    },
    {
      "cell_type": "code",
      "source": [
        "df=pd.read_excel(\"https://github.com/rpasquini/econometria/blob/main/datos/BTCvsLTC.xlsx?raw=true\")\n",
        "df"
      ],
      "metadata": {
        "colab": {
          "base_uri": "https://localhost:8080/",
          "height": 423
        },
        "id": "rLhJL9UGMvUk",
        "outputId": "5448d7bc-618f-44fc-ac81-6ffae9d87f86"
      },
      "execution_count": 9,
      "outputs": [
        {
          "output_type": "execute_result",
          "data": {
            "text/plain": [
              "          Date         LTC           BTC\n",
              "0   2022-04-17  109.042786  39716.953125\n",
              "1   2022-04-18  111.226143  40826.214844\n",
              "2   2022-04-19  113.812088  41502.750000\n",
              "3   2022-04-20  111.979691  41374.378906\n",
              "4   2022-04-21  106.997986  40527.363281\n",
              "..         ...         ...           ...\n",
              "361 2023-04-13   94.259499  30399.066406\n",
              "362 2023-04-14   96.451973  30485.699219\n",
              "363 2023-04-15   96.868210  30318.496094\n",
              "364 2023-04-16  100.267448  30315.355469\n",
              "365 2023-04-17   99.056030  29463.451172\n",
              "\n",
              "[366 rows x 3 columns]"
            ],
            "text/html": [
              "\n",
              "  <div id=\"df-df0ea97f-aa1c-48ff-b3af-db1647fa664a\">\n",
              "    <div class=\"colab-df-container\">\n",
              "      <div>\n",
              "<style scoped>\n",
              "    .dataframe tbody tr th:only-of-type {\n",
              "        vertical-align: middle;\n",
              "    }\n",
              "\n",
              "    .dataframe tbody tr th {\n",
              "        vertical-align: top;\n",
              "    }\n",
              "\n",
              "    .dataframe thead th {\n",
              "        text-align: right;\n",
              "    }\n",
              "</style>\n",
              "<table border=\"1\" class=\"dataframe\">\n",
              "  <thead>\n",
              "    <tr style=\"text-align: right;\">\n",
              "      <th></th>\n",
              "      <th>Date</th>\n",
              "      <th>LTC</th>\n",
              "      <th>BTC</th>\n",
              "    </tr>\n",
              "  </thead>\n",
              "  <tbody>\n",
              "    <tr>\n",
              "      <th>0</th>\n",
              "      <td>2022-04-17</td>\n",
              "      <td>109.042786</td>\n",
              "      <td>39716.953125</td>\n",
              "    </tr>\n",
              "    <tr>\n",
              "      <th>1</th>\n",
              "      <td>2022-04-18</td>\n",
              "      <td>111.226143</td>\n",
              "      <td>40826.214844</td>\n",
              "    </tr>\n",
              "    <tr>\n",
              "      <th>2</th>\n",
              "      <td>2022-04-19</td>\n",
              "      <td>113.812088</td>\n",
              "      <td>41502.750000</td>\n",
              "    </tr>\n",
              "    <tr>\n",
              "      <th>3</th>\n",
              "      <td>2022-04-20</td>\n",
              "      <td>111.979691</td>\n",
              "      <td>41374.378906</td>\n",
              "    </tr>\n",
              "    <tr>\n",
              "      <th>4</th>\n",
              "      <td>2022-04-21</td>\n",
              "      <td>106.997986</td>\n",
              "      <td>40527.363281</td>\n",
              "    </tr>\n",
              "    <tr>\n",
              "      <th>...</th>\n",
              "      <td>...</td>\n",
              "      <td>...</td>\n",
              "      <td>...</td>\n",
              "    </tr>\n",
              "    <tr>\n",
              "      <th>361</th>\n",
              "      <td>2023-04-13</td>\n",
              "      <td>94.259499</td>\n",
              "      <td>30399.066406</td>\n",
              "    </tr>\n",
              "    <tr>\n",
              "      <th>362</th>\n",
              "      <td>2023-04-14</td>\n",
              "      <td>96.451973</td>\n",
              "      <td>30485.699219</td>\n",
              "    </tr>\n",
              "    <tr>\n",
              "      <th>363</th>\n",
              "      <td>2023-04-15</td>\n",
              "      <td>96.868210</td>\n",
              "      <td>30318.496094</td>\n",
              "    </tr>\n",
              "    <tr>\n",
              "      <th>364</th>\n",
              "      <td>2023-04-16</td>\n",
              "      <td>100.267448</td>\n",
              "      <td>30315.355469</td>\n",
              "    </tr>\n",
              "    <tr>\n",
              "      <th>365</th>\n",
              "      <td>2023-04-17</td>\n",
              "      <td>99.056030</td>\n",
              "      <td>29463.451172</td>\n",
              "    </tr>\n",
              "  </tbody>\n",
              "</table>\n",
              "<p>366 rows × 3 columns</p>\n",
              "</div>\n",
              "      <button class=\"colab-df-convert\" onclick=\"convertToInteractive('df-df0ea97f-aa1c-48ff-b3af-db1647fa664a')\"\n",
              "              title=\"Convert this dataframe to an interactive table.\"\n",
              "              style=\"display:none;\">\n",
              "        \n",
              "  <svg xmlns=\"http://www.w3.org/2000/svg\" height=\"24px\"viewBox=\"0 0 24 24\"\n",
              "       width=\"24px\">\n",
              "    <path d=\"M0 0h24v24H0V0z\" fill=\"none\"/>\n",
              "    <path d=\"M18.56 5.44l.94 2.06.94-2.06 2.06-.94-2.06-.94-.94-2.06-.94 2.06-2.06.94zm-11 1L8.5 8.5l.94-2.06 2.06-.94-2.06-.94L8.5 2.5l-.94 2.06-2.06.94zm10 10l.94 2.06.94-2.06 2.06-.94-2.06-.94-.94-2.06-.94 2.06-2.06.94z\"/><path d=\"M17.41 7.96l-1.37-1.37c-.4-.4-.92-.59-1.43-.59-.52 0-1.04.2-1.43.59L10.3 9.45l-7.72 7.72c-.78.78-.78 2.05 0 2.83L4 21.41c.39.39.9.59 1.41.59.51 0 1.02-.2 1.41-.59l7.78-7.78 2.81-2.81c.8-.78.8-2.07 0-2.86zM5.41 20L4 18.59l7.72-7.72 1.47 1.35L5.41 20z\"/>\n",
              "  </svg>\n",
              "      </button>\n",
              "      \n",
              "  <style>\n",
              "    .colab-df-container {\n",
              "      display:flex;\n",
              "      flex-wrap:wrap;\n",
              "      gap: 12px;\n",
              "    }\n",
              "\n",
              "    .colab-df-convert {\n",
              "      background-color: #E8F0FE;\n",
              "      border: none;\n",
              "      border-radius: 50%;\n",
              "      cursor: pointer;\n",
              "      display: none;\n",
              "      fill: #1967D2;\n",
              "      height: 32px;\n",
              "      padding: 0 0 0 0;\n",
              "      width: 32px;\n",
              "    }\n",
              "\n",
              "    .colab-df-convert:hover {\n",
              "      background-color: #E2EBFA;\n",
              "      box-shadow: 0px 1px 2px rgba(60, 64, 67, 0.3), 0px 1px 3px 1px rgba(60, 64, 67, 0.15);\n",
              "      fill: #174EA6;\n",
              "    }\n",
              "\n",
              "    [theme=dark] .colab-df-convert {\n",
              "      background-color: #3B4455;\n",
              "      fill: #D2E3FC;\n",
              "    }\n",
              "\n",
              "    [theme=dark] .colab-df-convert:hover {\n",
              "      background-color: #434B5C;\n",
              "      box-shadow: 0px 1px 3px 1px rgba(0, 0, 0, 0.15);\n",
              "      filter: drop-shadow(0px 1px 2px rgba(0, 0, 0, 0.3));\n",
              "      fill: #FFFFFF;\n",
              "    }\n",
              "  </style>\n",
              "\n",
              "      <script>\n",
              "        const buttonEl =\n",
              "          document.querySelector('#df-df0ea97f-aa1c-48ff-b3af-db1647fa664a button.colab-df-convert');\n",
              "        buttonEl.style.display =\n",
              "          google.colab.kernel.accessAllowed ? 'block' : 'none';\n",
              "\n",
              "        async function convertToInteractive(key) {\n",
              "          const element = document.querySelector('#df-df0ea97f-aa1c-48ff-b3af-db1647fa664a');\n",
              "          const dataTable =\n",
              "            await google.colab.kernel.invokeFunction('convertToInteractive',\n",
              "                                                     [key], {});\n",
              "          if (!dataTable) return;\n",
              "\n",
              "          const docLinkHtml = 'Like what you see? Visit the ' +\n",
              "            '<a target=\"_blank\" href=https://colab.research.google.com/notebooks/data_table.ipynb>data table notebook</a>'\n",
              "            + ' to learn more about interactive tables.';\n",
              "          element.innerHTML = '';\n",
              "          dataTable['output_type'] = 'display_data';\n",
              "          await google.colab.output.renderOutput(dataTable, element);\n",
              "          const docLink = document.createElement('div');\n",
              "          docLink.innerHTML = docLinkHtml;\n",
              "          element.appendChild(docLink);\n",
              "        }\n",
              "      </script>\n",
              "    </div>\n",
              "  </div>\n",
              "  "
            ]
          },
          "metadata": {},
          "execution_count": 9
        }
      ]
    },
    {
      "cell_type": "code",
      "source": [
        "regress(['BTC','LTC'], df)"
      ],
      "metadata": {
        "colab": {
          "base_uri": "https://localhost:8080/"
        },
        "id": "8pkrPOPswZrB",
        "outputId": "2b5a75b2-a4b2-4d5a-9476-c73487956572"
      },
      "execution_count": 10,
      "outputs": [
        {
          "output_type": "stream",
          "name": "stdout",
          "text": [
            "                            OLS Regression Results                            \n",
            "==============================================================================\n",
            "Dep. Variable:                    BTC   R-squared:                       0.296\n",
            "Model:                            OLS   Adj. R-squared:                  0.294\n",
            "Method:                 Least Squares   F-statistic:                     153.2\n",
            "Date:                Mon, 17 Apr 2023   Prob (F-statistic):           1.32e-29\n",
            "Time:                        19:48:00   Log-Likelihood:                -3619.1\n",
            "No. Observations:                 366   AIC:                             7242.\n",
            "Df Residuals:                     364   BIC:                             7250.\n",
            "Df Model:                           1                                         \n",
            "Covariance Type:            nonrobust                                         \n",
            "==============================================================================\n",
            "                 coef    std err          t      P>|t|      [0.025      0.975]\n",
            "------------------------------------------------------------------------------\n",
            "const       1.025e+04   1064.959      9.627      0.000    8157.756    1.23e+04\n",
            "LTC          179.6547     14.516     12.377      0.000     151.110     208.200\n",
            "==============================================================================\n",
            "Omnibus:                       15.957   Durbin-Watson:                   0.011\n",
            "Prob(Omnibus):                  0.000   Jarque-Bera (JB):               16.804\n",
            "Skew:                           0.502   Prob(JB):                     0.000224\n",
            "Kurtosis:                       2.694   Cond. No.                         313.\n",
            "==============================================================================\n",
            "\n",
            "Notes:\n",
            "[1] Standard Errors assume that the covariance matrix of the errors is correctly specified.\n"
          ]
        },
        {
          "output_type": "execute_result",
          "data": {
            "text/plain": [
              "<statsmodels.regression.linear_model.RegressionResultsWrapper at 0x7f8059a32cd0>"
            ]
          },
          "metadata": {},
          "execution_count": 10
        }
      ]
    },
    {
      "cell_type": "markdown",
      "source": [
        "$\\hat{\\beta_0}=10250$ \\\\\n",
        "$\\hat{\\beta_1}=179.65$\n",
        "\n"
      ],
      "metadata": {
        "id": "ifLYLEjlw46Q"
      }
    },
    {
      "cell_type": "markdown",
      "source": [
        "Test de hipotesis: \\\n",
        "$H_0: \\beta_1=0$ \\\n",
        "$H_1: \\beta_1\\neq0$ \\\n",
        "\n",
        "$T=\\frac{\\hat{\\beta_1}}{std error}$\n",
        "\n",
        "P>|t| P-value\n"
      ],
      "metadata": {
        "id": "YNJTFvfjxl68"
      }
    },
    {
      "cell_type": "markdown",
      "source": [
        "# Ejemplo Campus\n",
        "\n",
        "enrol                            total enrollment \\\\\n",
        "priv                             =1 if private college  \\\\\n",
        "police                           employed officers \\\\\n",
        "crime                            total campus crimes \\\\\n",
        "lcrime                           log(crime) \\\\\n",
        "lenroll                          log(enroll) \\\\\n",
        "lpolice                          log(police) \\\\\n",
        "\n",
        "Fuente: Wooldridge"
      ],
      "metadata": {
        "id": "6LCgjXaSPFYL"
      }
    },
    {
      "cell_type": "markdown",
      "source": [
        "$\\log{CRIME}=\\beta_0+\\beta_1\\log ENROLL+ϵ$ "
      ],
      "metadata": {
        "id": "23MI-4RT8ThO"
      }
    },
    {
      "cell_type": "code",
      "source": [
        "df2=pd.read_excel(\"https://github.com/rpasquini/econometria/blob/main/datos/campus.xls?raw=true\")\n",
        "df2"
      ],
      "metadata": {
        "colab": {
          "base_uri": "https://localhost:8080/",
          "height": 423
        },
        "id": "cgTvt-W-PFuB",
        "outputId": "26a832d4-5f2c-4b7f-b55a-c812c39562d2"
      },
      "execution_count": 6,
      "outputs": [
        {
          "output_type": "execute_result",
          "data": {
            "text/plain": [
              "    enrol  priv  police  crime    lcrime   lenroll   lpolice\n",
              "0   21836     0      24    446  6.100319  9.991315  3.178054\n",
              "1    6485     0      13      1  0.000000  8.777247  2.564949\n",
              "2    2123     0       3      1  0.000000  7.660585  1.098612\n",
              "3    8240     0      17    121  4.795791  9.016756  2.833213\n",
              "4   19793     0      30    470  6.152733  9.893084  3.401197\n",
              "..    ...   ...     ...    ...       ...       ...       ...\n",
              "92   3176     0       4     56  4.025352  8.063377  1.386294\n",
              "93  10992     0       9    187  5.231109  9.304923  2.197225\n",
              "94   5034     1       7     15  2.708050  8.523971  1.945910\n",
              "95   7710     1       5    426  6.054440  8.950274  1.609438\n",
              "96  20693     0      32    616  6.423247  9.937551  3.465736\n",
              "\n",
              "[97 rows x 7 columns]"
            ],
            "text/html": [
              "\n",
              "  <div id=\"df-5830d46e-5288-4183-ab7e-667c87505961\">\n",
              "    <div class=\"colab-df-container\">\n",
              "      <div>\n",
              "<style scoped>\n",
              "    .dataframe tbody tr th:only-of-type {\n",
              "        vertical-align: middle;\n",
              "    }\n",
              "\n",
              "    .dataframe tbody tr th {\n",
              "        vertical-align: top;\n",
              "    }\n",
              "\n",
              "    .dataframe thead th {\n",
              "        text-align: right;\n",
              "    }\n",
              "</style>\n",
              "<table border=\"1\" class=\"dataframe\">\n",
              "  <thead>\n",
              "    <tr style=\"text-align: right;\">\n",
              "      <th></th>\n",
              "      <th>enrol</th>\n",
              "      <th>priv</th>\n",
              "      <th>police</th>\n",
              "      <th>crime</th>\n",
              "      <th>lcrime</th>\n",
              "      <th>lenroll</th>\n",
              "      <th>lpolice</th>\n",
              "    </tr>\n",
              "  </thead>\n",
              "  <tbody>\n",
              "    <tr>\n",
              "      <th>0</th>\n",
              "      <td>21836</td>\n",
              "      <td>0</td>\n",
              "      <td>24</td>\n",
              "      <td>446</td>\n",
              "      <td>6.100319</td>\n",
              "      <td>9.991315</td>\n",
              "      <td>3.178054</td>\n",
              "    </tr>\n",
              "    <tr>\n",
              "      <th>1</th>\n",
              "      <td>6485</td>\n",
              "      <td>0</td>\n",
              "      <td>13</td>\n",
              "      <td>1</td>\n",
              "      <td>0.000000</td>\n",
              "      <td>8.777247</td>\n",
              "      <td>2.564949</td>\n",
              "    </tr>\n",
              "    <tr>\n",
              "      <th>2</th>\n",
              "      <td>2123</td>\n",
              "      <td>0</td>\n",
              "      <td>3</td>\n",
              "      <td>1</td>\n",
              "      <td>0.000000</td>\n",
              "      <td>7.660585</td>\n",
              "      <td>1.098612</td>\n",
              "    </tr>\n",
              "    <tr>\n",
              "      <th>3</th>\n",
              "      <td>8240</td>\n",
              "      <td>0</td>\n",
              "      <td>17</td>\n",
              "      <td>121</td>\n",
              "      <td>4.795791</td>\n",
              "      <td>9.016756</td>\n",
              "      <td>2.833213</td>\n",
              "    </tr>\n",
              "    <tr>\n",
              "      <th>4</th>\n",
              "      <td>19793</td>\n",
              "      <td>0</td>\n",
              "      <td>30</td>\n",
              "      <td>470</td>\n",
              "      <td>6.152733</td>\n",
              "      <td>9.893084</td>\n",
              "      <td>3.401197</td>\n",
              "    </tr>\n",
              "    <tr>\n",
              "      <th>...</th>\n",
              "      <td>...</td>\n",
              "      <td>...</td>\n",
              "      <td>...</td>\n",
              "      <td>...</td>\n",
              "      <td>...</td>\n",
              "      <td>...</td>\n",
              "      <td>...</td>\n",
              "    </tr>\n",
              "    <tr>\n",
              "      <th>92</th>\n",
              "      <td>3176</td>\n",
              "      <td>0</td>\n",
              "      <td>4</td>\n",
              "      <td>56</td>\n",
              "      <td>4.025352</td>\n",
              "      <td>8.063377</td>\n",
              "      <td>1.386294</td>\n",
              "    </tr>\n",
              "    <tr>\n",
              "      <th>93</th>\n",
              "      <td>10992</td>\n",
              "      <td>0</td>\n",
              "      <td>9</td>\n",
              "      <td>187</td>\n",
              "      <td>5.231109</td>\n",
              "      <td>9.304923</td>\n",
              "      <td>2.197225</td>\n",
              "    </tr>\n",
              "    <tr>\n",
              "      <th>94</th>\n",
              "      <td>5034</td>\n",
              "      <td>1</td>\n",
              "      <td>7</td>\n",
              "      <td>15</td>\n",
              "      <td>2.708050</td>\n",
              "      <td>8.523971</td>\n",
              "      <td>1.945910</td>\n",
              "    </tr>\n",
              "    <tr>\n",
              "      <th>95</th>\n",
              "      <td>7710</td>\n",
              "      <td>1</td>\n",
              "      <td>5</td>\n",
              "      <td>426</td>\n",
              "      <td>6.054440</td>\n",
              "      <td>8.950274</td>\n",
              "      <td>1.609438</td>\n",
              "    </tr>\n",
              "    <tr>\n",
              "      <th>96</th>\n",
              "      <td>20693</td>\n",
              "      <td>0</td>\n",
              "      <td>32</td>\n",
              "      <td>616</td>\n",
              "      <td>6.423247</td>\n",
              "      <td>9.937551</td>\n",
              "      <td>3.465736</td>\n",
              "    </tr>\n",
              "  </tbody>\n",
              "</table>\n",
              "<p>97 rows × 7 columns</p>\n",
              "</div>\n",
              "      <button class=\"colab-df-convert\" onclick=\"convertToInteractive('df-5830d46e-5288-4183-ab7e-667c87505961')\"\n",
              "              title=\"Convert this dataframe to an interactive table.\"\n",
              "              style=\"display:none;\">\n",
              "        \n",
              "  <svg xmlns=\"http://www.w3.org/2000/svg\" height=\"24px\"viewBox=\"0 0 24 24\"\n",
              "       width=\"24px\">\n",
              "    <path d=\"M0 0h24v24H0V0z\" fill=\"none\"/>\n",
              "    <path d=\"M18.56 5.44l.94 2.06.94-2.06 2.06-.94-2.06-.94-.94-2.06-.94 2.06-2.06.94zm-11 1L8.5 8.5l.94-2.06 2.06-.94-2.06-.94L8.5 2.5l-.94 2.06-2.06.94zm10 10l.94 2.06.94-2.06 2.06-.94-2.06-.94-.94-2.06-.94 2.06-2.06.94z\"/><path d=\"M17.41 7.96l-1.37-1.37c-.4-.4-.92-.59-1.43-.59-.52 0-1.04.2-1.43.59L10.3 9.45l-7.72 7.72c-.78.78-.78 2.05 0 2.83L4 21.41c.39.39.9.59 1.41.59.51 0 1.02-.2 1.41-.59l7.78-7.78 2.81-2.81c.8-.78.8-2.07 0-2.86zM5.41 20L4 18.59l7.72-7.72 1.47 1.35L5.41 20z\"/>\n",
              "  </svg>\n",
              "      </button>\n",
              "      \n",
              "  <style>\n",
              "    .colab-df-container {\n",
              "      display:flex;\n",
              "      flex-wrap:wrap;\n",
              "      gap: 12px;\n",
              "    }\n",
              "\n",
              "    .colab-df-convert {\n",
              "      background-color: #E8F0FE;\n",
              "      border: none;\n",
              "      border-radius: 50%;\n",
              "      cursor: pointer;\n",
              "      display: none;\n",
              "      fill: #1967D2;\n",
              "      height: 32px;\n",
              "      padding: 0 0 0 0;\n",
              "      width: 32px;\n",
              "    }\n",
              "\n",
              "    .colab-df-convert:hover {\n",
              "      background-color: #E2EBFA;\n",
              "      box-shadow: 0px 1px 2px rgba(60, 64, 67, 0.3), 0px 1px 3px 1px rgba(60, 64, 67, 0.15);\n",
              "      fill: #174EA6;\n",
              "    }\n",
              "\n",
              "    [theme=dark] .colab-df-convert {\n",
              "      background-color: #3B4455;\n",
              "      fill: #D2E3FC;\n",
              "    }\n",
              "\n",
              "    [theme=dark] .colab-df-convert:hover {\n",
              "      background-color: #434B5C;\n",
              "      box-shadow: 0px 1px 3px 1px rgba(0, 0, 0, 0.15);\n",
              "      filter: drop-shadow(0px 1px 2px rgba(0, 0, 0, 0.3));\n",
              "      fill: #FFFFFF;\n",
              "    }\n",
              "  </style>\n",
              "\n",
              "      <script>\n",
              "        const buttonEl =\n",
              "          document.querySelector('#df-5830d46e-5288-4183-ab7e-667c87505961 button.colab-df-convert');\n",
              "        buttonEl.style.display =\n",
              "          google.colab.kernel.accessAllowed ? 'block' : 'none';\n",
              "\n",
              "        async function convertToInteractive(key) {\n",
              "          const element = document.querySelector('#df-5830d46e-5288-4183-ab7e-667c87505961');\n",
              "          const dataTable =\n",
              "            await google.colab.kernel.invokeFunction('convertToInteractive',\n",
              "                                                     [key], {});\n",
              "          if (!dataTable) return;\n",
              "\n",
              "          const docLinkHtml = 'Like what you see? Visit the ' +\n",
              "            '<a target=\"_blank\" href=https://colab.research.google.com/notebooks/data_table.ipynb>data table notebook</a>'\n",
              "            + ' to learn more about interactive tables.';\n",
              "          element.innerHTML = '';\n",
              "          dataTable['output_type'] = 'display_data';\n",
              "          await google.colab.output.renderOutput(dataTable, element);\n",
              "          const docLink = document.createElement('div');\n",
              "          docLink.innerHTML = docLinkHtml;\n",
              "          element.appendChild(docLink);\n",
              "        }\n",
              "      </script>\n",
              "    </div>\n",
              "  </div>\n",
              "  "
            ]
          },
          "metadata": {},
          "execution_count": 6
        }
      ]
    },
    {
      "cell_type": "code",
      "source": [
        "regress(['lcrime','lenroll'],df2)"
      ],
      "metadata": {
        "colab": {
          "base_uri": "https://localhost:8080/"
        },
        "id": "mpoXs7WY9LgI",
        "outputId": "88089b9f-44d9-4b6e-9738-fc8d62e7914a"
      },
      "execution_count": 11,
      "outputs": [
        {
          "output_type": "stream",
          "name": "stdout",
          "text": [
            "                            OLS Regression Results                            \n",
            "==============================================================================\n",
            "Dep. Variable:                 lcrime   R-squared:                       0.585\n",
            "Model:                            OLS   Adj. R-squared:                  0.580\n",
            "Method:                 Least Squares   F-statistic:                     133.8\n",
            "Date:                Mon, 17 Apr 2023   Prob (F-statistic):           7.83e-20\n",
            "Time:                        20:43:35   Log-Likelihood:                -125.83\n",
            "No. Observations:                  97   AIC:                             255.7\n",
            "Df Residuals:                      95   BIC:                             260.8\n",
            "Df Model:                           1                                         \n",
            "Covariance Type:            nonrobust                                         \n",
            "==============================================================================\n",
            "                 coef    std err          t      P>|t|      [0.025      0.975]\n",
            "------------------------------------------------------------------------------\n",
            "const         -6.6314      1.034     -6.416      0.000      -8.683      -4.580\n",
            "lenroll        1.2698      0.110     11.567      0.000       1.052       1.488\n",
            "==============================================================================\n",
            "Omnibus:                       51.350   Durbin-Watson:                   1.548\n",
            "Prob(Omnibus):                  0.000   Jarque-Bera (JB):              247.879\n",
            "Skew:                          -1.628   Prob(JB):                     1.49e-54\n",
            "Kurtosis:                      10.123   Cond. No.                         108.\n",
            "==============================================================================\n",
            "\n",
            "Notes:\n",
            "[1] Standard Errors assume that the covariance matrix of the errors is correctly specified.\n"
          ]
        },
        {
          "output_type": "execute_result",
          "data": {
            "text/plain": [
              "<statsmodels.regression.linear_model.RegressionResultsWrapper at 0x7f8059a3f8e0>"
            ]
          },
          "metadata": {},
          "execution_count": 11
        }
      ]
    },
    {
      "cell_type": "markdown",
      "source": [
        "Test de hipotesis de interes en este caso es chequear que la elasticidad es 1: \\\n",
        "$H_0: \\beta_1=1$ \\\n",
        "$H_1: \\beta_1\\neq1$ \\\n",
        "\n",
        "$T=\\frac{\\hat{\\beta_1}-1}{std error}$\n",
        "\n",
        "P>|t| P-value"
      ],
      "metadata": {
        "id": "EL7oUg5z95dR"
      }
    },
    {
      "cell_type": "code",
      "source": [
        "# Calculamos el estadistico T a mano:"
      ],
      "metadata": {
        "id": "DayN0wq1--6G"
      },
      "execution_count": 14,
      "outputs": []
    },
    {
      "cell_type": "code",
      "source": [
        "(1.2698-1)/0.110"
      ],
      "metadata": {
        "colab": {
          "base_uri": "https://localhost:8080/"
        },
        "id": "q0oyRG6H_G7H",
        "outputId": "ec70de1a-396b-4bb1-c23c-aead89ef673a"
      },
      "execution_count": 15,
      "outputs": [
        {
          "output_type": "execute_result",
          "data": {
            "text/plain": [
              "2.452727272727273"
            ]
          },
          "metadata": {},
          "execution_count": 15
        }
      ]
    },
    {
      "cell_type": "markdown",
      "source": [
        "Como el valor de T de rechazo al 5% era 1.96 aprox, entonces rechazo la H0"
      ],
      "metadata": {
        "id": "YcccnDBz_equ"
      }
    },
    {
      "cell_type": "code",
      "source": [
        "results=regress(['lcrime','lenroll'],df2)"
      ],
      "metadata": {
        "colab": {
          "base_uri": "https://localhost:8080/"
        },
        "id": "LtU4Qdah_GD6",
        "outputId": "97f48023-4c99-452d-e4f3-720d9685dfea"
      },
      "execution_count": 16,
      "outputs": [
        {
          "output_type": "stream",
          "name": "stdout",
          "text": [
            "                            OLS Regression Results                            \n",
            "==============================================================================\n",
            "Dep. Variable:                 lcrime   R-squared:                       0.585\n",
            "Model:                            OLS   Adj. R-squared:                  0.580\n",
            "Method:                 Least Squares   F-statistic:                     133.8\n",
            "Date:                Mon, 17 Apr 2023   Prob (F-statistic):           7.83e-20\n",
            "Time:                        20:56:52   Log-Likelihood:                -125.83\n",
            "No. Observations:                  97   AIC:                             255.7\n",
            "Df Residuals:                      95   BIC:                             260.8\n",
            "Df Model:                           1                                         \n",
            "Covariance Type:            nonrobust                                         \n",
            "==============================================================================\n",
            "                 coef    std err          t      P>|t|      [0.025      0.975]\n",
            "------------------------------------------------------------------------------\n",
            "const         -6.6314      1.034     -6.416      0.000      -8.683      -4.580\n",
            "lenroll        1.2698      0.110     11.567      0.000       1.052       1.488\n",
            "==============================================================================\n",
            "Omnibus:                       51.350   Durbin-Watson:                   1.548\n",
            "Prob(Omnibus):                  0.000   Jarque-Bera (JB):              247.879\n",
            "Skew:                          -1.628   Prob(JB):                     1.49e-54\n",
            "Kurtosis:                      10.123   Cond. No.                         108.\n",
            "==============================================================================\n",
            "\n",
            "Notes:\n",
            "[1] Standard Errors assume that the covariance matrix of the errors is correctly specified.\n"
          ]
        }
      ]
    },
    {
      "cell_type": "markdown",
      "source": [
        "Puedo implementar el test t simplemente usando resultado.t_test pasando un string con el nombre de la variable igual al valor de interés a testear"
      ],
      "metadata": {
        "id": "tcIMnzlkHHXv"
      }
    },
    {
      "cell_type": "code",
      "source": [
        "results.t_test('lenroll=1')"
      ],
      "metadata": {
        "colab": {
          "base_uri": "https://localhost:8080/"
        },
        "id": "mVvzx8ZzAajR",
        "outputId": "829540b0-4d32-4154-9566-9be75767f9cf"
      },
      "execution_count": 22,
      "outputs": [
        {
          "output_type": "execute_result",
          "data": {
            "text/plain": [
              "<class 'statsmodels.stats.contrast.ContrastResults'>\n",
              "                             Test for Constraints                             \n",
              "==============================================================================\n",
              "                 coef    std err          t      P>|t|      [0.025      0.975]\n",
              "------------------------------------------------------------------------------\n",
              "c0             1.2698      0.110      2.457      0.016       1.052       1.488\n",
              "=============================================================================="
            ]
          },
          "metadata": {},
          "execution_count": 22
        }
      ]
    },
    {
      "cell_type": "code",
      "source": [
        "# Alternativamente si quisieramos calcular el p-valor a mano, podemos usar la libreria scipy.stats \n",
        "# uso scipy.stats.t.cdf (cdf es cumulative distribution function: funcion acumulada)\n",
        "\n",
        "import scipy.stats as stats\n",
        "\n",
        "# t_stat es el estadistico t\n",
        "t_stat = 2.452727272727273\n",
        "# \n",
        "gradosdelibertad = 96\n",
        "\n",
        "# 1 menos la distribucion acumulativa me da lo acumulado en la cola de la distribucion\n",
        "p_value =2*( 1 - stats.t.cdf(2.452727272727273, 96))\n",
        "\n",
        "print(\"P-Value:\", p_value)"
      ],
      "metadata": {
        "colab": {
          "base_uri": "https://localhost:8080/"
        },
        "id": "5uRbPsswA1Ep",
        "outputId": "aaa92d3f-936a-4bcb-aebd-028f2de38189"
      },
      "execution_count": 23,
      "outputs": [
        {
          "output_type": "stream",
          "name": "stdout",
          "text": [
            "P-Value: 0.015983000245382906\n"
          ]
        }
      ]
    },
    {
      "cell_type": "markdown",
      "source": [
        "Por lo tanto rechazo al 5% que el valor es igual a 1.\n",
        "(al 1% no rechazo)"
      ],
      "metadata": {
        "id": "03UUGv1eC9fT"
      }
    }
  ]
}