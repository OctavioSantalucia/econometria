{
  "nbformat": 4,
  "nbformat_minor": 0,
  "metadata": {
    "colab": {
      "provenance": [],
      "include_colab_link": true
    },
    "kernelspec": {
      "name": "python3",
      "display_name": "Python 3"
    },
    "language_info": {
      "name": "python"
    }
  },
  "cells": [
    {
      "cell_type": "markdown",
      "metadata": {
        "id": "view-in-github",
        "colab_type": "text"
      },
      "source": [
        "<a href=\"https://colab.research.google.com/github/franciscosesto/econometria/blob/main/2_Python_Austral.ipynb\" target=\"_parent\"><img src=\"https://colab.research.google.com/assets/colab-badge.svg\" alt=\"Open In Colab\"/></a>"
      ]
    },
    {
      "cell_type": "markdown",
      "source": [
        "\n",
        "\n",
        "<h1>\n",
        "<b> Python Econometría\n",
        "</h1>\n",
        "\n",
        " \n",
        "<div>\n",
        "<img src=\"https://upload.wikimedia.org/wikipedia/commons/thumb/c/c3/Python-logo-notext.svg/800px-Python-logo-notext.svg.png \" width=\"100\"/>\n",
        "</div>"
      ],
      "metadata": {
        "id": "gAhwbMw3BNu2"
      }
    },
    {
      "cell_type": "markdown",
      "source": [
        "##**🤔 ¿Qué es?**"
      ],
      "metadata": {
        "id": "pQ3GD_45F0GT"
      }
    },
    {
      "cell_type": "markdown",
      "source": [
        "Python es un lenguaje de programación de alto nivel, código abierto,\n",
        "orientado a objetos, simple y fácil de entender.\n",
        "\n",
        "\n",
        "1.   **Alto nivel:** Un lenguaje de programación de alto nivel es aquel que ***está cerca del lenguaje humano y se aleja del lenguaje de la máquina***. \n",
        "2.   **Código abierto:** Su ***código fuente está disponible*** para ser utilizado, modificado y distribuido de manera gratuita por cualquier persona.\n",
        "3.    **Orientado a objetos:** Se basa en el ***concepto de objetos y clases***. Los objetos tienen características y comportamientos, y se relacionan entre sí para formar un programa. \n"
      ],
      "metadata": {
        "id": "B9W-QCdMF2_J"
      }
    },
    {
      "cell_type": "markdown",
      "source": [
        "🔥\n",
        "Para programar con comodidad se suele instalar un \"IDE\" o editor de texto.\n",
        "Por ahora trabajaremos con un entorno de Google para enfocarnos solo en la\n",
        "programación, este entorno se llama Colab. 🔥"
      ],
      "metadata": {
        "id": "xa7xbLTRF5-l"
      }
    },
    {
      "cell_type": "markdown",
      "source": [
        "## ✅ **Booleanos y operadores**"
      ],
      "metadata": {
        "id": "nzOvIW2zoMtp"
      }
    },
    {
      "cell_type": "markdown",
      "source": [
        "### ➖ Tipo lógico"
      ],
      "metadata": {
        "id": "vt_ZAyYJoiV4"
      }
    },
    {
      "cell_type": "markdown",
      "source": [
        "El tipo lógico es el tipo de dato más básico de la información racional, y representa únicamente dos posibilidades: **Verdadero y Falso**. \n",
        "También denominamos a este tipo como Booleano o Binario.\n",
        "\n",
        "En contexto lingüístico podríamos decir que: “Estoy vivo” es Verdadero (True)\n",
        "Y en contexto matemático: 1 +1 = 3 es Falso (False)\n"
      ],
      "metadata": {
        "id": "P4_k3qQIouFY"
      }
    },
    {
      "cell_type": "markdown",
      "source": [
        "### ➖ Operadores relacionales "
      ],
      "metadata": {
        "id": "nyOcQsTIo63R"
      }
    },
    {
      "cell_type": "markdown",
      "source": [
        "En programación, los operadores relacionales son símbolos que se usan para comparar dos valores. Si el resultado de la comparación es correcto, la expresión es considerada verdadera **(True)**, y en caso contrario será falsa **(False)**."
      ],
      "metadata": {
        "id": "Y6pfDj5Uo_Fl"
      }
    },
    {
      "cell_type": "markdown",
      "source": [
        "🔥Los operadores relacionales sirven tanto para comparar números como texto🔥"
      ],
      "metadata": {
        "id": "VcoXkjJVuSHJ"
      }
    },
    {
      "cell_type": "markdown",
      "source": [
        "<h4> <b>Igualdad </h4>\n"
      ],
      "metadata": {
        "id": "QwKz8dRdpnu7"
      }
    },
    {
      "cell_type": "markdown",
      "source": [
        "El operador de igualdad sirve para preguntarle a nuestro programa si ambos operandos son iguales. Devolverá True si son iguales, y False si son distintos. **Este operador se escribe con dos signos igual (==)**"
      ],
      "metadata": {
        "id": "GmVsfcSiqLD5"
      }
    },
    {
      "cell_type": "code",
      "source": [
        "#Ejemplo\n",
        "var=3 #Asigna el valor 3 a la variable\n",
        "var==4 #Compara si la variable es igual a 4"
      ],
      "metadata": {
        "colab": {
          "base_uri": "https://localhost:8080/"
        },
        "id": "9VJLDHVQqPz8",
        "outputId": "84a70736-91d5-4a7a-da17-0048e6a15106"
      },
      "execution_count": null,
      "outputs": [
        {
          "output_type": "execute_result",
          "data": {
            "text/plain": [
              "False"
            ]
          },
          "metadata": {},
          "execution_count": 14
        }
      ]
    },
    {
      "cell_type": "markdown",
      "source": [
        "<h4> <b>Desigualdad </h4>\n"
      ],
      "metadata": {
        "id": "_R47R-1YqoBW"
      }
    },
    {
      "cell_type": "markdown",
      "source": [
        "El operador de Desigualdad sirve para preguntarle a nuestro programa si ambos operandos son distintos. Devolverá True si son distintos, y False si son iguales. **Este operador se escribe como un signo de exclamación y un signo igual (!=) como tachando al operador de igualdad**"
      ],
      "metadata": {
        "id": "mZ1PQYhxqpyD"
      }
    },
    {
      "cell_type": "code",
      "source": [
        "#Ejemplo \n",
        "text=\"hola\" #Asigna el string hola a la variable\n",
        "text!=\"ramón\" #Compara si la variable es distinta al string ramón"
      ],
      "metadata": {
        "colab": {
          "base_uri": "https://localhost:8080/"
        },
        "id": "L2CbG-Tiq4AR",
        "outputId": "ee1cda31-e222-48a9-e4b5-085b96d958f1"
      },
      "execution_count": null,
      "outputs": [
        {
          "output_type": "execute_result",
          "data": {
            "text/plain": [
              "True"
            ]
          },
          "metadata": {},
          "execution_count": 15
        }
      ]
    },
    {
      "cell_type": "markdown",
      "source": [
        "<h4> <b> Menor y Menor igual</h4>"
      ],
      "metadata": {
        "id": "bIERpwanrar2"
      }
    },
    {
      "cell_type": "markdown",
      "source": [
        "El operador Menor que sirve para preguntarle a nuestro programa si el primer operando es menor que el segundo operando. Devolverá True si el primero es menor al segundo, y False si el primero es mayor que el segundo. **Este operador se escribe con un signo de menor que (<). Y agregando el igual (<=) podemos comparar si es menor o igual**"
      ],
      "metadata": {
        "id": "FGpg0XOWrf7D"
      }
    },
    {
      "cell_type": "code",
      "source": [
        "#Ejemplo menor\n",
        "7<7"
      ],
      "metadata": {
        "colab": {
          "base_uri": "https://localhost:8080/"
        },
        "id": "J5G_PP-_rxHt",
        "outputId": "98933d21-8802-4af0-bdb2-1f4a3322365b"
      },
      "execution_count": null,
      "outputs": [
        {
          "output_type": "execute_result",
          "data": {
            "text/plain": [
              "False"
            ]
          },
          "metadata": {},
          "execution_count": 16
        }
      ]
    },
    {
      "cell_type": "code",
      "source": [
        "#Ejemplo menor igual\n",
        "7<=7"
      ],
      "metadata": {
        "colab": {
          "base_uri": "https://localhost:8080/"
        },
        "id": "6buORB1Tr3sC",
        "outputId": "b96c56dc-95d8-4c1d-a493-5291d1a61b86"
      },
      "execution_count": null,
      "outputs": [
        {
          "output_type": "execute_result",
          "data": {
            "text/plain": [
              "True"
            ]
          },
          "metadata": {},
          "execution_count": 17
        }
      ]
    },
    {
      "cell_type": "markdown",
      "source": [
        "<h4> <b> Mayor y Mayor igual</h4>"
      ],
      "metadata": {
        "id": "DETakiGYr8lI"
      }
    },
    {
      "cell_type": "markdown",
      "source": [
        "El operador Mayor que sirve para preguntarle a nuestro programa si el primer operando es mayor que el segundo operando. Devolverá True si el primero es mayor al segundo, y False si el primero es menor que el segundo. **Este operador se escribe con un signo de mayor que (>).Y agregando el igual (>=) podemos comparar si es mayor o igual**"
      ],
      "metadata": {
        "id": "5YX80XI4sC4M"
      }
    },
    {
      "cell_type": "code",
      "source": [
        "#Ejemplo mayor\n",
        "5>2"
      ],
      "metadata": {
        "colab": {
          "base_uri": "https://localhost:8080/"
        },
        "id": "jpjYGPRft9wO",
        "outputId": "96dff406-f54d-49db-9439-cba878f1b166"
      },
      "execution_count": null,
      "outputs": [
        {
          "output_type": "execute_result",
          "data": {
            "text/plain": [
              "True"
            ]
          },
          "metadata": {},
          "execution_count": 18
        }
      ]
    },
    {
      "cell_type": "code",
      "source": [
        "#Ejemplo mayor igual\n",
        "5>=6"
      ],
      "metadata": {
        "colab": {
          "base_uri": "https://localhost:8080/"
        },
        "id": "jy2W5KcnuBpN",
        "outputId": "90cf9a84-d5da-4253-e5eb-a9ed0fb086e0"
      },
      "execution_count": null,
      "outputs": [
        {
          "output_type": "execute_result",
          "data": {
            "text/plain": [
              "False"
            ]
          },
          "metadata": {},
          "execution_count": 19
        }
      ]
    },
    {
      "cell_type": "markdown",
      "source": [
        "### ➖ **Operadores lógicos**"
      ],
      "metadata": {
        "id": "tDUugmtYujfb"
      }
    },
    {
      "cell_type": "markdown",
      "source": [
        "Existen varios tipos de operadores lógicos en Python. Pero nos estaremos enfocando en los tres más básicos y utilizados:\n",
        "-\t**Not** (no - negación) \n",
        "-\t**Or** (uno o el otro) \n",
        "-\t**And** (uno y otro).\n"
      ],
      "metadata": {
        "id": "29FMigIgu6eR"
      }
    },
    {
      "cell_type": "markdown",
      "source": [
        "<h4> <b> Not</h4>"
      ],
      "metadata": {
        "id": "56Kuvj0Z9L5x"
      }
    },
    {
      "cell_type": "markdown",
      "source": [
        "El not es la negación o también conocida como el NO. Es un poco especial, ya que sólo afecta a los tipos lógicos True y False; sólo requiere un operando en una expresión."
      ],
      "metadata": {
        "id": "RivA_dCM9OZQ"
      }
    },
    {
      "cell_type": "code",
      "source": [
        "#Ejemplo not\n",
        "not True"
      ],
      "metadata": {
        "colab": {
          "base_uri": "https://localhost:8080/"
        },
        "id": "681TueqD9T9A",
        "outputId": "db42a64f-e161-4eb7-f198-fef64cea3aa4"
      },
      "execution_count": null,
      "outputs": [
        {
          "output_type": "execute_result",
          "data": {
            "text/plain": [
              "False"
            ]
          },
          "metadata": {},
          "execution_count": 1
        }
      ]
    },
    {
      "cell_type": "code",
      "source": [
        "#Ejemplo not\n",
        "not 5==2"
      ],
      "metadata": {
        "colab": {
          "base_uri": "https://localhost:8080/"
        },
        "id": "OUp54Pen9aG-",
        "outputId": "8b25679d-b98f-4ac2-dfa1-586c669293b2"
      },
      "execution_count": null,
      "outputs": [
        {
          "output_type": "execute_result",
          "data": {
            "text/plain": [
              "True"
            ]
          },
          "metadata": {},
          "execution_count": 2
        }
      ]
    },
    {
      "cell_type": "markdown",
      "source": [
        "<h4> <b> And</h4>"
      ],
      "metadata": {
        "id": "CblCXmDY9jNV"
      }
    },
    {
      "cell_type": "markdown",
      "source": [
        "El operador de conjunción, es decir, el que agrupa a través de la unión, es el operador lógico AND, en castellano conocido como Y."
      ],
      "metadata": {
        "id": "FfxeDFag9nDO"
      }
    },
    {
      "cell_type": "markdown",
      "source": [
        "**Para python, una unión and es solamente verdadera(True) cuando, y sólo cuando, toda la sentencia o conjunto de afirmaciones es verdadera.** Es decir, cuando las dos afirmaciones son verdaderas. "
      ],
      "metadata": {
        "id": "2P5JFAh59yZK"
      }
    },
    {
      "cell_type": "code",
      "source": [
        "#Ejemplo dos afirmaciónes verdaderas\n",
        "4>2 and \"Hola\"!=\"Ramón\""
      ],
      "metadata": {
        "colab": {
          "base_uri": "https://localhost:8080/"
        },
        "id": "-f31OiO591va",
        "outputId": "26e3d392-039b-481a-e7eb-cc3f9c1897ac"
      },
      "execution_count": null,
      "outputs": [
        {
          "output_type": "execute_result",
          "data": {
            "text/plain": [
              "True"
            ]
          },
          "metadata": {},
          "execution_count": 3
        }
      ]
    },
    {
      "cell_type": "markdown",
      "source": [
        "**Si yo tengo una afirmación verdadera y otra falsa, Python siempre va a tomar como que esto es falso(False)** si usamos el operador and."
      ],
      "metadata": {
        "id": "OLsrArrd-ffP"
      }
    },
    {
      "cell_type": "code",
      "source": [
        "#Ejemplo una afirmación verdadera\n",
        "1==1 and 1>2"
      ],
      "metadata": {
        "colab": {
          "base_uri": "https://localhost:8080/"
        },
        "id": "5rGLZAHo9_Ua",
        "outputId": "6cf9c615-bca2-4e2c-eb1b-f85472ebc754"
      },
      "execution_count": null,
      "outputs": [
        {
          "output_type": "execute_result",
          "data": {
            "text/plain": [
              "False"
            ]
          },
          "metadata": {},
          "execution_count": 5
        }
      ]
    },
    {
      "cell_type": "markdown",
      "source": [
        "<h4> <b> Or</h4>"
      ],
      "metadata": {
        "id": "TmMlmoBy-7fW"
      }
    },
    {
      "cell_type": "markdown",
      "source": [
        "Ahora, veamos el operador de disyunción denominado Or en castellano O. "
      ],
      "metadata": {
        "id": "dk0YyXVZ-_Q4"
      }
    },
    {
      "cell_type": "markdown",
      "source": [
        "**Para Python, una separación or es solamente verdadera(True) cuando, y sólo cuando, una de las sentencias o conjuntos de afirmaciones es True**, es decir, cuando yo tengo una afirmación verdadera. "
      ],
      "metadata": {
        "id": "FSBlhkPV_fQn"
      }
    },
    {
      "cell_type": "code",
      "source": [
        "#Ejemplo una afirmación verdadera\n",
        "2>1 or 1>110"
      ],
      "metadata": {
        "colab": {
          "base_uri": "https://localhost:8080/"
        },
        "id": "q0s4rSY7_kIo",
        "outputId": "e0d9ba9f-5803-46bc-e32a-59a7c05f279b"
      },
      "execution_count": null,
      "outputs": [
        {
          "output_type": "execute_result",
          "data": {
            "text/plain": [
              "True"
            ]
          },
          "metadata": {},
          "execution_count": 6
        }
      ]
    },
    {
      "cell_type": "markdown",
      "source": [
        "**Si tengo ambas afirmación falsas, Python siempre va a tomar como que esto es falso(False)** si usamos el operador or."
      ],
      "metadata": {
        "id": "0uobkWjz_whQ"
      }
    },
    {
      "cell_type": "code",
      "source": [
        "#Ejemplo dos afirmaciones falsas\n",
        "-5>1 or 0==5"
      ],
      "metadata": {
        "colab": {
          "base_uri": "https://localhost:8080/"
        },
        "id": "51hVgLg__nFs",
        "outputId": "46633e94-acd2-4017-cb15-e6bcee7a5297"
      },
      "execution_count": null,
      "outputs": [
        {
          "output_type": "execute_result",
          "data": {
            "text/plain": [
              "False"
            ]
          },
          "metadata": {},
          "execution_count": 7
        }
      ]
    },
    {
      "cell_type": "markdown",
      "source": [
        "### ➖ Operadores de pertenencia"
      ],
      "metadata": {
        "id": "zMKAS1lWI9Fq"
      }
    },
    {
      "cell_type": "markdown",
      "source": [
        "Los operadores de pertenencia se utilizan para probar si una secuencia  se encuentra presente en un objeto:"
      ],
      "metadata": {
        "id": "M7Iop-QwKH-L"
      }
    },
    {
      "cell_type": "markdown",
      "source": [
        "<h4> <b> In </h4>"
      ],
      "metadata": {
        "id": "4X6WKq1XKYrj"
      }
    },
    {
      "cell_type": "markdown",
      "source": [
        "Devuelve True si una secuencia con el valor especificado está presente en el objeto"
      ],
      "metadata": {
        "id": "1bkhmwUDKfJs"
      }
    },
    {
      "cell_type": "code",
      "source": [
        "texto=\"Mi perro se llama Jerry\"\n",
        "\"Jerry\" in texto"
      ],
      "metadata": {
        "colab": {
          "base_uri": "https://localhost:8080/"
        },
        "id": "lcjvFr0jI7jr",
        "outputId": "dd93b759-09a8-48ba-d9ec-84c1cb85079a"
      },
      "execution_count": null,
      "outputs": [
        {
          "output_type": "execute_result",
          "data": {
            "text/plain": [
              "True"
            ]
          },
          "metadata": {},
          "execution_count": 8
        }
      ]
    },
    {
      "cell_type": "markdown",
      "source": [
        "<h4> <b> Not in </h4>"
      ],
      "metadata": {
        "id": "O2xV3dbtKv5q"
      }
    },
    {
      "cell_type": "markdown",
      "source": [
        "Devuelve True si una secuencia con el valor especificado no está presente en el objeto"
      ],
      "metadata": {
        "id": "i4md102_KyUd"
      }
    },
    {
      "cell_type": "code",
      "source": [
        "texto=\"Mi perro se llama Jerry\"\n",
        "\"Python\" not in texto"
      ],
      "metadata": {
        "colab": {
          "base_uri": "https://localhost:8080/"
        },
        "id": "dNLZlKrDK1WF",
        "outputId": "ee3a6312-e092-4c78-e7f4-52075553bfad"
      },
      "execution_count": null,
      "outputs": [
        {
          "output_type": "execute_result",
          "data": {
            "text/plain": [
              "True"
            ]
          },
          "metadata": {},
          "execution_count": 10
        }
      ]
    },
    {
      "cell_type": "markdown",
      "source": [
        "## 📙 **Listas** "
      ],
      "metadata": {
        "id": "ked5hhRSLFUf"
      }
    },
    {
      "cell_type": "markdown",
      "source": [
        "### ➖ Características"
      ],
      "metadata": {
        "id": "XSvley2aFDx6"
      }
    },
    {
      "cell_type": "markdown",
      "source": [
        "Una lista (list) ***es una secuencias ordenadas de objetos de distintos tipos.***\n",
        "\n",
        "Se construyen poniendo los elementos entre corchetes [ ] separados por comas.\n",
        "\n",
        "Se caracterizan por:\n",
        "\n",
        "- Tienen orden.\n",
        "- Pueden contener elementos de distintos tipos.\n",
        "- Pueden tener elementos repetidos.\n",
        "- Son mutables, es decir, pueden alterarse durante la ejecución de un programa."
      ],
      "metadata": {
        "id": "F4LTPmCOCPAS"
      }
    },
    {
      "cell_type": "code",
      "source": [
        "#Lista vacia\n",
        "listav=[]\n",
        "print(listav, type(listav))"
      ],
      "metadata": {
        "colab": {
          "base_uri": "https://localhost:8080/"
        },
        "id": "EopXLfZBFL8I",
        "outputId": "6fce8ee1-a197-4a0a-f7a7-377ebb15ecf8"
      },
      "execution_count": null,
      "outputs": [
        {
          "output_type": "stream",
          "name": "stdout",
          "text": [
            "[] <class 'list'>\n"
          ]
        }
      ]
    },
    {
      "cell_type": "code",
      "source": [
        "#Lista con elementos de distintos tipos\n",
        "lista1=[\"Esto es una lista\", 2, False]\n",
        "print(lista1)"
      ],
      "metadata": {
        "colab": {
          "base_uri": "https://localhost:8080/"
        },
        "id": "J_gn2jCpFiY4",
        "outputId": "c5fd10f8-c8d7-40a2-8deb-494f159611d5"
      },
      "execution_count": null,
      "outputs": [
        {
          "output_type": "stream",
          "name": "stdout",
          "text": [
            "['Esto es una lista', 2, False]\n"
          ]
        }
      ]
    },
    {
      "cell_type": "code",
      "source": [
        "#Lista anidada\n",
        "lista2=[\"Austral\", [1,2], \"Universidad\"]\n",
        "print(lista2)"
      ],
      "metadata": {
        "colab": {
          "base_uri": "https://localhost:8080/"
        },
        "id": "zScNAW8CF5bN",
        "outputId": "c5272169-5845-4db6-ff56-66a0a9b1a929"
      },
      "execution_count": null,
      "outputs": [
        {
          "output_type": "stream",
          "name": "stdout",
          "text": [
            "['Austral', [1, 2], 'Universidad']\n"
          ]
        }
      ]
    },
    {
      "cell_type": "markdown",
      "source": [
        "### ➖ Obtener elementos de una lista"
      ],
      "metadata": {
        "id": "3Jq3Lkbna4IG"
      }
    },
    {
      "cell_type": "markdown",
      "source": [
        "Los elementos de la lista están indexados y se puede acceder a ellos consultando el número de índice.\n",
        "```python\n",
        "lista[\"nº del indice\"]\n",
        "```\n",
        "* **Índice positivo:** el primer elemento de la lista tiene índice 0, el segundo índice 1, ...\n",
        "* **Índice negativo:** el último elemento de la lista tiene índice -1, el anteúltimo índice -2, ..."
      ],
      "metadata": {
        "id": "gOtW5RHEbrNc"
      }
    },
    {
      "cell_type": "code",
      "source": [
        "#Ejemplo índice positivo\n",
        "mi_lista=[\"manzana\", 10, \"banana\",5]\n",
        "print(mi_lista[2])"
      ],
      "metadata": {
        "colab": {
          "base_uri": "https://localhost:8080/"
        },
        "id": "BlZEN0oac_9S",
        "outputId": "4ba28502-73fc-44c7-b621-0c5ec19ac312"
      },
      "execution_count": null,
      "outputs": [
        {
          "output_type": "stream",
          "name": "stdout",
          "text": [
            "banana\n"
          ]
        }
      ]
    },
    {
      "cell_type": "code",
      "source": [
        "#Ejemplo índice negativo\n",
        "mi_lista=[\"manzana\", 10, \"banana\",5]\n",
        "print(mi_lista[-1])"
      ],
      "metadata": {
        "colab": {
          "base_uri": "https://localhost:8080/"
        },
        "id": "x4c8Mfv8d397",
        "outputId": "919a7070-8531-47f4-abb0-3637ac7b3394"
      },
      "execution_count": null,
      "outputs": [
        {
          "output_type": "stream",
          "name": "stdout",
          "text": [
            "5\n"
          ]
        }
      ]
    },
    {
      "cell_type": "markdown",
      "source": [
        "🔥 Podemos modificar una valor específico de la lista usando el índice de tal valor 🔥"
      ],
      "metadata": {
        "id": "NgybmfpWwMrZ"
      }
    },
    {
      "cell_type": "code",
      "source": [
        "#Ejemplo modificación\n",
        "mi_lista=[\"manzana\", 10, \"banana\",5]\n",
        "print(mi_lista)\n",
        "mi_lista[0]=\"Durazno\"\n",
        "print(mi_lista)"
      ],
      "metadata": {
        "colab": {
          "base_uri": "https://localhost:8080/"
        },
        "id": "yDhbm5zJwVPW",
        "outputId": "118fcf66-6ed5-4dbe-8947-9a0282906591"
      },
      "execution_count": null,
      "outputs": [
        {
          "output_type": "stream",
          "name": "stdout",
          "text": [
            "['manzana', 10, 'banana', 5]\n",
            "['Durazno', 10, 'banana', 5]\n"
          ]
        }
      ]
    },
    {
      "cell_type": "markdown",
      "source": [
        "### ➖ Sublistas"
      ],
      "metadata": {
        "id": "WW9BDr2aeljw"
      }
    },
    {
      "cell_type": "markdown",
      "source": [
        "También podemos utilizar slicing como con los strings y seleccionar rangos de índices.\n",
        "```python \n",
        "lista[i:j:k] \n",
        "``` \n",
        "Devuelve la sublista desde la lista con el índice ***i*** hasta el elemento anterior al índice ***j***, tomando elementos cada ***k***."
      ],
      "metadata": {
        "id": "Hv7cEvxDeC_d"
      }
    },
    {
      "cell_type": "code",
      "source": [
        "#Rango de índices y sublista\n",
        "mi_lista=[\"manzana\", 10, \"banana\",5]\n",
        "print(mi_lista[1:3])"
      ],
      "metadata": {
        "colab": {
          "base_uri": "https://localhost:8080/"
        },
        "id": "qCTPrc1SeOSs",
        "outputId": "ccea51d9-a0c1-4afb-ddd3-13ee272be880"
      },
      "execution_count": null,
      "outputs": [
        {
          "output_type": "stream",
          "name": "stdout",
          "text": [
            "[10, 'banana']\n"
          ]
        }
      ]
    },
    {
      "cell_type": "markdown",
      "source": [
        "### ➖ Métodos y funciones de listas"
      ],
      "metadata": {
        "id": "4JpfzssHsJFq"
      }
    },
    {
      "cell_type": "markdown",
      "source": [
        "***Métodos y funciones que no modifican las listas***\n",
        "* **len(lista):** Retorna la cantidad de elementos de la lista\n",
        "* **min(lista):** Retorna el mínimo elemento de la lista siempre que los datos sean comparables\n",
        "* **max(lista):** Retorna el máximo elemento de la lista siempre que los datos sean comparables\n",
        "* **sum(lista):** Retorna la suma de los elementos de la lista, siempre que los datos se puedan sumar.\n",
        "\n"
      ],
      "metadata": {
        "id": "Q8am2hePsqXP"
      }
    },
    {
      "cell_type": "code",
      "source": [
        "#Métodos y funciones que NO modifican listas\n",
        "listanum=[8,13,54,2,19]\n",
        "print(\"La cantidad de elementos de la lista es\", len(listanum))\n",
        "print(\"El mínimo de la lista es\",min(listanum))\n",
        "print(\"El máximo de la lista es\", max(listanum))\n",
        "print(\"La suma de los elementos de la lista es\",sum(listanum))"
      ],
      "metadata": {
        "colab": {
          "base_uri": "https://localhost:8080/"
        },
        "id": "Rv5WSaz8uRV1",
        "outputId": "197409fa-50e1-45cc-b3d3-9da8cbb93952"
      },
      "execution_count": null,
      "outputs": [
        {
          "output_type": "stream",
          "name": "stdout",
          "text": [
            "La cantidad de elementos de la lista es 5\n",
            "El mínimo de la lista es 2\n",
            "El máximo de la lista es 54\n",
            "La suma de los elementos de la lista es 96\n"
          ]
        }
      ]
    },
    {
      "cell_type": "markdown",
      "source": [
        "\n",
        "***Métodos y funciones que modifican las listas***\n",
        "* **lista1 + lista2:** Retorna una nueva lista con los elementos de la listas lista1 y lista2.\n",
        "* **lista.append(dato):** Añade dato al final de la lista.\n",
        "* **lista.remove(dato):** Elimina el primer elemento con valor dato en la lista.\n",
        "* **lista.sort():** Ordena los elementos de la lista de acuerdo al orden predefinido, siempre que los elementos sean comparables.."
      ],
      "metadata": {
        "id": "FC22DlJLvNB0"
      }
    },
    {
      "cell_type": "markdown",
      "source": [
        "## 🌏 Recursos "
      ],
      "metadata": {
        "id": "gd-u_jECGJgy"
      }
    },
    {
      "cell_type": "markdown",
      "source": [
        "En el caso de que deseen ahondar más en los temás presentamos los siguientes recursos (algunos de los cuales fueron utilizados para armar este tutorial)\n",
        "- https://docs.python.org/es/3/tutorial/index.html (documentación oficial de python) \n",
        "- https://aprendeconalf.es/docencia/python/manual/ (manual de python de aprende con alf)\n",
        "- https://www.w3schools.com/python/default.asp (tutorial de w3schools)\n",
        "- https://docs.hektorprofe.net/python/ \n",
        "- https://www.geeksforgeeks.org/python-programming-language/?ref=ghm \n",
        "- https://www.freecodecamp.org/learn/data-analysis-with-python/ "
      ],
      "metadata": {
        "id": "VOPbHXeqHxRv"
      }
    },
    {
      "cell_type": "markdown",
      "source": [
        "## 📎 Autores \n",
        "El presente tutorial fue elaborado por \n",
        "- Pasquini Ricardo\n",
        "- Sesto Francisco"
      ],
      "metadata": {
        "id": "3MRW92haaK1S"
      }
    }
  ]
}